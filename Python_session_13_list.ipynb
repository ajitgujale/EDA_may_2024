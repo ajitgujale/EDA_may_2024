{
 "cells": [
  {
   "cell_type": "code",
   "execution_count": 3,
   "id": "063dec3a-5eed-42b3-be9e-db6ec5dab60d",
   "metadata": {},
   "outputs": [
    {
     "ename": "TypeError",
     "evalue": "'str' object does not support item assignment",
     "output_type": "error",
     "traceback": [
      "\u001b[1;31m---------------------------------------------------------------------------\u001b[0m",
      "\u001b[1;31mTypeError\u001b[0m                                 Traceback (most recent call last)",
      "Cell \u001b[1;32mIn[3], line 2\u001b[0m\n\u001b[0;32m      1\u001b[0m s\u001b[38;5;241m=\u001b[39m\u001b[38;5;124m'\u001b[39m\u001b[38;5;124mNaresh\u001b[39m\u001b[38;5;124m'\u001b[39m\n\u001b[1;32m----> 2\u001b[0m s[\u001b[38;5;241m-\u001b[39m\u001b[38;5;241m1\u001b[39m]\u001b[38;5;241m=\u001b[39m\u001b[38;5;124m'\u001b[39m\u001b[38;5;124mi\u001b[39m\u001b[38;5;124m'\u001b[39m\n",
      "\u001b[1;31mTypeError\u001b[0m: 'str' object does not support item assignment"
     ]
    }
   ],
   "source": [
    "s='Naresh'\n",
    "s[-1]='i'\n",
    "#Strings are immutable"
   ]
  },
  {
   "cell_type": "code",
   "execution_count": 9,
   "id": "bf5f7e08-073c-4b14-b640-9e57e833401a",
   "metadata": {},
   "outputs": [
    {
     "data": {
      "text/plain": [
       "['E']"
      ]
     },
     "execution_count": 9,
     "metadata": {},
     "output_type": "execute_result"
    }
   ],
   "source": [
    "l=[1,2,3,4,5,6,'A','B','C','D','E','F','G']\n",
    "#-13 -12 -11 -10 -9 -8  -7  -6  -5 - 4  -3  -2  -1\n",
    "# 1,  2,  3,  4,  5, 6, 'A','B','C','D','E','F','G'\n",
    "# 0   1   2   3   4   5  6   7   8   9   10  11  12  \n",
    "l[3:-9:2]\n",
    "l[-3:9:-2]"
   ]
  },
  {
   "cell_type": "markdown",
   "id": "84da44d1-331e-4f97-b20c-cde2af629a17",
   "metadata": {},
   "source": [
    "**list mehod**"
   ]
  },
  {
   "cell_type": "code",
   "execution_count": 10,
   "id": "d9348991-58eb-48ac-9f6c-33d2eb0d0a97",
   "metadata": {},
   "outputs": [
    {
     "data": {
      "text/plain": [
       "['__add__',\n",
       " '__class__',\n",
       " '__class_getitem__',\n",
       " '__contains__',\n",
       " '__delattr__',\n",
       " '__delitem__',\n",
       " '__dir__',\n",
       " '__doc__',\n",
       " '__eq__',\n",
       " '__format__',\n",
       " '__ge__',\n",
       " '__getattribute__',\n",
       " '__getitem__',\n",
       " '__getstate__',\n",
       " '__gt__',\n",
       " '__hash__',\n",
       " '__iadd__',\n",
       " '__imul__',\n",
       " '__init__',\n",
       " '__init_subclass__',\n",
       " '__iter__',\n",
       " '__le__',\n",
       " '__len__',\n",
       " '__lt__',\n",
       " '__mul__',\n",
       " '__ne__',\n",
       " '__new__',\n",
       " '__reduce__',\n",
       " '__reduce_ex__',\n",
       " '__repr__',\n",
       " '__reversed__',\n",
       " '__rmul__',\n",
       " '__setattr__',\n",
       " '__setitem__',\n",
       " '__sizeof__',\n",
       " '__str__',\n",
       " '__subclasshook__',\n",
       " 'append',\n",
       " 'clear',\n",
       " 'copy',\n",
       " 'count',\n",
       " 'extend',\n",
       " 'index',\n",
       " 'insert',\n",
       " 'pop',\n",
       " 'remove',\n",
       " 'reverse',\n",
       " 'sort']"
      ]
     },
     "execution_count": 10,
     "metadata": {},
     "output_type": "execute_result"
    }
   ],
   "source": [
    "dir([])\n"
   ]
  },
  {
   "cell_type": "code",
   "execution_count": null,
   "id": "23723f8e-66f7-4e8b-a0d7-ccff5f259c16",
   "metadata": {},
   "outputs": [],
   "source": [
    "'append',\n",
    " 'clear',\n",
    " 'copy',\n",
    " 'count',\n",
    " 'extend',\n",
    " 'index',\n",
    " 'insert',\n",
    " 'pop',\n",
    " 'remove',\n",
    " 'reverse',\n",
    " 'sort']\n"
   ]
  },
  {
   "cell_type": "markdown",
   "id": "18b1ca74-6472-4ffd-bcbd-5f8692164ef7",
   "metadata": {},
   "source": [
    "**append**\n",
    "\n",
    "- adding elements in a list at last index\n",
    "\n",
    "- append method is very important\n",
    "\n",
    "- most of the time we will use append in the real time projects\n",
    "\n",
    "- When you add the value the original list will be overwrite\n",
    "\n"
   ]
  },
  {
   "cell_type": "code",
   "execution_count": 11,
   "id": "3633b6ac-38e0-409c-a177-f11c82d659e6",
   "metadata": {},
   "outputs": [
    {
     "data": {
      "text/plain": [
       "['Apple', 'Ball', 'Cat']"
      ]
     },
     "execution_count": 11,
     "metadata": {},
     "output_type": "execute_result"
    }
   ],
   "source": [
    "l=['Apple','Ball','Cat']\n",
    "l"
   ]
  },
  {
   "cell_type": "code",
   "execution_count": 12,
   "id": "538d779f-43c5-4457-99a1-258ab188dacc",
   "metadata": {},
   "outputs": [],
   "source": [
    "l.append('dog')"
   ]
  },
  {
   "cell_type": "code",
   "execution_count": 13,
   "id": "818e52e4-98f6-42cb-8bba-cfa294fee175",
   "metadata": {},
   "outputs": [
    {
     "data": {
      "text/plain": [
       "['Apple', 'Ball', 'Cat', 'dog']"
      ]
     },
     "execution_count": 13,
     "metadata": {},
     "output_type": "execute_result"
    }
   ],
   "source": [
    "l"
   ]
  },
  {
   "cell_type": "code",
   "execution_count": null,
   "id": "c0b77ab7-f84c-48e9-8339-7cbff01b98f7",
   "metadata": {},
   "outputs": [],
   "source": [
    "l=['Apple','Ball','Cat']\n",
    "\n",
    "# you want to add doll in a given list\n",
    "# keywords vs methods\n",
    "len()\n",
    "max()\n",
    "min()\n",
    "reversed()\n",
    "sorted()\n",
    "\n",
    "# Method\n",
    "<package>.<method>()"
   ]
  },
  {
   "cell_type": "code",
   "execution_count": 14,
   "id": "4218a632-489c-432d-84ac-d69639757372",
   "metadata": {},
   "outputs": [],
   "source": [
    "l=['Apple','Ball','Cat']\n",
    "l.append('Doll')"
   ]
  },
  {
   "cell_type": "code",
   "execution_count": 15,
   "id": "ff3e42a3-85cc-4fc2-9f6e-1de00d2b9ad5",
   "metadata": {},
   "outputs": [
    {
     "data": {
      "text/plain": [
       "['Apple', 'Ball', 'Cat', 'Doll']"
      ]
     },
     "execution_count": 15,
     "metadata": {},
     "output_type": "execute_result"
    }
   ],
   "source": [
    "l"
   ]
  },
  {
   "cell_type": "code",
   "execution_count": 17,
   "id": "a791a0e5-38b6-4150-bbd0-c3f744eedc9c",
   "metadata": {},
   "outputs": [
    {
     "data": {
      "text/plain": [
       "[1, 2, 3, 4, 100]"
      ]
     },
     "execution_count": 17,
     "metadata": {},
     "output_type": "execute_result"
    }
   ],
   "source": [
    "l1=[1,2,3,4]\n",
    "l1.append(100)\n",
    "l1"
   ]
  },
  {
   "cell_type": "markdown",
   "id": "1b9d67b2-20c6-4d10-ab7d-17d3a2e3db53",
   "metadata": {},
   "source": [
    "l2=[]\n",
    "l2.append(10)"
   ]
  },
  {
   "cell_type": "code",
   "execution_count": 21,
   "id": "c327ba11-6fb7-4c68-818e-97771fed7999",
   "metadata": {},
   "outputs": [
    {
     "data": {
      "text/plain": [
       "[10, 20, 'apple', ['A', 1], True]"
      ]
     },
     "execution_count": 21,
     "metadata": {},
     "output_type": "execute_result"
    }
   ],
   "source": [
    "l2=[]\n",
    "l2.append(10)\n",
    "l2.append(20)\n",
    "l2.append('apple')\n",
    "l2.append(['A',1])\n",
    "l2.append(True)\n",
    "l2"
   ]
  },
  {
   "cell_type": "code",
   "execution_count": 22,
   "id": "c7eaaa3f-13e8-472e-a651-50b0592f1fb5",
   "metadata": {},
   "outputs": [
    {
     "ename": "TypeError",
     "evalue": "list.append() takes exactly one argument (3 given)",
     "output_type": "error",
     "traceback": [
      "\u001b[1;31m---------------------------------------------------------------------------\u001b[0m",
      "\u001b[1;31mTypeError\u001b[0m                                 Traceback (most recent call last)",
      "Cell \u001b[1;32mIn[22], line 1\u001b[0m\n\u001b[1;32m----> 1\u001b[0m l2\u001b[38;5;241m.\u001b[39mappend(\u001b[38;5;241m100\u001b[39m,\u001b[38;5;241m200\u001b[39m,\u001b[38;5;241m300\u001b[39m)\n",
      "\u001b[1;31mTypeError\u001b[0m: list.append() takes exactly one argument (3 given)"
     ]
    }
   ],
   "source": [
    "l2.append(100,200,300)#takes exactly one argument"
   ]
  },
  {
   "cell_type": "code",
   "execution_count": 23,
   "id": "62da8727-4269-402c-bbb5-137df241e15c",
   "metadata": {},
   "outputs": [],
   "source": [
    "l2.append([100,200,'A'])"
   ]
  },
  {
   "cell_type": "markdown",
   "id": "d4750a2d-61c5-41ac-822e-5b384ed00411",
   "metadata": {},
   "source": [
    "**Append method used to save the output in a list**"
   ]
  },
  {
   "cell_type": "code",
   "execution_count": null,
   "id": "5069b6b9-77b7-457b-862c-dfedb17b85b0",
   "metadata": {},
   "outputs": [],
   "source": [
    "for i in range(1,6):\n",
    "    print(i*i)"
   ]
  },
  {
   "cell_type": "code",
   "execution_count": 28,
   "id": "38cb5ad7-b8a9-46ea-b608-14fba505b904",
   "metadata": {},
   "outputs": [
    {
     "data": {
      "text/plain": [
       "[1, 4, 9, 16, 25]"
      ]
     },
     "execution_count": 28,
     "metadata": {},
     "output_type": "execute_result"
    }
   ],
   "source": [
    "square_list=[]\n",
    "for i in range(1,6):\n",
    "    square_list.append(i*i)\n",
    "square_list"
   ]
  },
  {
   "cell_type": "code",
   "execution_count": 32,
   "id": "f2e306fe-219e-4390-98d1-e1a5614e3380",
   "metadata": {},
   "outputs": [
    {
     "name": "stdout",
     "output_type": "stream",
     "text": [
      "python\n"
     ]
    }
   ],
   "source": [
    "s=''\n",
    "for i in 'python':\n",
    "    s=s+i\n",
    "print(s)"
   ]
  },
  {
   "cell_type": "code",
   "execution_count": 30,
   "id": "94663e3d-e6a4-4728-9411-991db389eab0",
   "metadata": {},
   "outputs": [
    {
     "name": "stdout",
     "output_type": "stream",
     "text": [
      "p\n",
      "y\n",
      "t\n",
      "h\n",
      "o\n",
      "n\n"
     ]
    }
   ],
   "source": [
    "for i in 'python':\n",
    "    print(i)"
   ]
  },
  {
   "cell_type": "code",
   "execution_count": 39,
   "id": "2218dc09-376e-4e93-9267-a637002748d8",
   "metadata": {},
   "outputs": [
    {
     "data": {
      "text/plain": [
       "[1, 5, 9]"
      ]
     },
     "execution_count": 39,
     "metadata": {},
     "output_type": "execute_result"
    }
   ],
   "source": [
    "str='hai hai hai'\n",
    "id_list=[]\n",
    "for i in range(len(str)):\n",
    "    if str[i]=='a':\n",
    "        id_list.append(i)\n",
    "id_list"
   ]
  },
  {
   "cell_type": "code",
   "execution_count": 40,
   "id": "b0e056b6-eb0c-4715-8208-5c905e28da32",
   "metadata": {},
   "outputs": [
    {
     "data": {
      "text/plain": [
       "15"
      ]
     },
     "execution_count": 40,
     "metadata": {},
     "output_type": "execute_result"
    }
   ],
   "source": [
    "str='hai hai hai'\n",
    "id_list=[]\n",
    "summ=0\n",
    "for i in range(len(str)):\n",
    "    if str[i]=='a':\n",
    "        summ=summ+i\n",
    "        id_list.append(i)\n",
    "summ"
   ]
  },
  {
   "cell_type": "code",
   "execution_count": 41,
   "id": "80a52689-830a-4e31-a329-d084f83db937",
   "metadata": {},
   "outputs": [
    {
     "data": {
      "text/plain": [
       "([1, 5, 9], 15)"
      ]
     },
     "execution_count": 41,
     "metadata": {},
     "output_type": "execute_result"
    }
   ],
   "source": [
    "# summation without summ wrapper\n",
    "str='hai hai hai'\n",
    "id_list=[]\n",
    "for i in range(len(str)):\n",
    "    if str[i]=='a':\n",
    "        id_list.append(i)\n",
    "id_list,sum(id_list)"
   ]
  },
  {
   "cell_type": "code",
   "execution_count": 1,
   "id": "fd166bc2-50f4-4a66-8e28-c1bb70911fb1",
   "metadata": {},
   "outputs": [
    {
     "data": {
      "text/plain": [
       "['Hyd', 'Mumbai', 'Chennai', 'Blr']"
      ]
     },
     "execution_count": 1,
     "metadata": {},
     "output_type": "execute_result"
    }
   ],
   "source": [
    "# Q4)l1=['hyd','mumbai','chennai','blr']\n",
    "#  ans= ['Hyd','Mumbai','Chennai','Blr']\n",
    "l1=['hyd','mumbai','chennai','blr']\n",
    "l2=[]\n",
    "for i in l1:\n",
    "    l2.append(i.title())\n",
    "l2"
   ]
  },
  {
   "cell_type": "code",
   "execution_count": null,
   "id": "874099ec-c485-48fc-9666-5fd936bdb31a",
   "metadata": {},
   "outputs": [],
   "source": [
    "#difference between capitalize and title\n",
    "str1='hello im learning python'\n",
    "s1=[0:5]"
   ]
  },
  {
   "cell_type": "markdown",
   "id": "0c60cf5d-f865-4683-b99f-b4c5b96e2c0f",
   "metadata": {},
   "source": [
    "**split-join**"
   ]
  },
  {
   "cell_type": "markdown",
   "id": "c99a2fa2-8158-46ab-b557-46932a2fc476",
   "metadata": {},
   "source": [
    "- split will apply for strings, to divide the words or characters\n",
    "\n",
    "- when we split the elements will be stored in a list format\n",
    "\n",
    "- Join is used to combine the elements of a list in a string format\n",
    "\n",
    "- **split-strings**\n",
    "\n",
    "- **join-list**"
   ]
  },
  {
   "cell_type": "code",
   "execution_count": 4,
   "id": "2b31c9c0-7547-45dc-bd3c-ea4ae425fdf9",
   "metadata": {},
   "outputs": [
    {
     "data": {
      "text/plain": [
       "['hello', 'im', 'learing', 'python']"
      ]
     },
     "execution_count": 4,
     "metadata": {},
     "output_type": "execute_result"
    }
   ],
   "source": [
    "str1='hello im learing python'\n",
    "words=str1.split()\n",
    "words"
   ]
  },
  {
   "cell_type": "code",
   "execution_count": 7,
   "id": "635e47dc-dcfe-4f34-8caf-4ffe3c6d61a1",
   "metadata": {},
   "outputs": [
    {
     "data": {
      "text/plain": [
       "['Hello', 'Im', 'Learing', 'Python']"
      ]
     },
     "execution_count": 7,
     "metadata": {},
     "output_type": "execute_result"
    }
   ],
   "source": [
    "str1='hello im learing python'\n",
    "words=str1.split() # for string\n",
    "new_words=[]\n",
    "for i in words:\n",
    "    new_words.append(i.capitalize())\n",
    "new_words"
   ]
  },
  {
   "cell_type": "code",
   "execution_count": 8,
   "id": "5b404679-505e-4adf-bcbb-1225fdc5f3db",
   "metadata": {},
   "outputs": [
    {
     "data": {
      "text/plain": [
       "'Hello Im Learing Python'"
      ]
     },
     "execution_count": 8,
     "metadata": {},
     "output_type": "execute_result"
    }
   ],
   "source": [
    "str1='hello im learing python'\n",
    "words=str1.split() # for string\n",
    "new_words=[]\n",
    "for i in words:\n",
    "    new_words.append(i.capitalize())\n",
    "' '.join(new_words) #join applies for list"
   ]
  },
  {
   "cell_type": "code",
   "execution_count": 10,
   "id": "51baf35a-ab52-4d6d-a3f9-5a6565f97431",
   "metadata": {},
   "outputs": [
    {
     "data": {
      "text/plain": [
       "4.242640687119285"
      ]
     },
     "execution_count": 10,
     "metadata": {},
     "output_type": "execute_result"
    }
   ],
   "source": [
    "#calculate the distace betwween two points\n",
    "a=[1,2]\n",
    "b=[4,5]\n",
    "import math\n",
    "x1=a[0]\n",
    "y1=a[1]\n",
    "x2=b[0]\n",
    "y2=b[1]\n",
    "v1=(x2-x1)\n",
    "v2=(y2-y1)\n",
    "s1=v1*v1\n",
    "s2=v2*v2\n",
    "ans=math.sqrt(s1+s2)\n",
    "ans\n"
   ]
  },
  {
   "cell_type": "code",
   "execution_count": null,
   "id": "bdd73a1e-ab1b-418e-8e05-908273a4342d",
   "metadata": {},
   "outputs": [],
   "source": [
    "[1,2,3,4,5,4,3,2,1]\n",
    "[100,500,600,700,400,300,50]"
   ]
  },
  {
   "cell_type": "code",
   "execution_count": null,
   "id": "a773134d-7f3e-42b8-b4ed-e28b02cc0cd5",
   "metadata": {},
   "outputs": [],
   "source": [
    "points=[[1,2],[2,3],[3,4]]\n",
    "val=[2,3]\n",
    "x2=val[0]\n",
    "y2=val[3]\n",
    "a=points[0]\n",
    "b=points[1]\n",
    "c=points[2]\n",
    "for \n",
    "    "
   ]
  },
  {
   "cell_type": "code",
   "execution_count": 17,
   "id": "5649dd42-efdb-4be3-97c6-ef1615ba861a",
   "metadata": {},
   "outputs": [
    {
     "name": "stdout",
     "output_type": "stream",
     "text": [
      "1 2\n",
      "2 3\n",
      "1.4142135623730951\n",
      "==================================\n",
      "2 3\n",
      "2 3\n",
      "0.0\n",
      "==================================\n",
      "3 4\n",
      "2 3\n",
      "1.4142135623730951\n",
      "==================================\n"
     ]
    }
   ],
   "source": [
    "points=[[1,2],[2,3],[3,4]]\n",
    "val=[2,3]\n",
    "\n",
    "ans=[]\n",
    "for i in points:\n",
    "    print(i[0],i[1])\n",
    "    print(val[0],val[1])\n",
    "    o1=val[0]-i[0]\n",
    "    o2=val[1]-i[1]\n",
    "    v1=o1**2\n",
    "    v2=o2**2\n",
    "    print(math.sqrt(v1+v2))\n",
    "    ans.append(math.sqrt(v1+v2))\n",
    "    print('==================================')\n",
    "    "
   ]
  },
  {
   "cell_type": "code",
   "execution_count": null,
   "id": "5a7a30c0-ef52-4981-9d95-1d73f6135c83",
   "metadata": {},
   "outputs": [],
   "source": [
    "str1='hello hai how are you'\n",
    "words=str1.split()\n",
    "words\n",
    "for i in words:\n",
    "    "
   ]
  },
  {
   "cell_type": "markdown",
   "id": "d24d0614-772c-41c3-ad47-6215292107c8",
   "metadata": {},
   "source": [
    "**pop-remove-del**"
   ]
  },
  {
   "cell_type": "markdown",
   "id": "c3a7bc7d-c33b-479b-8879-b1ca0b65263b",
   "metadata": {},
   "source": [
    "- pop will remove the item\n",
    "\n",
    "- pop also display the item which is removing\n",
    "\n",
    "- pop will take one argument:index\n",
    "\n",
    "- pop will remove the item based onindex\n",
    "\n",
    "- if you dont provide any index, by default it will remove last vlue\n",
    "\n",
    "- because the defualt index value is -1"
   ]
  },
  {
   "cell_type": "code",
   "execution_count": 5,
   "id": "b85e8d16-c766-4a0e-8d6e-5df50fa7d934",
   "metadata": {},
   "outputs": [
    {
     "data": {
      "text/plain": [
       "[1, 2, 3, 4, 5, 'A', 'B', 'C', 'Apple', 'E', 'F', 'G']"
      ]
     },
     "execution_count": 5,
     "metadata": {},
     "output_type": "execute_result"
    }
   ],
   "source": [
    "l=[1,2,3,4,5,'Apple','A','B','C','Apple','E','F','G']\n",
    "l1=l.index('Apple')\n",
    "l2=l.index('Apple',l1+1)\n",
    "l.pop(l1)\n",
    "l"
   ]
  },
  {
   "cell_type": "code",
   "execution_count": 4,
   "id": "b9a00e19-a8ff-45dc-9819-3d4224faee65",
   "metadata": {},
   "outputs": [
    {
     "data": {
      "text/plain": [
       "[1, 2, 3, 4, 5, 'Apple', 'A', 'B', 'C', 'E', 'F', 'G']"
      ]
     },
     "execution_count": 4,
     "metadata": {},
     "output_type": "execute_result"
    }
   ],
   "source": [
    "l=[1,2,3,4,5,'Apple','A','B','C','Apple','E','F','G']\n",
    "l1=l.index('Apple')\n",
    "l2=l.index('Apple',l1+1)\n",
    "l.pop(l2)\n",
    "l"
   ]
  },
  {
   "cell_type": "code",
   "execution_count": 6,
   "id": "7ae29166-13bc-4a66-b63d-501bf9cb1688",
   "metadata": {},
   "outputs": [
    {
     "data": {
      "text/plain": [
       "[1, 2, 3, 4, 5, 'A', 'B', 'C', 'Apple', 'F', 'G']"
      ]
     },
     "execution_count": 6,
     "metadata": {},
     "output_type": "execute_result"
    }
   ],
   "source": [
    "l=[1,2,3,4,5,'Apple','A','B','C','Apple','E','F','G']\n",
    "l1=l.index('Apple')\n",
    "l2=l.index('Apple',l1+1)\n",
    "l.pop(l1)\n",
    "l.pop(l2)\n",
    "l"
   ]
  },
  {
   "cell_type": "code",
   "execution_count": 7,
   "id": "52d16ccc-4564-4c34-9ae7-b3b22a0ef682",
   "metadata": {},
   "outputs": [
    {
     "data": {
      "text/plain": [
       "[1, 2, 3, 4, 5, 'A', 'B', 'C', 'E', 'F', 'G']"
      ]
     },
     "execution_count": 7,
     "metadata": {},
     "output_type": "execute_result"
    }
   ],
   "source": [
    "l=[1,2,3,4,5,'Apple','A','B','C','Apple','E','F','G']\n",
    "l1=l.index('Apple')\n",
    "l.pop(l1)\n",
    "l2=l.index('Apple',l1+1)\n",
    "l.pop(l2)\n",
    "l"
   ]
  },
  {
   "cell_type": "code",
   "execution_count": 8,
   "id": "41ee8f10-01d1-4384-a94f-093178965551",
   "metadata": {},
   "outputs": [],
   "source": [
    "str='hai apple how are apple im good apple thank you apple'\n",
    "list=str.split()"
   ]
  },
  {
   "cell_type": "code",
   "execution_count": 9,
   "id": "c45787ec-c06e-4899-b128-d223f02ccd5e",
   "metadata": {},
   "outputs": [
    {
     "data": {
      "text/plain": [
       "['hai',\n",
       " 'apple',\n",
       " 'how',\n",
       " 'are',\n",
       " 'apple',\n",
       " 'im',\n",
       " 'good',\n",
       " 'apple',\n",
       " 'thank',\n",
       " 'you',\n",
       " 'apple']"
      ]
     },
     "execution_count": 9,
     "metadata": {},
     "output_type": "execute_result"
    }
   ],
   "source": [
    "list"
   ]
  },
  {
   "cell_type": "code",
   "execution_count": 17,
   "id": "fd57e4eb-9565-427a-9f7c-97eb7de66194",
   "metadata": {},
   "outputs": [
    {
     "data": {
      "text/plain": [
       "'hai how are im good thank you'"
      ]
     },
     "execution_count": 17,
     "metadata": {},
     "output_type": "execute_result"
    }
   ],
   "source": [
    "str='hai apple how are apple im good apple thank you apple'\n",
    "list=str.split()\n",
    "count=str.count('apple')\n",
    "for i in range(count):\n",
    "    i1=list.index('apple')\n",
    "    list.pop(i1)\n",
    "' '.join(list)    "
   ]
  },
  {
   "cell_type": "code",
   "execution_count": null,
   "id": "620ac255-d5f0-4571-a6ab-12231b3ce4dc",
   "metadata": {},
   "outputs": [],
   "source": [
    "i=l1.index('apple')\n",
    "l1.pop(i1)"
   ]
  },
  {
   "cell_type": "markdown",
   "id": "6fa947fe-bb3b-421e-91a2-e8618cbb78e0",
   "metadata": {},
   "source": [
    "**remove**"
   ]
  },
  {
   "cell_type": "markdown",
   "id": "b2c4aa39-0b08-46a2-b1e4-4df1c18390cc",
   "metadata": {},
   "source": [
    "- pop will take the index\n",
    "\n",
    "- remove will take the value or\n",
    "\n",
    "- remove will delete the first occurence of element\n"
   ]
  },
  {
   "cell_type": "code",
   "execution_count": 21,
   "id": "ee4dd695-8129-47d4-8fab-338804652f27",
   "metadata": {},
   "outputs": [
    {
     "data": {
      "text/plain": [
       "'hai how are im good thank you'"
      ]
     },
     "execution_count": 21,
     "metadata": {},
     "output_type": "execute_result"
    }
   ],
   "source": [
    "str='hai apple how are apple im good apple thank you apple'\n",
    "list=str.split()\n",
    "count=str.count('apple')\n",
    "for i in range(count):\n",
    "    list.remove('apple')\n",
    "' '.join(list)    \n"
   ]
  },
  {
   "cell_type": "markdown",
   "id": "6faa28b6-4f0f-46b2-bb96-8d0ad4fa8c7f",
   "metadata": {},
   "source": [
    "**del**"
   ]
  },
  {
   "cell_type": "code",
   "execution_count": 22,
   "id": "49b90c18-3882-49c8-bc28-4d276026bbc6",
   "metadata": {},
   "outputs": [
    {
     "data": {
      "text/plain": [
       "['hai', 'how', 'are', 'im', 'good', 'thank', 'you']"
      ]
     },
     "execution_count": 22,
     "metadata": {},
     "output_type": "execute_result"
    }
   ],
   "source": [
    "list"
   ]
  },
  {
   "cell_type": "code",
   "execution_count": 23,
   "id": "cd0a6dd3-f2b5-4fee-8367-677906a9d306",
   "metadata": {},
   "outputs": [],
   "source": [
    "str='hai apple how are apple im good apple thank you apple'\n",
    "list=str.split()"
   ]
  },
  {
   "cell_type": "code",
   "execution_count": 24,
   "id": "b7799f11-316f-4642-8dc4-b3e3dae18153",
   "metadata": {},
   "outputs": [
    {
     "data": {
      "text/plain": [
       "['hai',\n",
       " 'apple',\n",
       " 'how',\n",
       " 'are',\n",
       " 'apple',\n",
       " 'im',\n",
       " 'good',\n",
       " 'apple',\n",
       " 'thank',\n",
       " 'you',\n",
       " 'apple']"
      ]
     },
     "execution_count": 24,
     "metadata": {},
     "output_type": "execute_result"
    }
   ],
   "source": [
    "list"
   ]
  },
  {
   "cell_type": "code",
   "execution_count": 25,
   "id": "440d50ed-df43-4354-b328-088b2a1e2441",
   "metadata": {},
   "outputs": [
    {
     "data": {
      "text/plain": [
       "['In',\n",
       " 'Out',\n",
       " '_',\n",
       " '_1',\n",
       " '_12',\n",
       " '_13',\n",
       " '_17',\n",
       " '_2',\n",
       " '_20',\n",
       " '_21',\n",
       " '_22',\n",
       " '_24',\n",
       " '_3',\n",
       " '_4',\n",
       " '_5',\n",
       " '_6',\n",
       " '_7',\n",
       " '_9',\n",
       " '__',\n",
       " '___',\n",
       " '__builtin__',\n",
       " '__builtins__',\n",
       " '__doc__',\n",
       " '__loader__',\n",
       " '__name__',\n",
       " '__package__',\n",
       " '__session__',\n",
       " '__spec__',\n",
       " '_dh',\n",
       " '_i',\n",
       " '_i1',\n",
       " '_i10',\n",
       " '_i11',\n",
       " '_i12',\n",
       " '_i13',\n",
       " '_i14',\n",
       " '_i15',\n",
       " '_i16',\n",
       " '_i17',\n",
       " '_i18',\n",
       " '_i19',\n",
       " '_i2',\n",
       " '_i20',\n",
       " '_i21',\n",
       " '_i22',\n",
       " '_i23',\n",
       " '_i24',\n",
       " '_i25',\n",
       " '_i3',\n",
       " '_i4',\n",
       " '_i5',\n",
       " '_i6',\n",
       " '_i7',\n",
       " '_i8',\n",
       " '_i9',\n",
       " '_ih',\n",
       " '_ii',\n",
       " '_iii',\n",
       " '_oh',\n",
       " 'count',\n",
       " 'exit',\n",
       " 'get_ipython',\n",
       " 'i',\n",
       " 'i1',\n",
       " 'l',\n",
       " 'l1',\n",
       " 'l2',\n",
       " 'list',\n",
       " 'open',\n",
       " 'quit',\n",
       " 'str']"
      ]
     },
     "execution_count": 25,
     "metadata": {},
     "output_type": "execute_result"
    }
   ],
   "source": [
    "dir()"
   ]
  },
  {
   "cell_type": "code",
   "execution_count": 2,
   "id": "dd9201e5-abb2-43aa-9077-e6cc123324c8",
   "metadata": {},
   "outputs": [
    {
     "name": "stdout",
     "output_type": "stream",
     "text": [
      "Hello,Alice!\n"
     ]
    }
   ],
   "source": [
    "def greet(name):\n",
    "    print('Hello,'+name+\"!\")\n",
    "greet(\"Alice\")"
   ]
  },
  {
   "cell_type": "code",
   "execution_count": 3,
   "id": "2d135b59-411b-41c8-a5a7-a6cdd7d9e439",
   "metadata": {},
   "outputs": [
    {
     "name": "stdout",
     "output_type": "stream",
     "text": [
      "3\n",
      "2\n",
      "1\n",
      "Done\n"
     ]
    }
   ],
   "source": [
    "def countdown(n):\n",
    "    if n<=0:\n",
    "        print(\"Done\")\n",
    "    else:\n",
    "        print(n)\n",
    "        countdown(n-1)\n",
    "countdown(3)"
   ]
  },
  {
   "cell_type": "code",
   "execution_count": null,
   "id": "aead1900-75bf-4960-b570-6553c2c84a75",
   "metadata": {},
   "outputs": [],
   "source": []
  }
 ],
 "metadata": {
  "kernelspec": {
   "display_name": "Python 3 (ipykernel)",
   "language": "python",
   "name": "python3"
  },
  "language_info": {
   "codemirror_mode": {
    "name": "ipython",
    "version": 3
   },
   "file_extension": ".py",
   "mimetype": "text/x-python",
   "name": "python",
   "nbconvert_exporter": "python",
   "pygments_lexer": "ipython3",
   "version": "3.11.7"
  }
 },
 "nbformat": 4,
 "nbformat_minor": 5
}
