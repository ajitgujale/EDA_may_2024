{
 "cells": [
  {
   "cell_type": "code",
   "execution_count": null,
   "id": "8e889735-d760-4fe9-8f87-4207d9f99fce",
   "metadata": {},
   "outputs": [],
   "source": [
    "num1=100\n",
    "num2=200\n",
    "add=num1+num2"
   ]
  },
  {
   "cell_type": "markdown",
   "id": "e9987b26-9b5d-41e1-85f0-d7d99a5846bc",
   "metadata": {},
   "source": [
    "$input$\n",
    "\n",
    "- Input keyword is used to take the values from keyboard or user"
   ]
  },
  {
   "cell_type": "code",
   "execution_count": 2,
   "id": "961e736b-d4e7-41f6-804d-0aa5331f3373",
   "metadata": {},
   "outputs": [
    {
     "name": "stdin",
     "output_type": "stream",
     "text": [
      " 12\n"
     ]
    },
    {
     "data": {
      "text/plain": [
       "'12'"
      ]
     },
     "execution_count": 2,
     "metadata": {},
     "output_type": "execute_result"
    }
   ],
   "source": [
    "input()"
   ]
  },
  {
   "cell_type": "code",
   "execution_count": 3,
   "id": "c115dc31-33a4-4c8b-aaf3-d20435a39339",
   "metadata": {},
   "outputs": [
    {
     "name": "stdin",
     "output_type": "stream",
     "text": [
      "enter the number: 100\n"
     ]
    },
    {
     "data": {
      "text/plain": [
       "'100'"
      ]
     },
     "execution_count": 3,
     "metadata": {},
     "output_type": "execute_result"
    }
   ],
   "source": [
    "input(\"enter the number:\")"
   ]
  },
  {
   "cell_type": "code",
   "execution_count": 4,
   "id": "59cad77a-a9e8-4abf-9c84-c1cfbd1fe0c7",
   "metadata": {},
   "outputs": [
    {
     "name": "stdin",
     "output_type": "stream",
     "text": [
      " 100\n",
      " 200\n"
     ]
    },
    {
     "data": {
      "text/plain": [
       "'200'"
      ]
     },
     "execution_count": 4,
     "metadata": {},
     "output_type": "execute_result"
    }
   ],
   "source": [
    "input()\n",
    "input()"
   ]
  },
  {
   "cell_type": "code",
   "execution_count": 5,
   "id": "8bd64ebe-3a07-48b7-8580-ce50eaa13826",
   "metadata": {},
   "outputs": [
    {
     "name": "stdin",
     "output_type": "stream",
     "text": [
      " 100\n",
      " 200\n",
      " 300\n"
     ]
    },
    {
     "data": {
      "text/plain": [
       "'300'"
      ]
     },
     "execution_count": 5,
     "metadata": {},
     "output_type": "execute_result"
    }
   ],
   "source": [
    "input()\n",
    "input()\n",
    "input()"
   ]
  },
  {
   "cell_type": "code",
   "execution_count": 6,
   "id": "d3e05123-70ca-4e92-a838-07f2f958e480",
   "metadata": {},
   "outputs": [
    {
     "name": "stdin",
     "output_type": "stream",
     "text": [
      "enter the number1: 20\n",
      "enter the number2: 30\n",
      "enter the number3: 40\n"
     ]
    },
    {
     "data": {
      "text/plain": [
       "'40'"
      ]
     },
     "execution_count": 6,
     "metadata": {},
     "output_type": "execute_result"
    }
   ],
   "source": [
    "input(\"enter the number1:\")\n",
    "input(\"enter the number2:\")\n",
    "input(\"enter the number3:\")"
   ]
  },
  {
   "cell_type": "markdown",
   "id": "a1d8eb14-1b79-4f1b-9dd7-16f386684170",
   "metadata": {},
   "source": [
    "**Note**\n",
    "\n",
    "- input always give the string data type only\n",
    "\n",
    "- In order to perform math calculations we need to convert numerical format i.e integer or float"
   ]
  },
  {
   "cell_type": "code",
   "execution_count": 7,
   "id": "d711357b-707f-4c49-a861-c06b84f3eb41",
   "metadata": {},
   "outputs": [
    {
     "name": "stdin",
     "output_type": "stream",
     "text": [
      "enter the number1: 100\n",
      "enter the number2: 200\n"
     ]
    }
   ],
   "source": [
    "num1=input(\"enter the number1:\")\n",
    "num2=input(\"enter the number2:\")"
   ]
  },
  {
   "cell_type": "code",
   "execution_count": 8,
   "id": "61fea943-c5cb-43be-b9d7-7d26fefa9842",
   "metadata": {},
   "outputs": [
    {
     "data": {
      "text/plain": [
       "'100200'"
      ]
     },
     "execution_count": 8,
     "metadata": {},
     "output_type": "execute_result"
    }
   ],
   "source": [
    "num1+num2"
   ]
  },
  {
   "cell_type": "markdown",
   "id": "899678d0-1772-4ab7-88ea-79214edb88b8",
   "metadata": {},
   "source": [
    "output in string format"
   ]
  },
  {
   "cell_type": "code",
   "execution_count": 11,
   "id": "be4864b7-9003-4291-ac82-9585abbbff04",
   "metadata": {},
   "outputs": [
    {
     "name": "stdin",
     "output_type": "stream",
     "text": [
      "enter the number1: 200\n",
      "enter the number2: 300\n"
     ]
    },
    {
     "name": "stdout",
     "output_type": "stream",
     "text": [
      "the additon of of 200 and 300 is 500 \n"
     ]
    }
   ],
   "source": [
    "num1=int(input(\"enter the number1:\"))  #num1=int('100')=100\n",
    "num2=int(input(\"enter the number2:\"))  #num2=int('200')=200\n",
    "num1+num2  #100+200=300\n",
    "print(f\"the additon of of {num1} and {num2} is {num1+num2} \")"
   ]
  },
  {
   "cell_type": "code",
   "execution_count": 13,
   "id": "bb5d26cc-232a-4f7b-ac9f-9a51067929bc",
   "metadata": {},
   "outputs": [
    {
     "name": "stdin",
     "output_type": "stream",
     "text": [
      "enter the number1: 50\n",
      "enter the number2: 50\n"
     ]
    },
    {
     "data": {
      "text/plain": [
       "100"
      ]
     },
     "execution_count": 13,
     "metadata": {},
     "output_type": "execute_result"
    }
   ],
   "source": [
    "num1=input(\"enter the number1:\")  #num1=string\n",
    "num2=input(\"enter the number2:\")  #num2=String\n",
    "int(num1)+int(num2) # 3int+int\n"
   ]
  },
  {
   "cell_type": "markdown",
   "id": "827cbec5-cd76-44f6-9c8b-ea71be0fc876",
   "metadata": {},
   "source": [
    "**$eval$**\n",
    "\n",
    "- eval mean evaluate \n",
    "\n",
    "- eval will take the what ever the number we enter\n",
    "\n",
    "- eval will convert to corresponding data type\n",
    "\n"
   ]
  },
  {
   "cell_type": "code",
   "execution_count": null,
   "id": "c2b27d0f-7800-49ee-9597-338e8a589112",
   "metadata": {},
   "outputs": [],
   "source": [
    "num1=eval(input(\"enter the number1:\"))  #num1=string\n",
    "num2=input(\"enter the number2:\")  #num2=String\n",
    "int(num1)+int(num2) # 3int+int"
   ]
  },
  {
   "cell_type": "code",
   "execution_count": null,
   "id": "015b00e0-5416-43e5-a5e2-06ead2c45f5b",
   "metadata": {},
   "outputs": [],
   "source": [
    "# wap ask the user enter 3 numbers calculate average\n",
    "# wap ask the user enter the 2 number find the subtraction, addition, multiplication adn division\n",
    "# wap ask the user enter radius values find the area of the circle\n",
    "# wap ask the user bill amount, tip amout cal total bill\n",
    "#wap ask the user bill amount in dollars\n",
    "# ask the user how much tip you want pay in percentage\n",
    "# print "
   ]
  },
  {
   "cell_type": "code",
   "execution_count": 17,
   "id": "badb4258-d9f1-4313-9732-d0f37f98f1e0",
   "metadata": {},
   "outputs": [
    {
     "name": "stdin",
     "output_type": "stream",
     "text": [
      "Enter the numeber1: 100\n",
      "Enter the numeber2: 200\n",
      "Enter the numeber3: 300\n"
     ]
    },
    {
     "name": "stdout",
     "output_type": "stream",
     "text": [
      "avarage of 100 , 200  and 300 is 200.0\n"
     ]
    }
   ],
   "source": [
    "a=eval(input(\"Enter the numeber1:\"))\n",
    "b=eval(input(\"Enter the numeber2:\"))\n",
    "c=eval(input(\"Enter the numeber3:\"))\n",
    "average=(a+b+c)/3\n",
    "print(f\"avarage of {a} , {b}  and {c} is {average}\")"
   ]
  },
  {
   "cell_type": "code",
   "execution_count": 19,
   "id": "46aa54fc-2582-48f4-9235-7c84969d475d",
   "metadata": {},
   "outputs": [
    {
     "name": "stdin",
     "output_type": "stream",
     "text": [
      "Enter the radius: 100\n"
     ]
    },
    {
     "name": "stdout",
     "output_type": "stream",
     "text": [
      "the area of cirle is :31400.0\n"
     ]
    }
   ],
   "source": [
    "r=eval(input(\"Enter the radius:\"))\n",
    "pi=3.14\n",
    "area=pi*r*r\n",
    "print(\"the area of cirle is :{}\".format(area))"
   ]
  },
  {
   "cell_type": "code",
   "execution_count": 21,
   "id": "a643ecdf-742c-405e-8529-29e050ccc4cf",
   "metadata": {},
   "outputs": [
    {
     "name": "stdin",
     "output_type": "stream",
     "text": [
      "Enter the bill amount: 100.56\n",
      "Enter the tip percentage: 9.5\n"
     ]
    },
    {
     "name": "stdout",
     "output_type": "stream",
     "text": [
      "total bill is 110.1132\n"
     ]
    }
   ],
   "source": [
    "bill=eval(input(\"Enter the bill amount:\"))\n",
    "tip_percentage=eval(input(\"Enter the tip percentage:\"))\n",
    "tip=(tip_percentage/100)*bill\n",
    "total=bill+tip\n",
    "print(f\"total bill is {total}\")"
   ]
  },
  {
   "cell_type": "code",
   "execution_count": 23,
   "id": "1939df7c-f724-49f1-8aad-308b97c0746d",
   "metadata": {},
   "outputs": [
    {
     "name": "stdin",
     "output_type": "stream",
     "text": [
      "Enter the amount in dollar: 100\n"
     ]
    },
    {
     "name": "stdout",
     "output_type": "stream",
     "text": [
      "In Ruppes is 8650.0\n"
     ]
    }
   ],
   "source": [
    "dollar=eval(input(\"Enter the amount in dollar:\"))\n",
    "rupees=dollar*86.5\n",
    "print(f\"In Ruppes is {rupees}\")"
   ]
  },
  {
   "cell_type": "code",
   "execution_count": 24,
   "id": "f7e6f689-39e3-4a89-8b0f-0d23b1cdd3b3",
   "metadata": {},
   "outputs": [
    {
     "name": "stdin",
     "output_type": "stream",
     "text": [
      "Enter the value of base: 20\n",
      "Enter the value of height 10\n"
     ]
    },
    {
     "name": "stdout",
     "output_type": "stream",
     "text": [
      "Area of Triangle is : 100.0\n"
     ]
    }
   ],
   "source": [
    "b=eval(input(\"Enter the value of base of triangle:\"))\n",
    "h=eval(input(\"Enter the value of height of triangle\"))\n",
    "area=0.5*b*h\n",
    "print(f\"Area of Triangle is : {area}\")"
   ]
  },
  {
   "cell_type": "code",
   "execution_count": 26,
   "id": "60d978cd-c553-4386-9369-117d46d9ed9b",
   "metadata": {},
   "outputs": [
    {
     "name": "stdin",
     "output_type": "stream",
     "text": [
      "Enter the breath of rectangle 10\n",
      "Enter the length of rectangle 20.5\n"
     ]
    },
    {
     "name": "stdout",
     "output_type": "stream",
     "text": [
      "Area of Rectangle is:205.0\n"
     ]
    }
   ],
   "source": [
    "b=eval(input(\"Enter the breath of rectangle\"))\n",
    "l=eval(input(\"Enter the length of rectangle\"))\n",
    "area=b*l\n",
    "print(f\"Area of Rectangle is:{area}\")"
   ]
  },
  {
   "cell_type": "code",
   "execution_count": null,
   "id": "85ed7aa5-f580-48df-8de2-afbf61cd6a9e",
   "metadata": {},
   "outputs": [],
   "source": []
  }
 ],
 "metadata": {
  "kernelspec": {
   "display_name": "Python 3 (ipykernel)",
   "language": "python",
   "name": "python3"
  },
  "language_info": {
   "codemirror_mode": {
    "name": "ipython",
    "version": 3
   },
   "file_extension": ".py",
   "mimetype": "text/x-python",
   "name": "python",
   "nbconvert_exporter": "python",
   "pygments_lexer": "ipython3",
   "version": "3.11.7"
  }
 },
 "nbformat": 4,
 "nbformat_minor": 5
}
