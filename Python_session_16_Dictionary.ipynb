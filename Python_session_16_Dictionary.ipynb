{
 "cells": [
  {
   "cell_type": "code",
   "execution_count": null,
   "id": "69c25fff-b949-43c7-96ee-b1e475bbfd02",
   "metadata": {},
   "outputs": [],
   "source": [
    "string=''\n",
    "list=[]\n",
    "tuple=()\n",
    "set={}\n",
    "dictionary={key:value}"
   ]
  },
  {
   "cell_type": "code",
   "execution_count": null,
   "id": "d4d88065-a7ba-4801-89d5-9cb3eed6c109",
   "metadata": {},
   "outputs": [],
   "source": [
    "names=['Ramesh','Suresh','Satish']\n",
    "age=[20,25,30]\n",
    "#Ramesh age is 20"
   ]
  },
  {
   "cell_type": "markdown",
   "id": "16462f4c-fec3-4e5c-ab6d-f0c3c6f069db",
   "metadata": {},
   "source": [
    "**zip**"
   ]
  },
  {
   "cell_type": "code",
   "execution_count": 3,
   "id": "2a704cad-a75a-44d2-8f41-e9ecf5a54149",
   "metadata": {},
   "outputs": [
    {
     "name": "stdout",
     "output_type": "stream",
     "text": [
      "Ramesh age is 20\n",
      "Suresh age is 25\n",
      "Satish age is 30\n"
     ]
    }
   ],
   "source": [
    "names=['Ramesh','Suresh','Satish']\n",
    "age=[20,25,30]\n",
    "for i,j in zip(names,age):\n",
    "    print(f\"{i} age is {j}\")"
   ]
  },
  {
   "cell_type": "code",
   "execution_count": 4,
   "id": "d8ff8b67-4797-46d8-8ff0-30ca64ddfb63",
   "metadata": {},
   "outputs": [
    {
     "data": {
      "text/plain": [
       "[('Ramesh', 20), ('Suresh', 25), ('Satish', 30)]"
      ]
     },
     "execution_count": 4,
     "metadata": {},
     "output_type": "execute_result"
    }
   ],
   "source": [
    "list(zip(names,age))"
   ]
  },
  {
   "cell_type": "code",
   "execution_count": 6,
   "id": "583cb38d-500a-40de-8dc7-276d84c7960a",
   "metadata": {},
   "outputs": [
    {
     "data": {
      "text/plain": [
       "dict"
      ]
     },
     "execution_count": 6,
     "metadata": {},
     "output_type": "execute_result"
    }
   ],
   "source": [
    "dic1={'Ramesh':20,'Suresh':25,'Satish':30}\n",
    "type(dic1)\n"
   ]
  },
  {
   "cell_type": "code",
   "execution_count": 7,
   "id": "4649eff8-0a3c-4e73-bd7f-c143a585fb4f",
   "metadata": {},
   "outputs": [
    {
     "ename": "NameError",
     "evalue": "name 'Ramesh' is not defined",
     "output_type": "error",
     "traceback": [
      "\u001b[1;31m---------------------------------------------------------------------------\u001b[0m",
      "\u001b[1;31mNameError\u001b[0m                                 Traceback (most recent call last)",
      "Cell \u001b[1;32mIn[7], line 1\u001b[0m\n\u001b[1;32m----> 1\u001b[0m \u001b[38;5;28mprint\u001b[39m(dic1[Ramesh])\n",
      "\u001b[1;31mNameError\u001b[0m: name 'Ramesh' is not defined"
     ]
    }
   ],
   "source": [
    "# if the list are of different length\\\n",
    "# if both lists are different length\n",
    "#zip will not work\n"
   ]
  },
  {
   "cell_type": "code",
   "execution_count": null,
   "id": "6ef2918b-8756-4165-ab8f-a8a1bc9bce9a",
   "metadata": {},
   "outputs": [],
   "source": [
    "- initialization\n",
    "\n",
    "- min\n",
    "\n",
    "- max\n",
    "\n",
    "- len\n",
    "\n",
    "- reversed"
   ]
  },
  {
   "cell_type": "code",
   "execution_count": null,
   "id": "aae12dbc-ba78-44e1-9321-9cdcc8dd7b4b",
   "metadata": {},
   "outputs": [],
   "source": [
    "dict2={'Ramesh':'Football','Suresh':'Cricket','Satish':'Kabaddi'}"
   ]
  },
  {
   "cell_type": "code",
   "execution_count": 10,
   "id": "a495114a-83cb-4766-a6f2-6bd84eabef17",
   "metadata": {},
   "outputs": [
    {
     "data": {
      "text/plain": [
       "dict"
      ]
     },
     "execution_count": 10,
     "metadata": {},
     "output_type": "execute_result"
    }
   ],
   "source": [
    "dict2={'10%':'Football','70%':'Cricket','20%':'Kabaddi'}\n",
    "type(dict2)"
   ]
  },
  {
   "cell_type": "code",
   "execution_count": 11,
   "id": "1e47e4e5-da1a-4585-b166-623970ae8719",
   "metadata": {},
   "outputs": [
    {
     "data": {
      "text/plain": [
       "dict"
      ]
     },
     "execution_count": 11,
     "metadata": {},
     "output_type": "execute_result"
    }
   ],
   "source": [
    "dict2={100:'Ramesh',90:'Ram',300:'Geeta'}\n",
    "type(dict2)"
   ]
  },
  {
   "cell_type": "code",
   "execution_count": 13,
   "id": "fb60e70a-a83a-44f4-b4d8-6377d7bc5e6c",
   "metadata": {},
   "outputs": [
    {
     "data": {
      "text/plain": [
       "dict"
      ]
     },
     "execution_count": 13,
     "metadata": {},
     "output_type": "execute_result"
    }
   ],
   "source": [
    "dict3={\"Apple\":\"Food\",\"Gym\": True,\"year\":2024,\"colors\":[\"red\",\"white\",\"blue\"],50:(10,20,30)}\n",
    "type(dict3)"
   ]
  },
  {
   "cell_type": "code",
   "execution_count": 14,
   "id": "92a2ae3c-3c2c-49e7-836e-e4bf38818abc",
   "metadata": {},
   "outputs": [
    {
     "data": {
      "text/plain": [
       "{'colors': ['red', 'white', 'blue']}"
      ]
     },
     "execution_count": 14,
     "metadata": {},
     "output_type": "execute_result"
    }
   ],
   "source": [
    "dict={\"colors\":[\"red\",\"white\",\"blue\"]}\n",
    "dict"
   ]
  },
  {
   "cell_type": "code",
   "execution_count": 15,
   "id": "6fd087d8-ac86-4623-90d9-795a12734686",
   "metadata": {},
   "outputs": [
    {
     "ename": "TypeError",
     "evalue": "unhashable type: 'list'",
     "output_type": "error",
     "traceback": [
      "\u001b[1;31m---------------------------------------------------------------------------\u001b[0m",
      "\u001b[1;31mTypeError\u001b[0m                                 Traceback (most recent call last)",
      "Cell \u001b[1;32mIn[15], line 1\u001b[0m\n\u001b[1;32m----> 1\u001b[0m \u001b[38;5;28mdict\u001b[39m\u001b[38;5;241m=\u001b[39m{[\u001b[38;5;124m\"\u001b[39m\u001b[38;5;124mred\u001b[39m\u001b[38;5;124m\"\u001b[39m,\u001b[38;5;124m\"\u001b[39m\u001b[38;5;124mwhite\u001b[39m\u001b[38;5;124m\"\u001b[39m,\u001b[38;5;124m\"\u001b[39m\u001b[38;5;124mblue\u001b[39m\u001b[38;5;124m\"\u001b[39m]:\u001b[38;5;124m\"\u001b[39m\u001b[38;5;124mcolors\u001b[39m\u001b[38;5;124m\"\u001b[39m}\n\u001b[0;32m      2\u001b[0m \u001b[38;5;28mdict\u001b[39m\n",
      "\u001b[1;31mTypeError\u001b[0m: unhashable type: 'list'"
     ]
    }
   ],
   "source": [
    "dict={[\"red\",\"white\",\"blue\"]:\"colors\"}\n",
    "dict\n",
    "# in dict list as key is not allowed"
   ]
  },
  {
   "cell_type": "code",
   "execution_count": 18,
   "id": "24f8bab9-e9ef-47f8-9e4e-c1447ac94d2f",
   "metadata": {},
   "outputs": [
    {
     "data": {
      "text/plain": [
       "{('red', 'white', 'blue'): 'colors'}"
      ]
     },
     "execution_count": 18,
     "metadata": {},
     "output_type": "execute_result"
    }
   ],
   "source": [
    "dict={(\"red\",\"white\",\"blue\"):\"colors\"}\n",
    "dict\n",
    "# tuple are allowed as key"
   ]
  },
  {
   "cell_type": "code",
   "execution_count": 16,
   "id": "7fd311d3-8b3d-4d44-8dd1-f0c6cf6ed80d",
   "metadata": {},
   "outputs": [
    {
     "data": {
      "text/plain": [
       "{'Ajay': 30}"
      ]
     },
     "execution_count": 16,
     "metadata": {},
     "output_type": "execute_result"
    }
   ],
   "source": [
    "d8={'Ajay':25,\"Ajay\":30}\n",
    "d8\n",
    "# if Same key are available, will take latest one key only "
   ]
  },
  {
   "cell_type": "code",
   "execution_count": 17,
   "id": "58cbe3c9-6cb2-4696-b078-10b9ef58815b",
   "metadata": {},
   "outputs": [
    {
     "data": {
      "text/plain": [
       "{25: 'Ajay', 30: 'Ajay'}"
      ]
     },
     "execution_count": 17,
     "metadata": {},
     "output_type": "execute_result"
    }
   ],
   "source": [
    "d9={25:'Ajay',30:\"Ajay\"}\n",
    "d9"
   ]
  },
  {
   "cell_type": "code",
   "execution_count": 19,
   "id": "de197ab1-33ea-4fd4-965b-f24e880993a6",
   "metadata": {},
   "outputs": [
    {
     "data": {
      "text/plain": [
       "{'Ajay': 25}"
      ]
     },
     "execution_count": 19,
     "metadata": {},
     "output_type": "execute_result"
    }
   ],
   "source": [
    "d8={'Ajay':25,\"Ajay\":25}\n",
    "d8\n",
    "#duplicates are not allowed"
   ]
  },
  {
   "cell_type": "code",
   "execution_count": 20,
   "id": "f9f81a5e-5002-4e1e-a8e7-cb4179b98628",
   "metadata": {},
   "outputs": [
    {
     "data": {
      "text/plain": [
       "{'Fruites': {'Mango': 25}}"
      ]
     },
     "execution_count": 20,
     "metadata": {},
     "output_type": "execute_result"
    }
   ],
   "source": [
    "d10={'Fruites':{'Mango':25}}\n",
    "d10"
   ]
  },
  {
   "cell_type": "markdown",
   "id": "dad636df-a7b1-4bda-a6c6-6246d8f9ae16",
   "metadata": {},
   "source": [
    "**keys are important**\n",
    "\n",
    "- Keys have only latest value\n",
    "\n",
    "- No duplicate keys\n",
    "\n",
    "- Values can be duplicate\n",
    "\n",
    "- which  means different keys can have same value\n",
    "\n",
    "- List and set can not be a key, Because lists are mutable\n",
    "\n",
    "- tuple can be a key, Because tuple are immutable"
   ]
  },
  {
   "cell_type": "code",
   "execution_count": 21,
   "id": "613c9454-4707-4a0d-8979-73469d22df41",
   "metadata": {},
   "outputs": [
    {
     "ename": "TypeError",
     "evalue": "unhashable type: 'set'",
     "output_type": "error",
     "traceback": [
      "\u001b[1;31m---------------------------------------------------------------------------\u001b[0m",
      "\u001b[1;31mTypeError\u001b[0m                                 Traceback (most recent call last)",
      "Cell \u001b[1;32mIn[21], line 1\u001b[0m\n\u001b[1;32m----> 1\u001b[0m d10\u001b[38;5;241m=\u001b[39m{{\u001b[38;5;124m'\u001b[39m\u001b[38;5;124mMango\u001b[39m\u001b[38;5;124m'\u001b[39m,\u001b[38;5;241m25\u001b[39m,\u001b[38;5;28;01mTrue\u001b[39;00m}:\u001b[38;5;124m'\u001b[39m\u001b[38;5;124mFruites\u001b[39m\u001b[38;5;124m'\u001b[39m}\n\u001b[0;32m      2\u001b[0m d10\n",
      "\u001b[1;31mTypeError\u001b[0m: unhashable type: 'set'"
     ]
    }
   ],
   "source": [
    "d10={{'Mango',25,True}:'Fruites'}\n",
    "d10"
   ]
  },
  {
   "cell_type": "code",
   "execution_count": 22,
   "id": "50ce6cc6-0cc5-4e8a-ab44-c8df0c42c935",
   "metadata": {},
   "outputs": [
    {
     "ename": "KeyError",
     "evalue": "1",
     "output_type": "error",
     "traceback": [
      "\u001b[1;31m---------------------------------------------------------------------------\u001b[0m",
      "\u001b[1;31mKeyError\u001b[0m                                  Traceback (most recent call last)",
      "Cell \u001b[1;32mIn[22], line 2\u001b[0m\n\u001b[0;32m      1\u001b[0m dict2\u001b[38;5;241m=\u001b[39m{\u001b[38;5;241m100\u001b[39m:\u001b[38;5;124m'\u001b[39m\u001b[38;5;124mRamesh\u001b[39m\u001b[38;5;124m'\u001b[39m,\u001b[38;5;241m90\u001b[39m:\u001b[38;5;124m'\u001b[39m\u001b[38;5;124mRam\u001b[39m\u001b[38;5;124m'\u001b[39m,\u001b[38;5;241m300\u001b[39m:\u001b[38;5;124m'\u001b[39m\u001b[38;5;124mGeeta\u001b[39m\u001b[38;5;124m'\u001b[39m}\n\u001b[1;32m----> 2\u001b[0m dict2[\u001b[38;5;241m1\u001b[39m]\n",
      "\u001b[1;31mKeyError\u001b[0m: 1"
     ]
    }
   ],
   "source": [
    "dict2={100:'Ramesh',90:'Ram',300:'Geeta'}\n",
    "dict2[1]"
   ]
  },
  {
   "cell_type": "code",
   "execution_count": 23,
   "id": "539cf9c6-7cfb-49fc-86d3-f9290382bd35",
   "metadata": {},
   "outputs": [
    {
     "data": {
      "text/plain": [
       "300"
      ]
     },
     "execution_count": 23,
     "metadata": {},
     "output_type": "execute_result"
    }
   ],
   "source": [
    "dict2={100:'Ramesh',90:'Ram',300:'Geeta'}\n",
    "max(dict2)"
   ]
  },
  {
   "cell_type": "code",
   "execution_count": 24,
   "id": "e8d17e80-6caf-4057-9616-25ced40cb0dd",
   "metadata": {},
   "outputs": [
    {
     "data": {
      "text/plain": [
       "('red', 'white', 'blue')"
      ]
     },
     "execution_count": 24,
     "metadata": {},
     "output_type": "execute_result"
    }
   ],
   "source": [
    "dict={(\"red\",\"white\",\"blue\"):\"colors\"}\n",
    "max(dict)"
   ]
  },
  {
   "cell_type": "code",
   "execution_count": 26,
   "id": "81f51d72-b82b-47a3-9936-bc82a3f554c7",
   "metadata": {},
   "outputs": [
    {
     "ename": "TypeError",
     "evalue": "'>' not supported between instances of 'int' and 'str'",
     "output_type": "error",
     "traceback": [
      "\u001b[1;31m---------------------------------------------------------------------------\u001b[0m",
      "\u001b[1;31mTypeError\u001b[0m                                 Traceback (most recent call last)",
      "Cell \u001b[1;32mIn[26], line 2\u001b[0m\n\u001b[0;32m      1\u001b[0m dict3\u001b[38;5;241m=\u001b[39m{\u001b[38;5;124m\"\u001b[39m\u001b[38;5;124mApple\u001b[39m\u001b[38;5;124m\"\u001b[39m:\u001b[38;5;124m\"\u001b[39m\u001b[38;5;124mFood\u001b[39m\u001b[38;5;124m\"\u001b[39m,\u001b[38;5;124m\"\u001b[39m\u001b[38;5;124mGym\u001b[39m\u001b[38;5;124m\"\u001b[39m: \u001b[38;5;28;01mTrue\u001b[39;00m,\u001b[38;5;124m\"\u001b[39m\u001b[38;5;124myear\u001b[39m\u001b[38;5;124m\"\u001b[39m:\u001b[38;5;241m2024\u001b[39m,\u001b[38;5;124m\"\u001b[39m\u001b[38;5;124mcolors\u001b[39m\u001b[38;5;124m\"\u001b[39m:[\u001b[38;5;124m\"\u001b[39m\u001b[38;5;124mred\u001b[39m\u001b[38;5;124m\"\u001b[39m,\u001b[38;5;124m\"\u001b[39m\u001b[38;5;124mwhite\u001b[39m\u001b[38;5;124m\"\u001b[39m,\u001b[38;5;124m\"\u001b[39m\u001b[38;5;124mblue\u001b[39m\u001b[38;5;124m\"\u001b[39m],\u001b[38;5;241m50\u001b[39m:(\u001b[38;5;241m10\u001b[39m,\u001b[38;5;241m20\u001b[39m,\u001b[38;5;241m30\u001b[39m)}\n\u001b[1;32m----> 2\u001b[0m \u001b[38;5;28mmax\u001b[39m(dict3)\n",
      "\u001b[1;31mTypeError\u001b[0m: '>' not supported between instances of 'int' and 'str'"
     ]
    }
   ],
   "source": [
    "dict3={\"Apple\":\"Food\",\"Gym\": True,\"year\":2024,\"colors\":[\"red\",\"white\",\"blue\"],50:(10,20,30)}\n",
    "max(dict3)"
   ]
  },
  {
   "cell_type": "code",
   "execution_count": 27,
   "id": "37753b98-5d73-41f3-ba92-f25da148c5f9",
   "metadata": {},
   "outputs": [
    {
     "data": {
      "text/plain": [
       "'Suresh'"
      ]
     },
     "execution_count": 27,
     "metadata": {},
     "output_type": "execute_result"
    }
   ],
   "source": [
    "dict2={'Ramesh':'Football','Suresh':'Cricket','Satish':'Kabaddi'}\n",
    "max(dict2)"
   ]
  },
  {
   "cell_type": "code",
   "execution_count": 28,
   "id": "555a48c3-464b-4fe4-b59c-bf1460112821",
   "metadata": {},
   "outputs": [
    {
     "data": {
      "text/plain": [
       "100"
      ]
     },
     "execution_count": 28,
     "metadata": {},
     "output_type": "execute_result"
    }
   ],
   "source": [
    "dict2={100:'Ramesh',100:'Ram',100:'Geeta'}\n",
    "max(dict2)"
   ]
  },
  {
   "cell_type": "code",
   "execution_count": 29,
   "id": "55501f89-77db-4358-b18b-0b5033a1c73d",
   "metadata": {},
   "outputs": [
    {
     "data": {
      "text/plain": [
       "{100: 'Geeta'}"
      ]
     },
     "execution_count": 29,
     "metadata": {},
     "output_type": "execute_result"
    }
   ],
   "source": [
    "dict2={100:'Ramesh',100:'Ram',100:'Geeta'}\n",
    "dict2"
   ]
  },
  {
   "cell_type": "code",
   "execution_count": 30,
   "id": "249dab6b-dda7-4fd6-8770-ad70e193cf51",
   "metadata": {},
   "outputs": [
    {
     "data": {
      "text/plain": [
       "5"
      ]
     },
     "execution_count": 30,
     "metadata": {},
     "output_type": "execute_result"
    }
   ],
   "source": [
    "dict3={\"Apple\":\"Food\",\"Gym\": True,\"year\":2024,\"colors\":[\"red\",\"white\",\"blue\"],50:(10,20,30)}\n",
    "len(dict3)"
   ]
  },
  {
   "cell_type": "code",
   "execution_count": 39,
   "id": "151b1b3b-56dc-422a-8b25-22b0089c09f0",
   "metadata": {},
   "outputs": [
    {
     "name": "stdout",
     "output_type": "stream",
     "text": [
      "50\n",
      "colors\n",
      "year\n",
      "Gym\n",
      "Apple\n"
     ]
    }
   ],
   "source": [
    "dict3={\"Apple\":\"Food\",\"Gym\": True,\"year\":2024,\"colors\":[\"red\",\"white\",\"blue\"],50:(10,20,30)}\n",
    "list=(reversed(dict3))\n",
    "for i in list:\n",
    "    print(i)"
   ]
  },
  {
   "cell_type": "code",
   "execution_count": 37,
   "id": "47b76294-dae1-4a84-8f7d-fbf09930b842",
   "metadata": {},
   "outputs": [
    {
     "data": {
      "text/plain": [
       "[100, 200, 300]"
      ]
     },
     "execution_count": 37,
     "metadata": {},
     "output_type": "execute_result"
    }
   ],
   "source": [
    "dict2={100:'Ramesh',200:'Ram',300:'Geeta'}\n",
    "sorted(dict2)"
   ]
  },
  {
   "cell_type": "code",
   "execution_count": 38,
   "id": "dea080de-de1c-47d9-92e5-b67a98e27dc6",
   "metadata": {},
   "outputs": [
    {
     "data": {
      "text/plain": [
       "['Ramesh', 'Satish', 'Suresh']"
      ]
     },
     "execution_count": 38,
     "metadata": {},
     "output_type": "execute_result"
    }
   ],
   "source": [
    "dict2={'Ramesh':'Football','Suresh':'Cricket','Satish':'Kabaddi'}\n",
    "sorted(dict2)"
   ]
  },
  {
   "cell_type": "code",
   "execution_count": null,
   "id": "7d98e0fc-ae81-439b-b715-d8d8d0da6000",
   "metadata": {},
   "outputs": [],
   "source": [
    "**reversed**\n",
    "\n",
    "- you might have think dictionary will reverse\n",
    "\n",
    "- when you apply reversed, then you got to know \n",
    "\n",
    "- only key will come in reverse"
   ]
  },
  {
   "cell_type": "code",
   "execution_count": 40,
   "id": "a8e9f371-2772-407a-abc0-4ab94e33bdf9",
   "metadata": {},
   "outputs": [
    {
     "name": "stdout",
     "output_type": "stream",
     "text": [
      "Ramesh\n",
      "Suresh\n",
      "Satish\n"
     ]
    }
   ],
   "source": [
    "d1={'Ramesh':20,'Suresh':25,'Satish':30}\n",
    "for i in d1:\n",
    "    print(i)\n"
   ]
  },
  {
   "cell_type": "code",
   "execution_count": 41,
   "id": "63e51d43-01dc-4975-9e51-84cd7eb7cf69",
   "metadata": {},
   "outputs": [
    {
     "name": "stdout",
     "output_type": "stream",
     "text": [
      "Apple\n",
      "Gym\n",
      "year\n",
      "colors\n",
      "50\n"
     ]
    }
   ],
   "source": [
    "dict3={\"Apple\":\"Food\",\"Gym\": True,\"year\":2024,\"colors\":[\"red\",\"white\",\"blue\"],50:(10,20,30)}\n",
    "for i in dict3:\n",
    "    print(i)"
   ]
  },
  {
   "cell_type": "code",
   "execution_count": 42,
   "id": "a2bc0998-5568-47c7-bec1-dcba705bb2d8",
   "metadata": {},
   "outputs": [
    {
     "data": {
      "text/plain": [
       "False"
      ]
     },
     "execution_count": 42,
     "metadata": {},
     "output_type": "execute_result"
    }
   ],
   "source": [
    "dict3={\"Apple\":\"Food\",\"Gym\": True,\"year\":2024,\"colors\":[\"red\",\"white\",\"blue\"],50:(10,20,30)}\n",
    "20 in dict3"
   ]
  },
  {
   "cell_type": "code",
   "execution_count": 43,
   "id": "46faac33-11f8-4640-8e9a-8b626a659ab7",
   "metadata": {},
   "outputs": [
    {
     "data": {
      "text/plain": [
       "True"
      ]
     },
     "execution_count": 43,
     "metadata": {},
     "output_type": "execute_result"
    }
   ],
   "source": [
    "dict3={\"Apple\":\"Food\",\"Gym\": True,\"year\":2024,\"colors\":[\"red\",\"white\",\"blue\"],50:(10,20,30)}\n",
    "50 in dict3"
   ]
  },
  {
   "cell_type": "code",
   "execution_count": 44,
   "id": "86aa85b7-bb38-4ff0-90cc-293117d183ee",
   "metadata": {},
   "outputs": [
    {
     "data": {
      "text/plain": [
       "True"
      ]
     },
     "execution_count": 44,
     "metadata": {},
     "output_type": "execute_result"
    }
   ],
   "source": [
    "dict3={\"Apple\":\"Food\",\"Gym\": True,\"year\":2024,\"colors\":[\"red\",\"white\",\"blue\"],50:(10,20,30)}\n",
    "'Apple' in dict3"
   ]
  },
  {
   "cell_type": "markdown",
   "id": "50717f1b-b702-41e5-81f2-240d839f3ada",
   "metadata": {},
   "source": [
    "**index**"
   ]
  },
  {
   "cell_type": "code",
   "execution_count": 45,
   "id": "ff5996b7-3d96-4121-9f9f-36fbc488b1ab",
   "metadata": {},
   "outputs": [
    {
     "data": {
      "text/plain": [
       "20"
      ]
     },
     "execution_count": 45,
     "metadata": {},
     "output_type": "execute_result"
    }
   ],
   "source": [
    "d1={'Ramesh':20,'Suresh':25,'Satish':30}\n",
    "#if you want retrive the values \n",
    "# python will never give 'Ramesh':25\n",
    "# d1[0] not possible\n",
    "# call key\n",
    "d1['Ramesh']"
   ]
  },
  {
   "cell_type": "code",
   "execution_count": 46,
   "id": "b418dc22-0b4a-4aa7-a448-5d27026e61e8",
   "metadata": {},
   "outputs": [
    {
     "data": {
      "text/plain": [
       "25"
      ]
     },
     "execution_count": 46,
     "metadata": {},
     "output_type": "execute_result"
    }
   ],
   "source": [
    "d1['Suresh']"
   ]
  },
  {
   "cell_type": "code",
   "execution_count": 47,
   "id": "3ad7c5ce-3801-4e5c-85de-a27ee05c85b3",
   "metadata": {},
   "outputs": [
    {
     "data": {
      "text/plain": [
       "['red', 'white', 'blue']"
      ]
     },
     "execution_count": 47,
     "metadata": {},
     "output_type": "execute_result"
    }
   ],
   "source": [
    "dict3={\"Apple\":\"Food\",\"Gym\": True,\"year\":2024,\"colors\":[\"red\",\"white\",\"blue\"],50:(10,20,30)}\n",
    "dict3['colors']"
   ]
  },
  {
   "cell_type": "code",
   "execution_count": 51,
   "id": "ab70c3a9-9645-41e8-9a50-801b25a9140c",
   "metadata": {},
   "outputs": [
    {
     "ename": "AttributeError",
     "evalue": "'dict' object has no attribute 'index'",
     "output_type": "error",
     "traceback": [
      "\u001b[1;31m---------------------------------------------------------------------------\u001b[0m",
      "\u001b[1;31mAttributeError\u001b[0m                            Traceback (most recent call last)",
      "Cell \u001b[1;32mIn[51], line 1\u001b[0m\n\u001b[1;32m----> 1\u001b[0m dict3\u001b[38;5;241m.\u001b[39mindex(\u001b[38;5;124m'\u001b[39m\u001b[38;5;124mcolors\u001b[39m\u001b[38;5;124m'\u001b[39m)\n",
      "\u001b[1;31mAttributeError\u001b[0m: 'dict' object has no attribute 'index'"
     ]
    }
   ],
   "source": [
    "dict3.index('colors')"
   ]
  },
  {
   "cell_type": "code",
   "execution_count": 2,
   "id": "950ed2a1-5524-4b15-a170-cbe90a8d55c6",
   "metadata": {},
   "outputs": [
    {
     "name": "stdout",
     "output_type": "stream",
     "text": [
      "dict_keys(['brand', 'model', 'year'])\n",
      "dict_keys(['brand', 'model', 'year', 'color'])\n"
     ]
    },
    {
     "data": {
      "text/plain": [
       "{'brand': 'Ford', 'model': 'Mustang', 'year': 1964, 'color': 'white'}"
      ]
     },
     "execution_count": 2,
     "metadata": {},
     "output_type": "execute_result"
    }
   ],
   "source": [
    "car = {\"brand\": \"Ford\",\"model\": \"Mustang\",\"year\": 1964}\n",
    "\n",
    "x = car.keys()\n",
    "\n",
    "print(x) #before the change\n",
    "\n",
    "car[\"color\"] = \"white\"\n",
    "\n",
    "print(x) \n",
    "car"
   ]
  },
  {
   "cell_type": "code",
   "execution_count": 3,
   "id": "5867c1da-1230-4e55-9e0d-38a74995601c",
   "metadata": {},
   "outputs": [
    {
     "data": {
      "text/plain": [
       "25"
      ]
     },
     "execution_count": 3,
     "metadata": {},
     "output_type": "execute_result"
    }
   ],
   "source": [
    "d1={'Manish':25,'Shubham':20,'Govind':15}\n",
    "#Dictionary is a key: value pair\n",
    "#we can not use index number directly\n",
    "# whenever you want to call a value, we will use key\n",
    "d1['Manish']"
   ]
  },
  {
   "cell_type": "code",
   "execution_count": 4,
   "id": "cc9ef044-7a39-4315-803c-7d136543d793",
   "metadata": {},
   "outputs": [
    {
     "name": "stdout",
     "output_type": "stream",
     "text": [
      "Manish\n",
      "Shubham\n",
      "Govind\n"
     ]
    }
   ],
   "source": [
    "for i in d1:\n",
    "    print(i)"
   ]
  },
  {
   "cell_type": "code",
   "execution_count": 9,
   "id": "f917cb2e-83f2-4b48-859b-8410137b6c66",
   "metadata": {},
   "outputs": [
    {
     "name": "stdout",
     "output_type": "stream",
     "text": [
      "Manish has age 25\n",
      "Shubham has age 20\n",
      "Govind has age 15\n"
     ]
    }
   ],
   "source": [
    "for i in d1:\n",
    "    print(f\"{i} has age {d1[i]}\")"
   ]
  },
  {
   "cell_type": "code",
   "execution_count": 10,
   "id": "724cd46c-7b87-4a72-ba97-a1fa58763309",
   "metadata": {},
   "outputs": [
    {
     "name": "stdout",
     "output_type": "stream",
     "text": [
      "Vighnesh has age 20\n",
      "Mohit has age 25\n",
      "Nagesh has age 30\n"
     ]
    }
   ],
   "source": [
    "names=['Vighnesh','Mohit','Nagesh']\n",
    "age=[20,25,30]\n",
    "for i,j in zip(names,age):\n",
    "    print(f\"{i} has age {j}\")"
   ]
  },
  {
   "cell_type": "markdown",
   "id": "94e053fd-d6a9-4bd6-a7a6-d289e08646b3",
   "metadata": {},
   "source": [
    "**dict to list**"
   ]
  },
  {
   "cell_type": "code",
   "execution_count": 11,
   "id": "136771e0-5d55-4721-a01d-c45ffdac06a1",
   "metadata": {},
   "outputs": [
    {
     "data": {
      "text/plain": [
       "['Manish', 'Shubham', 'Govind']"
      ]
     },
     "execution_count": 11,
     "metadata": {},
     "output_type": "execute_result"
    }
   ],
   "source": [
    "d1={'Manish':25,'Shubham':20,'Govind':15}\n",
    "d2=[]\n",
    "for i in d1:\n",
    "    d2.append(i)\n",
    "d2"
   ]
  },
  {
   "cell_type": "code",
   "execution_count": 12,
   "id": "8a76176d-e80e-4231-a20a-5996107c38f7",
   "metadata": {},
   "outputs": [
    {
     "data": {
      "text/plain": [
       "[25, 20, 15]"
      ]
     },
     "execution_count": 12,
     "metadata": {},
     "output_type": "execute_result"
    }
   ],
   "source": [
    "d1={'Manish':25,'Shubham':20,'Govind':15}\n",
    "d2=[]\n",
    "for i in d1:\n",
    "    d2.append(d1[i])\n",
    "d2"
   ]
  },
  {
   "cell_type": "code",
   "execution_count": 14,
   "id": "0d6e3d0d-ab74-4fe8-a5ba-145983dc315b",
   "metadata": {},
   "outputs": [
    {
     "data": {
      "text/plain": [
       "(['Manish', 'Shubham', 'Govind'], [25, 20, 15])"
      ]
     },
     "execution_count": 14,
     "metadata": {},
     "output_type": "execute_result"
    }
   ],
   "source": [
    "d1={'Manish':25,'Shubham':20,'Govind':15}\n",
    "keys,values=[],[]\n",
    "for i in d1:\n",
    "    keys.append(i)\n",
    "    values.append(d1[i])\n",
    "keys,values"
   ]
  },
  {
   "cell_type": "code",
   "execution_count": 15,
   "id": "f5112034-dbd1-4d59-95ae-e340c8dcfc5e",
   "metadata": {},
   "outputs": [],
   "source": [
    "keys=[i for i in d1]\n",
    "values=[d1[i]for i in d1]"
   ]
  },
  {
   "cell_type": "code",
   "execution_count": 16,
   "id": "fb9c268a-8d62-4189-8126-eb62ced9ead4",
   "metadata": {},
   "outputs": [
    {
     "data": {
      "text/plain": [
       "(['Manish', 'Shubham', 'Govind'], [25, 20, 15])"
      ]
     },
     "execution_count": 16,
     "metadata": {},
     "output_type": "execute_result"
    }
   ],
   "source": [
    "keys,values"
   ]
  },
  {
   "cell_type": "markdown",
   "id": "178d1dd6-28f1-4e3e-a90e-9435d7304f2e",
   "metadata": {},
   "source": [
    "**empty string**"
   ]
  },
  {
   "cell_type": "code",
   "execution_count": 17,
   "id": "d6b07a62-7573-4e88-a0ec-81db9800d60f",
   "metadata": {},
   "outputs": [
    {
     "data": {
      "text/plain": [
       "'a'"
      ]
     },
     "execution_count": 17,
     "metadata": {},
     "output_type": "execute_result"
    }
   ],
   "source": [
    "s=''\n",
    "s=s+'a'\n",
    "s"
   ]
  },
  {
   "cell_type": "code",
   "execution_count": 18,
   "id": "7fa0ec15-d33e-41d8-bdde-d94a2553ce5a",
   "metadata": {},
   "outputs": [
    {
     "data": {
      "text/plain": [
       "{'Ajit': 20}"
      ]
     },
     "execution_count": 18,
     "metadata": {},
     "output_type": "execute_result"
    }
   ],
   "source": [
    "d={}\n",
    "d['Ajit']=20\n",
    "d"
   ]
  },
  {
   "cell_type": "code",
   "execution_count": 19,
   "id": "cba3b197-4a95-46ad-b705-8e0b9ded6650",
   "metadata": {},
   "outputs": [
    {
     "data": {
      "text/plain": [
       "{('Ajit', 'Mahesh'): (20, 30)}"
      ]
     },
     "execution_count": 19,
     "metadata": {},
     "output_type": "execute_result"
    }
   ],
   "source": [
    "d={}\n",
    "d['Ajit','Mahesh']=20,30\n",
    "d"
   ]
  },
  {
   "cell_type": "markdown",
   "id": "bb223111-c209-4319-a116-cea486a3ecc4",
   "metadata": {},
   "source": [
    "**list to dict**"
   ]
  },
  {
   "cell_type": "code",
   "execution_count": null,
   "id": "4db4696a-279f-4093-978c-290d48d12447",
   "metadata": {},
   "outputs": [],
   "source": [
    "d={}\n",
    "d['Ajit']=20\n",
    "d['Mohit']=30\n",
    "d"
   ]
  },
  {
   "cell_type": "code",
   "execution_count": 21,
   "id": "4f555e09-28a4-492f-8e5a-e7ac86c03bb6",
   "metadata": {},
   "outputs": [
    {
     "data": {
      "text/plain": [
       "{'Vighnesh': 20, 'Mohit': 25, 'Nagesh': 30}"
      ]
     },
     "execution_count": 21,
     "metadata": {},
     "output_type": "execute_result"
    }
   ],
   "source": [
    "names=['Vighnesh','Mohit','Nagesh']\n",
    "age=[20,25,30]\n",
    "d={}\n",
    "for i,j in zip(names,age):\n",
    "    d[i]=j\n",
    "d"
   ]
  },
  {
   "cell_type": "markdown",
   "id": "930b99b3-02ed-4faf-8ec9-91c08a70dc36",
   "metadata": {},
   "source": [
    "**sting to list**"
   ]
  },
  {
   "cell_type": "code",
   "execution_count": 22,
   "id": "0137ae97-8aa1-48e1-8b41-a005caccb936",
   "metadata": {},
   "outputs": [
    {
     "data": {
      "text/plain": [
       "['hello', 'hai', 'how', 'are', 'you']"
      ]
     },
     "execution_count": 22,
     "metadata": {},
     "output_type": "execute_result"
    }
   ],
   "source": [
    "s='hello hai how are you'\n",
    "s.split()"
   ]
  },
  {
   "cell_type": "code",
   "execution_count": 24,
   "id": "ce822b0e-2439-4dbb-8dce-91264675436e",
   "metadata": {},
   "outputs": [
    {
     "data": {
      "text/plain": [
       "['hello', 'hai', 'hai', 'how', 'how', 'are', 'you']"
      ]
     },
     "execution_count": 24,
     "metadata": {},
     "output_type": "execute_result"
    }
   ],
   "source": [
    "s='hello hai hai how how are you'\n",
    "s.split()"
   ]
  },
  {
   "cell_type": "markdown",
   "id": "f2582c6b-7a1a-40cc-8cd9-f9672da6904f",
   "metadata": {},
   "source": [
    "**word frequency program**"
   ]
  },
  {
   "cell_type": "code",
   "execution_count": 25,
   "id": "a8ff7c2a-1fdb-4e66-997e-64361eb8bedd",
   "metadata": {},
   "outputs": [
    {
     "name": "stdout",
     "output_type": "stream",
     "text": [
      "1\n"
     ]
    }
   ],
   "source": [
    "s='hello hai hai how how are you'\n",
    "# output : {'hello':1, 'hai':2, 'how':3, 'are':1, 'you':2}\n",
    "print(s.count('hello'))"
   ]
  },
  {
   "cell_type": "code",
   "execution_count": 29,
   "id": "2a04a93b-e174-4cf9-8aa6-854f2999181d",
   "metadata": {},
   "outputs": [
    {
     "name": "stdout",
     "output_type": "stream",
     "text": [
      "1\n",
      "2\n",
      "2\n",
      "2\n",
      "2\n",
      "1\n",
      "1\n"
     ]
    },
    {
     "data": {
      "text/plain": [
       "{'hello': 1, 'hai': 2, 'how': 2, 'are': 1, 'you': 1}"
      ]
     },
     "execution_count": 29,
     "metadata": {},
     "output_type": "execute_result"
    }
   ],
   "source": [
    "s='hello hai hai how how are you'\n",
    "d={}\n",
    "word_list=s.split()\n",
    "for word in word_list:\n",
    "    print(s.count(word))\n",
    "    d[word]=s.count(word)\n",
    "d"
   ]
  },
  {
   "cell_type": "code",
   "execution_count": null,
   "id": "c08fd35f-1b53-418f-a404-b636251b439c",
   "metadata": {},
   "outputs": [],
   "source": [
    "string=\"\"\"Data science is an interdisciplinary academic field that uses statistics, scientific computing,\n",
    "        scientific methods, processes, scientific visualization, algorithms and systems to extract or \n",
    "        extrapolate knowledge and insights from potentially noisy, structured, or unstructured data. \"\"\"\n",
    "# task-1 : in the above sentence you need to remove a, an ,is, the\n",
    "#task-2 : data first letter askcii value 68\n",
    "# task3 : science first letter Ascii value:97\n",
    "{'Data':68, 'Science':115}"
   ]
  },
  {
   "cell_type": "markdown",
   "id": "1aaf483d-8b91-411e-9cd4-b5e3da4f20e4",
   "metadata": {},
   "source": [
    "**mutable-immutable**\n",
    "\n",
    "- generally change the elements using index\n",
    "\n",
    "- But in dictionary there is no index\n",
    "\n",
    "- In dictionary we will change the value based on key only\n",
    "\n",
    "- instead of using the index, change the values using key\n",
    "\n",
    "- if it is change it is mutable\n",
    "\n",
    "- if it is not chage it is immutable\n",
    "- "
   ]
  },
  {
   "cell_type": "code",
   "execution_count": 30,
   "id": "88ed4f32-5a5e-4f6b-8f9b-994d83f30bc2",
   "metadata": {},
   "outputs": [
    {
     "data": {
      "text/plain": [
       "{'Manish': 25, 'Shubham': 20, 'Govind': 35}"
      ]
     },
     "execution_count": 30,
     "metadata": {},
     "output_type": "execute_result"
    }
   ],
   "source": [
    "d1={'Manish':25,'Shubham':20,'Govind':15}\n",
    "d1['Govind']=35\n",
    "d1"
   ]
  },
  {
   "cell_type": "code",
   "execution_count": 31,
   "id": "4f0562e8-ba32-47e1-8544-4e35bbb7f644",
   "metadata": {},
   "outputs": [
    {
     "data": {
      "text/plain": [
       "{'Manish': 25, 'Shubham': 20, 'Govind': 15, 'Ajit': 35}"
      ]
     },
     "execution_count": 31,
     "metadata": {},
     "output_type": "execute_result"
    }
   ],
   "source": [
    "d1={'Manish':25,'Shubham':20,'Govind':15}\n",
    "d1['Ajit']=35\n",
    "d1"
   ]
  },
  {
   "cell_type": "markdown",
   "id": "b71b2fc8-c185-421c-beb9-9d650602a827",
   "metadata": {},
   "source": [
    "- List adn Dictionary are mutable\n",
    "\n",
    "- tuple and strings are immutable\n",
    "\n",
    "- Difference between list and tuple"
   ]
  },
  {
   "cell_type": "code",
   "execution_count": 34,
   "id": "865e44ed-4de3-48e6-888e-9a24b00d1b3f",
   "metadata": {},
   "outputs": [
    {
     "data": {
      "text/plain": [
       "'Mango'"
      ]
     },
     "execution_count": 34,
     "metadata": {},
     "output_type": "execute_result"
    }
   ],
   "source": [
    "d={'Fruites':['Mango']}\n",
    "d['Fruites'][0]"
   ]
  },
  {
   "cell_type": "code",
   "execution_count": 35,
   "id": "65174c15-111a-47e5-897b-6d91639f683c",
   "metadata": {},
   "outputs": [
    {
     "data": {
      "text/plain": [
       "'Kashmir'"
      ]
     },
     "execution_count": 35,
     "metadata": {},
     "output_type": "execute_result"
    }
   ],
   "source": [
    "d={'Fruites':[{'Apple':['Kashmir']}]}\n",
    "d['Fruites'][0]['Apple'][0]"
   ]
  },
  {
   "cell_type": "code",
   "execution_count": null,
   "id": "6c5baf5a-d7eb-41dd-919a-74bfb1a15e52",
   "metadata": {},
   "outputs": [],
   "source": [
    "d={'Fruites':[{'Apple':['Kashmir':['India']}]}"
   ]
  },
  {
   "cell_type": "code",
   "execution_count": 36,
   "id": "3952edac-70ff-4c37-9fa6-36ed651a8768",
   "metadata": {},
   "outputs": [
    {
     "data": {
      "text/plain": [
       "'India'"
      ]
     },
     "execution_count": 36,
     "metadata": {},
     "output_type": "execute_result"
    }
   ],
   "source": [
    "d={'Fruites':[{'Apple':{'Kashmir':['India']}}]}\n",
    "d['Fruites'][0]['Apple']['Kashmir'][0]"
   ]
  },
  {
   "cell_type": "code",
   "execution_count": 45,
   "id": "a55a2c33-535f-4d83-85fa-db49879ceeaf",
   "metadata": {},
   "outputs": [
    {
     "data": {
      "text/plain": [
       "{'Sambhaji'}"
      ]
     },
     "execution_count": 45,
     "metadata": {},
     "output_type": "execute_result"
    }
   ],
   "source": [
    "d={'Fruites':{'Benganapalli':{'Mango':{'Nagpur':{'Shivaji':{'Sambhaji'}}}}}}\n",
    "d['Fruites']['Benganapalli']['Mango']['Nagpur']['Shivaji']"
   ]
  },
  {
   "cell_type": "code",
   "execution_count": 1,
   "id": "5957aa28-ab68-4191-921b-28ebde09fc91",
   "metadata": {},
   "outputs": [
    {
     "data": {
      "text/plain": [
       "([100, 90, 300], ['Ramesh', 'Ram', 'Geeta'])"
      ]
     },
     "execution_count": 1,
     "metadata": {},
     "output_type": "execute_result"
    }
   ],
   "source": [
    "dict2={100:'Ramesh',90:'Ram',300:'Geeta'}\n",
    "keys=[]\n",
    "values=[]\n",
    "for i in dict2:\n",
    "    keys.append(i)\n",
    "    values.append(dict2[i])\n",
    "keys,values"
   ]
  },
  {
   "cell_type": "code",
   "execution_count": 4,
   "id": "e8920720-d29c-495b-81b6-b2d1f5f2e084",
   "metadata": {},
   "outputs": [
    {
     "data": {
      "text/plain": [
       "[100, 90, 300]"
      ]
     },
     "execution_count": 4,
     "metadata": {},
     "output_type": "execute_result"
    }
   ],
   "source": [
    "keys"
   ]
  },
  {
   "cell_type": "markdown",
   "id": "4de36c11-01cd-4177-a731-ff42f4f92874",
   "metadata": {},
   "source": [
    "- Without iteration separating keys and values of dictionary\n",
    "\n",
    "- use of .keys() and .values()"
   ]
  },
  {
   "cell_type": "code",
   "execution_count": 5,
   "id": "147a7032-e5dd-4122-b4f4-40db88f57c42",
   "metadata": {},
   "outputs": [
    {
     "data": {
      "text/plain": [
       "dict_keys([100, 90, 300])"
      ]
     },
     "execution_count": 5,
     "metadata": {},
     "output_type": "execute_result"
    }
   ],
   "source": [
    "d={100:'Ramesh',90:'Ram',300:'Geeta'}\n",
    "d.keys()"
   ]
  },
  {
   "cell_type": "code",
   "execution_count": 6,
   "id": "a6064609-5144-443d-bf9e-b0c72604e89b",
   "metadata": {},
   "outputs": [
    {
     "data": {
      "text/plain": [
       "dict_keys([100, 90, 300])"
      ]
     },
     "execution_count": 6,
     "metadata": {},
     "output_type": "execute_result"
    }
   ],
   "source": [
    "d={100:'Ramesh',90:'Ram',300:'Geeta'}\n",
    "d.keys()"
   ]
  },
  {
   "cell_type": "code",
   "execution_count": 7,
   "id": "0ee46f4b-da69-44b7-af44-52a775f60880",
   "metadata": {},
   "outputs": [
    {
     "data": {
      "text/plain": [
       "([100, 90, 300], ['Ramesh', 'Ram', 'Geeta'])"
      ]
     },
     "execution_count": 7,
     "metadata": {},
     "output_type": "execute_result"
    }
   ],
   "source": [
    "list(d.keys()),list(d.values())"
   ]
  },
  {
   "cell_type": "code",
   "execution_count": null,
   "id": "077b9e6f-2186-4729-8e27-e97b786ee69b",
   "metadata": {},
   "outputs": [],
   "source": [
    "# .keys and .values methods will give list output it gives dict_keys or values\n",
    "# type cast the dict to list"
   ]
  },
  {
   "cell_type": "code",
   "execution_count": 9,
   "id": "19f11b6a-df66-4395-bcd9-67e04e6b7392",
   "metadata": {},
   "outputs": [
    {
     "data": {
      "text/plain": [
       "list[dict_values(['Ramesh', 'Ram', 'Geeta'])]"
      ]
     },
     "execution_count": 9,
     "metadata": {},
     "output_type": "execute_result"
    }
   ],
   "source": [
    "d={100:'Ramesh',90:'Ram',300:'Geeta'}\n",
    "list[d.values()]"
   ]
  },
  {
   "cell_type": "code",
   "execution_count": 10,
   "id": "8d13e51f-9cc4-48b5-b690-433ee925471d",
   "metadata": {},
   "outputs": [
    {
     "data": {
      "text/plain": [
       "types.GenericAlias"
      ]
     },
     "execution_count": 10,
     "metadata": {},
     "output_type": "execute_result"
    }
   ],
   "source": [
    "type(list[d.values()])"
   ]
  },
  {
   "cell_type": "markdown",
   "id": "334ce6cc-3841-433b-ad6c-605312fa62fe",
   "metadata": {},
   "source": [
    "**Method-1**"
   ]
  },
  {
   "cell_type": "code",
   "execution_count": 11,
   "id": "747ba890-fd57-4f10-bc67-7a692a107b8a",
   "metadata": {},
   "outputs": [
    {
     "data": {
      "text/plain": [
       "([100, 90, 300], ['Ramesh', 'Ram', 'Geeta'])"
      ]
     },
     "execution_count": 11,
     "metadata": {},
     "output_type": "execute_result"
    }
   ],
   "source": [
    "dict2={100:'Ramesh',90:'Ram',300:'Geeta'}\n",
    "keys=[]\n",
    "values=[]\n",
    "for i in dict2:\n",
    "    keys.append(i)\n",
    "    values.append(dict2[i])\n",
    "keys,values"
   ]
  },
  {
   "cell_type": "markdown",
   "id": "ac66d694-4b0b-4ad5-8b71-64e2ffee86b4",
   "metadata": {},
   "source": [
    "\n",
    "**Method-2**"
   ]
  },
  {
   "cell_type": "code",
   "execution_count": 14,
   "id": "d6592205-0b3c-4ba5-af6b-cce36445e8cf",
   "metadata": {},
   "outputs": [
    {
     "data": {
      "text/plain": [
       "(dict_keys([100, 90, 300]), dict_values(['Ramesh', 'Ram', 'Geeta']))"
      ]
     },
     "execution_count": 14,
     "metadata": {},
     "output_type": "execute_result"
    }
   ],
   "source": [
    "d={100:'Ramesh',90:'Ram',300:'Geeta'}\n",
    "d.keys(),d.values()"
   ]
  },
  {
   "cell_type": "markdown",
   "id": "05ed2675-9487-42e0-91ae-70f80fe63d9e",
   "metadata": {},
   "source": [
    "**items**"
   ]
  },
  {
   "cell_type": "code",
   "execution_count": 15,
   "id": "597e6271-b1e6-4961-9f67-2406a18b10b7",
   "metadata": {},
   "outputs": [
    {
     "name": "stdout",
     "output_type": "stream",
     "text": [
      "(100, 'Ramesh')\n",
      "(90, 'Ram')\n",
      "(300, 'Geeta')\n"
     ]
    }
   ],
   "source": [
    "keys,values=[],[]\n",
    "d={100:'Ramesh',90:'Ram',300:'Geeta'}\n",
    "for i in d.items():\n",
    "    print(i)"
   ]
  },
  {
   "cell_type": "code",
   "execution_count": 16,
   "id": "cc5a2378-2045-4b72-9152-9960a629ec60",
   "metadata": {},
   "outputs": [
    {
     "data": {
      "text/plain": [
       "([100, 90, 300], ['Ramesh', 'Ram', 'Geeta'])"
      ]
     },
     "execution_count": 16,
     "metadata": {},
     "output_type": "execute_result"
    }
   ],
   "source": [
    "keys,values=[],[]\n",
    "d={100:'Ramesh',90:'Ram',300:'Geeta'}\n",
    "for i,j in d.items():\n",
    "    keys.append(i)\n",
    "    values.append(j)\n",
    "keys,values"
   ]
  },
  {
   "cell_type": "code",
   "execution_count": null,
   "id": "e245367e-694f-44d1-a6fb-57f5092ad7bc",
   "metadata": {},
   "outputs": [],
   "source": [
    "dir()"
   ]
  }
 ],
 "metadata": {
  "kernelspec": {
   "display_name": "Python 3 (ipykernel)",
   "language": "python",
   "name": "python3"
  },
  "language_info": {
   "codemirror_mode": {
    "name": "ipython",
    "version": 3
   },
   "file_extension": ".py",
   "mimetype": "text/x-python",
   "name": "python",
   "nbconvert_exporter": "python",
   "pygments_lexer": "ipython3",
   "version": "3.11.7"
  }
 },
 "nbformat": 4,
 "nbformat_minor": 5
}
