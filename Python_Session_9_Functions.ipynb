{
 "cells": [
  {
   "cell_type": "markdown",
   "id": "54fa82fc-b3b0-4e1e-b4cf-aa0dda98d28f",
   "metadata": {},
   "source": [
    "**Functions**\n",
    "\n",
    "- A Block of code which we can use many times"
   ]
  },
  {
   "cell_type": "code",
   "execution_count": 1,
   "id": "cb08288c-acf6-4471-9ee9-8e65468929b4",
   "metadata": {},
   "outputs": [
    {
     "name": "stdout",
     "output_type": "stream",
     "text": [
      "30\n"
     ]
    }
   ],
   "source": [
    "num1=10\n",
    "num2=20\n",
    "add=num1+num2\n",
    "print(add)"
   ]
  },
  {
   "cell_type": "code",
   "execution_count": null,
   "id": "b6731fa3-552a-4134-83c7-e73f772fca89",
   "metadata": {},
   "outputs": [],
   "source": []
  },
  {
   "cell_type": "code",
   "execution_count": null,
   "id": "b7886409-072d-4660-bb66-36f3c45abefd",
   "metadata": {},
   "outputs": [],
   "source": [
    "def <function_name>():\n",
    "    codelines"
   ]
  },
  {
   "cell_type": "markdown",
   "id": "10d1bb93-da5e-4570-9026-9fd21dec2d49",
   "metadata": {},
   "source": [
    "**Function without arguments**"
   ]
  },
  {
   "cell_type": "code",
   "execution_count": 6,
   "id": "9a6f6d25-73ae-4795-8482-8fac7a070ce8",
   "metadata": {},
   "outputs": [],
   "source": [
    "def addition():\n",
    "    num1=10\n",
    "    print(\"num1 is:\", num1)\n",
    "    num2=20\n",
    "    print(\"num2 is:\", num2)\n",
    "    add=num1+num2\n",
    "    print(f\"the addition of {num1} and {num2} is {add}\")"
   ]
  },
  {
   "cell_type": "code",
   "execution_count": null,
   "id": "d15418aa-977d-449a-a992-db50be5c6aa9",
   "metadata": {},
   "outputs": [],
   "source": [
    "# function name : addition\n",
    "#in order to execute code lines \n",
    "# we need to call the function\n"
   ]
  },
  {
   "cell_type": "code",
   "execution_count": 5,
   "id": "2074e6ab-e064-4f46-abc0-789283dfbf83",
   "metadata": {},
   "outputs": [
    {
     "name": "stdout",
     "output_type": "stream",
     "text": [
      "num1 is: 10\n",
      "num2 is: 20\n",
      "the addition of 10 and 20 is 30\n"
     ]
    }
   ],
   "source": [
    "addition()"
   ]
  },
  {
   "cell_type": "markdown",
   "id": "f0dcc059-2c8f-44ca-938e-6ce642e59b3b",
   "metadata": {},
   "source": [
    "**Note**\n",
    "\n",
    "- Function names can be anything\n",
    "\n",
    "- same rules applicable as variable rules\n",
    "\n",
    "- Whenever you creat the function make sure the indentation correctly\n",
    "\n",
    "- starting with keyword, ending with colon then code lines start with indentation\n",
    "\n",
    "- brackets(paranthesis) means functions\n",
    "\n",
    "- Never miss the brackets whenever you call the function\n",
    "\n",
    "- If you want to execute the code we need to call the function\n",
    "\n",
    "- while you are calling the function if you see function or bound method\n",
    "\n",
    "- which means you miss the bracktes"
   ]
  },
  {
   "cell_type": "code",
   "execution_count": 7,
   "id": "714ae9c4-ff7e-4f6c-8923-3cc0ea33463b",
   "metadata": {},
   "outputs": [],
   "source": [
    "def addition1():\n",
    "    num1=10\n",
    "    print(\"num1 is:\", num1)\n",
    "    num2=20\n",
    "    print(\"num2 is:\", num2)\n",
    "    add=num111+num2\n",
    "    print(f\"the addition of {num1} and {num2} is {add}\")"
   ]
  },
  {
   "cell_type": "code",
   "execution_count": 9,
   "id": "0f10dcd4-e5ff-42b3-9c19-aceb5c2afb4e",
   "metadata": {},
   "outputs": [
    {
     "name": "stdout",
     "output_type": "stream",
     "text": [
      "num1 is: 10\n",
      "num2 is: 20\n"
     ]
    },
    {
     "ename": "NameError",
     "evalue": "name 'num111' is not defined",
     "output_type": "error",
     "traceback": [
      "\u001b[1;31m---------------------------------------------------------------------------\u001b[0m",
      "\u001b[1;31mNameError\u001b[0m                                 Traceback (most recent call last)",
      "Cell \u001b[1;32mIn[9], line 1\u001b[0m\n\u001b[1;32m----> 1\u001b[0m addition1()\n",
      "Cell \u001b[1;32mIn[7], line 6\u001b[0m, in \u001b[0;36maddition1\u001b[1;34m()\u001b[0m\n\u001b[0;32m      4\u001b[0m num2\u001b[38;5;241m=\u001b[39m\u001b[38;5;241m20\u001b[39m\n\u001b[0;32m      5\u001b[0m \u001b[38;5;28mprint\u001b[39m(\u001b[38;5;124m\"\u001b[39m\u001b[38;5;124mnum2 is:\u001b[39m\u001b[38;5;124m\"\u001b[39m, num2)\n\u001b[1;32m----> 6\u001b[0m add\u001b[38;5;241m=\u001b[39mnum111\u001b[38;5;241m+\u001b[39mnum2\n\u001b[0;32m      7\u001b[0m \u001b[38;5;28mprint\u001b[39m(\u001b[38;5;124mf\u001b[39m\u001b[38;5;124m\"\u001b[39m\u001b[38;5;124mthe addition of \u001b[39m\u001b[38;5;132;01m{\u001b[39;00mnum1\u001b[38;5;132;01m}\u001b[39;00m\u001b[38;5;124m and \u001b[39m\u001b[38;5;132;01m{\u001b[39;00mnum2\u001b[38;5;132;01m}\u001b[39;00m\u001b[38;5;124m is \u001b[39m\u001b[38;5;132;01m{\u001b[39;00madd\u001b[38;5;132;01m}\u001b[39;00m\u001b[38;5;124m\"\u001b[39m)\n",
      "\u001b[1;31mNameError\u001b[0m: name 'num111' is not defined"
     ]
    }
   ],
   "source": [
    "addition1()"
   ]
  },
  {
   "cell_type": "markdown",
   "id": "af05a38f-fae3-41f9-8738-fc5af59d5cd7",
   "metadata": {},
   "source": [
    "**Whenever we define the function it does not throw any erro until unless we call the function**"
   ]
  },
  {
   "cell_type": "code",
   "execution_count": 12,
   "id": "ccbe6107-f291-43c5-9e5d-3b11af1a9bae",
   "metadata": {},
   "outputs": [],
   "source": [
    "def average():\n",
    "    num1=20\n",
    "    num2=30\n",
    "    avg=(num1+num2)/2\n",
    "    print(f\"The average of {num1} and {num2} is {avg}\")"
   ]
  },
  {
   "cell_type": "code",
   "execution_count": 13,
   "id": "ac103d58-3bf7-4cff-933c-084702ae3d5e",
   "metadata": {},
   "outputs": [
    {
     "name": "stdout",
     "output_type": "stream",
     "text": [
      "The average of 20 and 30 is 25.0\n"
     ]
    }
   ],
   "source": [
    "average()"
   ]
  },
  {
   "cell_type": "code",
   "execution_count": 14,
   "id": "b2362da9-a079-4484-8edf-049924a70ebe",
   "metadata": {},
   "outputs": [],
   "source": [
    "def bill_tip():\n",
    "    bill=eval(input(\"Enter the bill amount:\"))\n",
    "    tip_percentage=eval(input(\"Enter the tip percentage:\"))\n",
    "    tip=(tip_percentage/100)*bill\n",
    "    total=bill+tip\n",
    "    print(f\"total bill is {total}\")"
   ]
  },
  {
   "cell_type": "code",
   "execution_count": 15,
   "id": "0de0e943-5508-4133-a887-261c9338625e",
   "metadata": {},
   "outputs": [],
   "source": [
    "def area_rect():\n",
    "    b=eval(input(\"Enter the breath of rectangle\"))\n",
    "    l=eval(input(\"Enter the length of rectangle\"))\n",
    "    area=b*l\n",
    "    print(f\"Area of Rectangle is:{area}\")"
   ]
  },
  {
   "cell_type": "code",
   "execution_count": 17,
   "id": "aafe0c86-07ad-41d0-a1ce-6e124736a7a3",
   "metadata": {},
   "outputs": [],
   "source": [
    "def area_triangle():\n",
    "    b=eval(input(\"Enter the value of base of triangle:\"))\n",
    "    h=eval(input(\"Enter the value of height of triangle\"))\n",
    "    area=0.5*b*h\n",
    "    print(f\"Area of Triangle is : {area}\")"
   ]
  },
  {
   "cell_type": "code",
   "execution_count": 18,
   "id": "c1e32d97-1b4e-483f-a292-d1e4944bb6e5",
   "metadata": {},
   "outputs": [],
   "source": [
    "def avg_three_number():\n",
    "    a=eval(input(\"Enter the number1:\"))\n",
    "    b=eval(input(\"Enter the number2:\"))\n",
    "    c=eval(input(\"Enter the number3:\"))\n",
    "    average=(a+b+c)/3\n",
    "    print(f\"avarage of {a} , {b}  and {c} is {average}\")"
   ]
  },
  {
   "cell_type": "code",
   "execution_count": 21,
   "id": "922babe1-a2f5-49d2-bfb2-5b37bbb23127",
   "metadata": {},
   "outputs": [],
   "source": [
    "def area_circle():\n",
    "    r=eval(input(\"Enter the radius of circle:\"))\n",
    "    import math\n",
    "    pi=math.pi\n",
    "    area=pi*r*r\n",
    "    print(\"the area of cirle is :{}\".format(area))"
   ]
  },
  {
   "cell_type": "code",
   "execution_count": 22,
   "id": "f878670b-bb03-4c82-bb03-8582f7c1c2e5",
   "metadata": {},
   "outputs": [
    {
     "name": "stdin",
     "output_type": "stream",
     "text": [
      "Enter the radius of circle: 10\n"
     ]
    },
    {
     "name": "stdout",
     "output_type": "stream",
     "text": [
      "the area of cirle is :314.1592653589793\n"
     ]
    }
   ],
   "source": [
    "area_circle()"
   ]
  },
  {
   "cell_type": "code",
   "execution_count": 25,
   "id": "60116f8d-d15b-4f60-9881-242cffd05fc6",
   "metadata": {},
   "outputs": [],
   "source": [
    "def even_odd():\n",
    "    num=eval(input(\"Enter Number:\"))\n",
    "    if num%2==0:\n",
    "        print(f\"The {num} is even\")\n",
    "    else:\n",
    "        print(f\"The {num} is odd\")"
   ]
  },
  {
   "cell_type": "code",
   "execution_count": 26,
   "id": "59bd5539-3b57-44c8-a9d0-27fb9b2a3465",
   "metadata": {},
   "outputs": [],
   "source": [
    "def distance_charge():\n",
    "    distance=eval(input(\"Enter the distance in km:\"))\n",
    "    cutoff=25\n",
    "    if distance>=25:\n",
    "        print(\"Good news your charge is applicable for only remaining of 25\")\n",
    "        chargeble_distance=distance-cutoff\n",
    "        charge=eval(input(\"Enter the charge in rupees:\"))\n",
    "        total_cost=charge*distance\n",
    "        print(f\"The total cost is {total_cost}\")\n",
    "    else:\n",
    "        print(\"Free ride\")"
   ]
  },
  {
   "cell_type": "markdown",
   "id": "ed7e65d5-9cde-4839-a755-f79e2812675d",
   "metadata": {},
   "source": [
    "- While we are defining functions if nothing mentioned means \n",
    "\n",
    "- It is called as Function without argument"
   ]
  },
  {
   "cell_type": "markdown",
   "id": "de0cb98f-400b-4fd4-a739-7b90478778e5",
   "metadata": {},
   "source": [
    "**Functions with arguments**\n",
    "\n",
    "- First look at how many arguments or variables are there\n",
    "\n",
    "- In that how many input variables are there\n",
    "\n",
    "- how many output variables are there\n",
    "\n",
    "- Input variables means user can defined\n",
    "\n",
    "- output variable means python gives the output\n",
    "\n",
    "- we can use only input variables as arguments inside the function\n",
    "\n"
   ]
  },
  {
   "cell_type": "code",
   "execution_count": 28,
   "id": "8c66f4c9-585a-4015-a65d-5daab3f06c7c",
   "metadata": {},
   "outputs": [],
   "source": [
    "def addition1():\n",
    "    num1=10\n",
    "    print(\"num1 is:\", num1)\n",
    "    num2=20\n",
    "    print(\"num2 is:\", num2)\n",
    "    add=num1+num2\n",
    "    print(f\"the addition of {num1} and {num2} is {add}\")\n"
   ]
  },
  {
   "cell_type": "code",
   "execution_count": 29,
   "id": "f2ba45cd-c9c8-463e-80cf-c2740a362d93",
   "metadata": {},
   "outputs": [
    {
     "name": "stdout",
     "output_type": "stream",
     "text": [
      "the addition of 10 and 20 is 30\n"
     ]
    }
   ],
   "source": [
    "def addition2(num1,num2):\n",
    "    add=num1+num2\n",
    "    print(f\"the addition of {num1} and {num2} is {add}\")\n",
    "\n",
    "addition2(10,20)\n"
   ]
  },
  {
   "cell_type": "code",
   "execution_count": 31,
   "id": "893a7e85-68d0-4347-aeea-acbdb3569026",
   "metadata": {},
   "outputs": [
    {
     "name": "stdout",
     "output_type": "stream",
     "text": [
      "avarage of 10 , 20  and 30 is 20.0\n"
     ]
    }
   ],
   "source": [
    "def avg_three_number(num1,num2,num3):\n",
    "    average=(num1+num2+num3)/3\n",
    "    print(f\"avarage of {num1} , {num2}  and {num3} is {average}\")\n",
    "avg_three_number(10,20,30)"
   ]
  },
  {
   "cell_type": "code",
   "execution_count": 32,
   "id": "db14cd0a-c035-496b-b1d2-bd5ec2e7e660",
   "metadata": {},
   "outputs": [
    {
     "name": "stdout",
     "output_type": "stream",
     "text": [
      "Area of Triangle is : 225.0\n"
     ]
    }
   ],
   "source": [
    "def area_triangle(base,height):\n",
    "    area=0.5*base*height\n",
    "    print(f\"Area of Triangle is : {area}\")\n",
    "area_triangle(15,30)"
   ]
  },
  {
   "cell_type": "code",
   "execution_count": 3,
   "id": "f7187128-0ece-4d5a-9a66-e4f114607eff",
   "metadata": {},
   "outputs": [
    {
     "name": "stdout",
     "output_type": "stream",
     "text": [
      "num1: 10\n",
      "num2: 20\n",
      "num3: 50\n",
      "avarage of 10 , 20  and 50 is 26.666666666666668\n"
     ]
    }
   ],
   "source": [
    "def avg_three_number(num1,num2,num3=50):\n",
    "    print(\"num1:\",num1)\n",
    "    print(\"num2:\",num2)\n",
    "    print(\"num3:\",num3)\n",
    "    average=(num1+num2+num3)/3\n",
    "    print(f\"avarage of {num1} , {num2}  and {num3} is {average}\")\n",
    "avg_three_number(10,20)\n",
    "\n",
    "# num1 and num2 are positional arguments\n",
    "# num3 is default argument"
   ]
  },
  {
   "cell_type": "code",
   "execution_count": 6,
   "id": "6963fe81-4240-4db0-9656-713d0d1bc170",
   "metadata": {},
   "outputs": [
    {
     "ename": "SyntaxError",
     "evalue": "non-default argument follows default argument (186962283.py, line 1)",
     "output_type": "error",
     "traceback": [
      "\u001b[1;36m  Cell \u001b[1;32mIn[6], line 1\u001b[1;36m\u001b[0m\n\u001b[1;33m    def avg_three_number(num1,num2=40,num3):\u001b[0m\n\u001b[1;37m                                      ^\u001b[0m\n\u001b[1;31mSyntaxError\u001b[0m\u001b[1;31m:\u001b[0m non-default argument follows default argument\n"
     ]
    }
   ],
   "source": [
    "def avg_three_number(num1,num2=40,num3):\n",
    "    print(\"num1:\",num1)\n",
    "    print(\"num2:\",num2)\n",
    "    print(\"num3:\",num3)\n",
    "    average=(num1+num2+num3)/3\n",
    "    print(f\"avarage of {num1} , {num2}  and {num3} is {average}\")\n",
    "avg_three_number(10,50)"
   ]
  },
  {
   "cell_type": "code",
   "execution_count": 7,
   "id": "a48ac4f7-c43e-4fe3-b8cc-61898498e169",
   "metadata": {},
   "outputs": [
    {
     "name": "stdout",
     "output_type": "stream",
     "text": [
      "num1: 10\n",
      "num2: 40\n",
      "num3: 50\n",
      "avarage of 10 , 40  and 50 is 33.333333333333336\n"
     ]
    }
   ],
   "source": [
    "def avg_three_number(num1,num3,num2=40):\n",
    "    print(\"num1:\",num1)\n",
    "    print(\"num2:\",num2)\n",
    "    print(\"num3:\",num3)\n",
    "    average=(num1+num2+num3)/3\n",
    "    print(f\"avarage of {num1} , {num2}  and {num3} is {average}\")\n",
    "avg_three_number(10,50)"
   ]
  },
  {
   "cell_type": "markdown",
   "id": "925b4ea0-4b78-4f23-8a87-e6dfd3d7d5fe",
   "metadata": {},
   "source": [
    "**Note**\n",
    "\n",
    "- Defaulty arguments always should be at last"
   ]
  },
  {
   "cell_type": "markdown",
   "id": "7384a952-75fb-46ee-b48a-2aa4e0d8f0eb",
   "metadata": {},
   "source": [
    "avg_three_number(num1,num2,num3=40) #Works\n",
    "avg_three_number(num1,num2=40,num3) #Fail\n",
    "avg_three_number(num1=100,num2,num3) #Fail\n",
    "avg_three_number(num1,num2=40,num3=50) #Works\n",
    "avg_three_number(num1=50,num2=40,num3) #Fail\n",
    "avg_three_number(num1=80,num2=40,num3=50) #Works"
   ]
  },
  {
   "cell_type": "code",
   "execution_count": 10,
   "id": "960a1ed7-6ef0-4582-bd21-9d98502a53ba",
   "metadata": {},
   "outputs": [
    {
     "name": "stdout",
     "output_type": "stream",
     "text": [
      "1500\n"
     ]
    }
   ],
   "source": [
    "#case 1\n",
    "def addition(n1,n2=600):\n",
    "    add=n1+n2\n",
    "    print(add)\n",
    "addition(500,1000)"
   ]
  },
  {
   "cell_type": "code",
   "execution_count": null,
   "id": "b794e912-ca51-4a20-a944-285e659d2e5a",
   "metadata": {},
   "outputs": [],
   "source": [
    "#case 2\n",
    "def addition(n1,n2=600):\n",
    "    add=n1+n2\n",
    "    print(add)\n",
    "addition(500,1000)\n",
    "\n",
    "# First we are defining function\n",
    "# while define the function we given n2=600\n",
    "# now we are calling the function,\n",
    "# While we are calling n2=1000\n",
    "# so value will be overwrite\n",
    "# Python always takes the latest value\n"
   ]
  },
  {
   "cell_type": "code",
   "execution_count": 11,
   "id": "3c18d444-33a7-42b5-a90a-166fcaf1d7fe",
   "metadata": {},
   "outputs": [
    {
     "name": "stdout",
     "output_type": "stream",
     "text": [
      "2500\n"
     ]
    }
   ],
   "source": [
    "def addition(n1,n2=600):\n",
    "    n2=2000\n",
    "    add=n1+n2\n",
    "    print(add)\n",
    "addition(500,1000)\n",
    "#a)1100 b)1500 c)2500 d)error\n",
    "#step1- Define the function n2=600\n",
    "#step2- call the function n2=1000\n",
    "#step3- Running the function n2=2000\n"
   ]
  },
  {
   "cell_type": "code",
   "execution_count": 12,
   "id": "d19fca7f-8ae2-4883-8faf-398d1f624324",
   "metadata": {},
   "outputs": [
    {
     "name": "stdout",
     "output_type": "stream",
     "text": [
      "2500\n"
     ]
    }
   ],
   "source": [
    "#case-4\n",
    "def addition(n1,n2=600):\n",
    "    n2=2000\n",
    "    add=n1+n2\n",
    "    print(add)\n",
    "    n2=3000 # addition is done , its \n",
    "addition(500,1000)\n"
   ]
  },
  {
   "cell_type": "markdown",
   "id": "8dbbe3c9-aa1b-4754-b168-7076ca5d8bc9",
   "metadata": {},
   "source": [
    "**Local variable and Global variable**\n",
    "\n",
    "- Local variable means : the variables inside the function call\n",
    "\n",
    "- Global variables means : The variables outside the function call\n",
    "\n",
    "- Once you define the variables outside means, you can use those variables anywhere\n",
    "\n",
    "- You can use global variables inside function also\n",
    "\n",
    "- But you can not use local variables outside the function\n",
    "\n"
   ]
  },
  {
   "cell_type": "code",
   "execution_count": 17,
   "id": "14d070ae-b0d4-44de-b095-ff2018faebe2",
   "metadata": {},
   "outputs": [
    {
     "name": "stdout",
     "output_type": "stream",
     "text": [
      "200\n"
     ]
    }
   ],
   "source": [
    "def multiplication():\n",
    "    a=10\n",
    "    b=20\n",
    "    mul=a*b\n",
    "    print(mul)\n",
    "multiplication()\n",
    "# a, b, and mul are local variables\n",
    "# these values we can not use outside the function"
   ]
  },
  {
   "cell_type": "code",
   "execution_count": 15,
   "id": "f0ee9a3c-4f35-4326-b547-725b33115933",
   "metadata": {},
   "outputs": [
    {
     "ename": "NameError",
     "evalue": "name 'a' is not defined",
     "output_type": "error",
     "traceback": [
      "\u001b[1;31m---------------------------------------------------------------------------\u001b[0m",
      "\u001b[1;31mNameError\u001b[0m                                 Traceback (most recent call last)",
      "Cell \u001b[1;32mIn[15], line 1\u001b[0m\n\u001b[1;32m----> 1\u001b[0m a\n",
      "\u001b[1;31mNameError\u001b[0m: name 'a' is not defined"
     ]
    }
   ],
   "source": [
    "a"
   ]
  },
  {
   "cell_type": "code",
   "execution_count": 18,
   "id": "3e9309be-e816-4ba4-8a75-ed7213d9370d",
   "metadata": {},
   "outputs": [
    {
     "name": "stdout",
     "output_type": "stream",
     "text": [
      "200\n"
     ]
    }
   ],
   "source": [
    "a1=10\n",
    "b1=20\n",
    "def multiplication1():\n",
    "    mul=a1*b1\n",
    "    print(mul)\n",
    "multiplication1()"
   ]
  },
  {
   "cell_type": "code",
   "execution_count": 19,
   "id": "abdfdf0c-6cb5-4818-9f7f-d2c82e39d5b8",
   "metadata": {},
   "outputs": [
    {
     "data": {
      "text/plain": [
       "10"
      ]
     },
     "execution_count": 19,
     "metadata": {},
     "output_type": "execute_result"
    }
   ],
   "source": [
    "a1"
   ]
  },
  {
   "cell_type": "code",
   "execution_count": 20,
   "id": "56c6063a-e4a1-445a-8207-d478b84feee3",
   "metadata": {},
   "outputs": [
    {
     "ename": "NameError",
     "evalue": "name 'mul' is not defined",
     "output_type": "error",
     "traceback": [
      "\u001b[1;31m---------------------------------------------------------------------------\u001b[0m",
      "\u001b[1;31mNameError\u001b[0m                                 Traceback (most recent call last)",
      "Cell \u001b[1;32mIn[20], line 1\u001b[0m\n\u001b[1;32m----> 1\u001b[0m mul\n",
      "\u001b[1;31mNameError\u001b[0m: name 'mul' is not defined"
     ]
    }
   ],
   "source": [
    "mul"
   ]
  },
  {
   "cell_type": "code",
   "execution_count": 21,
   "id": "8f05fb4e-4496-4901-9914-99ee6d18d999",
   "metadata": {},
   "outputs": [
    {
     "name": "stdout",
     "output_type": "stream",
     "text": [
      "1200\n"
     ]
    }
   ],
   "source": [
    "#case 5\n",
    "a1=100\n",
    "b1=200\n",
    "def add11(a1=1000):\n",
    "    add1=a1+b1\n",
    "    print(add1)\n",
    "add11()\n",
    "\n",
    "#a1=100 ===> a1=1000====> 1000+200\n",
    "# step 1= Global variable intialization a1=100\n",
    "# 2- Define the function a1=1000\n",
    "# 3- call the function a1=1000\n",
    "# 4- Running the function a1=1000"
   ]
  },
  {
   "cell_type": "code",
   "execution_count": 22,
   "id": "e2765ed0-7f3c-4595-a5a3-97d9ff013d81",
   "metadata": {},
   "outputs": [
    {
     "ename": "TypeError",
     "evalue": "add11() got an unexpected keyword argument 'b1'",
     "output_type": "error",
     "traceback": [
      "\u001b[1;31m---------------------------------------------------------------------------\u001b[0m",
      "\u001b[1;31mTypeError\u001b[0m                                 Traceback (most recent call last)",
      "Cell \u001b[1;32mIn[22], line 7\u001b[0m\n\u001b[0;32m      5\u001b[0m     add1\u001b[38;5;241m=\u001b[39ma1\u001b[38;5;241m+\u001b[39mb1\n\u001b[0;32m      6\u001b[0m     \u001b[38;5;28mprint\u001b[39m(add1)\n\u001b[1;32m----> 7\u001b[0m add11(a1\u001b[38;5;241m=\u001b[39m\u001b[38;5;241m2000\u001b[39m,b1\u001b[38;5;241m=\u001b[39m\u001b[38;5;241m3000\u001b[39m)\n",
      "\u001b[1;31mTypeError\u001b[0m: add11() got an unexpected keyword argument 'b1'"
     ]
    }
   ],
   "source": [
    "#case6\n",
    "a1=100\n",
    "b1=200\n",
    "def add11(a1=1000):\n",
    "    add1=a1+b1\n",
    "    print(add1)\n",
    "add11(a1=2000,b1=3000)\n",
    "#While defining function only one argument is there\n",
    "# whille calling we are proving two arguments\n",
    "# it is not possible"
   ]
  },
  {
   "cell_type": "code",
   "execution_count": 23,
   "id": "ccf489c2-3dbd-429f-ba91-abc12ce11c83",
   "metadata": {},
   "outputs": [
    {
     "name": "stdout",
     "output_type": "stream",
     "text": [
      "2200\n"
     ]
    }
   ],
   "source": [
    "#case-7\n",
    "a1=100\n",
    "b1=200\n",
    "def add11(a1=1000):\n",
    "    add1=a1+b1\n",
    "    print(add1)\n",
    "add11(a1=2000)"
   ]
  },
  {
   "cell_type": "code",
   "execution_count": 24,
   "id": "e5f40ed9-1e37-435f-b25c-0cf73f8fbabd",
   "metadata": {},
   "outputs": [
    {
     "name": "stdout",
     "output_type": "stream",
     "text": [
      "5200\n"
     ]
    }
   ],
   "source": [
    "#case-8\n",
    "a1=100\n",
    "b1=200\n",
    "def add11(a1=1000):\n",
    "    a1=5000\n",
    "    add1=a1+b1\n",
    "    print(add1)\n",
    "add11(a1=2000)"
   ]
  },
  {
   "cell_type": "code",
   "execution_count": 25,
   "id": "f167d289-694f-41af-9825-22def19f9b90",
   "metadata": {},
   "outputs": [
    {
     "name": "stdout",
     "output_type": "stream",
     "text": [
      "2200\n"
     ]
    }
   ],
   "source": [
    "#case-9\n",
    "a1=100\n",
    "b1=200\n",
    "def add11(a1=1000):\n",
    "    add1=a1+b1\n",
    "    print(add1)\n",
    "a1=6000\n",
    "add11(a1=2000)"
   ]
  },
  {
   "cell_type": "code",
   "execution_count": 26,
   "id": "c2f04dde-f81f-4c8c-84ae-eb8d9ff6df6f",
   "metadata": {},
   "outputs": [
    {
     "data": {
      "text/plain": [
       "6000"
      ]
     },
     "execution_count": 26,
     "metadata": {},
     "output_type": "execute_result"
    }
   ],
   "source": [
    "a1"
   ]
  },
  {
   "cell_type": "code",
   "execution_count": 28,
   "id": "917f2c70-9930-4ee4-a709-6deab53f058b",
   "metadata": {},
   "outputs": [
    {
     "name": "stdout",
     "output_type": "stream",
     "text": [
      "6200\n"
     ]
    }
   ],
   "source": [
    "#case 10\n",
    "b1=200\n",
    "def add11():\n",
    "    add1=a1+b1\n",
    "    print(add1)\n",
    "a1=6000\n",
    "add11()\n",
    "# b1=200\n",
    "# define the function\n",
    "# a1=6000\n",
    "# running the function\n"
   ]
  },
  {
   "cell_type": "code",
   "execution_count": 1,
   "id": "3c3f1be5-4d39-41cb-a715-9e6c2d408bc6",
   "metadata": {},
   "outputs": [
    {
     "ename": "UnboundLocalError",
     "evalue": "cannot access local variable 's' where it is not associated with a value",
     "output_type": "error",
     "traceback": [
      "\u001b[1;31m---------------------------------------------------------------------------\u001b[0m",
      "\u001b[1;31mUnboundLocalError\u001b[0m                         Traceback (most recent call last)",
      "Cell \u001b[1;32mIn[1], line 5\u001b[0m\n\u001b[0;32m      3\u001b[0m     s\u001b[38;5;241m=\u001b[39ms\u001b[38;5;241m+\u001b[39m\u001b[38;5;241m10\u001b[39m\n\u001b[0;32m      4\u001b[0m     \u001b[38;5;28mprint\u001b[39m(s)\n\u001b[1;32m----> 5\u001b[0m add()\n",
      "Cell \u001b[1;32mIn[1], line 3\u001b[0m, in \u001b[0;36madd\u001b[1;34m()\u001b[0m\n\u001b[0;32m      2\u001b[0m \u001b[38;5;28;01mdef\u001b[39;00m \u001b[38;5;21madd\u001b[39m():\n\u001b[1;32m----> 3\u001b[0m     s\u001b[38;5;241m=\u001b[39ms\u001b[38;5;241m+\u001b[39m\u001b[38;5;241m10\u001b[39m\n\u001b[0;32m      4\u001b[0m     \u001b[38;5;28mprint\u001b[39m(s)\n",
      "\u001b[1;31mUnboundLocalError\u001b[0m: cannot access local variable 's' where it is not associated with a value"
     ]
    }
   ],
   "source": [
    "s=0 # Global variable\n",
    "def add():\n",
    "    s=s+10 # Local variable    print(s)\n",
    "add()"
   ]
  },
  {
   "cell_type": "code",
   "execution_count": 4,
   "id": "a79b1708-f62c-4294-be53-b651241b540d",
   "metadata": {},
   "outputs": [
    {
     "ename": "UnboundLocalError",
     "evalue": "cannot access local variable 's' where it is not associated with a value",
     "output_type": "error",
     "traceback": [
      "\u001b[1;31m---------------------------------------------------------------------------\u001b[0m",
      "\u001b[1;31mUnboundLocalError\u001b[0m                         Traceback (most recent call last)",
      "Cell \u001b[1;32mIn[4], line 6\u001b[0m\n\u001b[0;32m      4\u001b[0m     s\u001b[38;5;241m=\u001b[39mc \n\u001b[0;32m      5\u001b[0m     \u001b[38;5;28mprint\u001b[39m(s)\n\u001b[1;32m----> 6\u001b[0m add()\n",
      "Cell \u001b[1;32mIn[4], line 3\u001b[0m, in \u001b[0;36madd\u001b[1;34m()\u001b[0m\n\u001b[0;32m      2\u001b[0m \u001b[38;5;28;01mdef\u001b[39;00m \u001b[38;5;21madd\u001b[39m():\n\u001b[1;32m----> 3\u001b[0m     c\u001b[38;5;241m=\u001b[39ms\u001b[38;5;241m+\u001b[39m\u001b[38;5;241m10\u001b[39m \n\u001b[0;32m      4\u001b[0m     s\u001b[38;5;241m=\u001b[39mc \n\u001b[0;32m      5\u001b[0m     \u001b[38;5;28mprint\u001b[39m(s)\n",
      "\u001b[1;31mUnboundLocalError\u001b[0m: cannot access local variable 's' where it is not associated with a value"
     ]
    }
   ],
   "source": [
    "s=0 \n",
    "def add():\n",
    "    c=s+10 \n",
    "    s=c \n",
    "    print(s)\n",
    "add()"
   ]
  },
  {
   "cell_type": "code",
   "execution_count": 5,
   "id": "8c8cdcdd-ed03-48a9-adf3-6b4db452eee5",
   "metadata": {},
   "outputs": [
    {
     "name": "stdout",
     "output_type": "stream",
     "text": [
      "100 200 300\n"
     ]
    }
   ],
   "source": [
    "n1=10\n",
    "def addition():\n",
    "    n1=100\n",
    "    n2=200\n",
    "    n3=n1+n2\n",
    "    print(n1,n2,n3)\n",
    "addition()"
   ]
  },
  {
   "cell_type": "markdown",
   "id": "a3d53afb-7830-4dc7-a20b-bc3c9ac3d88f",
   "metadata": {},
   "source": [
    "**Note**\n",
    "\n",
    "- If you give same variable as global and local \n",
    "\n",
    "- Make sure that that variable should not use as value inside the function"
   ]
  },
  {
   "cell_type": "code",
   "execution_count": 10,
   "id": "cb52649c-08b1-4ff3-9684-e20ea853aeb3",
   "metadata": {},
   "outputs": [
    {
     "name": "stdout",
     "output_type": "stream",
     "text": [
      "10 210 220\n"
     ]
    }
   ],
   "source": [
    "n11=10\n",
    "def addition():\n",
    "    n22=200+n11\n",
    "    n33=n11+n22\n",
    "    print(n11,n22,n33)\n",
    "addition()\n",
    "# step-1 : n11=10\n",
    "# step-e : define the function\n",
    "# step-3 : call the function\n",
    "# step-4 : run the function\n",
    "#           "
   ]
  },
  {
   "cell_type": "code",
   "execution_count": 11,
   "id": "76d1d5e8-1848-4bf3-87ab-e7cf937cbbad",
   "metadata": {},
   "outputs": [
    {
     "ename": "UnboundLocalError",
     "evalue": "cannot access local variable 's' where it is not associated with a value",
     "output_type": "error",
     "traceback": [
      "\u001b[1;31m---------------------------------------------------------------------------\u001b[0m",
      "\u001b[1;31mUnboundLocalError\u001b[0m                         Traceback (most recent call last)",
      "Cell \u001b[1;32mIn[11], line 6\u001b[0m\n\u001b[0;32m      4\u001b[0m     s\u001b[38;5;241m=\u001b[39mc \n\u001b[0;32m      5\u001b[0m     \u001b[38;5;28mprint\u001b[39m(s)\n\u001b[1;32m----> 6\u001b[0m add()\n",
      "Cell \u001b[1;32mIn[11], line 3\u001b[0m, in \u001b[0;36madd\u001b[1;34m()\u001b[0m\n\u001b[0;32m      2\u001b[0m \u001b[38;5;28;01mdef\u001b[39;00m \u001b[38;5;21madd\u001b[39m():\n\u001b[1;32m----> 3\u001b[0m     c\u001b[38;5;241m=\u001b[39ms\u001b[38;5;241m+\u001b[39m\u001b[38;5;241m10\u001b[39m \n\u001b[0;32m      4\u001b[0m     s\u001b[38;5;241m=\u001b[39mc \n\u001b[0;32m      5\u001b[0m     \u001b[38;5;28mprint\u001b[39m(s)\n",
      "\u001b[1;31mUnboundLocalError\u001b[0m: cannot access local variable 's' where it is not associated with a value"
     ]
    }
   ],
   "source": [
    "s=0 \n",
    "def add():\n",
    "    c=s+10 \n",
    "    s=c \n",
    "    print(s)\n",
    "add()\n",
    "# step-1 : s=0 GV\n",
    "# step-e : define the function\n",
    "# step-3 : call the function\n",
    "# step-4 : run the function\n",
    "#          c is lv : c=s+10 , c=10\n",
    "#          We are creating new variable same like as global s \n",
    "# We are creating new variable with same name as global variable \n",
    "# by using global variable\n"
   ]
  },
  {
   "cell_type": "code",
   "execution_count": null,
   "id": "c070c7eb-6875-44b2-af24-3b3fbde0924f",
   "metadata": {},
   "outputs": [],
   "source": [
    "**global**\n",
    "\n",
    "- global keyword is used to take the local variable value outside the function\n",
    "\n",
    "- "
   ]
  },
  {
   "cell_type": "code",
   "execution_count": 12,
   "id": "b890f3c5-f82c-4251-a493-cc55bfacdd5e",
   "metadata": {},
   "outputs": [
    {
     "name": "stdout",
     "output_type": "stream",
     "text": [
      "hello\n",
      "value: 200\n"
     ]
    }
   ],
   "source": [
    "value=100\n",
    "def greet():\n",
    "    global value\n",
    "    value=200\n",
    "    print('hello')\n",
    "greet()\n",
    "print(\"value:\", value)"
   ]
  },
  {
   "cell_type": "code",
   "execution_count": 13,
   "id": "a58b8f83-e542-4396-8208-b9e569e982b9",
   "metadata": {},
   "outputs": [
    {
     "data": {
      "text/plain": [
       "200"
      ]
     },
     "execution_count": 13,
     "metadata": {},
     "output_type": "execute_result"
    }
   ],
   "source": [
    "value"
   ]
  },
  {
   "cell_type": "code",
   "execution_count": 14,
   "id": "d381e55f-d99e-4ca8-be98-95bdeca2b250",
   "metadata": {},
   "outputs": [
    {
     "name": "stdout",
     "output_type": "stream",
     "text": [
      "10 210 220\n"
     ]
    }
   ],
   "source": [
    "n11=10\n",
    "def addition():\n",
    "    n22=200+n11\n",
    "    global n33\n",
    "    n33=n11+n22\n",
    "    print(n11,n22,n33)\n",
    "addition()"
   ]
  },
  {
   "cell_type": "code",
   "execution_count": 15,
   "id": "ca565ef7-e7c6-4b1b-90cd-20d41c6fd401",
   "metadata": {},
   "outputs": [
    {
     "data": {
      "text/plain": [
       "220"
      ]
     },
     "execution_count": 15,
     "metadata": {},
     "output_type": "execute_result"
    }
   ],
   "source": [
    "n33"
   ]
  },
  {
   "cell_type": "code",
   "execution_count": 17,
   "id": "ada473c1-13a7-4483-8337-aaa0d3c503c8",
   "metadata": {},
   "outputs": [
    {
     "name": "stdout",
     "output_type": "stream",
     "text": [
      "10 210 220\n"
     ]
    }
   ],
   "source": [
    "n11=10\n",
    "def addition():\n",
    "    global n33,n22\n",
    "    n22=200+n11\n",
    "    n33=n11+n22\n",
    "    print(n11,n22,n33)\n",
    "addition()"
   ]
  },
  {
   "cell_type": "markdown",
   "id": "5198e969-394d-4a6c-9173-bb2ddd82ffb1",
   "metadata": {},
   "source": [
    "- Outside the function is called Global variables\n",
    "\n",
    "- Inside the function is local variable\n",
    "\n",
    "- Local variables can not use outside the function\n",
    "\n",
    "- if you want to use outside the function use global keyword"
   ]
  },
  {
   "cell_type": "code",
   "execution_count": 18,
   "id": "1598ab70-b9bf-4667-b529-e450cb59d202",
   "metadata": {},
   "outputs": [
    {
     "name": "stdin",
     "output_type": "stream",
     "text": [
      " 20\n",
      " 30\n"
     ]
    },
    {
     "name": "stdout",
     "output_type": "stream",
     "text": [
      "600\n"
     ]
    }
   ],
   "source": [
    "def mul(a,b):\n",
    "    print(a*b)\n",
    "mul(eval(input()),eval(input()))"
   ]
  },
  {
   "cell_type": "markdown",
   "id": "9c28566a-5c73-42bb-a519-3ca10e4d24af",
   "metadata": {},
   "source": [
    "**Return**"
   ]
  },
  {
   "cell_type": "markdown",
   "id": "c77bef2d-365b-497e-92fd-effc2f2924ed",
   "metadata": {},
   "source": [
    "- We can use the local variable or function outputs outside the function using return\n",
    "\n",
    "- print is different and \n",
    "\n",
    "- return is different\n",
    "\n",
    "- print is used to only to print the values , that value you can only see but you cant use\n",
    "\n",
    "- if you want to use outside we will use return (it is also possible by using global)\n",
    "\n"
   ]
  },
  {
   "cell_type": "code",
   "execution_count": 31,
   "id": "163c9901-7280-473d-a96e-e4e55a1ee359",
   "metadata": {},
   "outputs": [],
   "source": [
    "def average():\n",
    "    n1=10\n",
    "    n2=20\n",
    "    n3=30\n",
    "    avg=(n1+n2+n3)/3\n",
    "    return(avg,n3)  #instead of print - return\n",
    "avg,n3=average()\n",
    "\n",
    "# function is ready to return values to me\n",
    "# So i need to store \n",
    "# how many values we are returning\n",
    "# we will store each return values in different variable\n",
    "# because two values are different\n",
    "# If you use only variable to store: tuple value\n",
    "# Return always at last line of the function\n",
    "# Not in middle lines"
   ]
  },
  {
   "cell_type": "code",
   "execution_count": 33,
   "id": "80d81966-7c1d-4332-b644-b5a2ceb26720",
   "metadata": {},
   "outputs": [
    {
     "data": {
      "text/plain": [
       "20.0"
      ]
     },
     "execution_count": 33,
     "metadata": {},
     "output_type": "execute_result"
    }
   ],
   "source": [
    "avg"
   ]
  },
  {
   "cell_type": "code",
   "execution_count": 34,
   "id": "68abfd34-9087-4465-a562-14eb81761d31",
   "metadata": {},
   "outputs": [
    {
     "data": {
      "text/plain": [
       "30"
      ]
     },
     "execution_count": 34,
     "metadata": {},
     "output_type": "execute_result"
    }
   ],
   "source": [
    "n3"
   ]
  },
  {
   "cell_type": "code",
   "execution_count": 36,
   "id": "cab1e37f-ee9f-4d5a-ac00-fc4a9b82c34a",
   "metadata": {},
   "outputs": [],
   "source": [
    "def average():\n",
    "    n1=10\n",
    "    n2=20\n",
    "    n3=30\n",
    "    avg=(n1+n2+n3)/3\n",
    "    return(avg,n3,n1)  #instead of print - return\n",
    "out=average()"
   ]
  },
  {
   "cell_type": "code",
   "execution_count": 37,
   "id": "0d6ff6de-5a3d-4696-9fda-f8aa3a4d0d66",
   "metadata": {},
   "outputs": [
    {
     "data": {
      "text/plain": [
       "(20.0, 30, 10)"
      ]
     },
     "execution_count": 37,
     "metadata": {},
     "output_type": "execute_result"
    }
   ],
   "source": [
    "out"
   ]
  },
  {
   "cell_type": "code",
   "execution_count": null,
   "id": "02ec2c3d-b379-4775-818e-cdda7b5bbd47",
   "metadata": {},
   "outputs": [],
   "source": [
    "a1=100\n",
    "b1=200\n",
    "def add111():\n",
    "    add1=a1+b1\n",
    "# Name error will come\n",
    "#local variable and global variable both names both names are same\n",
    "#you are try to access local variable before assign"
   ]
  },
  {
   "cell_type": "code",
   "execution_count": 2,
   "id": "25db48b3-708e-421f-afce-c2fba41e5fb5",
   "metadata": {},
   "outputs": [
    {
     "name": "stdout",
     "output_type": "stream",
     "text": [
      "300\n"
     ]
    }
   ],
   "source": [
    "a1=100\n",
    "b1=200\n",
    "def add111():\n",
    "    add1=a1+b1\n",
    "    print(add1)\n",
    "add111()"
   ]
  },
  {
   "cell_type": "code",
   "execution_count": 3,
   "id": "d54fa597-0282-4f22-b91b-499a2b8d51fb",
   "metadata": {},
   "outputs": [
    {
     "name": "stdout",
     "output_type": "stream",
     "text": [
      "1000\n"
     ]
    }
   ],
   "source": [
    "a1=100\n",
    "b1=200\n",
    "def add111():\n",
    "    a1=300\n",
    "    b1=700\n",
    "    add1=a1+b1\n",
    "    print(add1)\n",
    "add111()"
   ]
  },
  {
   "cell_type": "code",
   "execution_count": 4,
   "id": "716b4814-da7f-4b60-8458-abc29ac808a4",
   "metadata": {},
   "outputs": [
    {
     "ename": "UnboundLocalError",
     "evalue": "cannot access local variable 'a1' where it is not associated with a value",
     "output_type": "error",
     "traceback": [
      "\u001b[1;31m---------------------------------------------------------------------------\u001b[0m",
      "\u001b[1;31mUnboundLocalError\u001b[0m                         Traceback (most recent call last)",
      "Cell \u001b[1;32mIn[4], line 8\u001b[0m\n\u001b[0;32m      6\u001b[0m     b1\u001b[38;5;241m=\u001b[39m\u001b[38;5;241m700\u001b[39m\n\u001b[0;32m      7\u001b[0m     \u001b[38;5;28mprint\u001b[39m(add1)\n\u001b[1;32m----> 8\u001b[0m add111()\n",
      "Cell \u001b[1;32mIn[4], line 4\u001b[0m, in \u001b[0;36madd111\u001b[1;34m()\u001b[0m\n\u001b[0;32m      3\u001b[0m \u001b[38;5;28;01mdef\u001b[39;00m \u001b[38;5;21madd111\u001b[39m():\n\u001b[1;32m----> 4\u001b[0m     add1\u001b[38;5;241m=\u001b[39ma1\u001b[38;5;241m+\u001b[39mb1\n\u001b[0;32m      5\u001b[0m     a1\u001b[38;5;241m=\u001b[39m\u001b[38;5;241m300\u001b[39m\n\u001b[0;32m      6\u001b[0m     b1\u001b[38;5;241m=\u001b[39m\u001b[38;5;241m700\u001b[39m\n",
      "\u001b[1;31mUnboundLocalError\u001b[0m: cannot access local variable 'a1' where it is not associated with a value"
     ]
    }
   ],
   "source": [
    "a1=100\n",
    "b1=200\n",
    "def add111():\n",
    "    add1=a1+b1\n",
    "    a1=300\n",
    "    b1=700\n",
    "    print(add1)\n",
    "add111()"
   ]
  },
  {
   "cell_type": "code",
   "execution_count": 5,
   "id": "d77e75fa-57bd-49cb-907e-b3ed4ab13519",
   "metadata": {},
   "outputs": [
    {
     "ename": "UnboundLocalError",
     "evalue": "cannot access local variable 'a1' where it is not associated with a value",
     "output_type": "error",
     "traceback": [
      "\u001b[1;31m---------------------------------------------------------------------------\u001b[0m",
      "\u001b[1;31mUnboundLocalError\u001b[0m                         Traceback (most recent call last)",
      "Cell \u001b[1;32mIn[5], line 6\u001b[0m\n\u001b[0;32m      4\u001b[0m     b1\u001b[38;5;241m=\u001b[39m\u001b[38;5;241m700\u001b[39m\n\u001b[0;32m      5\u001b[0m     \u001b[38;5;28mprint\u001b[39m(add1)\n\u001b[1;32m----> 6\u001b[0m add111()\n",
      "Cell \u001b[1;32mIn[5], line 2\u001b[0m, in \u001b[0;36madd111\u001b[1;34m()\u001b[0m\n\u001b[0;32m      1\u001b[0m \u001b[38;5;28;01mdef\u001b[39;00m \u001b[38;5;21madd111\u001b[39m():\n\u001b[1;32m----> 2\u001b[0m     add1\u001b[38;5;241m=\u001b[39ma1\u001b[38;5;241m+\u001b[39mb1\n\u001b[0;32m      3\u001b[0m     a1\u001b[38;5;241m=\u001b[39m\u001b[38;5;241m300\u001b[39m\n\u001b[0;32m      4\u001b[0m     b1\u001b[38;5;241m=\u001b[39m\u001b[38;5;241m700\u001b[39m\n",
      "\u001b[1;31mUnboundLocalError\u001b[0m: cannot access local variable 'a1' where it is not associated with a value"
     ]
    }
   ],
   "source": [
    "def add111():\n",
    "    add1=a1+b1\n",
    "    a1=300\n",
    "    b1=700\n",
    "    print(add1)\n",
    "add111()"
   ]
  },
  {
   "cell_type": "code",
   "execution_count": 6,
   "id": "d92074bf-dff9-4379-bc58-9ed7f5e27499",
   "metadata": {},
   "outputs": [
    {
     "ename": "NameError",
     "evalue": "name 'x' is not defined",
     "output_type": "error",
     "traceback": [
      "\u001b[1;31m---------------------------------------------------------------------------\u001b[0m",
      "\u001b[1;31mNameError\u001b[0m                                 Traceback (most recent call last)",
      "Cell \u001b[1;32mIn[6], line 1\u001b[0m\n\u001b[1;32m----> 1\u001b[0m add\u001b[38;5;241m=\u001b[39mx\u001b[38;5;241m+\u001b[39my\n\u001b[0;32m      2\u001b[0m x\u001b[38;5;241m=\u001b[39m\u001b[38;5;241m100\u001b[39m\n\u001b[0;32m      3\u001b[0m y\u001b[38;5;241m=\u001b[39m\u001b[38;5;241m200\u001b[39m\n",
      "\u001b[1;31mNameError\u001b[0m: name 'x' is not defined"
     ]
    }
   ],
   "source": [
    "add=x+y\n",
    "x=100\n",
    "y=200\n",
    "print(add)"
   ]
  },
  {
   "cell_type": "code",
   "execution_count": null,
   "id": "e58735a8-ff0c-45df-b8d0-b073c7a10624",
   "metadata": {},
   "outputs": [],
   "source": [
    "**NO error**\n",
    "\n",
    "  - Here no local variable same as global variable\n",
    "\n",
    "- we are intialising lv names same as gv but we are using lv after intialization\n",
    "\n",
    "    - "
   ]
  },
  {
   "cell_type": "markdown",
   "id": "1e2b1678-25ce-4bb9-82be-b58cfa284564",
   "metadata": {},
   "source": [
    "**Functions in Functions**"
   ]
  },
  {
   "cell_type": "code",
   "execution_count": 8,
   "id": "e4172993-6ec1-4696-8359-9a99035c8e27",
   "metadata": {},
   "outputs": [
    {
     "name": "stdout",
     "output_type": "stream",
     "text": [
      "hello good morning\n",
      "Good night!\n"
     ]
    }
   ],
   "source": [
    "def greet1():\n",
    "    print('hello good morning')\n",
    "\n",
    "def greet2():\n",
    "    print('Good night!')\n",
    "\n",
    "greet1()\n",
    "greet2()"
   ]
  },
  {
   "cell_type": "code",
   "execution_count": 9,
   "id": "3f1e6090-b56c-410f-bc75-039d120d8ccd",
   "metadata": {},
   "outputs": [
    {
     "name": "stdout",
     "output_type": "stream",
     "text": [
      "hello good morning\n"
     ]
    }
   ],
   "source": [
    "def greet1():\n",
    "    print('hello good morning')\n",
    "\n",
    "def greet2():\n",
    "    print('Good night!')\n",
    "\n",
    "greet1()\n",
    "# Hello gm\n",
    "# Good night"
   ]
  },
  {
   "cell_type": "code",
   "execution_count": null,
   "id": "815907fd-3ecf-4a14-8087-e28d06c543b9",
   "metadata": {},
   "outputs": [],
   "source": [
    "# Dont run: Infinite loop\n",
    "def greet2():\n",
    "    print('Good night!')\n",
    "    greet1()\n",
    "\n",
    "def greet1():\n",
    "    print('hello good morning')\n",
    "    greet2()\n",
    "\n",
    "\n",
    "\n",
    "greet1()\n",
    "\n",
    "# Hello gm\n",
    "# greet2 gn\n",
    "# greet1 hello gm\n",
    "# infinite loop"
   ]
  },
  {
   "cell_type": "markdown",
   "id": "4f60f55e-ae81-4986-876b-cc73a39dc9d1",
   "metadata": {},
   "source": [
    "- Functions without arguments\n",
    "\n",
    "- funtion wih arguments\n",
    "\n",
    "- Function default arguments\n",
    "\n",
    "- Global variable vs Local variable\n",
    "\n",
    "- Global keyword\n",
    "\n",
    "- Return statement\n",
    "\n",
    "- Function in function"
   ]
  },
  {
   "cell_type": "code",
   "execution_count": 10,
   "id": "1a76a880-f018-40c0-bb44-ef0f47d6662b",
   "metadata": {},
   "outputs": [],
   "source": [
    "def dist_charge():\n",
    "    distance=eval(input(\"Enter the distance in km:\"))\n",
    "    cutoff=eval(input(\"Enter the Cutoff distance in km:\"))\n",
    "    if distance>=cutoff:\n",
    "        print(\"Good news your charge is applicable for only remaining of 25\")\n",
    "        chargeble_distance=distance-cutoff\n",
    "        print(f\"Chargeble distance is {chargeble_distance}\")\n",
    "        charge=eval(input(\"Enter the charge in rupees:\"))\n",
    "        total_cost=charge*distance\n",
    "        print(f\"The total cost is {total_cost}\")\n",
    "    else:\n",
    "        print(\"Free ride\")"
   ]
  },
  {
   "cell_type": "code",
   "execution_count": 12,
   "id": "e4327ba9-f3a8-46c3-8d4a-2c5ebf80a06c",
   "metadata": {},
   "outputs": [
    {
     "name": "stdin",
     "output_type": "stream",
     "text": [
      "Enter the distance in km: 60\n",
      "Enter the Cutoff distance in km: 25\n"
     ]
    },
    {
     "name": "stdout",
     "output_type": "stream",
     "text": [
      "Good news your charge is applicable for only remaining of 25\n",
      "Chargeble distance is 35\n"
     ]
    },
    {
     "name": "stdin",
     "output_type": "stream",
     "text": [
      "Enter the charge in rupees: 10\n"
     ]
    },
    {
     "name": "stdout",
     "output_type": "stream",
     "text": [
      "The total cost is 600\n"
     ]
    }
   ],
   "source": [
    "dist_charge()"
   ]
  },
  {
   "cell_type": "code",
   "execution_count": 13,
   "id": "689eda7b-dbc1-494e-91a8-bebb7176156c",
   "metadata": {},
   "outputs": [],
   "source": [
    "def dist_charge(distance,cutoff,charge):\n",
    "    distance=eval(input(\"Enter the distance in km:\"))\n",
    "    cutoff=eval(input(\"Enter the Cutoff distance in km:\"))\n",
    "    if distance>=cutoff:\n",
    "        print(\"Good news your charge is applicable for only remaining of 25\")\n",
    "        chargeble_distance=distance-cutoff\n",
    "        print(f\"Chargeble distance is {chargeble_distance}\")\n",
    "        charge=eval(input(\"Enter the charge in rupees:\"))\n",
    "        total_cost=charge*distance\n",
    "        print(f\"The total cost is {total_cost}\")\n",
    "    else:\n",
    "        print(\"Free ride\")"
   ]
  },
  {
   "cell_type": "code",
   "execution_count": 14,
   "id": "f936e419-09e2-408a-ba13-a172bdfdf4ce",
   "metadata": {},
   "outputs": [
    {
     "name": "stdin",
     "output_type": "stream",
     "text": [
      "Enter the distance in km: 15\n",
      "Enter the Cutoff distance in km: 13654\n"
     ]
    },
    {
     "name": "stdout",
     "output_type": "stream",
     "text": [
      "Free ride\n"
     ]
    }
   ],
   "source": [
    "dist_charge(80,25,10)"
   ]
  },
  {
   "cell_type": "code",
   "execution_count": null,
   "id": "37df700b-937e-4f58-9d1e-5379a70b1e8a",
   "metadata": {},
   "outputs": [],
   "source": [
    "def dist_charge1(distance,cutoff,charge):\n",
    "    if distance>=cutoff:\n",
    "        print(\"Good news your charge is applicable for only remaining of 25\")\n",
    "        chargeble_distance=distance-cutoff\n",
    "        print(f\"Chargeble distance is {chargeble_distance}\")\n",
    "        total_cost=charge*distance\n",
    "        print(f\"The total cost is {total_cost}\")\n",
    "    else:\n",
    "        print(\"Free ride\")\n",
    "        "
   ]
  },
  {
   "cell_type": "code",
   "execution_count": 15,
   "id": "0dd23bcb-1538-4a11-b662-588175585c22",
   "metadata": {},
   "outputs": [
    {
     "name": "stdin",
     "output_type": "stream",
     "text": [
      "Enter the distance in km: 3254\n",
      "Enter the Cutoff distance in km: 2142\n"
     ]
    },
    {
     "name": "stdout",
     "output_type": "stream",
     "text": [
      "Good news your charge is applicable for only remaining of 25\n",
      "Chargeble distance is 1112\n"
     ]
    },
    {
     "name": "stdin",
     "output_type": "stream",
     "text": [
      "Enter the charge in rupees: 2\n"
     ]
    },
    {
     "name": "stdout",
     "output_type": "stream",
     "text": [
      "The total cost is 6508\n"
     ]
    }
   ],
   "source": [
    "dist_charge(90,25,10)"
   ]
  },
  {
   "cell_type": "code",
   "execution_count": 16,
   "id": "eeeaee6e-c4d1-4af7-979e-a6dd09692319",
   "metadata": {},
   "outputs": [],
   "source": [
    "def dist_charge1(distance,cutoff,charge):\n",
    "    if distance>=cutoff:\n",
    "        print(\"Good news your charge is applicable for only remaining of 25\")\n",
    "        chargeble_distance=distance-cutoff\n",
    "        print(f\"Chargeble distance is {chargeble_distance}\")\n",
    "        total_cost=charge*distance\n",
    "        print(f\"The total cost is {total_cost}\")\n",
    "    else:\n",
    "        print(\"Free ride\")\n",
    "        "
   ]
  },
  {
   "cell_type": "code",
   "execution_count": 17,
   "id": "b09e2191-4931-44c0-8b26-6424d528be6e",
   "metadata": {},
   "outputs": [
    {
     "name": "stdout",
     "output_type": "stream",
     "text": [
      "Good news your charge is applicable for only remaining of 25\n",
      "Chargeble distance is 60\n",
      "The total cost is 320\n"
     ]
    }
   ],
   "source": [
    "dist_charge1(80,20,4)"
   ]
  },
  {
   "cell_type": "code",
   "execution_count": 18,
   "id": "7a324ab1-6257-44db-935c-1cfc6eb249c7",
   "metadata": {},
   "outputs": [],
   "source": [
    "def dist_charge2(distance,cutoff=25,charge=5):\n",
    "    if distance>=cutoff:\n",
    "        print(\"Good news your charge is applicable for only remaining of 25\")\n",
    "        chargeble_distance=distance-cutoff\n",
    "        print(f\"Chargeble distance is {chargeble_distance}\")\n",
    "        total_cost=charge*distance\n",
    "        print(f\"The total cost is {total_cost}\")\n",
    "    else:\n",
    "        print(\"Free ride\")"
   ]
  },
  {
   "cell_type": "code",
   "execution_count": 20,
   "id": "61665590-702d-4181-aa8b-d3776007ad57",
   "metadata": {},
   "outputs": [
    {
     "name": "stdout",
     "output_type": "stream",
     "text": [
      "Good news your charge is applicable for only remaining of 25\n",
      "Chargeble distance is 152\n",
      "The total cost is 885\n"
     ]
    }
   ],
   "source": [
    "dist_charge2(177)"
   ]
  },
  {
   "cell_type": "code",
   "execution_count": 24,
   "id": "dd4d9b05-9e97-454b-b225-0b5eebf91e46",
   "metadata": {},
   "outputs": [
    {
     "name": "stdin",
     "output_type": "stream",
     "text": [
      "Enter the distance in km: 80\n",
      "Enter the Cutoff distance in km: 20\n"
     ]
    },
    {
     "name": "stdout",
     "output_type": "stream",
     "text": [
      "Good news your charge is applicable for only remaining of 25\n",
      "Chargeble distance is 60\n",
      "The total cost is 320\n",
      "Ouside function cos is 320\n"
     ]
    }
   ],
   "source": [
    "charge=4\n",
    "distance=eval(input(\"Enter the distance in km:\"))\n",
    "cutoff=eval(input(\"Enter the Cutoff distance in km:\"))\n",
    "def dist_charge3():\n",
    "    if distance>=cutoff:\n",
    "        print(\"Good news your charge is applicable for only remaining of 25\")\n",
    "        chargeble_distance=distance-cutoff\n",
    "        print(f\"Chargeble distance is {chargeble_distance}\")\n",
    "        global total_cost\n",
    "        total_cost=charge*distance\n",
    "        print(f\"The total cost is {total_cost}\")\n",
    "    else:\n",
    "        print(\"Free ride\")\n",
    "    \n",
    "dist_charge3()\n",
    "print(\"Ouside function cos is\", total_cost)"
   ]
  },
  {
   "cell_type": "code",
   "execution_count": 25,
   "id": "04c14987-5cc9-49a2-a926-e744b297ecb1",
   "metadata": {},
   "outputs": [
    {
     "data": {
      "text/plain": [
       "320"
      ]
     },
     "execution_count": 25,
     "metadata": {},
     "output_type": "execute_result"
    }
   ],
   "source": [
    "total_cost"
   ]
  },
  {
   "cell_type": "code",
   "execution_count": 26,
   "id": "0f0bdc7d-f091-4793-9e1b-33735bf2b782",
   "metadata": {},
   "outputs": [
    {
     "name": "stdin",
     "output_type": "stream",
     "text": [
      "Enter the distance in km: 80\n",
      "Enter the Cutoff distance in km: 20\n"
     ]
    },
    {
     "name": "stdout",
     "output_type": "stream",
     "text": [
      "Good news your charge is applicable for only remaining of 25\n",
      "Chargeble distance is 60\n",
      "The total cost is 320\n"
     ]
    }
   ],
   "source": [
    "charge=4\n",
    "distance=eval(input(\"Enter the distance in km:\"))\n",
    "cutoff=eval(input(\"Enter the Cutoff distance in km:\"))\n",
    "def dist_charge5():\n",
    "    if distance>=cutoff:\n",
    "        print(\"Good news your charge is applicable for only remaining of 25\")\n",
    "        chargeble_distance=distance-cutoff\n",
    "        print(f\"Chargeble distance is {chargeble_distance}\")\n",
    "        global total_cost\n",
    "        total_cost=charge*distance\n",
    "        print(f\"The total cost is {total_cost}\")\n",
    "        return(total_cost)\n",
    "    else:\n",
    "        total_cost=100\n",
    "                \n",
    "toatl_cost=dist_charge5()  "
   ]
  },
  {
   "cell_type": "code",
   "execution_count": 30,
   "id": "d8aaf1c4-2d79-44cc-9f94-12d820947393",
   "metadata": {},
   "outputs": [
    {
     "name": "stdin",
     "output_type": "stream",
     "text": [
      "Enter the distance in km: 15\n",
      "Enter the Cutoff distance in km: 20\n"
     ]
    },
    {
     "name": "stdout",
     "output_type": "stream",
     "text": [
      "Outside function cost is 100\n"
     ]
    }
   ],
   "source": [
    "charge=4\n",
    "distance=eval(input(\"Enter the distance in km:\"))\n",
    "cutoff=eval(input(\"Enter the Cutoff distance in km:\"))\n",
    "def dist_charge5():\n",
    "    if distance>=cutoff:\n",
    "        print(\"Good news your charge is applicable for only remaining of 25\")\n",
    "        chargeble_distance=distance-cutoff\n",
    "        print(f\"Chargeble distance is {chargeble_distance}\")\n",
    "        global total_cost\n",
    "        total_cost=charge*distance\n",
    "        print(f\"The total cost is {total_cost}\")\n",
    "        \n",
    "    else:\n",
    "        total_cost=100\n",
    "        return(total_cost)\n",
    "                \n",
    "toatl_cost=dist_charge5()\n",
    "print(\"Outside function cost is\", total_cost)"
   ]
  },
  {
   "cell_type": "code",
   "execution_count": 29,
   "id": "3340bafa-474e-4402-ad6f-f1a3ddb23a4e",
   "metadata": {},
   "outputs": [
    {
     "data": {
      "text/plain": [
       "100"
      ]
     },
     "execution_count": 29,
     "metadata": {},
     "output_type": "execute_result"
    }
   ],
   "source": [
    "dist_charge5()"
   ]
  },
  {
   "cell_type": "code",
   "execution_count": null,
   "id": "0fa5e93a-ce10-4570-b403-e154950a7ac6",
   "metadata": {},
   "outputs": [],
   "source": [
    "# First create 4 individual function\n",
    "# fun1: add\n",
    "# fun2: sub\n",
    "#fun3 : mul\n",
    "# fun4 : div\n",
    "\n",
    "def add(a,b):\n",
    "    print(a+b)\n",
    "\n",
    "# Create a main function name : calculator\n",
    "# inside main function\n",
    "# Print some statements\n",
    "# option1 : addition\n",
    "#option 2 : sub, opt3: mul opt:div\n",
    "# option= eval(input('1-4))\n",
    "# a value\n",
    "# b value\n",
    "# if option==1:\n",
    "#   add function\n",
    "# elif option==2:\n",
    "\n"
   ]
  },
  {
   "cell_type": "code",
   "execution_count": 51,
   "id": "946ca93e-7e8b-470d-8d56-11a7e65f0e70",
   "metadata": {},
   "outputs": [],
   "source": [
    "def add(a,b):\n",
    "    add=a+b\n",
    "    print(add)"
   ]
  },
  {
   "cell_type": "code",
   "execution_count": 52,
   "id": "80711b07-6e4a-49e2-8770-a9a8f2d3f3ba",
   "metadata": {},
   "outputs": [],
   "source": [
    "def sub(a,b):\n",
    "    sub=a-b\n",
    "    print(sub)"
   ]
  },
  {
   "cell_type": "code",
   "execution_count": 53,
   "id": "907decb5-d925-496e-aaff-87585cf508b9",
   "metadata": {},
   "outputs": [],
   "source": [
    "def mul(a,b):\n",
    "    mul=a*b\n",
    "    print(mul)"
   ]
  },
  {
   "cell_type": "code",
   "execution_count": 54,
   "id": "5c9ac504-0a5e-4060-86fd-de610c0c2aa5",
   "metadata": {},
   "outputs": [],
   "source": [
    "def div(a,b):\n",
    "    div=a/b\n",
    "    print(div)"
   ]
  },
  {
   "cell_type": "code",
   "execution_count": 37,
   "id": "87856a23-c736-4e12-98f3-c8f835223d45",
   "metadata": {},
   "outputs": [
    {
     "name": "stdout",
     "output_type": "stream",
     "text": [
      "35\n"
     ]
    }
   ],
   "source": [
    "add(15,20)"
   ]
  },
  {
   "cell_type": "code",
   "execution_count": 60,
   "id": "fc556412-156e-4ef8-b5d8-88b11c3fc7bb",
   "metadata": {},
   "outputs": [],
   "source": [
    "def calculator():\n",
    "    print(\"Enter your choice\\nOption 1=Addition\\nOption 2=Subtraction\\nOption 3=Multiplication\\nOption 4=Division \")\n",
    "    option=eval(input(\"Enter your option:\"))\n",
    "    a=eval(input(\"Enter the number1:\"))\n",
    "    b=eval(input(\"Enter the number1:\"))\n",
    "    if option==1:\n",
    "        add(a,b)\n",
    "    elif option==2:\n",
    "        sub(a,b)\n",
    "    elif option==3:\n",
    "        mul(a,b)\n",
    "    elif option==4:\n",
    "        div(a,b)\n",
    "        "
   ]
  },
  {
   "cell_type": "code",
   "execution_count": 61,
   "id": "4265108f-86d5-452a-955f-be0da654e928",
   "metadata": {},
   "outputs": [
    {
     "name": "stdout",
     "output_type": "stream",
     "text": [
      "Enter your choice\n",
      "Option 1=Addition\n",
      "Option 2=Subtraction\n",
      "Option 3=Multiplication\n",
      "Option 4=Division \n"
     ]
    },
    {
     "name": "stdin",
     "output_type": "stream",
     "text": [
      "Enter your option: 4\n",
      "Enter the number1: 15\n",
      "Enter the number1: 26\n"
     ]
    },
    {
     "name": "stdout",
     "output_type": "stream",
     "text": [
      "0.5769230769230769\n"
     ]
    }
   ],
   "source": [
    "calculator()"
   ]
  },
  {
   "cell_type": "code",
   "execution_count": null,
   "id": "3a8ca01c-e25b-420a-aaa5-ded6929dd5e1",
   "metadata": {},
   "outputs": [],
   "source": []
  }
 ],
 "metadata": {
  "kernelspec": {
   "display_name": "Python 3 (ipykernel)",
   "language": "python",
   "name": "python3"
  },
  "language_info": {
   "codemirror_mode": {
    "name": "ipython",
    "version": 3
   },
   "file_extension": ".py",
   "mimetype": "text/x-python",
   "name": "python",
   "nbconvert_exporter": "python",
   "pygments_lexer": "ipython3",
   "version": "3.11.7"
  }
 },
 "nbformat": 4,
 "nbformat_minor": 5
}
