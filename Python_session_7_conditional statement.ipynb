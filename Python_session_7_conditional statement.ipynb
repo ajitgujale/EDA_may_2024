{
 "cells": [
  {
   "cell_type": "markdown",
   "id": "22f52666-6163-4c88-9674-ddee4b5d8b11",
   "metadata": {},
   "source": [
    "**Conditional Statements**"
   ]
  },
  {
   "cell_type": "markdown",
   "id": "b944c89c-c110-451e-b5ec-1c12a797debb",
   "metadata": {},
   "source": [
    "- Conditional statements means we want to run the code lines based on condition\n",
    "\n",
    "- if rain comes I will not go to school other wise I will go to movie\n",
    "\n",
    "if\n",
    "\n",
    "elif\n",
    "\n",
    "else\n"
   ]
  },
  {
   "cell_type": "markdown",
   "id": "fef27f6c-31b8-4717-b421-d6f8807acb11",
   "metadata": {},
   "source": [
    "**if**"
   ]
  },
  {
   "cell_type": "code",
   "execution_count": null,
   "id": "17a14a55-f73e-4588-a35f-1cd0ed03dc7c",
   "metadata": {},
   "outputs": [],
   "source": [
    "#syntax\n",
    "\n",
    "if <condition>:\n",
    "    <codeline1>\n",
    "    <codeline2>    # green colour should have : then indentation gap"
   ]
  },
  {
   "cell_type": "markdown",
   "id": "c66be86f-1992-4a1a-a1cd-da587a0ba752",
   "metadata": {},
   "source": [
    "- Whenever any line start with **keyword(green)** at the end of the line we have colon:\n",
    "\n",
    "- whenever we have a **colon(:)** the next line start with some **gap**\n",
    "\n",
    "- This gap is called as **indentation**\n",
    "\n",
    "- How many lines we are maintaining gap(indentation) that all are under one area"
   ]
  },
  {
   "cell_type": "markdown",
   "id": "018c24bb-0eb2-464e-a15d-a164543a668d",
   "metadata": {},
   "source": [
    "- if is a conditional statement, it will check the condition is True or False\n",
    "\n",
    "- if that condition will true then only it will enter inside the if area\n",
    "\n",
    "- and execute those code lines\n",
    "\n",
    "- if that condition will False, then it will not enter inside the if area\n",
    "\n",
    "- and it will not execute those code lines    "
   ]
  },
  {
   "cell_type": "code",
   "execution_count": 3,
   "id": "a75ed5fc-a38d-4c01-95b2-40e436265db0",
   "metadata": {},
   "outputs": [
    {
     "data": {
      "text/plain": [
       "True"
      ]
     },
     "execution_count": 3,
     "metadata": {},
     "output_type": "execute_result"
    }
   ],
   "source": [
    "100>10"
   ]
  },
  {
   "cell_type": "code",
   "execution_count": 4,
   "id": "c4719acd-ee3e-4b16-8631-611e760d18f0",
   "metadata": {},
   "outputs": [
    {
     "name": "stdout",
     "output_type": "stream",
     "text": [
      "hello\n"
     ]
    }
   ],
   "source": [
    "if 100>10:                     #if True:\n",
    "    print(\"hello\")"
   ]
  },
  {
   "cell_type": "markdown",
   "id": "35c56396-d732-462c-91ce-a58d629b7fb9",
   "metadata": {},
   "source": [
    "**mistake1**\n",
    "\n",
    "- Indentation"
   ]
  },
  {
   "cell_type": "code",
   "execution_count": 5,
   "id": "b393b30e-7cb9-4ad0-9c11-d9a0b8886409",
   "metadata": {},
   "outputs": [
    {
     "ename": "IndentationError",
     "evalue": "expected an indented block after 'if' statement on line 1 (2468934615.py, line 2)",
     "output_type": "error",
     "traceback": [
      "\u001b[1;36m  Cell \u001b[1;32mIn[5], line 2\u001b[1;36m\u001b[0m\n\u001b[1;33m    print(\"hello\")\u001b[0m\n\u001b[1;37m    ^\u001b[0m\n\u001b[1;31mIndentationError\u001b[0m\u001b[1;31m:\u001b[0m expected an indented block after 'if' statement on line 1\n"
     ]
    }
   ],
   "source": [
    "if 100>10:                     #if True:\n",
    "print(\"hello\")"
   ]
  },
  {
   "cell_type": "code",
   "execution_count": 8,
   "id": "ff508abf-77c3-402a-a2e9-3cb48d9be251",
   "metadata": {},
   "outputs": [
    {
     "name": "stdout",
     "output_type": "stream",
     "text": [
      "hello\n"
     ]
    }
   ],
   "source": [
    "if 100>10:                     #if True:\n",
    "    print(\"hello\")    #enter tab for indentation or (four spaces) press four times spacebar"
   ]
  },
  {
   "cell_type": "markdown",
   "id": "bde0bb0f-8a06-4d24-b7c4-5c09061299b1",
   "metadata": {},
   "source": [
    "**mistake2** \n",
    "\n",
    "- Missing colon"
   ]
  },
  {
   "cell_type": "code",
   "execution_count": 9,
   "id": "91757c8f-2634-426e-83c7-1cdce4e2a41e",
   "metadata": {},
   "outputs": [
    {
     "ename": "SyntaxError",
     "evalue": "expected ':' (4173596931.py, line 1)",
     "output_type": "error",
     "traceback": [
      "\u001b[1;36m  Cell \u001b[1;32mIn[9], line 1\u001b[1;36m\u001b[0m\n\u001b[1;33m    if 100>10\u001b[0m\n\u001b[1;37m             ^\u001b[0m\n\u001b[1;31mSyntaxError\u001b[0m\u001b[1;31m:\u001b[0m expected ':'\n"
     ]
    }
   ],
   "source": [
    "if 100>10                        #colon missing\n",
    "    print(\"hello\")"
   ]
  },
  {
   "cell_type": "markdown",
   "id": "b4dd705e-466b-40c3-a05e-cacc1f25c0c8",
   "metadata": {},
   "source": [
    "**mistake-3**\n",
    "if required condition"
   ]
  },
  {
   "cell_type": "code",
   "execution_count": 12,
   "id": "0ac06dbb-632b-483e-b3f4-903a4fe65ca4",
   "metadata": {},
   "outputs": [
    {
     "ename": "SyntaxError",
     "evalue": "invalid syntax (2426690687.py, line 1)",
     "output_type": "error",
     "traceback": [
      "\u001b[1;36m  Cell \u001b[1;32mIn[12], line 1\u001b[1;36m\u001b[0m\n\u001b[1;33m    if:\u001b[0m\n\u001b[1;37m      ^\u001b[0m\n\u001b[1;31mSyntaxError\u001b[0m\u001b[1;31m:\u001b[0m invalid syntax\n"
     ]
    }
   ],
   "source": [
    "if:\n",
    "  print(\"hello\")"
   ]
  },
  {
   "cell_type": "markdown",
   "id": "42cfd455-4cee-4a0f-8f4e-49267c1a8870",
   "metadata": {},
   "source": [
    "**mistake-4** \n",
    "\n",
    "- Missing brackets"
   ]
  },
  {
   "cell_type": "code",
   "execution_count": 14,
   "id": "9ca7f1a2-f051-4b6d-ad02-5c335dbfd842",
   "metadata": {},
   "outputs": [
    {
     "ename": "SyntaxError",
     "evalue": "Missing parentheses in call to 'print'. Did you mean print(...)? (1733306354.py, line 2)",
     "output_type": "error",
     "traceback": [
      "\u001b[1;36m  Cell \u001b[1;32mIn[14], line 2\u001b[1;36m\u001b[0m\n\u001b[1;33m    print \"hello\"\u001b[0m\n\u001b[1;37m    ^\u001b[0m\n\u001b[1;31mSyntaxError\u001b[0m\u001b[1;31m:\u001b[0m Missing parentheses in call to 'print'. Did you mean print(...)?\n"
     ]
    }
   ],
   "source": [
    "if 10>1:\n",
    "    print \"hello\""
   ]
  },
  {
   "cell_type": "markdown",
   "id": "5db0fdf7-553e-4269-9884-c33f2418483e",
   "metadata": {},
   "source": [
    "**mistake-5**\n",
    "\n",
    "- Missing space afte if\n",
    "\n",
    "- spelling mistake\n"
   ]
  },
  {
   "cell_type": "code",
   "execution_count": 18,
   "id": "1ccb1a55-c894-44a8-9eb5-bfd274d11ad4",
   "metadata": {},
   "outputs": [
    {
     "name": "stdout",
     "output_type": "stream",
     "text": [
      "10\n",
      "20\n",
      "Hello\n",
      "Good morning\n",
      "okay\n",
      "bye\n"
     ]
    }
   ],
   "source": [
    "print(10)\n",
    "print(20)\n",
    "if 51>11:\n",
    "    print(\"Hello\")          # if area\n",
    "    print(\"Good morning\")   # if area\n",
    "print(\"okay\")               # normal area\n",
    "print(\"bye\")                # normal area"
   ]
  },
  {
   "cell_type": "code",
   "execution_count": 20,
   "id": "2f66c7a0-813a-4596-911a-fd7fc956b300",
   "metadata": {},
   "outputs": [
    {
     "name": "stdout",
     "output_type": "stream",
     "text": [
      "10\n",
      "20\n",
      "Hello\n",
      "Good morning\n",
      "okay\n",
      "bye\n"
     ]
    }
   ],
   "source": [
    "print(10)\n",
    "print(20)\n",
    "if True:\n",
    "    print(\"Hello\")          # if area\n",
    "    print(\"Good morning\")   # if area\n",
    "print(\"okay\")               # normal area\n",
    "print(\"bye\")"
   ]
  },
  {
   "cell_type": "code",
   "execution_count": 21,
   "id": "92a674a0-2a3e-4d5d-87c1-a98f8e2d77e3",
   "metadata": {},
   "outputs": [
    {
     "name": "stdout",
     "output_type": "stream",
     "text": [
      "10\n",
      "20\n",
      "okay\n",
      "bye\n"
     ]
    }
   ],
   "source": [
    "print(10)\n",
    "print(20)\n",
    "if False:\n",
    "    print(\"Hello\")          # if area\n",
    "    print(\"Good morning\")   # if area\n",
    "print(\"okay\")               # normal area\n",
    "print(\"bye\")  "
   ]
  },
  {
   "cell_type": "code",
   "execution_count": 22,
   "id": "27c44eb9-d53e-409b-b09f-ef4fa58b1892",
   "metadata": {},
   "outputs": [
    {
     "name": "stdout",
     "output_type": "stream",
     "text": [
      "10\n",
      "20\n",
      "Hello\n",
      "Good morning\n",
      "okay\n",
      "bye\n"
     ]
    }
   ],
   "source": [
    "print(10)\n",
    "print(20)\n",
    "if 100:\n",
    "    print(\"Hello\")          # if area\n",
    "    print(\"Good morning\")   # if area\n",
    "print(\"okay\")               # normal area\n",
    "print(\"bye\")  "
   ]
  },
  {
   "cell_type": "code",
   "execution_count": 23,
   "id": "013a0b4e-8404-41b7-9022-282d602ffa47",
   "metadata": {},
   "outputs": [
    {
     "name": "stdout",
     "output_type": "stream",
     "text": [
      "10\n",
      "20\n",
      "okay\n",
      "bye\n"
     ]
    }
   ],
   "source": [
    "print(10)\n",
    "print(20)\n",
    "if 0:\n",
    "    print(\"Hello\")          # if area\n",
    "    print(\"Good morning\")   # if area\n",
    "print(\"okay\")               # normal area\n",
    "print(\"bye\")  "
   ]
  },
  {
   "cell_type": "code",
   "execution_count": 25,
   "id": "a2081b09-3443-4355-9510-2d615e6e5b1d",
   "metadata": {},
   "outputs": [
    {
     "name": "stdout",
     "output_type": "stream",
     "text": [
      "10\n",
      "20\n",
      "Hello\n",
      "Good morning\n",
      "okay\n",
      "bye\n"
     ]
    }
   ],
   "source": [
    "print(10)\n",
    "print(20)\n",
    "if \"hello\":\n",
    "    print(\"Hello\")          # if area\n",
    "    print(\"Good morning\")   # if area\n",
    "print(\"okay\")               # normal area\n",
    "print(\"bye\")  "
   ]
  },
  {
   "cell_type": "code",
   "execution_count": 26,
   "id": "35ae2b90-9916-46d7-8695-4c9fbdc5d818",
   "metadata": {},
   "outputs": [
    {
     "name": "stdout",
     "output_type": "stream",
     "text": [
      "10\n",
      "20\n",
      "okay\n",
      "bye\n"
     ]
    }
   ],
   "source": [
    "print(10)\n",
    "print(20)\n",
    "if '':\n",
    "    print(\"Hello\")          # if area\n",
    "    print(\"Good morning\")   # if area\n",
    "print(\"okay\")               # normal area\n",
    "print(\"bye\")  "
   ]
  },
  {
   "cell_type": "markdown",
   "id": "6b5918c6-4abf-41bb-8ae2-b98a80436cdb",
   "metadata": {},
   "source": [
    "**if-else**"
   ]
  },
  {
   "cell_type": "markdown",
   "id": "1489a25b-bc05-4756-ab66-e6ba862d5bd9",
   "metadata": {},
   "source": [
    "- if required condition\n",
    "\n",
    "- if that condition is True then it will execute if block\n",
    "\n",
    "- otherwise it can directly go to else block\n",
    "\n",
    "- so else block does not required any condition\n"
   ]
  },
  {
   "cell_type": "code",
   "execution_count": null,
   "id": "0cf7f82d-7526-4d00-96ea-9fdeb6557bfe",
   "metadata": {},
   "outputs": [],
   "source": [
    "#syntax\n",
    "if <condition>:\n",
    "    <code line>\n",
    "else:\n",
    "    <code line>"
   ]
  },
  {
   "cell_type": "code",
   "execution_count": 27,
   "id": "fbcbc5c8-24e0-4457-be1f-eefcd46c22fe",
   "metadata": {},
   "outputs": [
    {
     "name": "stdout",
     "output_type": "stream",
     "text": [
      "Its wrong\n"
     ]
    }
   ],
   "source": [
    "if 100>200:\n",
    "    print(\"Its right\")\n",
    "else:\n",
    "    print(\"Its wrong\")"
   ]
  },
  {
   "cell_type": "code",
   "execution_count": 28,
   "id": "9c2c44e6-3f82-4028-9162-763c5e8b4dbf",
   "metadata": {},
   "outputs": [
    {
     "name": "stdout",
     "output_type": "stream",
     "text": [
      "Hello\n",
      "Its wrong\n",
      "Bye\n"
     ]
    }
   ],
   "source": [
    "print(\"Hello\")\n",
    "if 100>200:\n",
    "    print(\"Its right\")\n",
    "else:\n",
    "    print(\"Its wrong\")\n",
    "print(\"Bye\")"
   ]
  },
  {
   "cell_type": "code",
   "execution_count": 29,
   "id": "d7c79672-b321-4415-815d-5ec222c6d7e1",
   "metadata": {},
   "outputs": [
    {
     "ename": "SyntaxError",
     "evalue": "invalid syntax (3985103400.py, line 5)",
     "output_type": "error",
     "traceback": [
      "\u001b[1;36m  Cell \u001b[1;32mIn[29], line 5\u001b[1;36m\u001b[0m\n\u001b[1;33m    else:\u001b[0m\n\u001b[1;37m    ^\u001b[0m\n\u001b[1;31mSyntaxError\u001b[0m\u001b[1;31m:\u001b[0m invalid syntax\n"
     ]
    }
   ],
   "source": [
    "print(\"Hello\")\n",
    "if 100<200:\n",
    "    print(\"Its right\")\n",
    "print(\"why are you in middle\")\n",
    "else:\n",
    "    print(\"Its wrong\")\n",
    "print(\"Bye\")"
   ]
  },
  {
   "cell_type": "code",
   "execution_count": 30,
   "id": "36d2d51d-6e05-4617-a708-e1bb6a017878",
   "metadata": {},
   "outputs": [
    {
     "name": "stdout",
     "output_type": "stream",
     "text": [
      "10\n",
      "0\n",
      "10\n",
      "0.0\n"
     ]
    },
    {
     "ename": "ZeroDivisionError",
     "evalue": "division by zero",
     "output_type": "error",
     "traceback": [
      "\u001b[1;31m---------------------------------------------------------------------------\u001b[0m",
      "\u001b[1;31mZeroDivisionError\u001b[0m                         Traceback (most recent call last)",
      "Cell \u001b[1;32mIn[30], line 10\u001b[0m\n\u001b[0;32m      8\u001b[0m d\u001b[38;5;241m=\u001b[39mb\u001b[38;5;241m/\u001b[39ma\n\u001b[0;32m      9\u001b[0m \u001b[38;5;28mprint\u001b[39m(d)\n\u001b[1;32m---> 10\u001b[0m e\u001b[38;5;241m=\u001b[39ma\u001b[38;5;241m/\u001b[39mb\n\u001b[0;32m     11\u001b[0m \u001b[38;5;28mprint\u001b[39m(e)\n",
      "\u001b[1;31mZeroDivisionError\u001b[0m: division by zero"
     ]
    }
   ],
   "source": [
    "if True:\n",
    "    a=10\n",
    "    b=0\n",
    "    print(a)\n",
    "    print(b)\n",
    "    c=a+b\n",
    "    print(c)\n",
    "    d=b/a\n",
    "    print(d)\n",
    "    e=a/b\n",
    "    print(e)"
   ]
  },
  {
   "cell_type": "code",
   "execution_count": 31,
   "id": "b063378e-6ddd-4dac-9daf-69b81af0e4ba",
   "metadata": {},
   "outputs": [
    {
     "ename": "ZeroDivisionError",
     "evalue": "division by zero",
     "output_type": "error",
     "traceback": [
      "\u001b[1;31m---------------------------------------------------------------------------\u001b[0m",
      "\u001b[1;31mZeroDivisionError\u001b[0m                         Traceback (most recent call last)",
      "Cell \u001b[1;32mIn[31], line 1\u001b[0m\n\u001b[1;32m----> 1\u001b[0m \u001b[38;5;241m10\u001b[39m\u001b[38;5;241m/\u001b[39m\u001b[38;5;241m0\u001b[39m\n",
      "\u001b[1;31mZeroDivisionError\u001b[0m: division by zero"
     ]
    }
   ],
   "source": [
    "10/0"
   ]
  },
  {
   "cell_type": "code",
   "execution_count": 32,
   "id": "ac0d94d7-4122-4089-95d2-277d0b8869f9",
   "metadata": {},
   "outputs": [
    {
     "data": {
      "text/plain": [
       "1.25"
      ]
     },
     "execution_count": 32,
     "metadata": {},
     "output_type": "execute_result"
    }
   ],
   "source": [
    "5/4 # Noraml division"
   ]
  },
  {
   "cell_type": "code",
   "execution_count": 33,
   "id": "d307b3b1-8704-4988-967f-0b80c93b55dd",
   "metadata": {},
   "outputs": [
    {
     "data": {
      "text/plain": [
       "1"
      ]
     },
     "execution_count": 33,
     "metadata": {},
     "output_type": "execute_result"
    }
   ],
   "source": [
    "5//4 #floor division (Quotient)"
   ]
  },
  {
   "cell_type": "code",
   "execution_count": 34,
   "id": "40c0c488-ba1d-4ce7-b8c2-4f5c1d4ec3ab",
   "metadata": {},
   "outputs": [
    {
     "data": {
      "text/plain": [
       "1"
      ]
     },
     "execution_count": 34,
     "metadata": {},
     "output_type": "execute_result"
    }
   ],
   "source": [
    "#modulus operator\n",
    "5%4 # reminder"
   ]
  },
  {
   "cell_type": "code",
   "execution_count": null,
   "id": "f0d543ce-0eeb-4176-af8c-81123e26b260",
   "metadata": {},
   "outputs": [],
   "source": [
    "# wap ask the user enter a number\n",
    "#find it is a even number or odd number\n"
   ]
  },
  {
   "cell_type": "code",
   "execution_count": 39,
   "id": "2f0061c2-e0fc-46e4-a1f4-185e5d527230",
   "metadata": {},
   "outputs": [
    {
     "name": "stdin",
     "output_type": "stream",
     "text": [
      "Enter Number: 105\n"
     ]
    },
    {
     "name": "stdout",
     "output_type": "stream",
     "text": [
      "number is odd\n"
     ]
    }
   ],
   "source": [
    "num=eval(input(\"Enter Number:\"))\n",
    "if num%2==0:\n",
    "    print(f\"The {num} is even\")\n",
    "else:\n",
    "    print(\"number is odd\")\n"
   ]
  },
  {
   "cell_type": "code",
   "execution_count": 1,
   "id": "21412534-b739-4759-bf23-8471eee11f11",
   "metadata": {},
   "outputs": [
    {
     "name": "stdout",
     "output_type": "stream",
     "text": [
      "This is a streng.\n",
      " we are creating it in python\n"
     ]
    }
   ],
   "source": [
    "strn1=\"This is a string.\\n we are creating it in python\" #next line\n",
    "print(strn1)"
   ]
  },
  {
   "cell_type": "code",
   "execution_count": 3,
   "id": "1f66d3ed-6b02-4135-b855-acb4ef3d1822",
   "metadata": {},
   "outputs": [
    {
     "name": "stdout",
     "output_type": "stream",
     "text": [
      "This is a string.\t we are creating it in python\n"
     ]
    }
   ],
   "source": [
    "strn1=\"This is a string.\\t we are creating it in python\" #tab\n",
    "print(strn1)"
   ]
  },
  {
   "cell_type": "code",
   "execution_count": 7,
   "id": "7161ba46-4355-4271-8813-9366c7cb0ce6",
   "metadata": {},
   "outputs": [
    {
     "name": "stdin",
     "output_type": "stream",
     "text": [
      "Enter your age: 15\n"
     ]
    },
    {
     "name": "stdout",
     "output_type": "stream",
     "text": [
      "Not Eligible for vote and driving license\n"
     ]
    }
   ],
   "source": [
    "age=eval(input(\"Enter your age:\"))\n",
    "if (age>=18):\n",
    "    print(\"Eligible for vote and driving license\")\n",
    "else:\n",
    "    print(\"Not Eligible for vote and driving license\")\n",
    "    "
   ]
  },
  {
   "cell_type": "code",
   "execution_count": 15,
   "id": "16b810c5-07a7-4c3d-b734-ca5fc7ecb274",
   "metadata": {},
   "outputs": [
    {
     "name": "stdin",
     "output_type": "stream",
     "text": [
      "Enter the color of trafic light: red\n"
     ]
    },
    {
     "name": "stdout",
     "output_type": "stream",
     "text": [
      "Stop\n"
     ]
    }
   ],
   "source": [
    "light=input(\"Enter the color of trafic light:\")\n",
    "if light==\"red\":\n",
    "    print(\"Stop\")\n",
    "elif light==\"green\":\n",
    "    print(\"Go\")\n",
    "elif light==\"yellow\":\n",
    "    print(\"look\")"
   ]
  },
  {
   "cell_type": "code",
   "execution_count": 1,
   "id": "2aa3d58f-eb8d-4a3d-9ca6-bd97ef1cf911",
   "metadata": {},
   "outputs": [
    {
     "name": "stdin",
     "output_type": "stream",
     "text": [
      "Enter the distance: 65\n"
     ]
    },
    {
     "name": "stdout",
     "output_type": "stream",
     "text": [
      "Good news your charge is applicable for only remaining of 25\n"
     ]
    },
    {
     "name": "stdin",
     "output_type": "stream",
     "text": [
      "Enter the charge: 50\n"
     ]
    },
    {
     "name": "stdout",
     "output_type": "stream",
     "text": [
      "The total cost is 3250\n"
     ]
    }
   ],
   "source": [
    "distance=eval(input(\"Enter the distance in km:\"))\n",
    "cutoff=25\n",
    "if distance>=25:\n",
    "    print(\"Good news your charge is applicable for only remaining of 25\")\n",
    "    chargeble_distance=distance-cutoff\n",
    "    charge=eval(input(\"Enter the charge in rupees:\"))\n",
    "    total_cost=charge*distance\n",
    "    print(f\"The total cost is {total_cost}\")\n",
    "else:\n",
    "    print(\"Free ride\")"
   ]
  },
  {
   "cell_type": "code",
   "execution_count": 1,
   "id": "0c6caa62-196d-453e-804d-6990aa8d66f8",
   "metadata": {},
   "outputs": [
    {
     "ename": "SyntaxError",
     "evalue": "expected ':' (1076342039.py, line 6)",
     "output_type": "error",
     "traceback": [
      "\u001b[1;36m  Cell \u001b[1;32mIn[1], line 6\u001b[1;36m\u001b[0m\n\u001b[1;33m    else\u001b[0m\n\u001b[1;37m        ^\u001b[0m\n\u001b[1;31mSyntaxError\u001b[0m\u001b[1;31m:\u001b[0m expected ':'\n"
     ]
    }
   ],
   "source": [
    "distance=eval(input(\"Enter the distance:\"))\n",
    "if distance>=25:\n",
    "    charge=eval(input(\"Enter the charge:\"))\n",
    "    cost=distance*charge\n",
    "    print(\"The total charge is:\",cost)\n",
    "else\n",
    "    print(\"Enjoy the free ride\")"
   ]
  },
  {
   "cell_type": "code",
   "execution_count": 2,
   "id": "273755fe-5737-4b22-a0c6-7200cc30e828",
   "metadata": {},
   "outputs": [
    {
     "name": "stdin",
     "output_type": "stream",
     "text": [
      "Enter the distance in km: 95\n",
      "Enter the Cutoff distance in km: 25\n"
     ]
    },
    {
     "name": "stdout",
     "output_type": "stream",
     "text": [
      "Good news your charge is applicable for only remaining of 25\n"
     ]
    },
    {
     "name": "stdin",
     "output_type": "stream",
     "text": [
      "Enter the charge in rupees: 10\n"
     ]
    },
    {
     "name": "stdout",
     "output_type": "stream",
     "text": [
      "The total cost is 950\n"
     ]
    }
   ],
   "source": [
    "distance=eval(input(\"Enter the distance in km:\"))\n",
    "cutoff=eval(input(\"Enter the Cutoff distance in km:\"))\n",
    "if distance>=cutoff:\n",
    "    print(\"Good news your charge is applicable for only remaining of 25\")\n",
    "    chargeble_distance=distance-cutoff\n",
    "    print(f\"Chargeble distance is {chargeble_distance}\")\n",
    "    charge=eval(input(\"Enter the charge in rupees:\"))\n",
    "    total_cost=charge*distance\n",
    "    print(f\"The total cost is {total_cost}\")\n",
    "else:\n",
    "    print(\"Free ride\")"
   ]
  },
  {
   "cell_type": "code",
   "execution_count": 7,
   "id": "472ce968-9d39-4996-b564-87476fd1e962",
   "metadata": {},
   "outputs": [
    {
     "name": "stdin",
     "output_type": "stream",
     "text": [
      "Enter the Course: data science\n",
      "Enter the institute naresh it\n"
     ]
    },
    {
     "name": "stdout",
     "output_type": "stream",
     "text": [
      "Your are bad\n"
     ]
    }
   ],
   "source": [
    "#and condition\n",
    "course=input(\"Enter the Course:\")\n",
    "institute=input(\"Enter the institute\")\n",
    "if course=='data science' and institute=='naresh it':\n",
    "    print(\"You are Good Student\")\n",
    "else:\n",
    "    print(\"Your are bad\")\n",
    "    "
   ]
  },
  {
   "cell_type": "markdown",
   "id": "8c8208d1-ee1b-4589-9dfc-d0117f2ff4a6",
   "metadata": {},
   "source": [
    "- and means two conditions need to satisfy\n",
    "\n",
    "- or means any one condition enough to satisfy\n"
   ]
  },
  {
   "cell_type": "code",
   "execution_count": 8,
   "id": "c44dcb3d-04f6-4386-8926-b0df75c64fa6",
   "metadata": {},
   "outputs": [
    {
     "name": "stdin",
     "output_type": "stream",
     "text": [
      "Enter the Course: jntu\n",
      "Enter the institute naresh it\n"
     ]
    },
    {
     "name": "stdout",
     "output_type": "stream",
     "text": [
      "You are Good Student\n"
     ]
    }
   ],
   "source": [
    "course=input(\"Enter the Course:\")\n",
    "institute=input(\"Enter the institute\")\n",
    "if course=='data science' or institute=='naresh it':\n",
    "    print(\"You are Good Student\")\n",
    "else:\n",
    "    print(\"Your are bad\")"
   ]
  },
  {
   "cell_type": "code",
   "execution_count": 12,
   "id": "873e7c34-bc90-4a2a-bbdd-0143bf47167d",
   "metadata": {},
   "outputs": [
    {
     "name": "stdin",
     "output_type": "stream",
     "text": [
      "Enter the number2: 6\n"
     ]
    },
    {
     "name": "stdout",
     "output_type": "stream",
     "text": [
      "5  6\n",
      "you lost\n"
     ]
    }
   ],
   "source": [
    "import random\n",
    "num1=random.randint(1,10)\n",
    "num2=eval(input(\"Enter the number2:\"))\n",
    "print(num1,num2,sep='  ')\n",
    "if num1==num2:\n",
    "    print(\"You won\")\n",
    "else:\n",
    "    print(\"you lost\")"
   ]
  },
  {
   "cell_type": "markdown",
   "id": "83316839-7988-4260-84af-c7970fe6c588",
   "metadata": {},
   "source": [
    "- Till now we have seen one condition problem\n",
    "\n",
    "- which means if that condition is True will get one answer\n",
    "\n",
    "- if that condition False then will get another answer\n",
    "\n",
    "- How about if we have more than 2 conditions\n",
    "\n",
    "- if-elif-else\n",
    "\n",
    "- if has condition\n",
    "\n",
    "- elif has second condition\n",
    "\n",
    "- if both are false then the result in else\n"
   ]
  },
  {
   "cell_type": "code",
   "execution_count": null,
   "id": "10bbe268-0ac0-4e15-af61-d65e17010e68",
   "metadata": {},
   "outputs": [],
   "source": [
    "if <condition>:\n",
    "    <statements>\n",
    "elif <condition>:\n",
    "    <statements>\n",
    "else:\n",
    "    <statements>\n",
    "\n",
    "\n",
    "    \n"
   ]
  },
  {
   "cell_type": "code",
   "execution_count": 13,
   "id": "58dd7a0d-d608-4f76-ad67-24419c69c499",
   "metadata": {},
   "outputs": [
    {
     "name": "stdin",
     "output_type": "stream",
     "text": [
      "Enter the number: 3\n"
     ]
    },
    {
     "name": "stdout",
     "output_type": "stream",
     "text": [
      "three\n"
     ]
    }
   ],
   "source": [
    "number=eval(input(\"Enter the number:\"))\n",
    "if number==1:\n",
    "    print(\"One\")\n",
    "elif number==2:\n",
    "    print(\"two\")\n",
    "elif number==3:\n",
    "    print(\"three\")\n",
    "else:\n",
    "    print(\"Enter valid number between 1 to 3\")"
   ]
  },
  {
   "cell_type": "code",
   "execution_count": 14,
   "id": "06d853f0-b3f5-4fc3-b036-7576262fbbb7",
   "metadata": {},
   "outputs": [
    {
     "name": "stdin",
     "output_type": "stream",
     "text": [
      "Enter the number: 4\n"
     ]
    },
    {
     "name": "stdout",
     "output_type": "stream",
     "text": [
      "Enter valid number between 1 to 3\n"
     ]
    }
   ],
   "source": [
    "# if condition withoud indentation\n",
    "number=eval(input(\"Enter the number:\"))\n",
    "if number==1:print(\"One\")\n",
    "elif number==2:print(\"two\")\n",
    "elif number==3:print(\"three\")\n",
    "else:print(\"Enter valid number between 1 to 3\")"
   ]
  },
  {
   "cell_type": "code",
   "execution_count": 16,
   "id": "af7a6b78-b176-4337-99a3-cd5e459b86c7",
   "metadata": {},
   "outputs": [
    {
     "name": "stdin",
     "output_type": "stream",
     "text": [
      "Enter the number: -2\n"
     ]
    },
    {
     "name": "stdout",
     "output_type": "stream",
     "text": [
      "negative\n"
     ]
    }
   ],
   "source": [
    "number=eval(input(\"Enter the number:\"))\n",
    "if number>0:\n",
    "    print(\"positive\")\n",
    "elif number<0:\n",
    "    print(\"negative\")\n",
    "else:\n",
    "    print(\"Zero\")\n",
    "    "
   ]
  },
  {
   "cell_type": "code",
   "execution_count": 17,
   "id": "a082a453-254d-4593-9b7a-100fd30031dc",
   "metadata": {},
   "outputs": [
    {
     "name": "stdin",
     "output_type": "stream",
     "text": [
      "Enter the percentage of marks: 75\n"
     ]
    },
    {
     "name": "stdout",
     "output_type": "stream",
     "text": [
      "B grade\n"
     ]
    }
   ],
   "source": [
    "percentage=eval(input(\"Enter the percentage of marks:\"))\n",
    "if percentage>=90:\n",
    "    print('A grade')\n",
    "elif percentage<90 and percentage>=75:\n",
    "    print('B grade')\n",
    "elif percentage<75 and percentage>=50:\n",
    "    print('C grade')\n",
    "elif percentage<50 and percentage>=35:\n",
    "    print('D grade')\n",
    "else:\n",
    "    print('Fail')"
   ]
  },
  {
   "cell_type": "code",
   "execution_count": 18,
   "id": "e47d685a-c84a-4c80-a219-46e3f870e13b",
   "metadata": {},
   "outputs": [
    {
     "name": "stdin",
     "output_type": "stream",
     "text": [
      "Enter the percentage of marks: 55\n"
     ]
    },
    {
     "name": "stdout",
     "output_type": "stream",
     "text": [
      "C grade\n"
     ]
    }
   ],
   "source": [
    "# updated code for above problem\n",
    "percentage=eval(input(\"Enter the percentage of marks:\"))\n",
    "if percentage>=90:\n",
    "    print('A grade')\n",
    "elif percentage>=75:\n",
    "    print('B grade')\n",
    "elif percentage>=50:\n",
    "    print('C grade')\n",
    "elif percentage>=35:\n",
    "    print('D grade')\n",
    "else:\n",
    "    print('Fail')"
   ]
  },
  {
   "cell_type": "code",
   "execution_count": 23,
   "id": "e407d04c-681f-407a-a57b-eee315f5ccf5",
   "metadata": {},
   "outputs": [
    {
     "name": "stdin",
     "output_type": "stream",
     "text": [
      "Enter the age: 10\n"
     ]
    },
    {
     "name": "stdout",
     "output_type": "stream",
     "text": [
      "kid\n"
     ]
    }
   ],
   "source": [
    "age=eval(input(\"Enter the age:\"))\n",
    "if age>=100:\n",
    "    print('You are Lucky')\n",
    "if age>=75:\n",
    "    print('Old age')\n",
    "elif age>=50:\n",
    "    print('Senior citizen')\n",
    "elif age>=30:\n",
    "    print('Middle age')\n",
    "elif age>=15:\n",
    "    print('young age')\n",
    "else:\n",
    "    print('kid')"
   ]
  },
  {
   "cell_type": "code",
   "execution_count": 5,
   "id": "459277ae-2442-4144-9699-41804a8808c2",
   "metadata": {},
   "outputs": [
    {
     "name": "stdin",
     "output_type": "stream",
     "text": [
      "Enter the number1: 89.45\n",
      "Enter the number2: 1005.84\n"
     ]
    },
    {
     "name": "stdout",
     "output_type": "stream",
     "text": [
      "Enter operation 1 for addition\n",
      "Enter operation 2 for multi\n",
      "Enter operation 3 for sub\n",
      "Enter operation 4 for division\n"
     ]
    },
    {
     "name": "stdin",
     "output_type": "stream",
     "text": [
      "Enter the operation number: 4\n"
     ]
    },
    {
     "name": "stdout",
     "output_type": "stream",
     "text": [
      "Division of 89.45 and 1005.84 is 0.08893064503300724 \n"
     ]
    }
   ],
   "source": [
    "num1=eval(input(\"Enter the number1:\"))\n",
    "num2=eval(input(\"Enter the number2:\"))\n",
    "print(\"Enter operation 1 for addition\")\n",
    "print(\"Enter operation 2 for multi\")\n",
    "print(\"Enter operation 3 for sub\")\n",
    "print(\"Enter operation 4 for division\")\n",
    "operation=eval(input(\"Enter the operation number:\"))\n",
    "if operation==1:\n",
    "    add=num1+num2\n",
    "    print(f\"Addition of {num1} and {num2} is {add} \")\n",
    "elif operation==2:\n",
    "    multi=num1*num2\n",
    "    print(f\"Multiplication of {num1} and {num2} is {multi} \")\n",
    "elif operation==3:\n",
    "    sub=num1-num2\n",
    "    print(f\"Substract of {num1} and {num2} is {sub} \")\n",
    "else:\n",
    "    div=num1/num2\n",
    "    print(f\"Division of {num1} and {num2} is {div} \")\n"
   ]
  },
  {
   "cell_type": "code",
   "execution_count": 14,
   "id": "6d7ed909-3582-44ca-a168-d2d22486bb1f",
   "metadata": {},
   "outputs": [
    {
     "name": "stdin",
     "output_type": "stream",
     "text": [
      "Enter the Gender (male/female) : male\n"
     ]
    },
    {
     "name": "stdout",
     "output_type": "stream",
     "text": [
      "male\n"
     ]
    },
    {
     "name": "stdin",
     "output_type": "stream",
     "text": [
      "Enter your age: 60\n"
     ]
    },
    {
     "name": "stdout",
     "output_type": "stream",
     "text": [
      "Senior citizen\n"
     ]
    }
   ],
   "source": [
    "gender=input(\"Enter the Gender (male/female) :\")\n",
    "print(gender)\n",
    "if gender=='male':\n",
    "    age=eval(input(\"Enter your age:\"))\n",
    "    if age>=60:\n",
    "        print(\"Senior citizen\")\n",
    "    elif age>=30:\n",
    "        print(\"Middle age\")\n",
    "    elif age>=15:\n",
    "        print(\"Kid\")\n",
    "else:\n",
    "    age=eval(input(\"Enter your age:\"))\n",
    "    if age>=60:\n",
    "        print(\"Senior citizen\")\n",
    "    elif age>=30:\n",
    "        print(\"Middle age\")\n",
    "    elif age>=15:\n",
    "        print(\"Kid\")\n",
    "        "
   ]
  },
  {
   "cell_type": "code",
   "execution_count": 21,
   "id": "5bb4e29e-6d3c-452f-af8f-b04c93a094c7",
   "metadata": {},
   "outputs": [
    {
     "name": "stdin",
     "output_type": "stream",
     "text": [
      "Enter the number: -3\n"
     ]
    },
    {
     "name": "stdout",
     "output_type": "stream",
     "text": [
      "The entered number is -3\n",
      "Number is Negative\n"
     ]
    }
   ],
   "source": [
    "num=eval(input(\"Enter the number:\"))\n",
    "print(f\"The entered number is {num}\")\n",
    "if num>=0:\n",
    "    if num==0:\n",
    "       print(\"Zero\")\n",
    "    else:\n",
    "       print(\"Number is Positive\")\n",
    "else:\n",
    "    print(\"Number is Negative\")"
   ]
  },
  {
   "cell_type": "markdown",
   "id": "472cfa0c-8b4b-4f60-b464-5b7809c098b7",
   "metadata": {},
   "source": [
    "take three numbers\n",
    "num1 num2 num3\n",
    "find the max value\n"
   ]
  },
  {
   "cell_type": "code",
   "execution_count": null,
   "id": "bb8a5adb-abae-4619-af77-4796a65883bb",
   "metadata": {},
   "outputs": [],
   "source": [
    "num1=eval(input(\"Enter the number1:\"))\n",
    "num2=eval(input(\"Enter the number2:\"))\n",
    "num3=eval(input(\"Enter the number3:\"))\n",
    "if num1>num2 and num1>3:\n",
    "    print(\"\")\n"
   ]
  }
 ],
 "metadata": {
  "kernelspec": {
   "display_name": "Python 3 (ipykernel)",
   "language": "python",
   "name": "python3"
  },
  "language_info": {
   "codemirror_mode": {
    "name": "ipython",
    "version": 3
   },
   "file_extension": ".py",
   "mimetype": "text/x-python",
   "name": "python",
   "nbconvert_exporter": "python",
   "pygments_lexer": "ipython3",
   "version": "3.11.7"
  }
 },
 "nbformat": 4,
 "nbformat_minor": 5
}
