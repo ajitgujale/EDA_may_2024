{
 "cells": [
  {
   "cell_type": "markdown",
   "id": "a00f9091-7185-4df1-871d-318d986c1940",
   "metadata": {},
   "source": [
    "Let assume that our friend coder is there\n",
    "\n",
    "he created an addition program\n",
    "\n",
    "he feels that he only created an addition program\n",
    "\n",
    "he wants to give this program to everyone\n",
    "\n",
    "he wents to anaconda organization\n",
    "\n",
    "he makes a deal\n",
    "\n",
    "whoever install anaconda my package also automatically download\n",
    "\n",
    "thats why when you are downloading anaconda a green color pop is comes\n",
    "mean so many packages are tie with anaconda \n",
    "downloading in your local laptop\n"
   ]
  },
  {
   "cell_type": "markdown",
   "id": "3dcd6285-4660-4fde-b8d2-4e9c0073d77d",
   "metadata": {},
   "source": [
    "package is there in your laptop\n",
    "you want to use for the coding\n",
    "\n",
    "\n",
    "the package name: addition\n"
   ]
  },
  {
   "cell_type": "markdown",
   "id": "1b4d4de2-46b0-447b-9f8f-db6182369e41",
   "metadata": {},
   "source": [
    "**import**"
   ]
  },
  {
   "cell_type": "code",
   "execution_count": null,
   "id": "db82aec7-1f0a-4c3d-8425-29f23da5f6ed",
   "metadata": {},
   "outputs": [],
   "source": [
    "# syntanx\n",
    "#import<package_name>"
   ]
  },
  {
   "cell_type": "code",
   "execution_count": 1,
   "id": "378ab312-dff1-462e-b069-b700b2322ab3",
   "metadata": {},
   "outputs": [],
   "source": [
    "#package name : random\n",
    "import random"
   ]
  },
  {
   "cell_type": "code",
   "execution_count": 4,
   "id": "f1c9aa64-e94f-47f0-a5ba-cec65aae56a7",
   "metadata": {},
   "outputs": [],
   "source": [
    "import time"
   ]
  },
  {
   "cell_type": "code",
   "execution_count": 5,
   "id": "7094311e-d93d-4c62-937f-b44dd8254202",
   "metadata": {},
   "outputs": [],
   "source": [
    "#package name : math\n",
    "import math"
   ]
  },
  {
   "cell_type": "code",
   "execution_count": 6,
   "id": "ec377d02-d820-4262-a40a-b51f041bda6a",
   "metadata": {},
   "outputs": [],
   "source": [
    "#package name: streamlit\n",
    "import streamlit"
   ]
  },
  {
   "cell_type": "code",
   "execution_count": 7,
   "id": "dc11c5cc-af4d-44f9-85bf-58a496919483",
   "metadata": {},
   "outputs": [
    {
     "ename": "ModuleNotFoundError",
     "evalue": "No module named 'cv2'",
     "output_type": "error",
     "traceback": [
      "\u001b[1;31m---------------------------------------------------------------------------\u001b[0m",
      "\u001b[1;31mModuleNotFoundError\u001b[0m                       Traceback (most recent call last)",
      "Cell \u001b[1;32mIn[7], line 1\u001b[0m\n\u001b[1;32m----> 1\u001b[0m \u001b[38;5;28;01mimport\u001b[39;00m \u001b[38;5;21;01mcv2\u001b[39;00m\n",
      "\u001b[1;31mModuleNotFoundError\u001b[0m: No module named 'cv2'"
     ]
    }
   ],
   "source": [
    "import cv2"
   ]
  },
  {
   "cell_type": "markdown",
   "id": "414bd777-06ea-4045-a7f7-1946d204cb0e",
   "metadata": {},
   "source": [
    "cv2 guy not lie with anaconda\n",
    "no module name : cv2\n",
    "\n",
    "sreamlit guy not tie with anaconda\n",
    "no module name: streamlit"
   ]
  },
  {
   "cell_type": "markdown",
   "id": "1c41b96e-bea6-4f90-8667-ca63215434cc",
   "metadata": {},
   "source": [
    "math operation:-\n",
    "    addition\n",
    "    subtraction\n",
    "    multiplication\n",
    "    division\n"
   ]
  },
  {
   "cell_type": "code",
   "execution_count": 8,
   "id": "d30ce1d9-5e9f-4f82-9b87-f1ddba76fcfd",
   "metadata": {},
   "outputs": [
    {
     "data": {
      "text/plain": [
       "['BPF',\n",
       " 'LOG4',\n",
       " 'NV_MAGICCONST',\n",
       " 'RECIP_BPF',\n",
       " 'Random',\n",
       " 'SG_MAGICCONST',\n",
       " 'SystemRandom',\n",
       " 'TWOPI',\n",
       " '_ONE',\n",
       " '_Sequence',\n",
       " '_Set',\n",
       " '__all__',\n",
       " '__builtins__',\n",
       " '__cached__',\n",
       " '__doc__',\n",
       " '__file__',\n",
       " '__loader__',\n",
       " '__name__',\n",
       " '__package__',\n",
       " '__spec__',\n",
       " '_accumulate',\n",
       " '_acos',\n",
       " '_bisect',\n",
       " '_ceil',\n",
       " '_cos',\n",
       " '_e',\n",
       " '_exp',\n",
       " '_floor',\n",
       " '_index',\n",
       " '_inst',\n",
       " '_isfinite',\n",
       " '_log',\n",
       " '_os',\n",
       " '_pi',\n",
       " '_random',\n",
       " '_repeat',\n",
       " '_sha512',\n",
       " '_sin',\n",
       " '_sqrt',\n",
       " '_test',\n",
       " '_test_generator',\n",
       " '_urandom',\n",
       " '_warn',\n",
       " 'betavariate',\n",
       " 'choice',\n",
       " 'choices',\n",
       " 'expovariate',\n",
       " 'gammavariate',\n",
       " 'gauss',\n",
       " 'getrandbits',\n",
       " 'getstate',\n",
       " 'lognormvariate',\n",
       " 'normalvariate',\n",
       " 'paretovariate',\n",
       " 'randbytes',\n",
       " 'randint',\n",
       " 'random',\n",
       " 'randrange',\n",
       " 'sample',\n",
       " 'seed',\n",
       " 'setstate',\n",
       " 'shuffle',\n",
       " 'triangular',\n",
       " 'uniform',\n",
       " 'vonmisesvariate',\n",
       " 'weibullvariate']"
      ]
     },
     "execution_count": 8,
     "metadata": {},
     "output_type": "execute_result"
    }
   ],
   "source": [
    "import random\n",
    "dir(random)"
   ]
  },
  {
   "cell_type": "code",
   "execution_count": null,
   "id": "91763639-ca94-4ac1-adac-d2ef153b5e37",
   "metadata": {},
   "outputs": [],
   "source": [
    "#syntax\n",
    "#<package_name>.<method_name>\n",
    "#packagename: random\n",
    "#methodname: randint"
   ]
  },
  {
   "cell_type": "code",
   "execution_count": 10,
   "id": "44f38bd5-c404-46d7-a3cd-4f0025dd1646",
   "metadata": {},
   "outputs": [
    {
     "name": "stdout",
     "output_type": "stream",
     "text": [
      "Help on method randint in module random:\n",
      "\n",
      "randint(a, b) method of random.Random instance\n",
      "    Return random integer in range [a, b], including both end points.\n",
      "\n"
     ]
    }
   ],
   "source": [
    "#help(<packagename.methodname>)\n",
    "#help will give the understanding of\n",
    "#how a method will work\n",
    "#here I want to know what randint will do?\n",
    "\n",
    "help(random.randint)"
   ]
  },
  {
   "cell_type": "code",
   "execution_count": 11,
   "id": "2db00113-2687-4691-82f9-99225078600e",
   "metadata": {},
   "outputs": [
    {
     "data": {
      "text/plain": [
       "9"
      ]
     },
     "execution_count": 11,
     "metadata": {},
     "output_type": "execute_result"
    }
   ],
   "source": [
    "random.randint(5,15)"
   ]
  },
  {
   "cell_type": "code",
   "execution_count": 12,
   "id": "a3009db8-3354-47b8-8a66-aa21199abb08",
   "metadata": {},
   "outputs": [
    {
     "data": {
      "text/plain": [
       "9"
      ]
     },
     "execution_count": 12,
     "metadata": {},
     "output_type": "execute_result"
    }
   ],
   "source": [
    "random.randint(5,15)"
   ]
  },
  {
   "cell_type": "code",
   "execution_count": null,
   "id": "ca3f7c4e-4b30-401f-8a36-40696c3919ea",
   "metadata": {},
   "outputs": [],
   "source": [
    "#step-1: import <package_name>\n",
    "#step-2: dir(<package_name>)\n",
    "#step-3: help(<package_name>.<method_name>)\n",
    "#package_name:random"
   ]
  },
  {
   "cell_type": "code",
   "execution_count": 13,
   "id": "de2a352a-1148-4375-a25f-bcb5ea59ccae",
   "metadata": {},
   "outputs": [],
   "source": [
    "import random"
   ]
  },
  {
   "cell_type": "raw",
   "id": "c5fbc67c-1046-4fcc-b42c-19cf40a3ba54",
   "metadata": {},
   "source": [
    "dir(random)"
   ]
  },
  {
   "cell_type": "code",
   "execution_count": 14,
   "id": "1335ab74-13d9-41e7-b16a-c0a6999ae6d3",
   "metadata": {},
   "outputs": [],
   "source": [
    "import random"
   ]
  },
  {
   "cell_type": "code",
   "execution_count": 15,
   "id": "fca2d43c-db21-44c1-abc0-f98855683220",
   "metadata": {},
   "outputs": [
    {
     "name": "stdout",
     "output_type": "stream",
     "text": [
      "Help on built-in function random:\n",
      "\n",
      "random() method of random.Random instance\n",
      "    random() -> x in the interval [0, 1).\n",
      "\n"
     ]
    }
   ],
   "source": [
    "import random\n",
    "dir(random)\n",
    "help(random.random)"
   ]
  },
  {
   "cell_type": "code",
   "execution_count": 19,
   "id": "7cc4d835-7600-429f-86c3-e22381817f8e",
   "metadata": {},
   "outputs": [
    {
     "data": {
      "text/plain": [
       "0.6788381175195254"
      ]
     },
     "execution_count": 19,
     "metadata": {},
     "output_type": "execute_result"
    }
   ],
   "source": [
    "random.random()"
   ]
  },
  {
   "cell_type": "code",
   "execution_count": null,
   "id": "0dc88667-71b1-43ec-bd46-843227660217",
   "metadata": {},
   "outputs": [],
   "source": [
    "**Math Package**\n",
    "\n",
    "#package name : math\n",
    "#"
   ]
  },
  {
   "cell_type": "code",
   "execution_count": 20,
   "id": "f41dae23-cd0c-4798-988c-95c89e89d83e",
   "metadata": {},
   "outputs": [
    {
     "data": {
      "text/plain": [
       "['__doc__',\n",
       " '__loader__',\n",
       " '__name__',\n",
       " '__package__',\n",
       " '__spec__',\n",
       " 'acos',\n",
       " 'acosh',\n",
       " 'asin',\n",
       " 'asinh',\n",
       " 'atan',\n",
       " 'atan2',\n",
       " 'atanh',\n",
       " 'cbrt',\n",
       " 'ceil',\n",
       " 'comb',\n",
       " 'copysign',\n",
       " 'cos',\n",
       " 'cosh',\n",
       " 'degrees',\n",
       " 'dist',\n",
       " 'e',\n",
       " 'erf',\n",
       " 'erfc',\n",
       " 'exp',\n",
       " 'exp2',\n",
       " 'expm1',\n",
       " 'fabs',\n",
       " 'factorial',\n",
       " 'floor',\n",
       " 'fmod',\n",
       " 'frexp',\n",
       " 'fsum',\n",
       " 'gamma',\n",
       " 'gcd',\n",
       " 'hypot',\n",
       " 'inf',\n",
       " 'isclose',\n",
       " 'isfinite',\n",
       " 'isinf',\n",
       " 'isnan',\n",
       " 'isqrt',\n",
       " 'lcm',\n",
       " 'ldexp',\n",
       " 'lgamma',\n",
       " 'log',\n",
       " 'log10',\n",
       " 'log1p',\n",
       " 'log2',\n",
       " 'modf',\n",
       " 'nan',\n",
       " 'nextafter',\n",
       " 'perm',\n",
       " 'pi',\n",
       " 'pow',\n",
       " 'prod',\n",
       " 'radians',\n",
       " 'remainder',\n",
       " 'sin',\n",
       " 'sinh',\n",
       " 'sqrt',\n",
       " 'tan',\n",
       " 'tanh',\n",
       " 'tau',\n",
       " 'trunc',\n",
       " 'ulp']"
      ]
     },
     "execution_count": 20,
     "metadata": {},
     "output_type": "execute_result"
    }
   ],
   "source": [
    "import math\n",
    "dir(math)"
   ]
  },
  {
   "cell_type": "code",
   "execution_count": 22,
   "id": "3fd2074b-e316-484b-98c9-2f2328ca601a",
   "metadata": {},
   "outputs": [
    {
     "name": "stdout",
     "output_type": "stream",
     "text": [
      "Help on built-in function sin in module math:\n",
      "\n",
      "sin(x, /)\n",
      "    Return the sine of x (measured in radians).\n",
      "\n"
     ]
    }
   ],
   "source": [
    "help(math.sin)"
   ]
  },
  {
   "cell_type": "code",
   "execution_count": 28,
   "id": "973e11f0-1709-481a-8672-ff59e48eabe0",
   "metadata": {},
   "outputs": [
    {
     "name": "stdout",
     "output_type": "stream",
     "text": [
      "Help on built-in function sqrt in module math:\n",
      "\n",
      "sqrt(x, /)\n",
      "    Return the square root of x.\n",
      "\n"
     ]
    }
   ],
   "source": [
    "help(math.sqrt)"
   ]
  },
  {
   "cell_type": "code",
   "execution_count": 29,
   "id": "6d82d4f9-270e-4514-9ff6-32f8e093f182",
   "metadata": {},
   "outputs": [
    {
     "ename": "NameError",
     "evalue": "name 'sqrt' is not defined",
     "output_type": "error",
     "traceback": [
      "\u001b[1;31m---------------------------------------------------------------------------\u001b[0m",
      "\u001b[1;31mNameError\u001b[0m                                 Traceback (most recent call last)",
      "Cell \u001b[1;32mIn[29], line 1\u001b[0m\n\u001b[1;32m----> 1\u001b[0m sqrt(\u001b[38;5;241m4\u001b[39m, )\n",
      "\u001b[1;31mNameError\u001b[0m: name 'sqrt' is not defined"
     ]
    }
   ],
   "source": [
    "sqrt(4, )"
   ]
  },
  {
   "cell_type": "code",
   "execution_count": 30,
   "id": "47a8e4f6-9103-4987-8d9c-9ed715cdc85c",
   "metadata": {},
   "outputs": [
    {
     "name": "stdout",
     "output_type": "stream",
     "text": [
      "Help on built-in function sqrt in module math:\n",
      "\n",
      "sqrt(x, /)\n",
      "    Return the square root of x.\n",
      "\n"
     ]
    }
   ],
   "source": [
    "#pi\n",
    "#pow\n",
    "#sqrt\n",
    "\n",
    "help(math.sqrt)"
   ]
  },
  {
   "cell_type": "code",
   "execution_count": 31,
   "id": "c27f4ded-830d-477f-8aa6-d4fe4950c1af",
   "metadata": {},
   "outputs": [
    {
     "data": {
      "text/plain": [
       "6.0"
      ]
     },
     "execution_count": 31,
     "metadata": {},
     "output_type": "execute_result"
    }
   ],
   "source": [
    "math.sqrt(36)"
   ]
  },
  {
   "cell_type": "code",
   "execution_count": 32,
   "id": "adf4f61f-fe07-474f-ab98-f1bbb26200d6",
   "metadata": {},
   "outputs": [
    {
     "name": "stdout",
     "output_type": "stream",
     "text": [
      "Help on built-in function pow in module math:\n",
      "\n",
      "pow(x, y, /)\n",
      "    Return x**y (x to the power of y).\n",
      "\n"
     ]
    }
   ],
   "source": [
    "help(math.pow)"
   ]
  },
  {
   "cell_type": "code",
   "execution_count": 33,
   "id": "1a76da32-3948-4542-b6c0-fa110b6536fc",
   "metadata": {},
   "outputs": [
    {
     "data": {
      "text/plain": [
       "8.0"
      ]
     },
     "execution_count": 33,
     "metadata": {},
     "output_type": "execute_result"
    }
   ],
   "source": [
    "math.pow(2,3)"
   ]
  },
  {
   "cell_type": "code",
   "execution_count": 34,
   "id": "df46ec21-b14b-494b-95a7-e2d141ea4783",
   "metadata": {},
   "outputs": [
    {
     "name": "stdout",
     "output_type": "stream",
     "text": [
      "Help on built-in function sin in module math:\n",
      "\n",
      "sin(x, /)\n",
      "    Return the sine of x (measured in radians).\n",
      "\n"
     ]
    }
   ],
   "source": [
    "help(math.sin)"
   ]
  },
  {
   "cell_type": "code",
   "execution_count": 35,
   "id": "aff85c3d-244d-4eed-a1e8-ef3fc85e7240",
   "metadata": {},
   "outputs": [
    {
     "data": {
      "text/plain": [
       "0.8939966636005579"
      ]
     },
     "execution_count": 35,
     "metadata": {},
     "output_type": "execute_result"
    }
   ],
   "source": [
    "math.sin(90)"
   ]
  },
  {
   "cell_type": "code",
   "execution_count": 37,
   "id": "ab5f482c-43e3-4607-8225-08385f9902a0",
   "metadata": {},
   "outputs": [
    {
     "data": {
      "text/plain": [
       "-0.8011526357338304"
      ]
     },
     "execution_count": 37,
     "metadata": {},
     "output_type": "execute_result"
    }
   ],
   "source": [
    "math.sqrt(81)\n",
    "math.pow(5,2)\n",
    "math.sin(180)"
   ]
  },
  {
   "cell_type": "code",
   "execution_count": 39,
   "id": "c8ec47f6-e3ed-4c84-bb0b-2faf95bfd129",
   "metadata": {},
   "outputs": [
    {
     "data": {
      "text/plain": [
       "5.0"
      ]
     },
     "execution_count": 39,
     "metadata": {},
     "output_type": "execute_result"
    }
   ],
   "source": [
    "math.sqrt(25)\n",
    "#cursor inside the bracket\n",
    "#then apply shift+tab\n",
    "#/ is mentioned means\n",
    "# do not provide x=25\n",
    "#directly give 25"
   ]
  },
  {
   "cell_type": "code",
   "execution_count": 40,
   "id": "9895fad3-269d-463d-b5d1-a6d66a144783",
   "metadata": {},
   "outputs": [
    {
     "data": {
      "text/plain": [
       "<function math.sqrt(x, /)>"
      ]
     },
     "execution_count": 40,
     "metadata": {},
     "output_type": "execute_result"
    }
   ],
   "source": [
    "math.sqrt"
   ]
  },
  {
   "cell_type": "markdown",
   "id": "2a5b24e9-2d04-46da-92f2-698e24cdf27f",
   "metadata": {},
   "source": [
    "- function means we are forgetting brackets\n",
    "\n",
    "- we need to keep brackets\n",
    "\n",
    "- bound method also means forgetting the brackets only\n",
    "\n",
    "- not callable means remove brakets\n",
    "\n",
    "- direct values never include brackets"
   ]
  },
  {
   "cell_type": "code",
   "execution_count": 42,
   "id": "ad8f93f4-c9d8-477e-84f0-26f1cc3adcb2",
   "metadata": {},
   "outputs": [
    {
     "data": {
      "text/plain": [
       "<bound method Random.randint of <random.Random object at 0x000001C14D6A3950>>"
      ]
     },
     "execution_count": 42,
     "metadata": {},
     "output_type": "execute_result"
    }
   ],
   "source": [
    "random.randint"
   ]
  },
  {
   "cell_type": "code",
   "execution_count": 44,
   "id": "75a7c1fb-0cb2-4359-8a9a-b22980b94c40",
   "metadata": {},
   "outputs": [
    {
     "data": {
      "text/plain": [
       "<function Random.random()>"
      ]
     },
     "execution_count": 44,
     "metadata": {},
     "output_type": "execute_result"
    }
   ],
   "source": [
    "random.random"
   ]
  },
  {
   "cell_type": "code",
   "execution_count": 45,
   "id": "dfac840a-e6ac-465c-b53b-0ef5d609ba1d",
   "metadata": {},
   "outputs": [
    {
     "data": {
      "text/plain": [
       "['BPF',\n",
       " 'LOG4',\n",
       " 'NV_MAGICCONST',\n",
       " 'RECIP_BPF',\n",
       " 'Random',\n",
       " 'SG_MAGICCONST',\n",
       " 'SystemRandom',\n",
       " 'TWOPI',\n",
       " '_ONE',\n",
       " '_Sequence',\n",
       " '_Set',\n",
       " '__all__',\n",
       " '__builtins__',\n",
       " '__cached__',\n",
       " '__doc__',\n",
       " '__file__',\n",
       " '__loader__',\n",
       " '__name__',\n",
       " '__package__',\n",
       " '__spec__',\n",
       " '_accumulate',\n",
       " '_acos',\n",
       " '_bisect',\n",
       " '_ceil',\n",
       " '_cos',\n",
       " '_e',\n",
       " '_exp',\n",
       " '_floor',\n",
       " '_index',\n",
       " '_inst',\n",
       " '_isfinite',\n",
       " '_log',\n",
       " '_os',\n",
       " '_pi',\n",
       " '_random',\n",
       " '_repeat',\n",
       " '_sha512',\n",
       " '_sin',\n",
       " '_sqrt',\n",
       " '_test',\n",
       " '_test_generator',\n",
       " '_urandom',\n",
       " '_warn',\n",
       " 'betavariate',\n",
       " 'choice',\n",
       " 'choices',\n",
       " 'expovariate',\n",
       " 'gammavariate',\n",
       " 'gauss',\n",
       " 'getrandbits',\n",
       " 'getstate',\n",
       " 'lognormvariate',\n",
       " 'normalvariate',\n",
       " 'paretovariate',\n",
       " 'randbytes',\n",
       " 'randint',\n",
       " 'random',\n",
       " 'randrange',\n",
       " 'sample',\n",
       " 'seed',\n",
       " 'setstate',\n",
       " 'shuffle',\n",
       " 'triangular',\n",
       " 'uniform',\n",
       " 'vonmisesvariate',\n",
       " 'weibullvariate']"
      ]
     },
     "execution_count": 45,
     "metadata": {},
     "output_type": "execute_result"
    }
   ],
   "source": [
    "dir(random)"
   ]
  },
  {
   "cell_type": "code",
   "execution_count": 46,
   "id": "09da8e6f-0eab-4e66-b55a-28f4c3174460",
   "metadata": {},
   "outputs": [
    {
     "ename": "TypeError",
     "evalue": "'float' object is not callable",
     "output_type": "error",
     "traceback": [
      "\u001b[1;31m---------------------------------------------------------------------------\u001b[0m",
      "\u001b[1;31mTypeError\u001b[0m                                 Traceback (most recent call last)",
      "Cell \u001b[1;32mIn[46], line 1\u001b[0m\n\u001b[1;32m----> 1\u001b[0m math\u001b[38;5;241m.\u001b[39mpi()\n",
      "\u001b[1;31mTypeError\u001b[0m: 'float' object is not callable"
     ]
    }
   ],
   "source": [
    "math.pi()"
   ]
  },
  {
   "cell_type": "code",
   "execution_count": null,
   "id": "3bfaad9b-6b68-42d6-be8a-d51f81dcba70",
   "metadata": {},
   "outputs": [],
   "source": [
    "#not callable means remove brackate"
   ]
  },
  {
   "cell_type": "code",
   "execution_count": 47,
   "id": "d5dc0362-5e4c-43f7-9d32-52a7269351e3",
   "metadata": {},
   "outputs": [],
   "source": [
    "import keyword"
   ]
  },
  {
   "cell_type": "code",
   "execution_count": 49,
   "id": "810d7cd9-9026-4613-99b2-c0a482f7315a",
   "metadata": {},
   "outputs": [
    {
     "data": {
      "text/plain": [
       "['__all__',\n",
       " '__builtins__',\n",
       " '__cached__',\n",
       " '__doc__',\n",
       " '__file__',\n",
       " '__loader__',\n",
       " '__name__',\n",
       " '__package__',\n",
       " '__spec__',\n",
       " 'iskeyword',\n",
       " 'issoftkeyword',\n",
       " 'kwlist',\n",
       " 'softkwlist']"
      ]
     },
     "execution_count": 49,
     "metadata": {},
     "output_type": "execute_result"
    }
   ],
   "source": [
    "dir(keyword)"
   ]
  },
  {
   "cell_type": "code",
   "execution_count": 2,
   "id": "a17d6f83-9fe0-43b7-a834-2187f760ba43",
   "metadata": {},
   "outputs": [
    {
     "ename": "NameError",
     "evalue": "name 'keyword' is not defined",
     "output_type": "error",
     "traceback": [
      "\u001b[1;31m---------------------------------------------------------------------------\u001b[0m",
      "\u001b[1;31mNameError\u001b[0m                                 Traceback (most recent call last)",
      "Cell \u001b[1;32mIn[2], line 1\u001b[0m\n\u001b[1;32m----> 1\u001b[0m help(keyword\u001b[38;5;241m.\u001b[39mkwlist)\n",
      "\u001b[1;31mNameError\u001b[0m: name 'keyword' is not defined"
     ]
    }
   ],
   "source": [
    "help(keyword.kwlist)"
   ]
  },
  {
   "cell_type": "code",
   "execution_count": 3,
   "id": "867eee46-29ce-4fd4-bea0-e698023a96e5",
   "metadata": {},
   "outputs": [
    {
     "data": {
      "text/plain": [
       "['BPF',\n",
       " 'LOG4',\n",
       " 'NV_MAGICCONST',\n",
       " 'RECIP_BPF',\n",
       " 'Random',\n",
       " 'SG_MAGICCONST',\n",
       " 'SystemRandom',\n",
       " 'TWOPI',\n",
       " '_ONE',\n",
       " '_Sequence',\n",
       " '_Set',\n",
       " '__all__',\n",
       " '__builtins__',\n",
       " '__cached__',\n",
       " '__doc__',\n",
       " '__file__',\n",
       " '__loader__',\n",
       " '__name__',\n",
       " '__package__',\n",
       " '__spec__',\n",
       " '_accumulate',\n",
       " '_acos',\n",
       " '_bisect',\n",
       " '_ceil',\n",
       " '_cos',\n",
       " '_e',\n",
       " '_exp',\n",
       " '_floor',\n",
       " '_index',\n",
       " '_inst',\n",
       " '_isfinite',\n",
       " '_log',\n",
       " '_os',\n",
       " '_pi',\n",
       " '_random',\n",
       " '_repeat',\n",
       " '_sha512',\n",
       " '_sin',\n",
       " '_sqrt',\n",
       " '_test',\n",
       " '_test_generator',\n",
       " '_urandom',\n",
       " '_warn',\n",
       " 'betavariate',\n",
       " 'choice',\n",
       " 'choices',\n",
       " 'expovariate',\n",
       " 'gammavariate',\n",
       " 'gauss',\n",
       " 'getrandbits',\n",
       " 'getstate',\n",
       " 'lognormvariate',\n",
       " 'normalvariate',\n",
       " 'paretovariate',\n",
       " 'randbytes',\n",
       " 'randint',\n",
       " 'random',\n",
       " 'randrange',\n",
       " 'sample',\n",
       " 'seed',\n",
       " 'setstate',\n",
       " 'shuffle',\n",
       " 'triangular',\n",
       " 'uniform',\n",
       " 'vonmisesvariate',\n",
       " 'weibullvariate']"
      ]
     },
     "execution_count": 3,
     "metadata": {},
     "output_type": "execute_result"
    }
   ],
   "source": [
    "import random\n",
    "dir(random)"
   ]
  },
  {
   "cell_type": "code",
   "execution_count": 5,
   "id": "596a9d2d-2017-4a24-a0fb-7f080a353dcc",
   "metadata": {},
   "outputs": [
    {
     "name": "stdout",
     "output_type": "stream",
     "text": [
      "Help on method randint in module random:\n",
      "\n",
      "randint(a, b) method of random.Random instance\n",
      "    Return random integer in range [a, b], including both end points.\n",
      "\n"
     ]
    }
   ],
   "source": [
    "help(random.randint)"
   ]
  },
  {
   "cell_type": "code",
   "execution_count": 6,
   "id": "d80296ae-0abb-4746-a812-6b8d4ef56413",
   "metadata": {},
   "outputs": [
    {
     "ename": "NameError",
     "evalue": "name 'math' is not defined",
     "output_type": "error",
     "traceback": [
      "\u001b[1;31m---------------------------------------------------------------------------\u001b[0m",
      "\u001b[1;31mNameError\u001b[0m                                 Traceback (most recent call last)",
      "Cell \u001b[1;32mIn[6], line 1\u001b[0m\n\u001b[1;32m----> 1\u001b[0m math\u001b[38;5;241m.\u001b[39mpi\n",
      "\u001b[1;31mNameError\u001b[0m: name 'math' is not defined"
     ]
    }
   ],
   "source": [
    "math.pi"
   ]
  },
  {
   "cell_type": "code",
   "execution_count": 7,
   "id": "e1687951-a8aa-4629-81f0-6fc87dfe0f3a",
   "metadata": {},
   "outputs": [],
   "source": [
    "import math"
   ]
  },
  {
   "cell_type": "code",
   "execution_count": 8,
   "id": "4872cfbf-2962-409e-ae1e-4a54432a032d",
   "metadata": {},
   "outputs": [
    {
     "data": {
      "text/plain": [
       "3.141592653589793"
      ]
     },
     "execution_count": 8,
     "metadata": {},
     "output_type": "execute_result"
    }
   ],
   "source": [
    "math.pi"
   ]
  },
  {
   "cell_type": "code",
   "execution_count": 9,
   "id": "1ccb43f1-2bf8-4084-b48f-9993d3c4ad05",
   "metadata": {},
   "outputs": [
    {
     "ename": "TypeError",
     "evalue": "'float' object is not callable",
     "output_type": "error",
     "traceback": [
      "\u001b[1;31m---------------------------------------------------------------------------\u001b[0m",
      "\u001b[1;31mTypeError\u001b[0m                                 Traceback (most recent call last)",
      "Cell \u001b[1;32mIn[9], line 1\u001b[0m\n\u001b[1;32m----> 1\u001b[0m math\u001b[38;5;241m.\u001b[39mpi()\n",
      "\u001b[1;31mTypeError\u001b[0m: 'float' object is not callable"
     ]
    }
   ],
   "source": [
    "math.pi()"
   ]
  },
  {
   "cell_type": "markdown",
   "id": "0c1bd0a6-2497-40c4-9027-2e6b9dc01d49",
   "metadata": {},
   "source": [
    "() : function or methods\n",
    "\n",
    "only functions or methods callable\n",
    "\n",
    "if something not callable means it is not function\n",
    "\n",
    "it is not function means, you need to remove bracket\n",
    "\n",
    "bound method means ===== add brackets"
   ]
  },
  {
   "cell_type": "markdown",
   "id": "911b3abd-1cf0-450e-9352-2a92492bb0f9",
   "metadata": {},
   "source": [
    "**time**"
   ]
  },
  {
   "cell_type": "code",
   "execution_count": 11,
   "id": "ce4881f6-be51-4b27-b446-f7d172969977",
   "metadata": {},
   "outputs": [
    {
     "name": "stdout",
     "output_type": "stream",
     "text": [
      "Father:Hello baby\n",
      "Daughter:Hi papa! How are you\n",
      "Father: Do you have school today?\n"
     ]
    }
   ],
   "source": [
    "import time\n",
    "print(\"Father:Hello baby\")\n",
    "time.sleep(2)\n",
    "print(\"Daughter:Hi papa! How are you\")\n",
    "time.sleep(2)\n",
    "print(\"Father: Do you have school today?\")"
   ]
  },
  {
   "cell_type": "markdown",
   "id": "66ebb9bb-5acd-4db2-975f-ce3f8f011b1a",
   "metadata": {},
   "source": [
    "Computer Vision is used to image operations\n",
    "Video operations\n",
    "\n",
    "We called it as opencv\n",
    "\n",
    "package name : cv2"
   ]
  },
  {
   "cell_type": "code",
   "execution_count": 12,
   "id": "5b60338f-a41a-46fa-b479-43fb807e897e",
   "metadata": {},
   "outputs": [
    {
     "ename": "ModuleNotFoundError",
     "evalue": "No module named 'cv2'",
     "output_type": "error",
     "traceback": [
      "\u001b[1;31m---------------------------------------------------------------------------\u001b[0m",
      "\u001b[1;31mModuleNotFoundError\u001b[0m                       Traceback (most recent call last)",
      "Cell \u001b[1;32mIn[12], line 1\u001b[0m\n\u001b[1;32m----> 1\u001b[0m \u001b[38;5;28;01mimport\u001b[39;00m \u001b[38;5;21;01mcv2\u001b[39;00m\n",
      "\u001b[1;31mModuleNotFoundError\u001b[0m: No module named 'cv2'"
     ]
    }
   ],
   "source": [
    "import cv2"
   ]
  },
  {
   "cell_type": "markdown",
   "id": "4dfb7902-b696-45b0-84e6-cbfb45f62d10",
   "metadata": {},
   "source": [
    "- Whenever module not found we need to install it\n",
    "\n",
    "- Here our package name is cv2\n",
    "\n",
    "- 99% the installation will be like this\n",
    "\n",
    "pip install <package name>\n",
    "\n",
    "- some packages installation name will different\n",
    "   and python import name is different\n",
    "\n",
    "- in order to install we need internet , search in google\n",
    "\n",
    "- if internet problem occures while installing we will get http error\n",
    "\n",
    "- if you want to install jupyter notebook we need add ! mark to install packages\n",
    "\n",
    "- in anaconda prompt no need of ! mark \n",
    "\n",
    "- directly name you can provide\n"
   ]
  },
  {
   "cell_type": "code",
   "execution_count": 14,
   "id": "1b8a6474-07ff-4995-8a98-55277a642f57",
   "metadata": {},
   "outputs": [],
   "source": [
    "import cv2"
   ]
  },
  {
   "cell_type": "code",
   "execution_count": 15,
   "id": "8bc1eef0-4ebd-41be-a3b5-5c2559c93be4",
   "metadata": {},
   "outputs": [],
   "source": [
    "import streamlit"
   ]
  },
  {
   "cell_type": "markdown",
   "id": "95f8f2f4-003a-4df3-9fb6-877fca511fdd",
   "metadata": {},
   "source": [
    "**note**\n",
    "\n",
    "pip freeze is command to know the already existed packages in our laptop"
   ]
  },
  {
   "cell_type": "code",
   "execution_count": 16,
   "id": "802241ac-500f-474c-8bba-a900bb841e6e",
   "metadata": {},
   "outputs": [],
   "source": [
    "import numpy"
   ]
  },
  {
   "cell_type": "code",
   "execution_count": 17,
   "id": "ab238a7e-6f3c-4273-950d-8c4831ef1a80",
   "metadata": {},
   "outputs": [
    {
     "data": {
      "text/plain": [
       "<module 'numpy' from 'C:\\\\Users\\\\Admin\\\\anaconda3\\\\Lib\\\\site-packages\\\\numpy\\\\__init__.py'>"
      ]
     },
     "execution_count": 17,
     "metadata": {},
     "output_type": "execute_result"
    }
   ],
   "source": [
    "numpy"
   ]
  },
  {
   "cell_type": "code",
   "execution_count": 18,
   "id": "a60acaf2-3476-473b-bdbe-3fdc46f3d5e6",
   "metadata": {},
   "outputs": [
    {
     "name": "stdout",
     "output_type": "stream",
     "text": [
      "30\n"
     ]
    }
   ],
   "source": [
    "#hard coding\n",
    "#we are fixing the values\n",
    "\n",
    "number1=10\n",
    "number2=20\n",
    "add=number1+number2\n",
    "print(add)"
   ]
  },
  {
   "cell_type": "code",
   "execution_count": 22,
   "id": "b6b3d411-2748-4e14-8194-f4d080931ab4",
   "metadata": {},
   "outputs": [
    {
     "name": "stdin",
     "output_type": "stream",
     "text": [
      "Enter number1: 100\n",
      "Enter number2: 200\n"
     ]
    },
    {
     "name": "stdout",
     "output_type": "stream",
     "text": [
      "300\n"
     ]
    }
   ],
   "source": [
    "#Dynamic (keyboard)\n",
    "number1=eval(input(\"Enter number1:\"))\n",
    "number2=eval(input(\"Enter number2:\"))\n",
    "add=number1+number2\n",
    "print(add)"
   ]
  },
  {
   "cell_type": "code",
   "execution_count": 21,
   "id": "5556ac32-4ac9-4ecc-ba82-0fed633a8dbe",
   "metadata": {},
   "outputs": [
    {
     "name": "stdout",
     "output_type": "stream",
     "text": [
      "Addition of 83 and 357 is 440\n"
     ]
    }
   ],
   "source": [
    "#we can take the numbers randomly also\n",
    "import random\n",
    "number1=random.randint(1,100)\n",
    "number2=random.randint(200,500)\n",
    "add=number1+number2\n",
    "print(f\"Addition of {number1} and {number2} is {add}\")\n"
   ]
  },
  {
   "cell_type": "markdown",
   "id": "c703b9f0-278c-4e1b-9bde-ee460e51f29d",
   "metadata": {},
   "source": [
    "**How we pass the numbers**\n",
    "\n",
    "- Hard codings\n",
    "\n",
    "- using keyboard\n",
    "\n",
    "- using random packages,\n"
   ]
  },
  {
   "cell_type": "code",
   "execution_count": 23,
   "id": "1fd04556-759f-40ff-9143-02f4d9fabb97",
   "metadata": {},
   "outputs": [
    {
     "name": "stdin",
     "output_type": "stream",
     "text": [
      "Enter the n2: 30\n"
     ]
    },
    {
     "name": "stdout",
     "output_type": "stream",
     "text": [
      "The average of 10 , 30 and 8 is 16.0\n"
     ]
    }
   ],
   "source": [
    "n1=10\n",
    "n2=eval(input(\"Enter the n2:\"))\n",
    "import random\n",
    "n3=random.randint(1,100)\n",
    "avg=(n1+n2+n3)/3\n",
    "print(f\"The average of {n1} , {n2} and {n3} is {avg}\")"
   ]
  },
  {
   "cell_type": "markdown",
   "id": "5a093fa6-569e-4d04-b298-65640a0c223b",
   "metadata": {},
   "source": [
    "**round**"
   ]
  },
  {
   "cell_type": "code",
   "execution_count": 25,
   "id": "390ae25a-4a71-4908-93fa-e97122c1dca1",
   "metadata": {},
   "outputs": [
    {
     "data": {
      "text/plain": [
       "213"
      ]
     },
     "execution_count": 25,
     "metadata": {},
     "output_type": "execute_result"
    }
   ],
   "source": [
    "avg=213.213216546465651\n",
    "round(avg)"
   ]
  },
  {
   "cell_type": "code",
   "execution_count": 26,
   "id": "5f6054b2-377f-4db3-8c6f-dc86ae7ef56a",
   "metadata": {},
   "outputs": [
    {
     "data": {
      "text/plain": [
       "213.21"
      ]
     },
     "execution_count": 26,
     "metadata": {},
     "output_type": "execute_result"
    }
   ],
   "source": [
    "avg=213.213265464\n",
    "round(avg,2)"
   ]
  },
  {
   "cell_type": "code",
   "execution_count": 27,
   "id": "cfd27c41-9dd4-4318-8499-1763bfac304e",
   "metadata": {},
   "outputs": [
    {
     "data": {
      "text/plain": [
       "21.3"
      ]
     },
     "execution_count": 27,
     "metadata": {},
     "output_type": "execute_result"
    }
   ],
   "source": [
    "avg=21.288484\n",
    "round(avg,1)"
   ]
  },
  {
   "cell_type": "code",
   "execution_count": 29,
   "id": "97bdd2ca-8fe7-4b7c-9d78-b79b31eedd4b",
   "metadata": {},
   "outputs": [
    {
     "name": "stdin",
     "output_type": "stream",
     "text": [
      "Enter the n2: 15\n"
     ]
    },
    {
     "name": "stdout",
     "output_type": "stream",
     "text": [
      "The average of 10 , 15 and 36 is 20.333\n"
     ]
    }
   ],
   "source": [
    "n1=10\n",
    "n2=eval(input(\"Enter the n2:\"))\n",
    "import random\n",
    "n3=random.randint(1,100)\n",
    "avg=round((n1+n2+n3)/3,3)\n",
    "print(f\"The average of {n1} , {n2} and {n3} is {avg}\")"
   ]
  },
  {
   "cell_type": "code",
   "execution_count": 32,
   "id": "570177cb-bbfc-4fcc-ac2e-1638d276e523",
   "metadata": {},
   "outputs": [
    {
     "name": "stdin",
     "output_type": "stream",
     "text": [
      "Enter the n2: 101.5\n"
     ]
    },
    {
     "name": "stdout",
     "output_type": "stream",
     "text": [
      "The average of 10 , 101.5 and 85 is 65.5\n"
     ]
    }
   ],
   "source": [
    "n1=10\n",
    "n2=eval(input(\"Enter the n2:\"))\n",
    "import random\n",
    "n3=random.randint(1,100)\n",
    "avg=(n1+n2+n3)/3\n",
    "avg1=round(avg,3)\n",
    "print(f\"The average of {n1} , {n2} and {n3} is {avg1}\")"
   ]
  },
  {
   "cell_type": "code",
   "execution_count": null,
   "id": "b7ce617b-c97b-4c8c-a052-3106c09f4887",
   "metadata": {},
   "outputs": [],
   "source": []
  }
 ],
 "metadata": {
  "kernelspec": {
   "display_name": "Python 3 (ipykernel)",
   "language": "python",
   "name": "python3"
  },
  "language_info": {
   "codemirror_mode": {
    "name": "ipython",
    "version": 3
   },
   "file_extension": ".py",
   "mimetype": "text/x-python",
   "name": "python",
   "nbconvert_exporter": "python",
   "pygments_lexer": "ipython3",
   "version": "3.11.7"
  }
 },
 "nbformat": 4,
 "nbformat_minor": 5
}
