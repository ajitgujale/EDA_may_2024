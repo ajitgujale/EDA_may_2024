{
 "cells": [
  {
   "cell_type": "code",
   "execution_count": 1,
   "id": "65902e49-f1cd-4398-bf82-e52fbbb0cfb1",
   "metadata": {},
   "outputs": [
    {
     "name": "stdout",
     "output_type": "stream",
     "text": [
      "10\n"
     ]
    }
   ],
   "source": [
    "print(10)"
   ]
  },
  {
   "cell_type": "code",
   "execution_count": 2,
   "id": "6f164796-4862-4993-91dd-fb3e8bc54884",
   "metadata": {},
   "outputs": [
    {
     "name": "stdout",
     "output_type": "stream",
     "text": [
      "python\n"
     ]
    }
   ],
   "source": [
    "print('python')"
   ]
  },
  {
   "cell_type": "code",
   "execution_count": 4,
   "id": "4afe53c5-56a4-4bb5-abbd-8faec8ba41db",
   "metadata": {},
   "outputs": [
    {
     "name": "stdout",
     "output_type": "stream",
     "text": [
      "'10' 20 30\n"
     ]
    }
   ],
   "source": [
    "print(10,20,30)"
   ]
  },
  {
   "cell_type": "code",
   "execution_count": 4,
   "id": "f58744a3-600a-4ea8-9648-9a2159e85c80",
   "metadata": {},
   "outputs": [
    {
     "name": "stdout",
     "output_type": "stream",
     "text": [
      "10 10.5 Naresh IT True\n"
     ]
    }
   ],
   "source": [
    "print(10,10.5,'Naresh IT', True)"
   ]
  },
  {
   "cell_type": "code",
   "execution_count": 5,
   "id": "a8980bc6-5c8f-4c8f-bd5d-4776476bcfa0",
   "metadata": {},
   "outputs": [
    {
     "name": "stdout",
     "output_type": "stream",
     "text": [
      "10 10\n"
     ]
    }
   ],
   "source": [
    "n1=10\n",
    "n2=10\n",
    "print(n1,n2)"
   ]
  },
  {
   "cell_type": "code",
   "execution_count": 6,
   "id": "d17b2029-7a97-46aa-a1a3-b24b63bd3eb1",
   "metadata": {},
   "outputs": [
    {
     "name": "stdout",
     "output_type": "stream",
     "text": [
      "10\n",
      "20\n"
     ]
    },
    {
     "data": {
      "text/plain": [
       "(None, None)"
      ]
     },
     "execution_count": 6,
     "metadata": {},
     "output_type": "execute_result"
    }
   ],
   "source": [
    "print(10), print(20)"
   ]
  },
  {
   "cell_type": "code",
   "execution_count": null,
   "id": "79268db3-abea-42e6-9859-c5630e24bfd9",
   "metadata": {},
   "outputs": [],
   "source": [
    "#dont write(multiple) number of print horizontaly print(10), print(20)"
   ]
  },
  {
   "cell_type": "markdown",
   "id": "420a3db4-8cf8-42ed-8bb0-f6fb699e1312",
   "metadata": {},
   "source": [
    "**Format method**\n"
   ]
  },
  {
   "cell_type": "code",
   "execution_count": 8,
   "id": "1f24e03d-f976-4566-a307-d2376774d099",
   "metadata": {},
   "outputs": [
    {
     "name": "stdout",
     "output_type": "stream",
     "text": [
      "the addition of 100 and 200 is 300\n"
     ]
    }
   ],
   "source": [
    "a=100\n",
    "b=200\n",
    "c=a+b\n",
    "print(\"the addition of {} and {} is {}\".format(a,b,c))"
   ]
  },
  {
   "cell_type": "code",
   "execution_count": 11,
   "id": "6c7aecce-0558-4d2a-a58f-9bc5b4f26b90",
   "metadata": {},
   "outputs": [
    {
     "name": "stdout",
     "output_type": "stream",
     "text": [
      "My name is Ajit . my age is 30 and live in solapur\n"
     ]
    }
   ],
   "source": [
    "a='My name is Ajit'\n",
    "b='my age is 30'\n",
    "c='live in solapur'\n",
    "print(\"{} . {} and {}\".format(a,b,c))"
   ]
  },
  {
   "cell_type": "code",
   "execution_count": 13,
   "id": "d941b350-4f0e-43d0-b176-172721a37f57",
   "metadata": {},
   "outputs": [
    {
     "name": "stdout",
     "output_type": "stream",
     "text": [
      "my name is Python, im 10 years old and Im form hyd\n"
     ]
    }
   ],
   "source": [
    "name='Python'\n",
    "age=10\n",
    "city='hyd'\n",
    "print(\"my name is {}, im {} years old and Im form {}\".format(name,age,city))"
   ]
  },
  {
   "cell_type": "code",
   "execution_count": 14,
   "id": "f56ccfa5-3c65-423d-a112-a623223bb4e7",
   "metadata": {},
   "outputs": [
    {
     "name": "stdout",
     "output_type": "stream",
     "text": [
      "My name isSapana.My age of brain is of child and body of 30 years old .I lives in own imaganery world\n"
     ]
    }
   ],
   "source": [
    "name='Sapana'\n",
    "age='of brain is of child and body of 30 years old'\n",
    "city='lives in own imaganery world'\n",
    "print(\"My name is{}.My age {} .I {}\".format(name,age, city))"
   ]
  },
  {
   "cell_type": "code",
   "execution_count": 12,
   "id": "01229bb3-13bd-4928-b4b6-97b530f15826",
   "metadata": {},
   "outputs": [
    {
     "name": "stdout",
     "output_type": "stream",
     "text": [
      "my name isPython, im 10 years old and Im form hyd\n"
     ]
    }
   ],
   "source": [
    "name='Python'\n",
    "age=10\n",
    "city='hyd'\n",
    "print(\"my name is{}, im {} years old and Im form {}\".format(name,age,city))"
   ]
  },
  {
   "cell_type": "code",
   "execution_count": 14,
   "id": "23c889d4-849a-4fc8-b468-e8f454374680",
   "metadata": {},
   "outputs": [
    {
     "name": "stdout",
     "output_type": "stream",
     "text": [
      "my name isajit, I want to become data scientist in google\n"
     ]
    }
   ],
   "source": [
    "name='ajit'\n",
    "role='data scientist'\n",
    "company='google'\n",
    "print(\"my name is{}, I want to become {} in {}\".format(name,role,company))"
   ]
  },
  {
   "cell_type": "markdown",
   "id": "11427f75-c411-4ee3-a96a-6e050d6af1b2",
   "metadata": {},
   "source": [
    "**f (function) string method**"
   ]
  },
  {
   "cell_type": "code",
   "execution_count": 15,
   "id": "88affca0-ceac-4fe8-bbf0-1ee44ef88336",
   "metadata": {},
   "outputs": [
    {
     "name": "stdout",
     "output_type": "stream",
     "text": [
      "the additon of 100 and 200 is 300\n"
     ]
    }
   ],
   "source": [
    "a=100\n",
    "b=200\n",
    "c=a+b\n",
    "print(f\"the additon of {a} and {b} is {c}\")"
   ]
  },
  {
   "cell_type": "code",
   "execution_count": 18,
   "id": "ed3fbb9b-0c3b-4a59-8d26-ac74f69f1f74",
   "metadata": {},
   "outputs": [
    {
     "name": "stdout",
     "output_type": "stream",
     "text": [
      "my name isPython, im 10 years old and Im form hyd\n"
     ]
    }
   ],
   "source": [
    "name='Python'\n",
    "age=10\n",
    "city='hyd'\n",
    "print(f\"my name is{name}, im {age} years old and Im form {city}\")"
   ]
  },
  {
   "cell_type": "code",
   "execution_count": 15,
   "id": "98bcdf07-0369-45a6-a450-c267b8e962d5",
   "metadata": {},
   "outputs": [
    {
     "name": "stdout",
     "output_type": "stream",
     "text": [
      "My Name is Ajit\n",
      "My age is 30\n",
      "I live in maharashtra\n"
     ]
    }
   ],
   "source": [
    "name='Ajit'\n",
    "age=30\n",
    "state='maharashtra'\n",
    "\n",
    "print(f\"My Name is {name}\")\n",
    "print(f\"My age is {30}\")\n",
    "print(f\"I live in {state}\")\n"
   ]
  },
  {
   "cell_type": "code",
   "execution_count": 20,
   "id": "958ba5cd-49bf-41ce-bcd1-08006f53e9d8",
   "metadata": {},
   "outputs": [
    {
     "name": "stdout",
     "output_type": "stream",
     "text": [
      "My Name is Ajit, my name age 30 and I live in maharashtra\n"
     ]
    }
   ],
   "source": [
    "name='Ajit'\n",
    "age=30\n",
    "state='maharashtra'\n",
    "print(\"My Name is {}, my name age {} and I live in {}\".format(name,age,state))"
   ]
  },
  {
   "cell_type": "code",
   "execution_count": 2,
   "id": "daa2e54e-b0e1-4526-96ee-3fab3c400b62",
   "metadata": {},
   "outputs": [
    {
     "name": "stdout",
     "output_type": "stream",
     "text": [
      "avarage of 100 and 200 is 150.0\n"
     ]
    }
   ],
   "source": [
    "a=100\n",
    "b=200\n",
    "average=(a+b)/2\n",
    "print(f\"avarage of {a} and {b} is {average}\")"
   ]
  },
  {
   "cell_type": "code",
   "execution_count": 3,
   "id": "0f8f48ae-2dd4-4819-ba13-eb44c9228500",
   "metadata": {},
   "outputs": [
    {
     "name": "stdout",
     "output_type": "stream",
     "text": [
      "avarage of 100 and 200 is 150.0\n"
     ]
    }
   ],
   "source": [
    "a=100\n",
    "b=200\n",
    "average=(a+b)/2\n",
    "print(\"avarage of {} and {} is {}\".format(a,b,average))"
   ]
  },
  {
   "cell_type": "code",
   "execution_count": 7,
   "id": "368e7e4d-6743-43c6-8006-994e830e312d",
   "metadata": {},
   "outputs": [
    {
     "name": "stdout",
     "output_type": "stream",
     "text": [
      "if the radius is 21 and pie value is 3.14 then area of circl 1384.74\n"
     ]
    }
   ],
   "source": [
    "r=21\n",
    "pi=3.14\n",
    "area=pi*r*r\n",
    "print(f\"if the radius is {r} and pie value is {pi} then area of circl {area}\")"
   ]
  },
  {
   "cell_type": "code",
   "execution_count": 8,
   "id": "a7d044d5-6436-402e-aa20-ee1d82524f62",
   "metadata": {},
   "outputs": [
    {
     "name": "stdout",
     "output_type": "stream",
     "text": [
      "the are of cirle is :1384.74\n"
     ]
    }
   ],
   "source": [
    "r=21\n",
    "pi=3.14\n",
    "area=pi*r*r\n",
    "print(f\"the are of cirle is :{area}\")"
   ]
  },
  {
   "cell_type": "code",
   "execution_count": 11,
   "id": "867870b2-b377-46ac-a24a-98becabb8c19",
   "metadata": {},
   "outputs": [
    {
     "name": "stdout",
     "output_type": "stream",
     "text": [
      "the are of cirle is :1384.74\n"
     ]
    }
   ],
   "source": [
    "r=21\n",
    "pi=3.14\n",
    "area=pi*r*r\n",
    "print(\"the are of cirle is :{}\".format(area))"
   ]
  },
  {
   "cell_type": "code",
   "execution_count": 12,
   "id": "91272649-0200-4dad-becc-1f75eea484c0",
   "metadata": {},
   "outputs": [
    {
     "name": "stdout",
     "output_type": "stream",
     "text": [
      "Area of Triangle is : 40.0\n"
     ]
    }
   ],
   "source": [
    "b=10\n",
    "h=8\n",
    "area=0.5*b*h\n",
    "print(f\"Area of Triangle is : {area}\")"
   ]
  },
  {
   "cell_type": "code",
   "execution_count": 15,
   "id": "bb525664-8c7d-4d67-8aa5-8037b260341a",
   "metadata": {},
   "outputs": [
    {
     "name": "stdout",
     "output_type": "stream",
     "text": [
      "total bill is 1100.0\n"
     ]
    }
   ],
   "source": [
    "bill=1000\n",
    "tip=(10/100)*1000\n",
    "total=bill+tip\n",
    "print(f\"total bill is {total}\")"
   ]
  },
  {
   "cell_type": "code",
   "execution_count": 36,
   "id": "0cf6d126-08e7-47f4-ad26-abcd7692f165",
   "metadata": {},
   "outputs": [
    {
     "name": "stdout",
     "output_type": "stream",
     "text": [
      "total bill is 1100.0\n"
     ]
    }
   ],
   "source": [
    "bill=1000\n",
    "tip_percentage=10\n",
    "tip=(tip_percentage/100)*bill\n",
    "total=bill+tip\n",
    "print(f\"total bill is {total}\")"
   ]
  },
  {
   "cell_type": "code",
   "execution_count": 23,
   "id": "65439d13-7509-474f-ac66-d3274ff70441",
   "metadata": {},
   "outputs": [
    {
     "name": "stdout",
     "output_type": "stream",
     "text": [
      "10\n",
      "20\n"
     ]
    }
   ],
   "source": [
    "print(10)\n",
    "print(20)"
   ]
  },
  {
   "cell_type": "markdown",
   "id": "5712f42f-72f9-44fe-8a12-6b43357438f0",
   "metadata": {},
   "source": [
    "**end operator**\n",
    "\n",
    "  - to print statement horizontally\n",
    "  - multiple print statements in single line"
   ]
  },
  {
   "cell_type": "code",
   "execution_count": 25,
   "id": "dc01868f-02c2-4d82-be11-ff4c51e8cf6d",
   "metadata": {},
   "outputs": [
    {
     "name": "stdout",
     "output_type": "stream",
     "text": [
      "10 20\n"
     ]
    }
   ],
   "source": [
    "print(10,end=' ')\n",
    "print(20)"
   ]
  },
  {
   "cell_type": "code",
   "execution_count": 27,
   "id": "cca888dd-0033-47d2-afb5-0202d45f9dcc",
   "metadata": {},
   "outputs": [
    {
     "name": "stdout",
     "output_type": "stream",
     "text": [
      "10     20\n"
     ]
    }
   ],
   "source": [
    "print(10,end='     ')\n",
    "print(20)"
   ]
  },
  {
   "cell_type": "code",
   "execution_count": 28,
   "id": "f98703ba-bf9a-484c-80ef-b7e7a9aa67f4",
   "metadata": {},
   "outputs": [
    {
     "name": "stdout",
     "output_type": "stream",
     "text": [
      "10&20\n"
     ]
    }
   ],
   "source": [
    "print(10,end='&')\n",
    "print(20)"
   ]
  },
  {
   "cell_type": "code",
   "execution_count": 31,
   "id": "3d6be5c1-cb62-45f9-96f5-70ad8840dada",
   "metadata": {},
   "outputs": [
    {
     "name": "stdout",
     "output_type": "stream",
     "text": [
      "10  20  30\n"
     ]
    }
   ],
   "source": [
    "print(10,end='  ')\n",
    "print(20,end='  ')\n",
    "print(30)"
   ]
  },
  {
   "cell_type": "code",
   "execution_count": null,
   "id": "078e6621-d205-4826-8c8d-f9b72e8434eb",
   "metadata": {},
   "outputs": [],
   "source": [
    "$sep$\n",
    "separate the multiple values in single print statement "
   ]
  },
  {
   "cell_type": "code",
   "execution_count": 33,
   "id": "99bc1894-471a-4622-b85a-dacd8180a64d",
   "metadata": {},
   "outputs": [
    {
     "name": "stdout",
     "output_type": "stream",
     "text": [
      "10&20&30\n"
     ]
    }
   ],
   "source": [
    "print(10,20,30,sep='&')"
   ]
  },
  {
   "cell_type": "code",
   "execution_count": 34,
   "id": "1be85817-4b50-4136-83d9-e2bb15a82b82",
   "metadata": {},
   "outputs": [
    {
     "name": "stdout",
     "output_type": "stream",
     "text": [
      "10--->20--->30\n"
     ]
    }
   ],
   "source": [
    "print(10,20,30,sep='--->')"
   ]
  },
  {
   "cell_type": "code",
   "execution_count": 35,
   "id": "3cdbae9e-7d4d-4814-b559-0efacd105632",
   "metadata": {},
   "outputs": [
    {
     "name": "stdout",
     "output_type": "stream",
     "text": [
      "the additon of 5 adn 3 id 8.\n"
     ]
    }
   ],
   "source": [
    "print(f\"the additon of {5} adn {3} id {5+3}.\")"
   ]
  },
  {
   "cell_type": "code",
   "execution_count": null,
   "id": "6e79b366-dd49-4f25-88da-85c8be9832ce",
   "metadata": {},
   "outputs": [],
   "source": [
    "print(\"the additon of {} and {} is {}\".format(5"
   ]
  }
 ],
 "metadata": {
  "kernelspec": {
   "display_name": "Python 3 (ipykernel)",
   "language": "python",
   "name": "python3"
  },
  "language_info": {
   "codemirror_mode": {
    "name": "ipython",
    "version": 3
   },
   "file_extension": ".py",
   "mimetype": "text/x-python",
   "name": "python",
   "nbconvert_exporter": "python",
   "pygments_lexer": "ipython3",
   "version": "3.11.7"
  }
 },
 "nbformat": 4,
 "nbformat_minor": 5
}
