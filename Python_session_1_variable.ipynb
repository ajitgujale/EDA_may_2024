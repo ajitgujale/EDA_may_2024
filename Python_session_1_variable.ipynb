{
 "cells": [
  {
   "cell_type": "markdown",
   "id": "fad7b049-cd60-4896-bbb7-5995d10b7b67",
   "metadata": {},
   "source": [
    "# Varioable\n",
    "variable used for "
   ]
  },
  {
   "cell_type": "code",
   "execution_count": 1,
   "id": "42e3366a-c261-4c4a-92f7-6e7391ba90e0",
   "metadata": {},
   "outputs": [
    {
     "data": {
      "text/plain": [
       "100"
      ]
     },
     "execution_count": 1,
     "metadata": {},
     "output_type": "execute_result"
    }
   ],
   "source": [
    "number=100 # value 100 stored in a variable name called \"number\"\n",
    "number"
   ]
  },
  {
   "cell_type": "code",
   "execution_count": 2,
   "id": "250706cb-8b75-46a4-a751-58ff339f0024",
   "metadata": {},
   "outputs": [
    {
     "data": {
      "text/plain": [
       "200"
      ]
     },
     "execution_count": 2,
     "metadata": {},
     "output_type": "execute_result"
    }
   ],
   "source": [
    "number=200 #value 200 stored in a variable name called number\n",
    "number"
   ]
  },
  {
   "cell_type": "markdown",
   "id": "95616009-0122-4f04-8628-3096f2eb899a",
   "metadata": {},
   "source": [
    "**Note**\n",
    "\n",
    "- python is step by step process\n",
    "\n",
    "- python will take last output as the latest value\n",
    "\n",
    "- in above code we are using same variable : number \n",
    "\n",
    "- but number value chaged two times\n",
    "\n",
    "- first time 100\n",
    "\n",
    "- second time 200\n",
    "\n",
    "- latest value 200\n"
   ]
  },
  {
   "cell_type": "code",
   "execution_count": 3,
   "id": "e185ca7f-50a0-44d7-857f-da723d1cf49f",
   "metadata": {},
   "outputs": [
    {
     "data": {
      "text/plain": [
       "200"
      ]
     },
     "execution_count": 3,
     "metadata": {},
     "output_type": "execute_result"
    }
   ],
   "source": [
    "NUMBER=200\n",
    "NUMBER"
   ]
  },
  {
   "cell_type": "code",
   "execution_count": 4,
   "id": "4fdcde54-c7fb-4b93-b22f-db5687f1e42a",
   "metadata": {},
   "outputs": [
    {
     "data": {
      "text/plain": [
       "(200, 200)"
      ]
     },
     "execution_count": 4,
     "metadata": {},
     "output_type": "execute_result"
    }
   ],
   "source": [
    "number, NUMBER"
   ]
  },
  {
   "cell_type": "code",
   "execution_count": 5,
   "id": "74ce5527-771f-4df2-b313-0c5bf26fca89",
   "metadata": {},
   "outputs": [
    {
     "data": {
      "text/plain": [
       "300"
      ]
     },
     "execution_count": 5,
     "metadata": {},
     "output_type": "execute_result"
    }
   ],
   "source": [
    "NUMber=300\n",
    "NUMber"
   ]
  },
  {
   "cell_type": "code",
   "execution_count": 6,
   "id": "e688d1bd-bada-4dfe-ae6b-6f4374826bb3",
   "metadata": {},
   "outputs": [
    {
     "data": {
      "text/plain": [
       "400"
      ]
     },
     "execution_count": 6,
     "metadata": {},
     "output_type": "execute_result"
    }
   ],
   "source": [
    "number123=400\n",
    "number123"
   ]
  },
  {
   "cell_type": "code",
   "execution_count": 7,
   "id": "c4feb47e-6eb5-42e5-a741-9d318e066044",
   "metadata": {},
   "outputs": [
    {
     "ename": "SyntaxError",
     "evalue": "invalid decimal literal (1181908654.py, line 1)",
     "output_type": "error",
     "traceback": [
      "\u001b[1;36m  Cell \u001b[1;32mIn[7], line 1\u001b[1;36m\u001b[0m\n\u001b[1;33m    123number=500\u001b[0m\n\u001b[1;37m      ^\u001b[0m\n\u001b[1;31mSyntaxError\u001b[0m\u001b[1;31m:\u001b[0m invalid decimal literal\n"
     ]
    }
   ],
   "source": [
    "123number=500\n",
    "123number"
   ]
  },
  {
   "cell_type": "code",
   "execution_count": 8,
   "id": "a2cf888d-38ad-4209-a7d8-868bb5b4fad6",
   "metadata": {},
   "outputs": [
    {
     "ename": "SyntaxError",
     "evalue": "cannot assign to expression here. Maybe you meant '==' instead of '='? (1823274275.py, line 1)",
     "output_type": "error",
     "traceback": [
      "\u001b[1;36m  Cell \u001b[1;32mIn[8], line 1\u001b[1;36m\u001b[0m\n\u001b[1;33m    numb%er=600\u001b[0m\n\u001b[1;37m    ^\u001b[0m\n\u001b[1;31mSyntaxError\u001b[0m\u001b[1;31m:\u001b[0m cannot assign to expression here. Maybe you meant '==' instead of '='?\n"
     ]
    }
   ],
   "source": [
    "numb%er=600\n",
    "numb%er"
   ]
  },
  {
   "cell_type": "code",
   "execution_count": 9,
   "id": "b21308d4-5d60-4f74-994c-7be454fcaaa2",
   "metadata": {},
   "outputs": [
    {
     "ename": "SyntaxError",
     "evalue": "invalid syntax (2656576567.py, line 1)",
     "output_type": "error",
     "traceback": [
      "\u001b[1;36m  Cell \u001b[1;32mIn[9], line 1\u001b[1;36m\u001b[0m\n\u001b[1;33m    number one=800\u001b[0m\n\u001b[1;37m           ^\u001b[0m\n\u001b[1;31mSyntaxError\u001b[0m\u001b[1;31m:\u001b[0m invalid syntax\n"
     ]
    }
   ],
   "source": [
    "number one=800\n",
    "number one"
   ]
  },
  {
   "cell_type": "code",
   "execution_count": 10,
   "id": "a6a2e153-403d-416e-877f-a3259a0b8210",
   "metadata": {},
   "outputs": [
    {
     "data": {
      "text/plain": [
       "300"
      ]
     },
     "execution_count": 10,
     "metadata": {},
     "output_type": "execute_result"
    }
   ],
   "source": [
    "number_one=300\n",
    "number_one\n"
   ]
  },
  {
   "cell_type": "code",
   "execution_count": 11,
   "id": "92c7744d-bd41-4f7d-9023-b690479fb709",
   "metadata": {},
   "outputs": [
    {
     "data": {
      "text/plain": [
       "1000"
      ]
     },
     "execution_count": 11,
     "metadata": {},
     "output_type": "execute_result"
    }
   ],
   "source": [
    "_=1000\n",
    "_"
   ]
  },
  {
   "cell_type": "code",
   "execution_count": 12,
   "id": "887a9c19-dbed-4ca1-b47b-308850978f84",
   "metadata": {},
   "outputs": [
    {
     "data": {
      "text/plain": [
       "(100, 200)"
      ]
     },
     "execution_count": 12,
     "metadata": {},
     "output_type": "execute_result"
    }
   ],
   "source": [
    "n1=100,200\n",
    "n1"
   ]
  },
  {
   "cell_type": "code",
   "execution_count": 13,
   "id": "ab5c12ee-d648-40d1-b02e-9d9678c6abf0",
   "metadata": {},
   "outputs": [
    {
     "ename": "TypeError",
     "evalue": "cannot unpack non-iterable int object",
     "output_type": "error",
     "traceback": [
      "\u001b[1;31m---------------------------------------------------------------------------\u001b[0m",
      "\u001b[1;31mTypeError\u001b[0m                                 Traceback (most recent call last)",
      "Cell \u001b[1;32mIn[13], line 1\u001b[0m\n\u001b[1;32m----> 1\u001b[0m n2,n3\u001b[38;5;241m=\u001b[39m\u001b[38;5;241m200\u001b[39m\n\u001b[0;32m      2\u001b[0m n2,n3\n",
      "\u001b[1;31mTypeError\u001b[0m: cannot unpack non-iterable int object"
     ]
    }
   ],
   "source": [
    "n2,n3=200\n",
    "n2,n3"
   ]
  },
  {
   "cell_type": "code",
   "execution_count": 15,
   "id": "f1fa3e43-d283-4dd6-9af0-b172aaeacfd1",
   "metadata": {},
   "outputs": [
    {
     "name": "stdout",
     "output_type": "stream",
     "text": [
      "100\n",
      "200\n"
     ]
    }
   ],
   "source": [
    "n4,n5=100,200\n",
    "n4,n5\n",
    "print(n4)\n",
    "print(n5)"
   ]
  },
  {
   "cell_type": "code",
   "execution_count": null,
   "id": "01996dc4-a4b6-4c5f-abd0-fe1b5a02212b",
   "metadata": {},
   "outputs": [],
   "source": [
    "number=200\n",
    "NUMBER=300\n",
    "NUMber=400\n",
    "number123=500\n",
    "123number=600\n",
    "\n",
    "num%er=700\n",
    "number one= 800\n",
    "number_one=900\n",
    "_1000\n",
    "n1\n"
   ]
  },
  {
   "cell_type": "code",
   "execution_count": null,
   "id": "ff7508ad-8e8f-4393-b04b-a9b7bde8ba32",
   "metadata": {},
   "outputs": [],
   "source": [
    "if\n",
    "while\n",
    "else\n",
    "\n"
   ]
  },
  {
   "cell_type": "code",
   "execution_count": null,
   "id": "a013cc41-1df9-4b25-89d0-db8f2f7b6528",
   "metadata": {},
   "outputs": [],
   "source": [
    "- Python variable are case sensitive\n",
    "\n",
    "- variables can be declare as capital letters\n",
    "\n",
    "- variables can be declare s small letters                                                                                                                                                                                       \n",
    "\n",
    "-  variables can not start with Numbers ( pprefix)\n",
    "\n",
    "-  Numbers can be suffix of the variables\n",
    "\n",
    "- Variables can not have specail characters except **underscore**\n",
    "\n",
    "- Variables does not have space between them\n",
    "\n",
    "- only underscore is possible\n",
    "\n",
    "- keywords or reserved words can not use as variable\n",
    "\n",
    "- two values can assign to single variable\n",
    "\n",
    "- one value can not assign to two variable\n"
   ]
  },
  {
   "cell_type": "code",
   "execution_count": 3,
   "id": "fdd1dfac-484f-4ec7-a7f2-aeb1abfe2b71",
   "metadata": {},
   "outputs": [
    {
     "data": {
      "text/plain": [
       "(300, 100, 200)"
      ]
     },
     "execution_count": 3,
     "metadata": {},
     "output_type": "execute_result"
    }
   ],
   "source": [
    "number=100\n",
    "Number=200\n",
    "NUMBER=300\n",
    "NUMBER,number,Number"
   ]
  },
  {
   "cell_type": "code",
   "execution_count": null,
   "id": "0a6e15c2-c66c-468c-a4ea-8b5a96925cae",
   "metadata": {},
   "outputs": [],
   "source": []
  }
 ],
 "metadata": {
  "kernelspec": {
   "display_name": "Python 3 (ipykernel)",
   "language": "python",
   "name": "python3"
  },
  "language_info": {
   "codemirror_mode": {
    "name": "ipython",
    "version": 3
   },
   "file_extension": ".py",
   "mimetype": "text/x-python",
   "name": "python",
   "nbconvert_exporter": "python",
   "pygments_lexer": "ipython3",
   "version": "3.11.7"
  }
 },
 "nbformat": 4,
 "nbformat_minor": 5
}
