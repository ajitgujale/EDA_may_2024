{
 "cells": [
  {
   "cell_type": "code",
   "execution_count": null,
   "id": "d7729660-d7e0-4292-b0fb-a174bc0c4bc1",
   "metadata": {},
   "outputs": [],
   "source": [
    "**Lambda functions**\n",
    "\n",
    "- Lambda functions represents funtion concept\n",
    "\n",
    "- But we can write in a single line\n",
    "\n",
    "- like list comprehension, lambda functions are similar\n",
    "\n",
    "- It will decrese the time complexity\n",
    "\n",
    "- always remember if we use many for loops or many condition using multiple line, the time complexity will increese\n"
   ]
  },
  {
   "cell_type": "code",
   "execution_count": null,
   "id": "73bf7777-847e-4648-9e36-c41b2cd311fd",
   "metadata": {},
   "outputs": [],
   "source": [
    "**it will use a keyword lambda**\n",
    "    \n",
    "- lambda<arguments>: <expression>"
   ]
  },
  {
   "cell_type": "code",
   "execution_count": null,
   "id": "a6df4c94-9639-4c47-840d-a1a29a87a641",
   "metadata": {},
   "outputs": [],
   "source": [
    "strings\n",
    "list \n",
    "tuple set\n",
    "dictionary\n",
    "lambda\n",
    "file handling\n",
    "oops:kwargs"
   ]
  },
  {
   "cell_type": "code",
   "execution_count": 1,
   "id": "08571702-40e2-4062-9a3c-f4bdfab1ce0e",
   "metadata": {},
   "outputs": [
    {
     "data": {
      "text/plain": [
       "20"
      ]
     },
     "execution_count": 1,
     "metadata": {},
     "output_type": "execute_result"
    }
   ],
   "source": [
    "def summ(n):\n",
    "    return(n+10)\n",
    "summ(10)"
   ]
  },
  {
   "cell_type": "code",
   "execution_count": null,
   "id": "6a01565c-54ad-48ea-ae02-5d38b2c961bc",
   "metadata": {},
   "outputs": [],
   "source": [
    "will we learn debuggung as will? logs ML azure\n"
   ]
  },
  {
   "cell_type": "markdown",
   "id": "2429d505-813a-4b2a-bc01-00d18ce5fef5",
   "metadata": {},
   "source": [
    "$Pattern-1$\n",
    "\n",
    "**Function with only one argument**\n",
    "\n",
    "- Function name\n",
    "\n",
    "- argument name\n",
    "\n",
    "- return output"
   ]
  },
  {
   "cell_type": "code",
   "execution_count": 6,
   "id": "d302cdfd-e472-47df-ae00-4f4f2e3cc226",
   "metadata": {},
   "outputs": [
    {
     "data": {
      "text/plain": [
       "20"
      ]
     },
     "execution_count": 6,
     "metadata": {},
     "output_type": "execute_result"
    }
   ],
   "source": [
    "#syntax : <function name >= lambda<argument name>: <return output>\n",
    "summ=lambda n:n+10 #fun in one line\n",
    "summ(10) # call the function\n",
    "#function name= summ\n",
    "#argument name=n\n",
    "#return output=n+10"
   ]
  },
  {
   "cell_type": "code",
   "execution_count": 3,
   "id": "906155b3-8298-4d1b-88b3-8a57c4e266e7",
   "metadata": {},
   "outputs": [
    {
     "data": {
      "text/plain": [
       "<function __main__.<lambda>(n)>"
      ]
     },
     "execution_count": 3,
     "metadata": {},
     "output_type": "execute_result"
    }
   ],
   "source": [
    "summ"
   ]
  },
  {
   "cell_type": "code",
   "execution_count": 7,
   "id": "7fc8860f-b065-4cd3-aeca-1c1642cd282b",
   "metadata": {},
   "outputs": [
    {
     "data": {
      "text/plain": [
       "200"
      ]
     },
     "execution_count": 7,
     "metadata": {},
     "output_type": "execute_result"
    }
   ],
   "source": [
    "summ=lambda n,p:n*p\n",
    "summ(10,20)"
   ]
  },
  {
   "cell_type": "code",
   "execution_count": 8,
   "id": "709521bb-51cb-4ad0-ba8f-c08cfd085542",
   "metadata": {},
   "outputs": [
    {
     "data": {
      "text/plain": [
       "15625"
      ]
     },
     "execution_count": 8,
     "metadata": {},
     "output_type": "execute_result"
    }
   ],
   "source": [
    "cube=lambda n: n**3\n",
    "cube(25)"
   ]
  },
  {
   "cell_type": "markdown",
   "id": "603d3634-879d-484c-99d2-b6aa5be866a0",
   "metadata": {},
   "source": [
    "$pattern-2$\n",
    "\n",
    "- two arguments"
   ]
  },
  {
   "cell_type": "code",
   "execution_count": 10,
   "id": "ab0d8baf-fead-4be4-ac30-d12f92d2d3e8",
   "metadata": {},
   "outputs": [
    {
     "data": {
      "text/plain": [
       "100"
      ]
     },
     "execution_count": 10,
     "metadata": {},
     "output_type": "execute_result"
    }
   ],
   "source": [
    "# syntax : <function name>= lambda <arg1>,<arg2>: <return out>\n",
    "summ=lambda a,b:a+b\n",
    "summ(50,50)"
   ]
  },
  {
   "cell_type": "code",
   "execution_count": 15,
   "id": "c19ad6d0-aa71-4324-b306-d1006118a16d",
   "metadata": {},
   "outputs": [
    {
     "data": {
      "text/plain": [
       "30"
      ]
     },
     "execution_count": 15,
     "metadata": {},
     "output_type": "execute_result"
    }
   ],
   "source": [
    "avg=lambda a,b,c:((a+b+c)/3)\n",
    "round(avg(30,50,10))"
   ]
  },
  {
   "cell_type": "code",
   "execution_count": 19,
   "id": "6b45031d-124a-4068-9a6f-7dc3bc972857",
   "metadata": {},
   "outputs": [
    {
     "data": {
      "text/plain": [
       "300"
      ]
     },
     "execution_count": 19,
     "metadata": {},
     "output_type": "execute_result"
    }
   ],
   "source": [
    "avg=lambda a,b,c=500:((a+b+c)/3)\n",
    "round(avg(200,200))"
   ]
  },
  {
   "cell_type": "markdown",
   "id": "b6721ba8-27bd-4bea-9c5b-d83fee9abc2b",
   "metadata": {},
   "source": [
    "$Pattern-4$\n",
    "\n",
    "**if-else**"
   ]
  },
  {
   "cell_type": "code",
   "execution_count": 21,
   "id": "5c0c3685-c8a5-4f4a-a9b8-c34ee463989e",
   "metadata": {},
   "outputs": [
    {
     "data": {
      "text/plain": [
       "20"
      ]
     },
     "execution_count": 21,
     "metadata": {},
     "output_type": "execute_result"
    }
   ],
   "source": [
    "max=lambda a,b: a if a>b else b\n",
    "max(10,20)"
   ]
  },
  {
   "cell_type": "code",
   "execution_count": 22,
   "id": "0c4f59a9-935a-4cb9-bc24-b73ea2813ab6",
   "metadata": {},
   "outputs": [
    {
     "data": {
      "text/plain": [
       "30"
      ]
     },
     "execution_count": 22,
     "metadata": {},
     "output_type": "execute_result"
    }
   ],
   "source": [
    "max=lambda a,b: a if a>b else b\n",
    "max(30,20)"
   ]
  },
  {
   "cell_type": "markdown",
   "id": "4c45af3b-7f53-446f-b015-01de36c4ed16",
   "metadata": {},
   "source": [
    "$Pattern-5$\n",
    "\n",
    "**list comprehension**"
   ]
  },
  {
   "cell_type": "code",
   "execution_count": 29,
   "id": "bd6d6846-143c-44cd-ba4f-a8288d7a2bd7",
   "metadata": {},
   "outputs": [
    {
     "data": {
      "text/plain": [
       "(<function __main__.<lambda>(i)>, ['hyd', 'chennai', 'mumbai'])"
      ]
     },
     "execution_count": 29,
     "metadata": {},
     "output_type": "execute_result"
    }
   ],
   "source": [
    "l=['hyd','chennai','mumbai']\n",
    "# lambda <variable>: <output>,<iterator>\n",
    "# variable:\n",
    "# output:i.capitalize()\n",
    "lambda i: i.capitalize(),l\n",
    "\n"
   ]
  },
  {
   "cell_type": "markdown",
   "id": "ee557f8f-bcd9-460f-a9fd-638e5504d897",
   "metadata": {},
   "source": [
    "**mapping**\n",
    "\n",
    "- the function and iterator are available now\n",
    "\n",
    "- we need to map both\n"
   ]
  },
  {
   "cell_type": "code",
   "execution_count": 31,
   "id": "4e03a14e-b3e8-42a8-a9aa-7bd27fd01ba1",
   "metadata": {},
   "outputs": [
    {
     "data": {
      "text/plain": [
       "<map at 0x17c981c79a0>"
      ]
     },
     "execution_count": 31,
     "metadata": {},
     "output_type": "execute_result"
    }
   ],
   "source": [
    "l=['hyd','chennai','mumbai']\n",
    "map(lambda i: i.capitalize(),l)"
   ]
  },
  {
   "cell_type": "code",
   "execution_count": null,
   "id": "b29d13d2-1526-46ab-8cdc-b12a84dfdd48",
   "metadata": {},
   "outputs": [],
   "source": [
    "# apply the  tuple to see the values"
   ]
  },
  {
   "cell_type": "code",
   "execution_count": 32,
   "id": "c4daf829-a7fc-47a4-970e-9b14c72c2aee",
   "metadata": {},
   "outputs": [
    {
     "data": {
      "text/plain": [
       "('Hyd', 'Chennai', 'Mumbai')"
      ]
     },
     "execution_count": 32,
     "metadata": {},
     "output_type": "execute_result"
    }
   ],
   "source": [
    "tuple(map(lambda i: i.capitalize(),l))"
   ]
  },
  {
   "cell_type": "code",
   "execution_count": null,
   "id": "62d92472-4c4c-4676-aab8-ed08c712f7eb",
   "metadata": {},
   "outputs": [],
   "source": [
    "# - step 1; Write your normal expression\n",
    "# ex: lambda variable: output, iterator ====.. \n",
    "# map the both \n"
   ]
  },
  {
   "cell_type": "code",
   "execution_count": null,
   "id": "99823307-336f-4340-b315-a9833bc60566",
   "metadata": {},
   "outputs": [],
   "source": [
    "- case1- function call with one argument\n",
    "\n",
    "    - lambda arguments : Expression\n",
    "\n",
    "    - lambda variables : return output\n",
    "\n",
    "- case-2 : Function call wtih two arguments\n",
    "\n",
    "    - lambda arg1,arg2 : Exression\n",
    "\n",
    "    - lambda var1,var2 : return output\n",
    "\n",
    "- case-3 : Function call with Default arguments\n",
    "\n",
    "    - lambda arg1,arg2=500 : Exression\n",
    "\n",
    "    - lambda var1,var2=500 : return output\n",
    "\n",
    "- case-4 : Function call with two arguments and if-else statement\n",
    "\n",
    "    - lambad arg1,arg2 : Expression\n",
    "\n",
    "    - lambda var1,var2 : if _output if_con else els_op forloop\n",
    "\n",
    "- case-5 : Lambada operations using List\n",
    "\n",
    "    - lambda arg: Expression, iterator\n",
    "\n",
    "    - map(lambda var: operation,list)\n"
   ]
  },
  {
   "cell_type": "code",
   "execution_count": 5,
   "id": "634448a2-fd8f-42df-a5e5-cafb693893a6",
   "metadata": {},
   "outputs": [
    {
     "data": {
      "text/plain": [
       "('HYD', 'CHENNAI', 'MUMBAI')"
      ]
     },
     "execution_count": 5,
     "metadata": {},
     "output_type": "execute_result"
    }
   ],
   "source": [
    "l=['hyd','chennai','mumbai']\n",
    "tuple(map(lambda i: i.upper(),l))"
   ]
  },
  {
   "cell_type": "code",
   "execution_count": 6,
   "id": "e87bafee-385e-41d2-8e56-56b984b51e51",
   "metadata": {},
   "outputs": [
    {
     "data": {
      "text/plain": [
       "(False, True, True, False)"
      ]
     },
     "execution_count": 6,
     "metadata": {},
     "output_type": "execute_result"
    }
   ],
   "source": [
    "l=['hyd','che#nnai','mum#bai','blr']\n",
    "# for i in l:\n",
    "#    if '#' in i:\n",
    "#        print(i)\n",
    "# mistake 1: tuple(map(lambda i: if'#' in i,l)) do not wire 'if'\n",
    "tuple(map(lambda i:'#' in i,l))"
   ]
  },
  {
   "cell_type": "markdown",
   "id": "2dccad6e-56e0-4630-a524-fa11d395af65",
   "metadata": {},
   "source": [
    "**filter**\n",
    "\n",
    "- whenever if conditions are there use filter"
   ]
  },
  {
   "cell_type": "code",
   "execution_count": 7,
   "id": "1c5f4b71-e48f-4710-936a-7610941f03ac",
   "metadata": {},
   "outputs": [
    {
     "data": {
      "text/plain": [
       "('che#nnai', 'mum#bai')"
      ]
     },
     "execution_count": 7,
     "metadata": {},
     "output_type": "execute_result"
    }
   ],
   "source": [
    "tuple(filter(lambda i:'#' in i,l))"
   ]
  },
  {
   "cell_type": "code",
   "execution_count": 13,
   "id": "c34f25fa-a379-41dc-8352-c882123a1999",
   "metadata": {},
   "outputs": [
    {
     "data": {
      "text/plain": [
       "(2, 6)"
      ]
     },
     "execution_count": 13,
     "metadata": {},
     "output_type": "execute_result"
    }
   ],
   "source": [
    "number=[1,3,2,7,6]\n",
    "tuple(filter(lambda i:i%2==0,number))"
   ]
  },
  {
   "cell_type": "code",
   "execution_count": null,
   "id": "908dc9e4-b1cf-450f-afec-27b0cb0542f7",
   "metadata": {},
   "outputs": [],
   "source": [
    "l1=[1,2,3,4,5]\n",
    "# I want to sum of the elements in a list\n",
    "#method 1: sum\n",
    "sum(l1)\n",
    "\n",
    "#method 2\n",
    "summ=0\n",
    "for i in l1:\n",
    "    summ=summ+i\n",
    "print(summ)"
   ]
  },
  {
   "cell_type": "code",
   "execution_count": 16,
   "id": "82dcaf97-652c-452b-a954-fd6bdf7e5f17",
   "metadata": {},
   "outputs": [
    {
     "ename": "TypeError",
     "evalue": "<lambda>() missing 1 required positional argument: 'i'",
     "output_type": "error",
     "traceback": [
      "\u001b[1;31m---------------------------------------------------------------------------\u001b[0m",
      "\u001b[1;31mTypeError\u001b[0m                                 Traceback (most recent call last)",
      "Cell \u001b[1;32mIn[16], line 2\u001b[0m\n\u001b[0;32m      1\u001b[0m l1\u001b[38;5;241m=\u001b[39m[\u001b[38;5;241m1\u001b[39m,\u001b[38;5;241m2\u001b[39m,\u001b[38;5;241m3\u001b[39m,\u001b[38;5;241m4\u001b[39m,\u001b[38;5;241m5\u001b[39m]\n\u001b[1;32m----> 2\u001b[0m \u001b[38;5;28mtuple\u001b[39m(\u001b[38;5;28mmap\u001b[39m(\u001b[38;5;28;01mlambda\u001b[39;00m summ,i:summ\u001b[38;5;241m+\u001b[39mi,l1))\n",
      "\u001b[1;31mTypeError\u001b[0m: <lambda>() missing 1 required positional argument: 'i'"
     ]
    }
   ],
   "source": [
    "l1=[1,2,3,4,5]\n",
    "tuple(map(lambda summ,i:summ+i,l1))"
   ]
  },
  {
   "cell_type": "markdown",
   "id": "8eae0eef-8b0d-4884-8055-6058d45e3452",
   "metadata": {},
   "source": [
    "**reduce**\n",
    "\n",
    "- All inbuilt functions can achieve by Reduce\n",
    "\n",
    "- Reduce is available from functiontool package\n",
    "\n",
    "-  level -1 : reduce(lambda summ,i:summ+i,l1)\n",
    "\n",
    "-  level -2 : filter(lambda summ,i:summ+i,l1,intial_value)\n",
    "\n",
    "-  for example we want intialize summ=0 then we choose level-1\n",
    "\n",
    "-  for example we want start with other than zero then we choose level-2"
   ]
  },
  {
   "cell_type": "code",
   "execution_count": 18,
   "id": "ef98f2b0-425f-418b-b11e-90570425c88f",
   "metadata": {},
   "outputs": [
    {
     "ename": "NameError",
     "evalue": "name 'reduce' is not defined",
     "output_type": "error",
     "traceback": [
      "\u001b[1;31m---------------------------------------------------------------------------\u001b[0m",
      "\u001b[1;31mNameError\u001b[0m                                 Traceback (most recent call last)",
      "Cell \u001b[1;32mIn[18], line 2\u001b[0m\n\u001b[0;32m      1\u001b[0m l1\u001b[38;5;241m=\u001b[39m[\u001b[38;5;241m1\u001b[39m,\u001b[38;5;241m2\u001b[39m,\u001b[38;5;241m3\u001b[39m,\u001b[38;5;241m4\u001b[39m,\u001b[38;5;241m5\u001b[39m]\n\u001b[1;32m----> 2\u001b[0m \u001b[38;5;28mtuple\u001b[39m(reduce(\u001b[38;5;28;01mlambda\u001b[39;00m summ,i:summ\u001b[38;5;241m+\u001b[39mi,l1))\n",
      "\u001b[1;31mNameError\u001b[0m: name 'reduce' is not defined"
     ]
    }
   ],
   "source": [
    "\n",
    "l1=[1,2,3,4,5]\n",
    "tuple(reduce(lambda summ,i:summ+i,l1))"
   ]
  },
  {
   "cell_type": "code",
   "execution_count": 22,
   "id": "a3d79325-1c74-4ba7-ba97-bdad9ed557af",
   "metadata": {},
   "outputs": [
    {
     "data": {
      "text/plain": [
       "15"
      ]
     },
     "execution_count": 22,
     "metadata": {},
     "output_type": "execute_result"
    }
   ],
   "source": [
    "# Method 1\n",
    "import functools\n",
    "l1=[1,2,3,4,5]\n",
    "functools.reduce(lambda summ,i:summ+i,l1)"
   ]
  },
  {
   "cell_type": "code",
   "execution_count": 23,
   "id": "21783d81-f7a6-4d4a-9441-8224ca1f9ea3",
   "metadata": {},
   "outputs": [
    {
     "data": {
      "text/plain": [
       "15"
      ]
     },
     "execution_count": 23,
     "metadata": {},
     "output_type": "execute_result"
    }
   ],
   "source": [
    "#Method 2\n",
    "from functools import reduce\n",
    "l1=[1,2,3,4,5]\n",
    "reduce(lambda summ,i:summ+i,l1)"
   ]
  },
  {
   "cell_type": "code",
   "execution_count": 24,
   "id": "c3845513-40c8-49e6-be1d-3cfafe8800c4",
   "metadata": {},
   "outputs": [
    {
     "data": {
      "text/plain": [
       "15"
      ]
     },
     "execution_count": 24,
     "metadata": {},
     "output_type": "execute_result"
    }
   ],
   "source": [
    "# Method 3\n",
    "import functools as ft\n",
    "import functools\n",
    "l1=[1,2,3,4,5]\n",
    "ft.reduce(lambda summ,i:summ+i,l1)"
   ]
  },
  {
   "cell_type": "code",
   "execution_count": 26,
   "id": "e5304092-65ca-4584-b2f1-daabd0da6bdd",
   "metadata": {},
   "outputs": [
    {
     "data": {
      "text/plain": [
       "20"
      ]
     },
     "execution_count": 26,
     "metadata": {},
     "output_type": "execute_result"
    }
   ],
   "source": [
    "l1=[1,2,3,4,5]\n",
    "reduce(lambda summ,i:summ+i,l1,5)"
   ]
  },
  {
   "cell_type": "code",
   "execution_count": 27,
   "id": "613450fa-06d0-4844-95cb-4f6149c4e075",
   "metadata": {},
   "outputs": [
    {
     "data": {
      "text/plain": [
       "120"
      ]
     },
     "execution_count": 27,
     "metadata": {},
     "output_type": "execute_result"
    }
   ],
   "source": [
    "l1=[1,2,3,4,5]\n",
    "reduce(lambda mul,i:mul*i,l1)"
   ]
  },
  {
   "cell_type": "code",
   "execution_count": null,
   "id": "bb9b59d4-15e9-4e64-8218-8a6686d66b64",
   "metadata": {},
   "outputs": [],
   "source": [
    "l1=[1,2,3,4,5]\n",
    "reduce(lambda mul,i:mul*i,l1)"
   ]
  },
  {
   "cell_type": "code",
   "execution_count": 31,
   "id": "d99eb190-f36c-41d5-9219-fa128b6f563e",
   "metadata": {},
   "outputs": [
    {
     "ename": "TypeError",
     "evalue": "<lambda>() missing 1 required positional argument: 'y'",
     "output_type": "error",
     "traceback": [
      "\u001b[1;31m---------------------------------------------------------------------------\u001b[0m",
      "\u001b[1;31mTypeError\u001b[0m                                 Traceback (most recent call last)",
      "Cell \u001b[1;32mIn[31], line 2\u001b[0m\n\u001b[0;32m      1\u001b[0m l1\u001b[38;5;241m=\u001b[39m[\u001b[38;5;241m1\u001b[39m,\u001b[38;5;241m2\u001b[39m,\u001b[38;5;241m3\u001b[39m,\u001b[38;5;241m4\u001b[39m,\u001b[38;5;241m5\u001b[39m]\n\u001b[1;32m----> 2\u001b[0m \u001b[38;5;28mtuple\u001b[39m(\u001b[38;5;28mfilter\u001b[39m(\u001b[38;5;28;01mlambda\u001b[39;00m x,y:x\u001b[38;5;241m>\u001b[39my,l1))\n",
      "\u001b[1;31mTypeError\u001b[0m: <lambda>() missing 1 required positional argument: 'y'"
     ]
    }
   ],
   "source": [
    "l1=[1,2,3,4,5]\n",
    "tuple(filter(lambda x,y:x>y,l1))"
   ]
  },
  {
   "cell_type": "code",
   "execution_count": 33,
   "id": "754500b2-bcab-4e91-8441-4797ee85be17",
   "metadata": {},
   "outputs": [
    {
     "data": {
      "text/plain": [
       "5"
      ]
     },
     "execution_count": 33,
     "metadata": {},
     "output_type": "execute_result"
    }
   ],
   "source": [
    "l1=[1,2,3,4,5]\n",
    "reduce(lambda x, y: a if x > y else y, l1)"
   ]
  },
  {
   "cell_type": "code",
   "execution_count": 34,
   "id": "48a7f7a7-410c-4c84-b210-04be443090e1",
   "metadata": {},
   "outputs": [
    {
     "data": {
      "text/plain": [
       "<module 'functools' from 'C:\\\\Users\\\\Admin\\\\anaconda3\\\\Lib\\\\functools.py'>"
      ]
     },
     "execution_count": 34,
     "metadata": {},
     "output_type": "execute_result"
    }
   ],
   "source": [
    "functools"
   ]
  },
  {
   "cell_type": "code",
   "execution_count": null,
   "id": "aa6a81cb-2552-4d65-a322-6f88155acf37",
   "metadata": {},
   "outputs": [],
   "source": [
    "max"
   ]
  }
 ],
 "metadata": {
  "kernelspec": {
   "display_name": "Python 3 (ipykernel)",
   "language": "python",
   "name": "python3"
  },
  "language_info": {
   "codemirror_mode": {
    "name": "ipython",
    "version": 3
   },
   "file_extension": ".py",
   "mimetype": "text/x-python",
   "name": "python",
   "nbconvert_exporter": "python",
   "pygments_lexer": "ipython3",
   "version": "3.11.7"
  }
 },
 "nbformat": 4,
 "nbformat_minor": 5
}
