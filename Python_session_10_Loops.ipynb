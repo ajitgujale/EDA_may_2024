{
 "cells": [
  {
   "cell_type": "code",
   "execution_count": null,
   "id": "ad9a83ab-8c90-411e-bc09-1d66c9f3eec7",
   "metadata": {},
   "outputs": [],
   "source": [
    "**Loops**\n",
    "\n"
   ]
  },
  {
   "cell_type": "code",
   "execution_count": null,
   "id": "2ec5cb21-fec2-408e-8b46-480e66f3165c",
   "metadata": {},
   "outputs": [],
   "source": []
  },
  {
   "cell_type": "code",
   "execution_count": 1,
   "id": "f1349759-603c-4f09-bc21-8f3a39a2c942",
   "metadata": {},
   "outputs": [
    {
     "name": "stdout",
     "output_type": "stream",
     "text": [
      "40\n"
     ]
    }
   ],
   "source": [
    "a=20\n",
    "b=20\n",
    "c=a+b\n",
    "print(c)"
   ]
  },
  {
   "cell_type": "code",
   "execution_count": 2,
   "id": "4d4cd32c-edb8-4a63-a6c3-c1655a1cc65a",
   "metadata": {},
   "outputs": [
    {
     "name": "stdout",
     "output_type": "stream",
     "text": [
      "50\n"
     ]
    }
   ],
   "source": [
    "if True :\n",
    "    a=30\n",
    "    b=20\n",
    "    c=a+b\n",
    "    print(c)"
   ]
  },
  {
   "cell_type": "code",
   "execution_count": 3,
   "id": "1bef0639-b801-47a9-9c16-e357d60ac59b",
   "metadata": {},
   "outputs": [
    {
     "name": "stdout",
     "output_type": "stream",
     "text": [
      "80\n"
     ]
    }
   ],
   "source": [
    "def add():\n",
    "    a=50\n",
    "    b=30\n",
    "    c=a+b\n",
    "    print(c)\n",
    "add()"
   ]
  },
  {
   "cell_type": "code",
   "execution_count": null,
   "id": "607b06e7-54ca-43c3-a8a2-c8f94c6f3567",
   "metadata": {},
   "outputs": [],
   "source": [
    "def tax():\n",
    "salary=eval(input(\"Enter the salary:\"))\n",
    "tax_per=eval(input(\"Enter the tax_per:\"))\n",
    "tax_amount=salary*tax_per\n",
    "print(tax_amount)\n",
    "\n",
    "tax()"
   ]
  },
  {
   "cell_type": "markdown",
   "id": "f25c3a1b-b845-4229-aed6-458f7a00caf9",
   "metadata": {},
   "source": [
    "- For loop\n",
    "\n",
    "- While loop\n",
    "\n",
    "- any loop\n",
    "\n",
    "    - Intial point\n",
    "\n",
    "    - Increament or decrement\n",
    "\n",
    "    - condition to stop the loop\n"
   ]
  },
  {
   "cell_type": "markdown",
   "id": "84a51e4d-0cdd-434f-8e54-e6a7998bc084",
   "metadata": {},
   "source": [
    "**For loop**\n",
    "\n",
    "  $Pattern-1$\n",
    "\n",
    "**range(stop)**"
   ]
  },
  {
   "cell_type": "code",
   "execution_count": null,
   "id": "d0415496-3bf0-48b4-864c-e0005a950814",
   "metadata": {},
   "outputs": [],
   "source": [
    "#syntax\n",
    "for i in range(<value>):\n",
    "    # start write your code"
   ]
  },
  {
   "cell_type": "markdown",
   "id": "907fd932-34f8-4bde-b130-6dabba9fd101",
   "metadata": {},
   "source": [
    "- When ever you see the word range it belongs to math family\n",
    "\n",
    "- inside range you we need to provide one value ex: range(3)\n",
    "\n",
    "- If you provide only one value\n",
    "\n",
    "    - then strat value=0\n",
    "\n",
    "    - increment = +1\n",
    "\n",
    "    - last = stop-1\n",
    "\n",
    "    - range (3)\n",
    "\n",
    "    - start value=0\n",
    "\n",
    "    - last=3-1=2\n",
    "\n",
    "    - answers are : 0 1 2\n"
   ]
  },
  {
   "cell_type": "code",
   "execution_count": 4,
   "id": "f83f7f2f-77b3-42ca-9417-e1b2e4286a23",
   "metadata": {},
   "outputs": [
    {
     "name": "stdout",
     "output_type": "stream",
     "text": [
      "0\n",
      "1\n",
      "2\n"
     ]
    }
   ],
   "source": [
    "for i in range(3):\n",
    "    print(i)"
   ]
  },
  {
   "cell_type": "code",
   "execution_count": 5,
   "id": "1f9dc73f-7961-46da-8c83-5c1f6861c3dc",
   "metadata": {},
   "outputs": [
    {
     "name": "stdout",
     "output_type": "stream",
     "text": [
      "hello\n",
      "hello\n",
      "hello\n",
      "hello\n",
      "hello\n"
     ]
    }
   ],
   "source": [
    "for i in range(5):\n",
    "    print(\"hello\")\n"
   ]
  },
  {
   "cell_type": "code",
   "execution_count": 6,
   "id": "9140f240-aa10-48eb-88e0-79eed5b25e81",
   "metadata": {},
   "outputs": [
    {
     "name": "stdout",
     "output_type": "stream",
     "text": [
      "12 is even number\n",
      "33 is odd number\n",
      "24 is even number\n"
     ]
    }
   ],
   "source": [
    "for i in range(3):\n",
    "    import random\n",
    "    num=random.randint(1,100)\n",
    "    if num%2==0:\n",
    "        print(f\"{num} is even number\")\n",
    "    else:\n",
    "        print(f\"{num} is odd number\")\n",
    "\n",
    "    "
   ]
  },
  {
   "cell_type": "code",
   "execution_count": 7,
   "id": "f4aabf9d-c765-445f-a7e7-8bacb707358e",
   "metadata": {},
   "outputs": [
    {
     "name": "stdout",
     "output_type": "stream",
     "text": [
      "0\n",
      "1\n",
      "2\n",
      "3\n",
      "4\n",
      "5\n",
      "6\n",
      "7\n",
      "8\n",
      "9\n"
     ]
    }
   ],
   "source": [
    "for i in range(10):\n",
    "    print(i)"
   ]
  },
  {
   "cell_type": "code",
   "execution_count": 8,
   "id": "4422ebb4-0cd5-4093-8a7c-ba52b62da95b",
   "metadata": {},
   "outputs": [
    {
     "name": "stdout",
     "output_type": "stream",
     "text": [
      "0 1 2 3 4 5 6 7 8 9 "
     ]
    }
   ],
   "source": [
    "for i in range(10):\n",
    "    print(i,end=' ')"
   ]
  },
  {
   "cell_type": "markdown",
   "id": "a2bfd082-15bb-4b25-b5b5-924ea466cbd5",
   "metadata": {},
   "source": [
    "$Pattern-2$\n",
    "\n",
    "**range(start,stop)**\n",
    "\n",
    "    - start value=10\n",
    "\n",
    "    - increment=1\n",
    "\n",
    "    - last= stop-1\n",
    "\n",
    "    - ans: 10,11,12......19\n",
    "\n",
    "\n",
    "-"
   ]
  },
  {
   "cell_type": "code",
   "execution_count": 9,
   "id": "2e0dec14-6db3-443c-a9d2-4c9263967866",
   "metadata": {},
   "outputs": [
    {
     "name": "stdout",
     "output_type": "stream",
     "text": [
      "10\n",
      "11\n",
      "12\n",
      "13\n",
      "14\n",
      "15\n",
      "16\n",
      "17\n",
      "18\n",
      "19\n"
     ]
    }
   ],
   "source": [
    "for i in range(10,20):\n",
    "    print(i)"
   ]
  },
  {
   "cell_type": "code",
   "execution_count": 10,
   "id": "9b062cac-9abd-49d7-91d3-45b781d2c338",
   "metadata": {},
   "outputs": [
    {
     "name": "stdout",
     "output_type": "stream",
     "text": [
      "10 11 12 13 14 15 16 17 18 19 "
     ]
    }
   ],
   "source": [
    "for i in range(10,20):\n",
    "    print(i,end=\" \")"
   ]
  },
  {
   "cell_type": "code",
   "execution_count": 13,
   "id": "714ea16e-4d2e-44e2-8697-4db6450f2603",
   "metadata": {},
   "outputs": [
    {
     "name": "stdout",
     "output_type": "stream",
     "text": [
      "400 441 484 529 576 625 "
     ]
    }
   ],
   "source": [
    "for i in range(20,26):\n",
    "    print(i*i,end=\" \")"
   ]
  },
  {
   "cell_type": "code",
   "execution_count": 14,
   "id": "befa40fe-33da-4cf5-aea4-03fe1e0099f5",
   "metadata": {},
   "outputs": [
    {
     "name": "stdout",
     "output_type": "stream",
     "text": [
      "Number 10 is even\n",
      "Number 11 is odd\n",
      "Number 12 is even\n",
      "Number 13 is odd\n",
      "Number 14 is even\n",
      "Number 15 is odd\n",
      "Number 16 is even\n",
      "Number 17 is odd\n",
      "Number 18 is even\n",
      "Number 19 is odd\n",
      "Number 20 is even\n"
     ]
    }
   ],
   "source": [
    "for i in range(10,21):\n",
    "    if i%2==0:\n",
    "        print(f\"Number {i} is even\")\n",
    "    else:\n",
    "        print(f\"Number {i} is odd\")"
   ]
  },
  {
   "cell_type": "code",
   "execution_count": 16,
   "id": "eb12f92f-1f3a-4e91-9fb6-30f3e852a0e5",
   "metadata": {},
   "outputs": [
    {
     "name": "stdout",
     "output_type": "stream",
     "text": [
      "10\n",
      "20\n",
      "30\n",
      "40\n",
      "50\n",
      "60\n",
      "70\n",
      "80\n",
      "90\n",
      "100\n"
     ]
    }
   ],
   "source": [
    "for i in range(1,101):\n",
    "    if i%10==0:\n",
    "        print(i)"
   ]
  },
  {
   "cell_type": "markdown",
   "id": "32d65664-0bac-4cac-86ad-162181d4e76d",
   "metadata": {},
   "source": [
    "$Pattern-3$\n",
    "\n",
    "**range(start,stop,step)**\n",
    "\n",
    "- start value= start value\n",
    "\n",
    "- step value\n",
    "\n",
    "    - Positive step value\n",
    "        \n",
    "        - if step value is positive: increment\n",
    "\n",
    "        - last = stop-1\n",
    "    \n",
    "    - Negative step value\n",
    "\n",
    "        - if step value is negative: decrement\n",
    "\n",
    "        - last= stop+1\n"
   ]
  },
  {
   "cell_type": "code",
   "execution_count": 18,
   "id": "8ec1956d-597c-4909-8818-c7c1000d34f9",
   "metadata": {},
   "outputs": [
    {
     "name": "stdout",
     "output_type": "stream",
     "text": [
      "2 4 6 8 10 12 14 16 18 "
     ]
    }
   ],
   "source": [
    "#Case 1- Positive step\n",
    "for i in range(2,20,2):\n",
    "    print(i,end=' ')\n",
    "\n",
    "# start=2\n",
    "# step= +ve 2\n",
    "#last= stop-1 = 20-1=19\n",
    "# 2 4 6 8 10 12 14 16 18"
   ]
  },
  {
   "cell_type": "code",
   "execution_count": 19,
   "id": "2cf95ddf-1745-41b5-a025-bedcac712e30",
   "metadata": {},
   "outputs": [],
   "source": [
    "#Case 2- Negative step\n",
    "for i in range(2,20,-2):\n",
    "    print(i,end=' ')\n",
    "#Start= 2\n",
    "#step= -2 negative direction\n",
    "#last= stop+1=20+1=21\n",
    "# no error , no ans because stpe in negative directin and range in positive direction\n"
   ]
  },
  {
   "cell_type": "code",
   "execution_count": 20,
   "id": "609a5af7-ffc1-4400-a18f-5a1c14a78a7e",
   "metadata": {},
   "outputs": [
    {
     "name": "stdout",
     "output_type": "stream",
     "text": [
      "2 0 -2 -4 -6 -8 -10 -12 -14 -16 -18 "
     ]
    }
   ],
   "source": [
    "#case-\n",
    "for i in range(2,-20,-2):\n",
    "    print(i,end=' ')"
   ]
  },
  {
   "cell_type": "code",
   "execution_count": 21,
   "id": "2177fd58-478a-4b1f-a6e4-3553b08573d7",
   "metadata": {},
   "outputs": [
    {
     "name": "stdout",
     "output_type": "stream",
     "text": [
      "20 18 16 14 12 10 8 6 4 "
     ]
    }
   ],
   "source": [
    "#case-3\n",
    "for i in range(20,2,-2):\n",
    "    print(i,end=' ')\n",
    "# start=20\n",
    "# step= -2 negative\n",
    "# last= stop=+1 2+1\n",
    "# 20 18 16 14 12 10 8 6 4 "
   ]
  },
  {
   "cell_type": "code",
   "execution_count": 22,
   "id": "528d9272-7bda-4ff6-9f66-83f89b1b814a",
   "metadata": {},
   "outputs": [
    {
     "name": "stdout",
     "output_type": "stream",
     "text": [
      "-20 -18 -16 -14 -12 -10 -8 -6 -4 -2 0 "
     ]
    }
   ],
   "source": [
    "for i in range(-20,2,2):\n",
    "    print(i,end=' ')"
   ]
  },
  {
   "cell_type": "code",
   "execution_count": null,
   "id": "6e361532-0c67-4177-83b9-c8ae8a02eb9c",
   "metadata": {},
   "outputs": [],
   "source": [
    "for i in range(3):\n",
    "    import random\n",
    "    num=random.randint(1,100)\n",
    "    if num%2==0:\n",
    "        print(f\"{num} is even number\")\n",
    "    else:\n",
    "        print(f\"{num} is odd number\")"
   ]
  },
  {
   "cell_type": "code",
   "execution_count": null,
   "id": "b6d73e78-64fd-477c-bf15-c5b1b6d274f2",
   "metadata": {},
   "outputs": [],
   "source": [
    "for i in range(10,21):\n",
    "    if i%2==0:\n",
    "        print(f\"Number {i} is even\")\n",
    "    else:\n",
    "        print(f\"Number {i} is odd\")"
   ]
  },
  {
   "cell_type": "code",
   "execution_count": null,
   "id": "23c56562-1bcb-4b95-878f-60cb8cacf11c",
   "metadata": {},
   "outputs": [],
   "source": []
  },
  {
   "cell_type": "code",
   "execution_count": 4,
   "id": "49e6dae2-609d-4ef4-af32-57fc9bc54661",
   "metadata": {},
   "outputs": [
    {
     "name": "stdin",
     "output_type": "stream",
     "text": [
      "Enter the number: 15\n"
     ]
    },
    {
     "name": "stdout",
     "output_type": "stream",
     "text": [
      "Square of 15 is 225\n"
     ]
    },
    {
     "name": "stdin",
     "output_type": "stream",
     "text": [
      "Enter the number: 16\n"
     ]
    },
    {
     "name": "stdout",
     "output_type": "stream",
     "text": [
      "Square of 16 is 256\n"
     ]
    },
    {
     "name": "stdin",
     "output_type": "stream",
     "text": [
      "Enter the number: 17\n"
     ]
    },
    {
     "name": "stdout",
     "output_type": "stream",
     "text": [
      "Square of 17 is 289\n"
     ]
    }
   ],
   "source": [
    "for i in range(3):\n",
    "    num=eval(input(\"Enter the number:\"))\n",
    "    square=num*num\n",
    "    print(f\"Square of {num} is {square}\")"
   ]
  },
  {
   "cell_type": "code",
   "execution_count": 8,
   "id": "4e3826a3-01f5-4761-b266-c766b2b1f4e2",
   "metadata": {},
   "outputs": [
    {
     "name": "stdin",
     "output_type": "stream",
     "text": [
      "Enter the table which you want to see: 14\n"
     ]
    },
    {
     "name": "stdout",
     "output_type": "stream",
     "text": [
      "14 x 1 = 14\n",
      "14 x 2 = 28\n",
      "14 x 3 = 42\n",
      "14 x 4 = 56\n",
      "14 x 5 = 70\n",
      "14 x 6 = 84\n",
      "14 x 7 = 98\n",
      "14 x 8 = 112\n",
      "14 x 9 = 126\n",
      "14 x 10 = 140\n"
     ]
    }
   ],
   "source": [
    "#5Q Print the 14th table\n",
    "num=eval(input(\"Enter the table which you want to see:\"))\n",
    "for i in range(1,11):\n",
    "    value=i*num\n",
    "    print(f\"{num} x {i} = {value}\")\n",
    "    "
   ]
  },
  {
   "cell_type": "code",
   "execution_count": 15,
   "id": "246bf382-e04c-4acf-87e6-13c3be143b72",
   "metadata": {},
   "outputs": [
    {
     "name": "stdin",
     "output_type": "stream",
     "text": [
      "Enter the number of which you want factors: 75\n"
     ]
    },
    {
     "name": "stdout",
     "output_type": "stream",
     "text": [
      "1\n",
      "3\n",
      "5\n",
      "15\n",
      "25\n",
      "75\n"
     ]
    }
   ],
   "source": [
    "#6Q\n",
    "num=eval(input(\"Enter the number of which you want factors:\"))\n",
    "for i in range(1,num+1):\n",
    "    if num%i==0:\n",
    "        print(i)\n",
    "\n"
   ]
  },
  {
   "cell_type": "code",
   "execution_count": 20,
   "id": "ecb5ddd3-c387-4873-8e8e-f49c992884cf",
   "metadata": {},
   "outputs": [
    {
     "name": "stdout",
     "output_type": "stream",
     "text": [
      "1+1=1\n",
      "3+2=3\n",
      "6+3=6\n",
      "10+4=10\n",
      "15+5=15\n",
      "21+6=21\n",
      "28+7=28\n",
      "36+8=36\n",
      "45+9=45\n",
      "55+10=55\n"
     ]
    }
   ],
   "source": [
    "#Q7\n",
    "summ=0\n",
    "for i in range(1,11):\n",
    "    summ=summ+i\n",
    "    print(f\"{summ}+{i}={summ}\")\n",
    "    "
   ]
  },
  {
   "cell_type": "code",
   "execution_count": null,
   "id": "e9d29767-a333-4a07-b95e-334d19b4243d",
   "metadata": {},
   "outputs": [],
   "source": [
    "**summation wrapper**\n",
    "\n",
    "- Initailly we need to keep sum=0\n",
    "\n",
    "- make sure that do not provide**sum**\n",
    "\n",
    "- because sum is keyword\n",
    "\n",
    "= Inside for loop : summ=summ+i"
   ]
  },
  {
   "cell_type": "code",
   "execution_count": 22,
   "id": "ee84472e-47f2-4d4d-8a90-945d7d166be6",
   "metadata": {},
   "outputs": [
    {
     "name": "stdout",
     "output_type": "stream",
     "text": [
      "0+1=1\n",
      "1+2=3\n",
      "3+3=6\n",
      "6+4=10\n",
      "10+5=15\n",
      "15+6=21\n",
      "21+7=28\n",
      "28+8=36\n",
      "36+9=45\n",
      "45+10=55\n"
     ]
    }
   ],
   "source": [
    "summ=0\n",
    "for i in range(1,11):\n",
    "    summ=summ+i\n",
    "    print(f\"{summ-i}+{i}={summ}\")"
   ]
  },
  {
   "cell_type": "code",
   "execution_count": 23,
   "id": "ae1378db-5781-4932-a422-403c4bf1cb69",
   "metadata": {},
   "outputs": [
    {
     "name": "stdout",
     "output_type": "stream",
     "text": [
      "0+1=1\n",
      "1+2=3\n",
      "3+3=6\n",
      "6+4=10\n",
      "10+5=15\n",
      "15+6=21\n",
      "21+7=28\n",
      "28+8=36\n",
      "36+9=45\n",
      "45+10=55\n"
     ]
    }
   ],
   "source": [
    "summ=0\n",
    "for i in range(1,11):\n",
    "    val=summ\n",
    "    summ=summ+i\n",
    "    print(f\"{val}+{i}={summ}\")"
   ]
  },
  {
   "cell_type": "code",
   "execution_count": 24,
   "id": "14dd0229-1d6a-41e1-8801-3c48087b80da",
   "metadata": {},
   "outputs": [
    {
     "name": "stdout",
     "output_type": "stream",
     "text": [
      "0\n",
      "1\n",
      "2\n"
     ]
    },
    {
     "data": {
      "text/plain": [
       "2"
      ]
     },
     "execution_count": 24,
     "metadata": {},
     "output_type": "execute_result"
    }
   ],
   "source": [
    "for i in range(3):\n",
    "    print(i)\n",
    "i"
   ]
  },
  {
   "cell_type": "code",
   "execution_count": 27,
   "id": "ed91c3f4-359e-4311-b33f-d03321d6abeb",
   "metadata": {},
   "outputs": [
    {
     "name": "stdout",
     "output_type": "stream",
     "text": [
      "0+1=1\n",
      "1+2=3\n",
      "3+3=6\n",
      "6+4=10\n",
      "10+5=15\n",
      "15+6=21\n",
      "21+7=28\n",
      "28+8=36\n",
      "36+9=45\n",
      "45+10=55\n"
     ]
    },
    {
     "data": {
      "text/plain": [
       "55"
      ]
     },
     "execution_count": 27,
     "metadata": {},
     "output_type": "execute_result"
    }
   ],
   "source": [
    "summ=0\n",
    "for i in range(1,11):\n",
    "    val=summ\n",
    "    summ=summ+i\n",
    "    print(f\"{val}+{i}={summ}\")\n",
    "summ"
   ]
  },
  {
   "cell_type": "markdown",
   "id": "622e8316-6e21-4a0b-a256-871e114be483",
   "metadata": {},
   "source": [
    "**Note**\n",
    "  \n",
    "- If we print answer from out for loop, last answer will print"
   ]
  },
  {
   "cell_type": "code",
   "execution_count": 31,
   "id": "af032c23-0d8b-46e8-bea2-7005b7130035",
   "metadata": {},
   "outputs": [
    {
     "name": "stdin",
     "output_type": "stream",
     "text": [
      "Enter the number: 10\n"
     ]
    },
    {
     "name": "stdout",
     "output_type": "stream",
     "text": [
      "5.5\n"
     ]
    }
   ],
   "source": [
    "summ=0\n",
    "N=eval(input(\"Enter the number:\"))\n",
    "for i in range(1,N+1):\n",
    "    val=summ\n",
    "    summ=summ+i\n",
    "print(summ/N)       \n"
   ]
  },
  {
   "cell_type": "code",
   "execution_count": null,
   "id": "6380caf0-7266-4340-9723-3f19edfbd0d9",
   "metadata": {},
   "outputs": [],
   "source": [
    "**Counter program**\n",
    "\n",
    "- Before for loop intialaise with count=0\n",
    "\n",
    "- Under for loop count=count+1\n",
    "\n",
    "- counter always increase by 1 only\n"
   ]
  },
  {
   "cell_type": "code",
   "execution_count": 33,
   "id": "0ea497af-9a81-4ddc-9884-182ff8ef2b26",
   "metadata": {},
   "outputs": [
    {
     "name": "stdin",
     "output_type": "stream",
     "text": [
      "Enter the number of which you want factors: 75\n"
     ]
    },
    {
     "name": "stdout",
     "output_type": "stream",
     "text": [
      "Then number of divisor for 75 is 6\n"
     ]
    }
   ],
   "source": [
    "count=0\n",
    "num=eval(input(\"Enter the number of which you want factors:\"))\n",
    "for i in range(1,num+1):\n",
    "    if num%i==0:\n",
    "        count=count+1\n",
    "print(f\"Then number of divisor for {num} is {count}\")\n"
   ]
  },
  {
   "cell_type": "code",
   "execution_count": null,
   "id": "dbcd4657-160b-4e33-a1e3-4907ca0667c4",
   "metadata": {},
   "outputs": [],
   "source": [
    "summ=summ+i =====> sum+1=i\n",
    "count=count+i =======> count+=i\n"
   ]
  },
  {
   "cell_type": "code",
   "execution_count": 40,
   "id": "50dc9b3c-c56f-4f69-9968-635101f2ad5a",
   "metadata": {},
   "outputs": [
    {
     "name": "stdin",
     "output_type": "stream",
     "text": [
      "Enter the number2: 12\n"
     ]
    },
    {
     "name": "stdout",
     "output_type": "stream",
     "text": [
      "You fail\n"
     ]
    },
    {
     "name": "stdin",
     "output_type": "stream",
     "text": [
      "Enter the number2: 10\n"
     ]
    },
    {
     "name": "stdout",
     "output_type": "stream",
     "text": [
      "You fail\n"
     ]
    },
    {
     "name": "stdin",
     "output_type": "stream",
     "text": [
      "Enter the number2: 5\n"
     ]
    },
    {
     "name": "stdout",
     "output_type": "stream",
     "text": [
      "You fail\n"
     ]
    }
   ],
   "source": [
    "#Q10\n",
    "import random\n",
    "for i in range(3):\n",
    "    num1=random.randint(1,10)\n",
    "    num2=eval(input(\"Enter the number2:\"))\n",
    "    if num1==num2:\n",
    "        print(\"You won\")\n",
    "    else:\n",
    "        print(\"You fail\")"
   ]
  },
  {
   "cell_type": "code",
   "execution_count": 45,
   "id": "47edf2d1-8dd2-4c94-8c24-61c06e806c85",
   "metadata": {},
   "outputs": [
    {
     "name": "stdin",
     "output_type": "stream",
     "text": [
      "Enter the number between 1 to 10: 5\n"
     ]
    },
    {
     "name": "stdout",
     "output_type": "stream",
     "text": [
      "Random number is 6\n",
      "You fail\n"
     ]
    },
    {
     "name": "stdin",
     "output_type": "stream",
     "text": [
      "Enter the number between 1 to 10: 4\n"
     ]
    },
    {
     "name": "stdout",
     "output_type": "stream",
     "text": [
      "Random number is 10\n",
      "You fail\n"
     ]
    },
    {
     "name": "stdin",
     "output_type": "stream",
     "text": [
      "Enter the number between 1 to 10: 5\n"
     ]
    },
    {
     "name": "stdout",
     "output_type": "stream",
     "text": [
      "Random number is 3\n",
      "You fail\n"
     ]
    },
    {
     "name": "stdin",
     "output_type": "stream",
     "text": [
      "Enter the number between 1 to 10: 6\n"
     ]
    },
    {
     "name": "stdout",
     "output_type": "stream",
     "text": [
      "Random number is 6\n",
      "You won\n"
     ]
    }
   ],
   "source": [
    "#Break\n",
    "import random\n",
    "for i in range(5):\n",
    "    num1=random.randint(1,10)\n",
    "    num2=eval(input(\"Enter the number between 1 to 10:\"))\n",
    "    if num1==num2:\n",
    "        print(f\"Random number is {num1}\")\n",
    "        print(\"You won\")\n",
    "        break\n",
    "    else:\n",
    "        print(f\"Random number is {num1}\")\n",
    "        print(\"You fail\")"
   ]
  },
  {
   "cell_type": "code",
   "execution_count": null,
   "id": "b6141876-631e-4061-82da-c03299e512ae",
   "metadata": {},
   "outputs": [],
   "source": [
    "#case3\n",
    "#suppose i want to give 4 chances\n",
    "#every time you fail I want to display Number of chaces left\n",
    "#Number of chances of left\n",
    "\n",
    "#if all the chances you are used\n",
    "# Try again after 24 hours\n",
    "\n",
    "# If you are win"
   ]
  },
  {
   "cell_type": "code",
   "execution_count": 1,
   "id": "44161703-f344-454f-8fe0-9e8c007d2c06",
   "metadata": {},
   "outputs": [
    {
     "name": "stdout",
     "output_type": "stream",
     "text": [
      "The total number of even numbers are :1\n",
      "The total number of odd numbers are :4\n",
      "The sum of all  even numbers is :32\n",
      "The sum of all  odd numbers is :1\n"
     ]
    }
   ],
   "source": [
    "import random\n",
    "even_count,odd_count=0,0\n",
    "even_sum,odd_sum=0,0\n",
    "for i in range(5):\n",
    "    num=random.randint(1,100)\n",
    "    if num%2==0:\n",
    "        even_count=even_count+1\n",
    "        even_sum=even_sum+num\n",
    "    else:\n",
    "        odd_count=odd_count+1\n",
    "        odd_sum=odd_sum+num\n",
    "print(f\"The total number of even numbers are :{even_count}\")\n",
    "print(f\"The total number of odd numbers are :{odd_count}\")\n",
    "print(f\"The sum of all  even numbers is :{even_sum}\")\n",
    "print(f\"The sum of all  odd numbers is :{even_count}\")"
   ]
  },
  {
   "cell_type": "code",
   "execution_count": null,
   "id": "5226097f-d4a4-441d-b610-7e5fd99c3fc9",
   "metadata": {},
   "outputs": [],
   "source": [
    "import random\n",
    "def even_odd1():\n",
    "    even_count,odd_count=0,0\n",
    "    even_sum,odd_sum=0,0\n",
    "    for i in range(5):\n",
    "        num=random.randint(1,100)\n",
    "        if num%2==0:\n",
    "            even_count=even_count+1\n",
    "            even_sum=even_sum+num\n",
    "        else:\n",
    "            odd_count=odd_count+1\n",
    "            odd_sum=odd_sum+num\n",
    "print(f\"The total number of even numbers are :{even_count}\")\n",
    "print(f\"The total number of odd numbers are :{odd_count}\")\n",
    "print(f\"The sum of all  even numbers is :{even_sum}\")\n",
    "print(f\"The sum of all  odd numbers is :{even_count}\")"
   ]
  },
  {
   "cell_type": "markdown",
   "id": "9a8f3cd8-a082-4bcd-bb17-fc3b8e03434a",
   "metadata": {},
   "source": [
    "**in operator**\n"
   ]
  },
  {
   "cell_type": "code",
   "execution_count": 3,
   "id": "bf860493-5a00-40d6-b164-cb2ba6e2cd48",
   "metadata": {},
   "outputs": [
    {
     "data": {
      "text/plain": [
       "True"
      ]
     },
     "execution_count": 3,
     "metadata": {},
     "output_type": "execute_result"
    }
   ],
   "source": [
    "string1='python'\n",
    "'p' in string1"
   ]
  },
  {
   "cell_type": "code",
   "execution_count": 4,
   "id": "d1971311-6f46-4290-a6df-59dc9f82b2bd",
   "metadata": {},
   "outputs": [
    {
     "data": {
      "text/plain": [
       "True"
      ]
     },
     "execution_count": 4,
     "metadata": {},
     "output_type": "execute_result"
    }
   ],
   "source": [
    "string1='python'\n",
    "'y' in string1"
   ]
  },
  {
   "cell_type": "code",
   "execution_count": 5,
   "id": "9df39d18-91a7-44ec-8f38-ad8e3f2e7412",
   "metadata": {},
   "outputs": [
    {
     "name": "stdout",
     "output_type": "stream",
     "text": [
      "p\n",
      "y\n",
      "t\n",
      "h\n",
      "o\n",
      "n\n"
     ]
    }
   ],
   "source": [
    "for i in string1:\n",
    "    print(i)"
   ]
  },
  {
   "cell_type": "code",
   "execution_count": null,
   "id": "788ce292-f7c1-4cb5-9803-a0fd15d0a7a0",
   "metadata": {},
   "outputs": [],
   "source": [
    "\n"
   ]
  },
  {
   "cell_type": "code",
   "execution_count": 7,
   "id": "6e998522-abe4-4922-88a7-999ebc1faec3",
   "metadata": {},
   "outputs": [
    {
     "ename": "TypeError",
     "evalue": "'str' object cannot be interpreted as an integer",
     "output_type": "error",
     "traceback": [
      "\u001b[1;31m---------------------------------------------------------------------------\u001b[0m",
      "\u001b[1;31mTypeError\u001b[0m                                 Traceback (most recent call last)",
      "Cell \u001b[1;32mIn[7], line 1\u001b[0m\n\u001b[1;32m----> 1\u001b[0m \u001b[38;5;28;01mfor\u001b[39;00m i \u001b[38;5;129;01min\u001b[39;00m \u001b[38;5;28mrange\u001b[39m(string1):\n\u001b[0;32m      2\u001b[0m     \u001b[38;5;28mprint\u001b[39m(i)\n",
      "\u001b[1;31mTypeError\u001b[0m: 'str' object cannot be interpreted as an integer"
     ]
    }
   ],
   "source": [
    "for i in range(string1):\n",
    "    print(i)"
   ]
  },
  {
   "cell_type": "markdown",
   "id": "731510cb-17af-46ed-af6a-3b81beda4b1c",
   "metadata": {},
   "source": [
    "**differance betweeen in and range operator**\n",
    "\n",
    "- Range belongs to math family\n",
    "\n",
    "- Inside range we need to keep numbers only\n",
    "\n",
    "- Whenever if we want iterate through a english letters\n",
    "\n",
    "- Wen need to choose $in$ operator\n",
    "\n",
    "- range means Numbers\n",
    "\n",
    "- in means string"
   ]
  },
  {
   "cell_type": "code",
   "execution_count": 8,
   "id": "2c90d68c-750f-471e-839b-a7604e795e82",
   "metadata": {},
   "outputs": [
    {
     "data": {
      "text/plain": [
       "True"
      ]
     },
     "execution_count": 8,
     "metadata": {},
     "output_type": "execute_result"
    }
   ],
   "source": [
    "'p'>'P'"
   ]
  },
  {
   "cell_type": "code",
   "execution_count": null,
   "id": "2ddb3359-417d-41dc-9aa1-c3c0b8dde4e1",
   "metadata": {},
   "outputs": [],
   "source": [
    "- Every english letter\n",
    "\n",
    "- Every special character how machine will understand\n",
    "\n",
    "- Machine language always consider as numbers\n",
    "\n",
    "- Every non numeric assign a number\n",
    "\n",
    "- ASCII: Americal Standard code for Information Interchange\n",
    "\n",
    "- A=65, a=97"
   ]
  },
  {
   "cell_type": "markdown",
   "id": "bb54328f-31f5-4d4c-82b3-c5b29bc7f3b6",
   "metadata": {},
   "source": [
    "**ord-chr**"
   ]
  },
  {
   "cell_type": "code",
   "execution_count": null,
   "id": "9112495c-b531-4abd-8ee0-41239620bad5",
   "metadata": {},
   "outputs": [],
   "source": [
    "A====65====0b1000001"
   ]
  },
  {
   "cell_type": "code",
   "execution_count": 9,
   "id": "689f6a87-443b-420b-a8b3-7840bb59540f",
   "metadata": {},
   "outputs": [
    {
     "data": {
      "text/plain": [
       "65"
      ]
     },
     "execution_count": 9,
     "metadata": {},
     "output_type": "execute_result"
    }
   ],
   "source": [
    "ord('A')"
   ]
  },
  {
   "cell_type": "code",
   "execution_count": 10,
   "id": "27be59a7-9248-4392-a5a8-eef64b988b02",
   "metadata": {},
   "outputs": [
    {
     "data": {
      "text/plain": [
       "97"
      ]
     },
     "execution_count": 10,
     "metadata": {},
     "output_type": "execute_result"
    }
   ],
   "source": [
    "ord('a')"
   ]
  },
  {
   "cell_type": "code",
   "execution_count": 11,
   "id": "84ccea93-7615-4560-a61b-8f6fc5192d48",
   "metadata": {},
   "outputs": [
    {
     "data": {
      "text/plain": [
       "(112, 80)"
      ]
     },
     "execution_count": 11,
     "metadata": {},
     "output_type": "execute_result"
    }
   ],
   "source": [
    "ord('p'),ord('P')"
   ]
  },
  {
   "cell_type": "code",
   "execution_count": 13,
   "id": "bfd4c4b1-f821-4857-ba78-66a189cedd39",
   "metadata": {},
   "outputs": [
    {
     "data": {
      "text/plain": [
       "'p'"
      ]
     },
     "execution_count": 13,
     "metadata": {},
     "output_type": "execute_result"
    }
   ],
   "source": [
    "chr(112)"
   ]
  },
  {
   "cell_type": "code",
   "execution_count": 14,
   "id": "c37b7e53-a7df-440b-9b99-4e13c5b7b19a",
   "metadata": {},
   "outputs": [
    {
     "data": {
      "text/plain": [
       "'A'"
      ]
     },
     "execution_count": 14,
     "metadata": {},
     "output_type": "execute_result"
    }
   ],
   "source": [
    "chr(65)"
   ]
  },
  {
   "cell_type": "code",
   "execution_count": 15,
   "id": "b0ed5f62-8b88-4f3e-bef9-01dc32e9ac5a",
   "metadata": {},
   "outputs": [
    {
     "data": {
      "text/plain": [
       "'d'"
      ]
     },
     "execution_count": 15,
     "metadata": {},
     "output_type": "execute_result"
    }
   ],
   "source": [
    "chr(100)"
   ]
  },
  {
   "cell_type": "code",
   "execution_count": 17,
   "id": "a285cb6e-57f3-47d5-abf0-8960688079cb",
   "metadata": {},
   "outputs": [
    {
     "name": "stdout",
     "output_type": "stream",
     "text": [
      "The ASCII number for p is 112\n",
      "The ASCII number for y is 121\n",
      "The ASCII number for t is 116\n",
      "The ASCII number for h is 104\n",
      "The ASCII number for o is 111\n",
      "The ASCII number for n is 110\n"
     ]
    }
   ],
   "source": [
    "# I want string1 : 'python'\n",
    "# print all ascii number for 'python'\n",
    "for i in 'python':\n",
    "    print(f\"The ASCII number for {i} is {ord(i)}\")"
   ]
  },
  {
   "cell_type": "code",
   "execution_count": 22,
   "id": "2bd5b7bc-63da-479d-a240-02982628ea97",
   "metadata": {},
   "outputs": [
    {
     "name": "stdout",
     "output_type": "stream",
     "text": [
      "The ASCII number for p is 112\n",
      "The ASCII number for y is 121\n",
      "The ASCII number for t is 116\n",
      "The ASCII number for h is 104\n",
      "The ASCII number for o is 111\n",
      "The ASCII number for n is 110\n",
      "Summation is 674\n"
     ]
    }
   ],
   "source": [
    "summ=0\n",
    "for i in 'python':\n",
    "    print(f\"The ASCII number for {i} is {ord(i)}\")\n",
    "    summ=summ+ord(i)\n",
    "print(f\"Summation is {summ}\")"
   ]
  },
  {
   "cell_type": "code",
   "execution_count": 23,
   "id": "a67dcbfd-557d-46de-9e64-94a89e4f80a4",
   "metadata": {},
   "outputs": [
    {
     "name": "stdout",
     "output_type": "stream",
     "text": [
      "The ASCII number for A is 65\n",
      "The ASCII number for B is 66\n",
      "The ASCII number for C is 67\n",
      "The ASCII number for D is 68\n",
      "The ASCII number for E is 69\n",
      "The ASCII number for F is 70\n",
      "The ASCII number for G is 71\n",
      "The ASCII number for H is 72\n",
      "The ASCII number for I is 73\n",
      "The ASCII number for J is 74\n",
      "The ASCII number for K is 75\n",
      "The ASCII number for L is 76\n",
      "The ASCII number for M is 77\n",
      "The ASCII number for N is 78\n",
      "The ASCII number for O is 79\n",
      "The ASCII number for P is 80\n",
      "The ASCII number for Q is 81\n",
      "The ASCII number for R is 82\n",
      "The ASCII number for S is 83\n",
      "The ASCII number for T is 84\n",
      "The ASCII number for U is 85\n",
      "The ASCII number for V is 86\n",
      "The ASCII number for W is 87\n",
      "The ASCII number for X is 88\n",
      "The ASCII number for Y is 89\n",
      "The ASCII number for Z is 90\n"
     ]
    }
   ],
   "source": [
    "# i want to know all ascii numbers from A to Z\n",
    "for i in 'ABCDEFGHIJKLMNOPQRSTUVWXYZ':\n",
    "    print(f\"The ASCII number for {i} is {ord(i)}\")"
   ]
  },
  {
   "cell_type": "code",
   "execution_count": null,
   "id": "84280dfa-a413-40da-b60a-a0aeef243198",
   "metadata": {},
   "outputs": [],
   "source": [
    "#package called: string\n",
    "# import the pacakage\n",
    "#apply the dir\n",
    "# threr are some method are therer\n",
    "# in hta one method will capital letter\n"
   ]
  },
  {
   "cell_type": "code",
   "execution_count": 24,
   "id": "d7dccc4c-f0ce-4920-91fd-bbd4e84e3f4a",
   "metadata": {},
   "outputs": [],
   "source": [
    "import string"
   ]
  },
  {
   "cell_type": "code",
   "execution_count": 25,
   "id": "71b4fcce-08a3-48c4-9767-6dadba0a90f7",
   "metadata": {},
   "outputs": [
    {
     "data": {
      "text/plain": [
       "['Formatter',\n",
       " 'Template',\n",
       " '_ChainMap',\n",
       " '__all__',\n",
       " '__builtins__',\n",
       " '__cached__',\n",
       " '__doc__',\n",
       " '__file__',\n",
       " '__loader__',\n",
       " '__name__',\n",
       " '__package__',\n",
       " '__spec__',\n",
       " '_re',\n",
       " '_sentinel_dict',\n",
       " '_string',\n",
       " 'ascii_letters',\n",
       " 'ascii_lowercase',\n",
       " 'ascii_uppercase',\n",
       " 'capwords',\n",
       " 'digits',\n",
       " 'hexdigits',\n",
       " 'octdigits',\n",
       " 'printable',\n",
       " 'punctuation',\n",
       " 'whitespace']"
      ]
     },
     "execution_count": 25,
     "metadata": {},
     "output_type": "execute_result"
    }
   ],
   "source": [
    "dir(string)"
   ]
  },
  {
   "cell_type": "code",
   "execution_count": 27,
   "id": "33c129ed-070a-46c7-92c6-d5d748fd8792",
   "metadata": {},
   "outputs": [
    {
     "name": "stdout",
     "output_type": "stream",
     "text": [
      "Help on function capwords in module string:\n",
      "\n",
      "capwords(s, sep=None)\n",
      "    capwords(s [,sep]) -> string\n",
      "    \n",
      "    Split the argument into words using split, capitalize each\n",
      "    word using capitalize, and join the capitalized words using\n",
      "    join.  If the optional second argument sep is absent or None,\n",
      "    runs of whitespace characters are replaced by a single space\n",
      "    and leading and trailing whitespace are removed, otherwise\n",
      "    sep is used to split and join the words.\n",
      "\n"
     ]
    }
   ],
   "source": [
    "help (string.capwords)"
   ]
  },
  {
   "cell_type": "code",
   "execution_count": 28,
   "id": "6fb3de07-9614-41d2-aefb-e9fe0b97814b",
   "metadata": {},
   "outputs": [
    {
     "ename": "NameError",
     "evalue": "name 'a' is not defined",
     "output_type": "error",
     "traceback": [
      "\u001b[1;31m---------------------------------------------------------------------------\u001b[0m",
      "\u001b[1;31mNameError\u001b[0m                                 Traceback (most recent call last)",
      "Cell \u001b[1;32mIn[28], line 1\u001b[0m\n\u001b[1;32m----> 1\u001b[0m string\u001b[38;5;241m.\u001b[39mcapwords(a, )\n",
      "\u001b[1;31mNameError\u001b[0m: name 'a' is not defined"
     ]
    }
   ],
   "source": [
    "string.capwords()"
   ]
  },
  {
   "cell_type": "code",
   "execution_count": 29,
   "id": "251a86bb-f564-4abd-a5d7-748091cf8f2a",
   "metadata": {},
   "outputs": [
    {
     "data": {
      "text/plain": [
       "'ABCDEFGHIJKLMNOPQRSTUVWXYZ'"
      ]
     },
     "execution_count": 29,
     "metadata": {},
     "output_type": "execute_result"
    }
   ],
   "source": [
    "string.ascii_uppercase"
   ]
  },
  {
   "cell_type": "code",
   "execution_count": 30,
   "id": "8d706119-5efd-45bd-8991-1b65f4ef3863",
   "metadata": {},
   "outputs": [
    {
     "name": "stdout",
     "output_type": "stream",
     "text": [
      "The ASCII number for A is 65\n",
      "The ASCII number for B is 66\n",
      "The ASCII number for C is 67\n",
      "The ASCII number for D is 68\n",
      "The ASCII number for E is 69\n",
      "The ASCII number for F is 70\n",
      "The ASCII number for G is 71\n",
      "The ASCII number for H is 72\n",
      "The ASCII number for I is 73\n",
      "The ASCII number for J is 74\n",
      "The ASCII number for K is 75\n",
      "The ASCII number for L is 76\n",
      "The ASCII number for M is 77\n",
      "The ASCII number for N is 78\n",
      "The ASCII number for O is 79\n",
      "The ASCII number for P is 80\n",
      "The ASCII number for Q is 81\n",
      "The ASCII number for R is 82\n",
      "The ASCII number for S is 83\n",
      "The ASCII number for T is 84\n",
      "The ASCII number for U is 85\n",
      "The ASCII number for V is 86\n",
      "The ASCII number for W is 87\n",
      "The ASCII number for X is 88\n",
      "The ASCII number for Y is 89\n",
      "The ASCII number for Z is 90\n"
     ]
    }
   ],
   "source": [
    "for i in string.ascii_uppercase:\n",
    "    print(f\"The ASCII number for {i} is {ord(i)}\")"
   ]
  },
  {
   "cell_type": "code",
   "execution_count": 32,
   "id": "2116cef4-d605-4b7c-8173-5494bb20faf3",
   "metadata": {},
   "outputs": [
    {
     "name": "stdout",
     "output_type": "stream",
     "text": [
      "The ASCII number for a is 97\n",
      "The ASCII number for b is 98\n",
      "The ASCII number for c is 99\n",
      "The ASCII number for d is 100\n",
      "The ASCII number for e is 101\n",
      "The ASCII number for f is 102\n",
      "The ASCII number for g is 103\n",
      "The ASCII number for h is 104\n",
      "The ASCII number for i is 105\n",
      "The ASCII number for j is 106\n",
      "The ASCII number for k is 107\n",
      "The ASCII number for l is 108\n",
      "The ASCII number for m is 109\n",
      "The ASCII number for n is 110\n",
      "The ASCII number for o is 111\n",
      "The ASCII number for p is 112\n",
      "The ASCII number for q is 113\n",
      "The ASCII number for r is 114\n",
      "The ASCII number for s is 115\n",
      "The ASCII number for t is 116\n",
      "The ASCII number for u is 117\n",
      "The ASCII number for v is 118\n",
      "The ASCII number for w is 119\n",
      "The ASCII number for x is 120\n",
      "The ASCII number for y is 121\n",
      "The ASCII number for z is 122\n"
     ]
    }
   ],
   "source": [
    "for i in string.ascii_lowercase:\n",
    "    print(f\"The ASCII number for {i} is {ord(i)}\")"
   ]
  },
  {
   "cell_type": "code",
   "execution_count": 37,
   "id": "4d13a24a-4a63-4075-8ae2-af3bb83b475f",
   "metadata": {},
   "outputs": [
    {
     "name": "stdout",
     "output_type": "stream",
     "text": [
      "The ASCII number for A is 65\n",
      "The ASCII number for B is 66\n",
      "The ASCII number for C is 67\n",
      "The ASCII number for D is 68\n",
      "The ASCII number for E is 69\n",
      "The ASCII number for F is 70\n",
      "The ASCII number for G is 71\n",
      "The ASCII number for H is 72\n",
      "The ASCII number for I is 73\n",
      "The ASCII number for J is 74\n",
      "The ASCII number for K is 75\n",
      "The ASCII number for L is 76\n",
      "The ASCII number for M is 77\n",
      "The ASCII number for N is 78\n",
      "The ASCII number for O is 79\n",
      "The ASCII number for P is 80\n",
      "The ASCII number for Q is 81\n",
      "The ASCII number for R is 82\n",
      "The ASCII number for S is 83\n",
      "The ASCII number for T is 84\n",
      "The ASCII number for U is 85\n",
      "The ASCII number for V is 86\n",
      "The ASCII number for W is 87\n",
      "The ASCII number for X is 88\n",
      "The ASCII number for Y is 89\n",
      "The ASCII number for Z is 90\n",
      "summation is 2015\n"
     ]
    }
   ],
   "source": [
    "summ=0\n",
    "for i in string.ascii_uppercase:\n",
    "    print(f\"The ASCII number for {i} is {ord(i)}\")\n",
    "    summ=summ+ord(i)\n",
    "print(f\"summation is {summ}\")"
   ]
  },
  {
   "cell_type": "code",
   "execution_count": 38,
   "id": "0f6dbd99-a15d-42c1-93b9-5a47ae4d7d59",
   "metadata": {},
   "outputs": [
    {
     "data": {
      "text/plain": [
       "'!\"#$%&\\'()*+,-./:;<=>?@[\\\\]^_`{|}~'"
      ]
     },
     "execution_count": 38,
     "metadata": {},
     "output_type": "execute_result"
    }
   ],
   "source": [
    "string.punctuation"
   ]
  },
  {
   "cell_type": "code",
   "execution_count": 40,
   "id": "b33f193d-ca3a-4a8f-b363-43b546a7dba5",
   "metadata": {},
   "outputs": [
    {
     "name": "stdout",
     "output_type": "stream",
     "text": [
      "The ASCII number for ! is 33\n",
      "The ASCII number for \" is 34\n",
      "The ASCII number for # is 35\n",
      "The ASCII number for $ is 36\n",
      "The ASCII number for % is 37\n",
      "The ASCII number for & is 38\n",
      "The ASCII number for ' is 39\n",
      "The ASCII number for ( is 40\n",
      "The ASCII number for ) is 41\n",
      "The ASCII number for * is 42\n",
      "The ASCII number for + is 43\n",
      "The ASCII number for , is 44\n",
      "The ASCII number for - is 45\n",
      "The ASCII number for . is 46\n",
      "The ASCII number for / is 47\n",
      "The ASCII number for : is 58\n",
      "The ASCII number for ; is 59\n",
      "The ASCII number for < is 60\n",
      "The ASCII number for = is 61\n",
      "The ASCII number for > is 62\n",
      "The ASCII number for ? is 63\n",
      "The ASCII number for @ is 64\n",
      "The ASCII number for [ is 91\n",
      "The ASCII number for \\ is 92\n",
      "The ASCII number for ] is 93\n",
      "The ASCII number for ^ is 94\n",
      "The ASCII number for _ is 95\n",
      "The ASCII number for ` is 96\n",
      "The ASCII number for { is 123\n",
      "The ASCII number for | is 124\n",
      "The ASCII number for } is 125\n",
      "The ASCII number for ~ is 126\n"
     ]
    }
   ],
   "source": [
    "for i in string.punctuation:\n",
    "    print(f\"The ASCII number for {i} is {ord(i)}\")"
   ]
  },
  {
   "cell_type": "code",
   "execution_count": 42,
   "id": "3c9633cd-5874-4442-a25f-53aa9b0e6efd",
   "metadata": {},
   "outputs": [
    {
     "name": "stdout",
     "output_type": "stream",
     "text": [
      "33 !==>34 \"==>35 #==>36 $==>37 %==>38 &==>39 '==>40 (==>41 )==>42 *==>43 +==>44 ,==>45 -==>46 .==>47 /==>48 0==>49 1==>50 2==>51 3==>52 4==>53 5==>54 6==>55 7==>56 8==>57 9==>58 :==>59 ;==>60 <==>61 ===>62 >==>63 ?==>64 @==>65 A==>66 B==>67 C==>68 D==>69 E==>70 F==>71 G==>72 H==>73 I==>74 J==>75 K==>76 L==>77 M==>78 N==>79 O==>80 P==>81 Q==>82 R==>83 S==>84 T==>85 U==>86 V==>87 W==>88 X==>89 Y==>90 Z==>91 [==>92 \\==>93 ]==>94 ^==>95 _==>96 `==>97 a==>98 b==>99 c==>100 d==>101 e==>102 f==>103 g==>104 h==>105 i==>106 j==>107 k==>108 l==>109 m==>110 n==>111 o==>112 p==>113 q==>114 r==>115 s==>116 t==>117 u==>118 v==>119 w==>120 x==>121 y==>122 z==>123 {==>124 |==>125 }==>"
     ]
    }
   ],
   "source": [
    "for i in range(33,126):\n",
    "    print(i,chr(i),end='==>')"
   ]
  },
  {
   "cell_type": "code",
   "execution_count": null,
   "id": "1414b125-f06e-49d3-b395-2902e88d3c78",
   "metadata": {},
   "outputs": [],
   "source": [
    "for i in range(900,1000):"
   ]
  }
 ],
 "metadata": {
  "kernelspec": {
   "display_name": "Python 3 (ipykernel)",
   "language": "python",
   "name": "python3"
  },
  "language_info": {
   "codemirror_mode": {
    "name": "ipython",
    "version": 3
   },
   "file_extension": ".py",
   "mimetype": "text/x-python",
   "name": "python",
   "nbconvert_exporter": "python",
   "pygments_lexer": "ipython3",
   "version": "3.11.7"
  }
 },
 "nbformat": 4,
 "nbformat_minor": 5
}
