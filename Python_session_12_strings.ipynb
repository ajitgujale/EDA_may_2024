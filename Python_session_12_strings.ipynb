{
 "cells": [
  {
   "cell_type": "markdown",
   "id": "579c9ba9-b81e-4dd3-9ef2-39df883899d8",
   "metadata": {},
   "source": [
    "**Strings**"
   ]
  },
  {
   "cell_type": "code",
   "execution_count": null,
   "id": "d3e94083-ad03-4eee-bbe4-d56ecfd6742e",
   "metadata": {},
   "outputs": [],
   "source": [
    "triple quotes\n",
    "doc string\n",
    "if we mentioned sngle quotes or double quotes by default python provides in single quotes only"
   ]
  },
  {
   "cell_type": "markdown",
   "id": "14459f3f-89c4-427e-978c-294083d36bc8",
   "metadata": {},
   "source": [
    "**type**"
   ]
  },
  {
   "cell_type": "markdown",
   "id": "30b3c0c8-1ec1-4484-897d-f692ac46707d",
   "metadata": {},
   "source": [
    "**len**"
   ]
  },
  {
   "cell_type": "code",
   "execution_count": 3,
   "id": "5bdb8af1-0c38-46e0-9d7a-783a3ca1dd6f",
   "metadata": {},
   "outputs": [
    {
     "data": {
      "text/plain": [
       "6"
      ]
     },
     "execution_count": 3,
     "metadata": {},
     "output_type": "execute_result"
    }
   ],
   "source": [
    "str1='python' # 6 letters\n",
    "len(str1)"
   ]
  },
  {
   "cell_type": "code",
   "execution_count": 4,
   "id": "e0499ba5-a739-4a61-b681-c45b15faf382",
   "metadata": {},
   "outputs": [
    {
     "data": {
      "text/plain": [
       "9"
      ]
     },
     "execution_count": 4,
     "metadata": {},
     "output_type": "execute_result"
    }
   ],
   "source": [
    "str2=\"Omkar sir\"\n",
    "\n",
    "len(str2)"
   ]
  },
  {
   "cell_type": "markdown",
   "id": "c5448a1b-c6f5-4db7-86f8-8a605dba1015",
   "metadata": {},
   "source": [
    "**max and min**"
   ]
  },
  {
   "cell_type": "code",
   "execution_count": 5,
   "id": "3627131f-0e24-4dd3-8299-80e3eb220722",
   "metadata": {},
   "outputs": [
    {
     "data": {
      "text/plain": [
       "'y'"
      ]
     },
     "execution_count": 5,
     "metadata": {},
     "output_type": "execute_result"
    }
   ],
   "source": [
    "str1='python'\n",
    "max(str1) #ascii value"
   ]
  },
  {
   "cell_type": "code",
   "execution_count": 6,
   "id": "80ba7556-5eed-45ca-b813-0fa4e313ae4b",
   "metadata": {},
   "outputs": [
    {
     "data": {
      "text/plain": [
       "(112, 121, 116, 104, 111, 110)"
      ]
     },
     "execution_count": 6,
     "metadata": {},
     "output_type": "execute_result"
    }
   ],
   "source": [
    "ord('p'),ord('y'),ord('t'),ord('h'),ord('o'),ord('n')"
   ]
  },
  {
   "cell_type": "code",
   "execution_count": 9,
   "id": "0c5ac534-f4a6-4bef-871a-b84723ed7426",
   "metadata": {},
   "outputs": [
    {
     "data": {
      "text/plain": [
       "'h'"
      ]
     },
     "execution_count": 9,
     "metadata": {},
     "output_type": "execute_result"
    }
   ],
   "source": [
    "min(str1)"
   ]
  },
  {
   "cell_type": "markdown",
   "id": "1ce77e64-69b8-4134-945e-35aec9f9c323",
   "metadata": {},
   "source": [
    "**Keywords vs Methods**"
   ]
  },
  {
   "cell_type": "code",
   "execution_count": null,
   "id": "3a89e2d2-518c-46c7-9993-fb5ee057a25d",
   "metadata": {},
   "outputs": [],
   "source": [
    "-Keywords are used directly\n",
    "type()\n",
    "print()\n",
    "len()\n",
    "max()\n",
    "min()\n",
    "eval()\n",
    "input()\n",
    "sum()\n"
   ]
  },
  {
   "cell_type": "code",
   "execution_count": null,
   "id": "4d4d92a3-7c4e-4405-9388-db73a98b35b2",
   "metadata": {},
   "outputs": [],
   "source": [
    "- In order to use method we need to call package\n",
    "\n",
    "import random\n",
    "random.randint()\n",
    "\n",
    "import math\n",
    "math.sqrt()\n",
    "\n",
    "import time\n",
    "time.sleep()\n",
    "\n"
   ]
  },
  {
   "cell_type": "code",
   "execution_count": 10,
   "id": "2d1d714b-2686-485e-8ce5-87b62332920b",
   "metadata": {},
   "outputs": [
    {
     "data": {
      "text/plain": [
       "'y'"
      ]
     },
     "execution_count": 10,
     "metadata": {},
     "output_type": "execute_result"
    }
   ],
   "source": [
    "str1='python123'\n",
    "max(str1)"
   ]
  },
  {
   "cell_type": "markdown",
   "id": "433781b7-6a9c-4fae-888e-c46dbe4f5b56",
   "metadata": {},
   "source": [
    "**sum**"
   ]
  },
  {
   "cell_type": "code",
   "execution_count": 11,
   "id": "6fdae292-32eb-443d-988a-bb7418cc7a1b",
   "metadata": {},
   "outputs": [
    {
     "ename": "TypeError",
     "evalue": "unsupported operand type(s) for +: 'int' and 'str'",
     "output_type": "error",
     "traceback": [
      "\u001b[1;31m---------------------------------------------------------------------------\u001b[0m",
      "\u001b[1;31mTypeError\u001b[0m                                 Traceback (most recent call last)",
      "Cell \u001b[1;32mIn[11], line 2\u001b[0m\n\u001b[0;32m      1\u001b[0m str1\u001b[38;5;241m=\u001b[39m\u001b[38;5;124m'\u001b[39m\u001b[38;5;124mpython\u001b[39m\u001b[38;5;124m'\u001b[39m\n\u001b[1;32m----> 2\u001b[0m \u001b[38;5;28msum\u001b[39m(str1)\n",
      "\u001b[1;31mTypeError\u001b[0m: unsupported operand type(s) for +: 'int' and 'str'"
     ]
    }
   ],
   "source": [
    "str1='python'\n",
    "sum(str1)"
   ]
  },
  {
   "cell_type": "code",
   "execution_count": 12,
   "id": "d525f66a-440a-472b-92ec-b8fc58ca4a8a",
   "metadata": {},
   "outputs": [],
   "source": [
    "str2='programming'\n"
   ]
  },
  {
   "cell_type": "code",
   "execution_count": 13,
   "id": "6dc313a7-51d2-4ba3-b4a1-c2fc9b32a2b0",
   "metadata": {},
   "outputs": [],
   "source": [
    "sum=str1+str2"
   ]
  },
  {
   "cell_type": "code",
   "execution_count": 14,
   "id": "04a4e37e-72f2-46e2-8ea6-df341eb29e62",
   "metadata": {},
   "outputs": [
    {
     "name": "stdout",
     "output_type": "stream",
     "text": [
      "pythonprogramming\n"
     ]
    }
   ],
   "source": [
    "print(sum)"
   ]
  },
  {
   "cell_type": "code",
   "execution_count": 20,
   "id": "d92342ba-cf24-4eb5-91f3-1bb42025b46e",
   "metadata": {},
   "outputs": [
    {
     "ename": "TypeError",
     "evalue": "'list' object is not callable",
     "output_type": "error",
     "traceback": [
      "\u001b[1;31m---------------------------------------------------------------------------\u001b[0m",
      "\u001b[1;31mTypeError\u001b[0m                                 Traceback (most recent call last)",
      "Cell \u001b[1;32mIn[20], line 1\u001b[0m\n\u001b[1;32m----> 1\u001b[0m \u001b[38;5;28msum\u001b[39m([\u001b[38;5;241m1\u001b[39m,\u001b[38;5;241m2\u001b[39m,\u001b[38;5;241m3\u001b[39m])\n",
      "\u001b[1;31mTypeError\u001b[0m: 'list' object is not callable"
     ]
    }
   ],
   "source": [
    "sum([1,2,3])"
   ]
  },
  {
   "cell_type": "markdown",
   "id": "103d6a49-5b8f-4b88-95cb-f9eaff7d28a5",
   "metadata": {},
   "source": [
    "**soted**"
   ]
  },
  {
   "cell_type": "code",
   "execution_count": 21,
   "id": "064e3175-446b-4c6f-ab77-6957be3394c3",
   "metadata": {},
   "outputs": [
    {
     "data": {
      "text/plain": [
       "['h', 'n', 'o', 'p', 't', 'y']"
      ]
     },
     "execution_count": 21,
     "metadata": {},
     "output_type": "execute_result"
    }
   ],
   "source": [
    "sorted('python')"
   ]
  },
  {
   "cell_type": "markdown",
   "id": "a14bcbff-4341-4ce5-a68c-077ec3c7901d",
   "metadata": {},
   "source": [
    "- sorted gives ascending order based on ASCII numbers\n",
    "\n",
    "- sorted is kind of a function\n",
    "\n",
    "- Every function we have arguments\n",
    "\n",
    "- In that one defualt argument is **reverse=False**\n",
    "\n",
    "- By default sorted output gives **ascending order**\n",
    "\n",
    "- We can change the order by providing **reverse=True**\n",
    "\n",
    "- ** If we did not mention, it will give the default answer**"
   ]
  },
  {
   "cell_type": "code",
   "execution_count": 22,
   "id": "3320b901-0830-4ea5-ae01-b2d62a36e278",
   "metadata": {},
   "outputs": [
    {
     "data": {
      "text/plain": [
       "['y', 't', 'p', 'o', 'n', 'h']"
      ]
     },
     "execution_count": 22,
     "metadata": {},
     "output_type": "execute_result"
    }
   ],
   "source": [
    "sorted(str1,reverse=True) #decending order"
   ]
  },
  {
   "cell_type": "code",
   "execution_count": 23,
   "id": "3fd93c6a-079a-4883-b93d-6fa339197389",
   "metadata": {},
   "outputs": [
    {
     "data": {
      "text/plain": [
       "0j"
      ]
     },
     "execution_count": 23,
     "metadata": {},
     "output_type": "execute_result"
    }
   ],
   "source": [
    "complex() #0+0j"
   ]
  },
  {
   "cell_type": "code",
   "execution_count": 24,
   "id": "5fe31293-3395-4d45-bcc8-5180b0bba1ea",
   "metadata": {},
   "outputs": [
    {
     "data": {
      "text/plain": [
       "(10+20j)"
      ]
     },
     "execution_count": 24,
     "metadata": {},
     "output_type": "execute_result"
    }
   ],
   "source": [
    "complex(10,20)"
   ]
  },
  {
   "cell_type": "code",
   "execution_count": 25,
   "id": "eaeb0c95-50d6-45f5-a49d-451f846f5011",
   "metadata": {},
   "outputs": [
    {
     "data": {
      "text/plain": [
       "(10+30j)"
      ]
     },
     "execution_count": 25,
     "metadata": {},
     "output_type": "execute_result"
    }
   ],
   "source": [
    "complex(real=10,imag=30)"
   ]
  },
  {
   "cell_type": "code",
   "execution_count": null,
   "id": "d56dfd07-00c0-44e3-9908-2abeb388a377",
   "metadata": {},
   "outputs": [],
   "source": [
    "**Normal "
   ]
  },
  {
   "cell_type": "code",
   "execution_count": 27,
   "id": "7e16f940-826f-454c-8a45-7181a542a463",
   "metadata": {},
   "outputs": [
    {
     "data": {
      "text/plain": [
       "0.03338345050343383"
      ]
     },
     "execution_count": 27,
     "metadata": {},
     "output_type": "execute_result"
    }
   ],
   "source": [
    "import random\n",
    "random.random() # we will gey answer but answer is not in our hands"
   ]
  },
  {
   "cell_type": "code",
   "execution_count": 28,
   "id": "8a0e04ff-92a7-4695-9373-736b08c7a08b",
   "metadata": {},
   "outputs": [
    {
     "data": {
      "text/plain": [
       "20"
      ]
     },
     "execution_count": 28,
     "metadata": {},
     "output_type": "execute_result"
    }
   ],
   "source": [
    "random.randint(10,20) #by default 0,0"
   ]
  },
  {
   "cell_type": "code",
   "execution_count": 29,
   "id": "957ec54d-a751-42ff-aa26-0593ecd2991a",
   "metadata": {},
   "outputs": [
    {
     "ename": "TypeError",
     "evalue": "sorted expected 1 argument, got 0",
     "output_type": "error",
     "traceback": [
      "\u001b[1;31m---------------------------------------------------------------------------\u001b[0m",
      "\u001b[1;31mTypeError\u001b[0m                                 Traceback (most recent call last)",
      "Cell \u001b[1;32mIn[29], line 1\u001b[0m\n\u001b[1;32m----> 1\u001b[0m \u001b[38;5;28msorted\u001b[39m(iterable\u001b[38;5;241m=\u001b[39m\u001b[38;5;124m'\u001b[39m\u001b[38;5;124mpython\u001b[39m\u001b[38;5;124m'\u001b[39m)\n",
      "\u001b[1;31mTypeError\u001b[0m: sorted expected 1 argument, got 0"
     ]
    }
   ],
   "source": [
    "sorted(iterable='python')\n"
   ]
  },
  {
   "cell_type": "code",
   "execution_count": 30,
   "id": "dd2af431-e749-46fe-9402-18d4917f2ae8",
   "metadata": {},
   "outputs": [
    {
     "data": {
      "text/plain": [
       "26"
      ]
     },
     "execution_count": 30,
     "metadata": {},
     "output_type": "execute_result"
    }
   ],
   "source": [
    "random.randint(a=10,b=30)"
   ]
  },
  {
   "cell_type": "markdown",
   "id": "331956c3-4d1a-4881-9257-f534d9460e53",
   "metadata": {},
   "source": [
    "**Note**\n",
    "\n",
    "- We hav earguments before /  and after slash\n",
    "\n",
    "- we can use the argument names after / only\n",
    "\n",
    "- for example sorted has two arguments one is iterable and another one is reverse\n",
    "\n",
    "- Iterable is mentioned before / symbol \n",
    "\n",
    "- reverse is mentioned after / symbol\n",
    "\n",
    "- So we can use only reverse argument name while we are doing the work\n",
    "\n",
    "- We can not use iterable argument name\n",
    "\n",
    "- instead of using iterable name, we can provide direct value at that position.\n"
   ]
  },
  {
   "cell_type": "markdown",
   "id": "f976f5b6-bf62-4f45-9115-f8ed0f81539e",
   "metadata": {},
   "source": [
    "**reversed**"
   ]
  },
  {
   "cell_type": "code",
   "execution_count": 34,
   "id": "2099c0fa-d35a-46f8-b78e-74d0a3f6ba65",
   "metadata": {},
   "outputs": [
    {
     "data": {
      "text/plain": [
       "<reversed at 0x1f2460972e0>"
      ]
     },
     "execution_count": 34,
     "metadata": {},
     "output_type": "execute_result"
    }
   ],
   "source": [
    "reversed('python')"
   ]
  },
  {
   "cell_type": "markdown",
   "id": "224c817a-39b4-4856-82ac-d00c473850ca",
   "metadata": {},
   "source": [
    "- It saying, i already done my work\n",
    "\n",
    "- your output is stored inthat memory location\n",
    "\n",
    "- whenever you see this kind of answer less than tand greater han symbol or memory\n",
    "\n",
    "- use for loop to see the ans"
   ]
  },
  {
   "cell_type": "code",
   "execution_count": 35,
   "id": "3364c369-0383-41ac-ae89-c1843f36f1d6",
   "metadata": {},
   "outputs": [
    {
     "name": "stdout",
     "output_type": "stream",
     "text": [
      "n\n",
      "o\n",
      "h\n",
      "t\n",
      "y\n",
      "p\n"
     ]
    }
   ],
   "source": [
    "str1='python'\n",
    "output=reversed(str1)\n",
    "for i in output:\n",
    "    print(i)"
   ]
  },
  {
   "cell_type": "code",
   "execution_count": 36,
   "id": "6715952f-61de-47cc-a09c-7f369ea40783",
   "metadata": {},
   "outputs": [
    {
     "name": "stdout",
     "output_type": "stream",
     "text": [
      "f\n",
      "e\n",
      "d\n",
      "c\n",
      "b\n",
      "a\n"
     ]
    }
   ],
   "source": [
    "str1='abcdef'\n",
    "output=reversed(str1)\n",
    "for i in output:\n",
    "    print(i)"
   ]
  },
  {
   "cell_type": "code",
   "execution_count": 5,
   "id": "84c89f4a-c210-42ec-ac6b-2d71d94e7ce1",
   "metadata": {},
   "outputs": [
    {
     "name": "stdout",
     "output_type": "stream",
     "text": [
      "3\n"
     ]
    }
   ],
   "source": [
    "str1='hai naresh how are you'\n",
    "count=0\n",
    "for i in str1:\n",
    "    if i=='a':\n",
    "        count=count+1\n",
    "print(count)\n",
    "    "
   ]
  },
  {
   "cell_type": "code",
   "execution_count": 15,
   "id": "fe0ad767-e7b6-4d1b-bf6a-2474db0c1f16",
   "metadata": {},
   "outputs": [
    {
     "name": "stdout",
     "output_type": "stream",
     "text": [
      "110\n"
     ]
    }
   ],
   "source": [
    "#count vowels\n",
    "str1='hai naresh how are you'\n",
    "count=0\n",
    "for i in str1:\n",
    "    for i in 'aeiou':\n",
    "        count=count+1\n",
    "print(count)"
   ]
  },
  {
   "cell_type": "code",
   "execution_count": 16,
   "id": "d83bfd68-1aae-44ab-82aa-d5c8376f54fd",
   "metadata": {},
   "outputs": [
    {
     "name": "stdout",
     "output_type": "stream",
     "text": [
      "110\n"
     ]
    }
   ],
   "source": [
    "str1='hai naresh how are you'\n",
    "count=0\n",
    "for i in str1:\n",
    "    for i in 'aeiou':\n",
    "        count=count+1\n",
    "print(count)"
   ]
  },
  {
   "cell_type": "code",
   "execution_count": null,
   "id": "19a78884-d8cf-4582-92f5-b53e99b2f0b4",
   "metadata": {},
   "outputs": [],
   "source": [
    "#Q3 home work unique vowel .. dont repeat vowels\n",
    "# step1- count=0\n",
    "#step 2- "
   ]
  },
  {
   "cell_type": "code",
   "execution_count": 18,
   "id": "ec70c3e9-20cc-4b2f-b1e6-5af89ffcd96a",
   "metadata": {},
   "outputs": [
    {
     "data": {
      "text/plain": [
       "'python'"
      ]
     },
     "execution_count": 18,
     "metadata": {},
     "output_type": "execute_result"
    }
   ],
   "source": [
    "s1='python'\n",
    "s2=''\n",
    "for i in s1:\n",
    "    s2=s2+i\n",
    "s2"
   ]
  },
  {
   "cell_type": "markdown",
   "id": "fdb98d66-3eea-48d5-954d-03f40a5e050d",
   "metadata": {},
   "source": [
    "**Concatenation**"
   ]
  },
  {
   "cell_type": "code",
   "execution_count": 20,
   "id": "39514e97-fac8-4467-8ea8-3cf1f8a4ce4b",
   "metadata": {},
   "outputs": [
    {
     "data": {
      "text/plain": [
       "'hello bye'"
      ]
     },
     "execution_count": 20,
     "metadata": {},
     "output_type": "execute_result"
    }
   ],
   "source": [
    "s1='hello'\n",
    "s2='bye'\n",
    "s3=' '\n",
    "s1+s3+s2"
   ]
  },
  {
   "cell_type": "code",
   "execution_count": 21,
   "id": "3d102ce3-d570-405d-a77b-97d018b57352",
   "metadata": {},
   "outputs": [
    {
     "ename": "TypeError",
     "evalue": "can't multiply sequence by non-int of type 'str'",
     "output_type": "error",
     "traceback": [
      "\u001b[1;31m---------------------------------------------------------------------------\u001b[0m",
      "\u001b[1;31mTypeError\u001b[0m                                 Traceback (most recent call last)",
      "Cell \u001b[1;32mIn[21], line 3\u001b[0m\n\u001b[0;32m      1\u001b[0m s1\u001b[38;5;241m=\u001b[39m\u001b[38;5;124m'\u001b[39m\u001b[38;5;124mhello\u001b[39m\u001b[38;5;124m'\u001b[39m\n\u001b[0;32m      2\u001b[0m s2\u001b[38;5;241m=\u001b[39m\u001b[38;5;124m'\u001b[39m\u001b[38;5;124mbye\u001b[39m\u001b[38;5;124m'\u001b[39m\n\u001b[1;32m----> 3\u001b[0m s1\u001b[38;5;241m*\u001b[39ms2\n",
      "\u001b[1;31mTypeError\u001b[0m: can't multiply sequence by non-int of type 'str'"
     ]
    }
   ],
   "source": [
    "s1='hello'\n",
    "s2='bye'\n",
    "s1*s2"
   ]
  },
  {
   "cell_type": "code",
   "execution_count": 22,
   "id": "99354f05-2baf-4051-9c3a-f320db983bca",
   "metadata": {},
   "outputs": [
    {
     "ename": "TypeError",
     "evalue": "unsupported operand type(s) for -: 'str' and 'str'",
     "output_type": "error",
     "traceback": [
      "\u001b[1;31m---------------------------------------------------------------------------\u001b[0m",
      "\u001b[1;31mTypeError\u001b[0m                                 Traceback (most recent call last)",
      "Cell \u001b[1;32mIn[22], line 1\u001b[0m\n\u001b[1;32m----> 1\u001b[0m s1\u001b[38;5;241m-\u001b[39ms2\n",
      "\u001b[1;31mTypeError\u001b[0m: unsupported operand type(s) for -: 'str' and 'str'"
     ]
    }
   ],
   "source": [
    "s1-s2"
   ]
  },
  {
   "cell_type": "code",
   "execution_count": 23,
   "id": "d3adc826-8dcc-4473-9260-241896b14339",
   "metadata": {},
   "outputs": [
    {
     "ename": "TypeError",
     "evalue": "unsupported operand type(s) for /: 'str' and 'str'",
     "output_type": "error",
     "traceback": [
      "\u001b[1;31m---------------------------------------------------------------------------\u001b[0m",
      "\u001b[1;31mTypeError\u001b[0m                                 Traceback (most recent call last)",
      "Cell \u001b[1;32mIn[23], line 1\u001b[0m\n\u001b[1;32m----> 1\u001b[0m s1\u001b[38;5;241m/\u001b[39ms2\n",
      "\u001b[1;31mTypeError\u001b[0m: unsupported operand type(s) for /: 'str' and 'str'"
     ]
    }
   ],
   "source": [
    "s1/s2"
   ]
  },
  {
   "cell_type": "code",
   "execution_count": null,
   "id": "24ca8a04-c95a-4968-b3aa-0f0d6e17318d",
   "metadata": {},
   "outputs": [],
   "source": [
    "# s1*s2:  can't multiply sequence by non-int of type 'str'\n",
    "\n",
    "# s1-s2 unsupported operand type(s) for -: 'str' and 'str'\n",
    "\n",
    "# s1/s2 unsupported operand type(s) for -: 'str' and 'str'"
   ]
  },
  {
   "cell_type": "code",
   "execution_count": 24,
   "id": "66c5a135-1cb3-4281-8894-7eab548d1ffb",
   "metadata": {},
   "outputs": [
    {
     "data": {
      "text/plain": [
       "'hellohello'"
      ]
     },
     "execution_count": 24,
     "metadata": {},
     "output_type": "execute_result"
    }
   ],
   "source": [
    "s1='hello'\n",
    "s2=2\n",
    "s1*s2"
   ]
  },
  {
   "cell_type": "markdown",
   "id": "5ffc48b6-f1e2-4428-accc-4513c5742623",
   "metadata": {},
   "source": [
    "**Index**\n",
    "\n",
    "- Index meaning a number attached to a letter\n",
    "\n",
    "- In python index starts with zero\n",
    "\n",
    "- We have two directions available\n",
    "\n",
    "    - Positive direction\n",
    "\n",
    "        - Positive numbers starts with zero \n",
    "\n",
    "    - Negative direction\n",
    "\n",
    "        - Negative numbers starts with -1, applicable to last letter"
   ]
  },
  {
   "cell_type": "code",
   "execution_count": null,
   "id": "3eccdeb9-956f-468a-a43c-f60fdb54c8c9",
   "metadata": {},
   "outputs": [],
   "source": [
    "s1='python'\n",
    "\n",
    "-6  -5  -4  -3   -2  -1 ====> Negative dir\n",
    " p   y   t   h    o   n\n",
    " 0   1   2   3    4   5 =====> Positive dir"
   ]
  },
  {
   "cell_type": "code",
   "execution_count": 26,
   "id": "39ad17f1-c095-45f3-8c13-227de5393232",
   "metadata": {},
   "outputs": [
    {
     "data": {
      "text/plain": [
       "('p', 'y')"
      ]
     },
     "execution_count": 26,
     "metadata": {},
     "output_type": "execute_result"
    }
   ],
   "source": [
    "s1='python'\n",
    "s1[0],s1[1]"
   ]
  },
  {
   "cell_type": "code",
   "execution_count": 27,
   "id": "5cb8a975-0d33-488a-8991-5a0814e4cb3b",
   "metadata": {},
   "outputs": [
    {
     "data": {
      "text/plain": [
       "'h'"
      ]
     },
     "execution_count": 27,
     "metadata": {},
     "output_type": "execute_result"
    }
   ],
   "source": [
    "s1[-3]"
   ]
  },
  {
   "cell_type": "markdown",
   "id": "8820452b-647e-44d7-ae75-51099b081be6",
   "metadata": {},
   "source": [
    "- range belongs to which family\n",
    "\n",
    "    - Math family\n",
    "\n",
    "- Inside range bracket what we need to provide\n",
    "\n",
    "    - number\n",
    "\n",
    "- How many numbers we need to provide\n",
    "\n",
    "    - Number of letter : len(string)\n",
    "\n",
    "- How to access the letter using number\n",
    "\n",
    "    - by using index\n"
   ]
  },
  {
   "cell_type": "code",
   "execution_count": 1,
   "id": "b7e973e8-6924-4935-9cdd-f6a955de1b33",
   "metadata": {},
   "outputs": [
    {
     "name": "stdout",
     "output_type": "stream",
     "text": [
      "w\n",
      "e\n",
      "l\n",
      "c\n",
      "o\n",
      "m\n",
      "e\n"
     ]
    }
   ],
   "source": [
    "s='welcome'\n",
    "for i in range(7):\n",
    "    print(s[i])"
   ]
  },
  {
   "cell_type": "code",
   "execution_count": 2,
   "id": "7fcd78d0-4905-469a-9ac1-2459adc3b11e",
   "metadata": {},
   "outputs": [
    {
     "name": "stdout",
     "output_type": "stream",
     "text": [
      "w\n",
      "e\n",
      "l\n",
      "c\n",
      "o\n",
      "m\n",
      "e\n"
     ]
    }
   ],
   "source": [
    "s='welcome'\n",
    "for i in range(len(s)):\n",
    "    print(s[i])\n",
    "\n",
    "# i=0  s[0]=w\n",
    "# i=1  s[1]=e"
   ]
  },
  {
   "cell_type": "code",
   "execution_count": 4,
   "id": "d5bf7eff-3777-4175-a2e6-8edbb44b0819",
   "metadata": {},
   "outputs": [
    {
     "name": "stdout",
     "output_type": "stream",
     "text": [
      "w e l c o m e   t o   n a r e s h   i t "
     ]
    }
   ],
   "source": [
    "s='welcome to naresh it'\n",
    "for i in range(len(s)):\n",
    "    print(s[i],end=' ')"
   ]
  },
  {
   "cell_type": "markdown",
   "id": "4bc6421f-c09b-4720-a44a-878bdd12d51c",
   "metadata": {},
   "source": [
    "- **for-in** directly access the letter\n",
    "\n",
    "-**for-range** will access using index"
   ]
  },
  {
   "cell_type": "code",
   "execution_count": 5,
   "id": "71a0077f-623a-402e-9143-9b2b631eab43",
   "metadata": {},
   "outputs": [
    {
     "name": "stdout",
     "output_type": "stream",
     "text": [
      "welcom to hyderabad\n",
      "welcom to hyderabad\n",
      "welcom to hyderabad\n",
      "welcom to hyderabad\n",
      "welcom to hyderabad\n",
      "welcom to hyderabad\n",
      "welcom to hyderabad\n",
      "welcom to hyderabad\n",
      "welcom to hyderabad\n",
      "welcom to hyderabad\n",
      "welcom to hyderabad\n",
      "welcom to hyderabad\n",
      "welcom to hyderabad\n",
      "welcom to hyderabad\n",
      "welcom to hyderabad\n",
      "welcom to hyderabad\n",
      "welcom to hyderabad\n",
      "welcom to hyderabad\n",
      "welcom to hyderabad\n"
     ]
    }
   ],
   "source": [
    "s='welcom to hyderabad'\n",
    "for i in(s):\n",
    "    print(s)"
   ]
  },
  {
   "cell_type": "code",
   "execution_count": 6,
   "id": "a6ec613b-8faf-4f7c-b382-4e227f1888d0",
   "metadata": {},
   "outputs": [
    {
     "name": "stdout",
     "output_type": "stream",
     "text": [
      "the positve index of w is 0\n",
      "the positve index of e is 1\n",
      "the positve index of l is 2\n",
      "the positve index of c is 3\n",
      "the positve index of o is 4\n",
      "the positve index of m is 5\n",
      "the positve index of e is 6\n"
     ]
    }
   ],
   "source": [
    "#Q5 ask the user iterate using a string\n",
    "#string\n",
    "# print the positive index of w is 0\n",
    "#    the positive index of e is 1\n",
    "s='welcome'\n",
    "for i in range(len(s)):\n",
    "    print(f\"the positve index of {s[i]} is {i}\")"
   ]
  },
  {
   "cell_type": "code",
   "execution_count": 11,
   "id": "675857b9-84f1-47dd-b1f2-525d46363815",
   "metadata": {},
   "outputs": [
    {
     "ename": "TypeError",
     "evalue": "object of type 'reversed' has no len()",
     "output_type": "error",
     "traceback": [
      "\u001b[1;31m---------------------------------------------------------------------------\u001b[0m",
      "\u001b[1;31mTypeError\u001b[0m                                 Traceback (most recent call last)",
      "Cell \u001b[1;32mIn[11], line 3\u001b[0m\n\u001b[0;32m      1\u001b[0m s\u001b[38;5;241m=\u001b[39m\u001b[38;5;124m'\u001b[39m\u001b[38;5;124mwelcome\u001b[39m\u001b[38;5;124m'\u001b[39m\n\u001b[1;32m----> 3\u001b[0m \u001b[38;5;28;01mfor\u001b[39;00m i \u001b[38;5;129;01min\u001b[39;00m \u001b[38;5;28mrange\u001b[39m(\u001b[38;5;28mlen\u001b[39m(\u001b[38;5;28mreversed\u001b[39m(s))):\n\u001b[0;32m      4\u001b[0m     \u001b[38;5;28mprint\u001b[39m(\u001b[38;5;124mf\u001b[39m\u001b[38;5;124m\"\u001b[39m\u001b[38;5;124mthe negative index of \u001b[39m\u001b[38;5;132;01m{\u001b[39;00ms[i]\u001b[38;5;132;01m}\u001b[39;00m\u001b[38;5;124m is \u001b[39m\u001b[38;5;132;01m{\u001b[39;00mi\u001b[38;5;132;01m}\u001b[39;00m\u001b[38;5;124m\"\u001b[39m)\n",
      "\u001b[1;31mTypeError\u001b[0m: object of type 'reversed' has no len()"
     ]
    }
   ],
   "source": [
    "s='welcome'\n",
    "\n",
    "for i in range(len(reversed(s))):\n",
    "    print(f\"the negative index of {s[i]} is {i}\")"
   ]
  },
  {
   "cell_type": "code",
   "execution_count": 12,
   "id": "89e5c4f5-f82c-41ba-bdc7-f3ce8ad27c9e",
   "metadata": {},
   "outputs": [
    {
     "name": "stdout",
     "output_type": "stream",
     "text": [
      "the negative index of w is -7\n",
      "the negative index of e is -6\n",
      "the negative index of l is -5\n",
      "the negative index of c is -4\n",
      "the negative index of o is -3\n",
      "the negative index of m is -2\n",
      "the negative index of e is -1\n"
     ]
    }
   ],
   "source": [
    "# for negative indexing add -7(len(string))\n",
    "s='welcome'\n",
    "\n",
    "for i in range(len(s)):\n",
    "    print(f\"the negative index of {s[i]} is {i-len(s)}\")"
   ]
  },
  {
   "cell_type": "code",
   "execution_count": 14,
   "id": "8f1947c8-464d-413d-87ad-b5c99842ef24",
   "metadata": {},
   "outputs": [
    {
     "name": "stdout",
     "output_type": "stream",
     "text": [
      "the positve index is 0 and negative index is -7 for w\n",
      "the positve index is 1 and negative index is -6 for e\n",
      "the positve index is 2 and negative index is -5 for l\n",
      "the positve index is 3 and negative index is -4 for c\n",
      "the positve index is 4 and negative index is -3 for o\n",
      "the positve index is 5 and negative index is -2 for m\n",
      "the positve index is 6 and negative index is -1 for e\n"
     ]
    }
   ],
   "source": [
    "# for negative indexing add -7(len(string))\n",
    "s='welcome'\n",
    "for i in range(len(s)):\n",
    "    print(f\"the positve index is {i} and negative index is {i-len(s)} for {s[i]}\")"
   ]
  },
  {
   "cell_type": "code",
   "execution_count": 28,
   "id": "71f1196d-960d-4ae5-beb0-50ce3696428f",
   "metadata": {},
   "outputs": [
    {
     "name": "stdout",
     "output_type": "stream",
     "text": [
      "1\n",
      "8\n",
      "18\n"
     ]
    }
   ],
   "source": [
    "#Q8 wap ask the user get the index of exach 'a' in a given string\n",
    "#\n",
    "s='hai how are you i am good'\n",
    "count=0\n",
    "for i in range(len(s)):\n",
    "    if s[i]=='a':\n",
    "        print(i)\n",
    "        "
   ]
  },
  {
   "cell_type": "code",
   "execution_count": 30,
   "id": "e65930a0-9ce1-4450-87d7-e328f58dbbf9",
   "metadata": {},
   "outputs": [
    {
     "name": "stdout",
     "output_type": "stream",
     "text": [
      "3\n"
     ]
    }
   ],
   "source": [
    "#9 Count a\n",
    "s='hai how are you i am good'\n",
    "count=0\n",
    "for i in range(len(s)):\n",
    "    if s[i]=='a':\n",
    "        count=count+1\n",
    "print(count)"
   ]
  },
  {
   "cell_type": "code",
   "execution_count": 32,
   "id": "0b56bad6-a896-40f8-bbbe-bb1c994b6c54",
   "metadata": {},
   "outputs": [
    {
     "name": "stdout",
     "output_type": "stream",
     "text": [
      "3\n",
      "27\n"
     ]
    }
   ],
   "source": [
    "#10 summ of all\n",
    "s='hai how are you i am good'\n",
    "count=0\n",
    "summ=0\n",
    "for i in range(len(s)):\n",
    "    if s[i]=='a':\n",
    "        count=count+1\n",
    "        summ=summ+i\n",
    "print(count)\n",
    "print(summ)"
   ]
  },
  {
   "cell_type": "code",
   "execution_count": 34,
   "id": "fe1cd9f0-a42a-40e2-8d5e-80c8b0f71331",
   "metadata": {},
   "outputs": [
    {
     "name": "stdout",
     "output_type": "stream",
     "text": [
      "a\n",
      "i\n",
      "o\n",
      "a\n",
      "e\n",
      "o\n",
      "u\n",
      "i\n",
      "a\n",
      "o\n",
      "o\n",
      "The number of vowels are: 11\n"
     ]
    }
   ],
   "source": [
    "#11\n",
    "s='hai how are you i am good'\n",
    "count=0\n",
    "for i in range(len(s)):\n",
    "    if s[i] in 'aeiou':\n",
    "        print(s[i])\n",
    "        count=count+1\n",
    "print(\"The number of vowels are:\",count)"
   ]
  },
  {
   "cell_type": "code",
   "execution_count": 38,
   "id": "977527ad-efbe-401b-aefc-8816fa889ae9",
   "metadata": {},
   "outputs": [
    {
     "name": "stdout",
     "output_type": "stream",
     "text": [
      "a\n",
      "i\n",
      "o\n",
      "e\n",
      "u\n",
      "The number of vowels are: 5\n"
     ]
    }
   ],
   "source": [
    "#12 unique vowels\n",
    "s='hai how are you i am good'\n",
    "s1=''\n",
    "count=0\n",
    "for i in range(len(s)):\n",
    "    if s[i] not in s1:   # we are checking the letter is available in s1(It should not)\n",
    "        if s[i] in 'aeiou': # we are cheking vowel condition\n",
    "            print(s[i])\n",
    "            s1=s1+s[i]      # we need to update the s1\n",
    "            count=count+1\n",
    "print(\"The number of vowels are:\",count)"
   ]
  },
  {
   "cell_type": "code",
   "execution_count": 39,
   "id": "b4ace145-0050-4eb1-bac8-0fa7f72bfb7a",
   "metadata": {},
   "outputs": [
    {
     "name": "stdout",
     "output_type": "stream",
     "text": [
      "a\n",
      "i\n",
      "o\n",
      "e\n",
      "u\n",
      "The number of vowels are: 5\n"
     ]
    }
   ],
   "source": [
    "s='hai how are you i am good'\n",
    "s1=''\n",
    "count=0\n",
    "for i in range(len(s)):\n",
    "    if s[i] not in s1 and s[i] in 'aeiou':\n",
    "        print(s[i])\n",
    "        s1=s1+s[i]      # we need to update the s1\n",
    "        count=count+1\n",
    "print(\"The number of vowels are:\",count)"
   ]
  },
  {
   "cell_type": "code",
   "execution_count": 41,
   "id": "e21ae63e-8384-479c-86e9-e80f2a4f8e6c",
   "metadata": {},
   "outputs": [
    {
     "name": "stdout",
     "output_type": "stream",
     "text": [
      "The number of ola are : 9\n"
     ]
    }
   ],
   "source": [
    "string='ola ola ola'\n",
    "s=''\n",
    "count=0\n",
    "for i in range(len(string)):\n",
    "    if string[i] not in s and string[i] in 'ola':\n",
    "        count=count+1\n",
    "print(\"The number of ola are :\", count)"
   ]
  },
  {
   "cell_type": "code",
   "execution_count": 42,
   "id": "5de89f88-90fd-4513-b698-59d85d11c8f5",
   "metadata": {},
   "outputs": [
    {
     "data": {
      "text/plain": [
       "'w'"
      ]
     },
     "execution_count": 42,
     "metadata": {},
     "output_type": "execute_result"
    }
   ],
   "source": [
    "s='welcome'\n",
    "s[0]\n"
   ]
  },
  {
   "cell_type": "markdown",
   "id": "ec463abd-bb46-4964-8e9e-af18ab8866c6",
   "metadata": {},
   "source": [
    "**slicing**"
   ]
  },
  {
   "cell_type": "code",
   "execution_count": 1,
   "id": "7fc5af94-b6f4-4a47-889e-6215f534874d",
   "metadata": {},
   "outputs": [
    {
     "data": {
      "text/plain": [
       "''"
      ]
     },
     "execution_count": 1,
     "metadata": {},
     "output_type": "execute_result"
    }
   ],
   "source": [
    "str='hai how are you'\n",
    "str[5:-14]"
   ]
  },
  {
   "cell_type": "code",
   "execution_count": null,
   "id": "000f64a5-b645-4bc8-b9a0-dd18b8996322",
   "metadata": {},
   "outputs": [],
   "source": [
    "# -15 -14 -13 -12 -11 -10 -9 -8 -7 -6 -5  -4 -3 -2 -1\n",
    "#  h   a   i       h   o   w     a  r  e      y  o  u\n",
    "#  0   1   2   3   4   5   6  7  8  9 10  11 12 13 14 "
   ]
  },
  {
   "cell_type": "code",
   "execution_count": 2,
   "id": "9e50287f-8081-4a67-b566-a156e44445e8",
   "metadata": {},
   "outputs": [
    {
     "data": {
      "text/plain": [
       "'ow are you'"
      ]
     },
     "execution_count": 2,
     "metadata": {},
     "output_type": "execute_result"
    }
   ],
   "source": [
    "str[5:500]"
   ]
  },
  {
   "cell_type": "markdown",
   "id": "7bf7e8c7-b7b4-4d0b-8ddd-afafdc254080",
   "metadata": {},
   "source": [
    "**Truncation behaviour**\n",
    "\n",
    "  - whenever string range is limited, but we provided un limited number \n",
    "\n",
    "- string will consider till the range we have\n",
    "\n",
    "- above example our range only 15 letter , \n",
    "\n",
    "- but we provided 500, then 500 will truncate to till 15 letters only"
   ]
  },
  {
   "cell_type": "code",
   "execution_count": 3,
   "id": "e96ef4a7-460b-4c4e-b7f3-0410c148a177",
   "metadata": {},
   "outputs": [
    {
     "data": {
      "text/plain": [
       "'hai how are you'"
      ]
     },
     "execution_count": 3,
     "metadata": {},
     "output_type": "execute_result"
    }
   ],
   "source": [
    "str[-500:500]"
   ]
  },
  {
   "cell_type": "code",
   "execution_count": 4,
   "id": "7fa06ad2-c58f-4748-9db8-7dba70fcf882",
   "metadata": {},
   "outputs": [
    {
     "data": {
      "text/plain": [
       "'u'"
      ]
     },
     "execution_count": 4,
     "metadata": {},
     "output_type": "execute_result"
    }
   ],
   "source": [
    "str[-1:500] # by default slicing will be in positive direction"
   ]
  },
  {
   "cell_type": "code",
   "execution_count": 5,
   "id": "9b777787-02fe-42f7-977f-c28f09460108",
   "metadata": {},
   "outputs": [
    {
     "data": {
      "text/plain": [
       "''"
      ]
     },
     "execution_count": 5,
     "metadata": {},
     "output_type": "execute_result"
    }
   ],
   "source": [
    "str[500:]"
   ]
  },
  {
   "cell_type": "code",
   "execution_count": 7,
   "id": "e0db1fc3-b048-493c-951e-3fbd6d589b47",
   "metadata": {},
   "outputs": [
    {
     "data": {
      "text/plain": [
       "'era wo'"
      ]
     },
     "execution_count": 7,
     "metadata": {},
     "output_type": "execute_result"
    }
   ],
   "source": [
    "#str[start:stop:step]\n",
    "str[10:-11:-1]"
   ]
  },
  {
   "cell_type": "code",
   "execution_count": 9,
   "id": "1b455fc5-db66-468c-bd1f-b2f5150fc4b8",
   "metadata": {},
   "outputs": [
    {
     "data": {
      "text/plain": [
       "'uoy era woh i'"
      ]
     },
     "execution_count": 9,
     "metadata": {},
     "output_type": "execute_result"
    }
   ],
   "source": [
    "str[-1:-14:-1]"
   ]
  },
  {
   "cell_type": "code",
   "execution_count": null,
   "id": "7c8bc406-97c6-4b8c-b4c0-d0eff03a3561",
   "metadata": {},
   "outputs": [],
   "source": [
    "str2='yeshwanth'\n",
    "\n",
    "y e s h w a n t h\n",
    "0 1 2 3 4 5 6 7 8 "
   ]
  },
  {
   "cell_type": "code",
   "execution_count": 10,
   "id": "eb444ba2-2bbc-4d36-aca5-e8d067a420ca",
   "metadata": {},
   "outputs": [
    {
     "data": {
      "text/plain": [
       "'ihwaey'"
      ]
     },
     "execution_count": 10,
     "metadata": {},
     "output_type": "execute_result"
    }
   ],
   "source": [
    "str[2:13:2]"
   ]
  },
  {
   "cell_type": "code",
   "execution_count": 11,
   "id": "d6d5a5f9-57e8-4946-95fe-df7cc82c29d2",
   "metadata": {},
   "outputs": [
    {
     "data": {
      "text/plain": [
       "''"
      ]
     },
     "execution_count": 11,
     "metadata": {},
     "output_type": "execute_result"
    }
   ],
   "source": [
    "str[2:13:-2]"
   ]
  },
  {
   "cell_type": "code",
   "execution_count": 13,
   "id": "b68c22ac-d3c6-4228-90d5-1edda854aa9c",
   "metadata": {},
   "outputs": [
    {
     "data": {
      "text/plain": [
       "''"
      ]
     },
     "execution_count": 13,
     "metadata": {},
     "output_type": "execute_result"
    }
   ],
   "source": [
    "str[2:-13:2]"
   ]
  },
  {
   "cell_type": "code",
   "execution_count": 14,
   "id": "57016a9e-2bb7-4a80-8dc3-5d32c7d6b92a",
   "metadata": {},
   "outputs": [
    {
     "data": {
      "text/plain": [
       "''"
      ]
     },
     "execution_count": 14,
     "metadata": {},
     "output_type": "execute_result"
    }
   ],
   "source": [
    "str[2:-13:-2]"
   ]
  },
  {
   "cell_type": "code",
   "execution_count": 15,
   "id": "27293be1-b536-41c5-82e0-ee68d45ae4ef",
   "metadata": {},
   "outputs": [
    {
     "data": {
      "text/plain": [
       "''"
      ]
     },
     "execution_count": 15,
     "metadata": {},
     "output_type": "execute_result"
    }
   ],
   "source": [
    "str[-2:-13:2]"
   ]
  },
  {
   "cell_type": "code",
   "execution_count": 16,
   "id": "ace869d9-dd26-49e6-b184-59febaea6db5",
   "metadata": {},
   "outputs": [
    {
     "data": {
      "text/plain": [
       "''"
      ]
     },
     "execution_count": 16,
     "metadata": {},
     "output_type": "execute_result"
    }
   ],
   "source": [
    "str[-13:2:2]"
   ]
  },
  {
   "cell_type": "code",
   "execution_count": 17,
   "id": "e184fa20-9906-4a40-a8a6-888389ddc630",
   "metadata": {},
   "outputs": [
    {
     "data": {
      "text/plain": [
       "''"
      ]
     },
     "execution_count": 17,
     "metadata": {},
     "output_type": "execute_result"
    }
   ],
   "source": [
    "str[-13:2:-2]"
   ]
  },
  {
   "cell_type": "code",
   "execution_count": 18,
   "id": "3bb7257b-e871-4e33-97af-ba93ef8051da",
   "metadata": {},
   "outputs": [
    {
     "data": {
      "text/plain": [
       "''"
      ]
     },
     "execution_count": 18,
     "metadata": {},
     "output_type": "execute_result"
    }
   ],
   "source": [
    "str[2:-13]"
   ]
  },
  {
   "cell_type": "code",
   "execution_count": null,
   "id": "611ebe0f-f314-4fe7-8617-1ae078159935",
   "metadata": {},
   "outputs": [],
   "source": [
    "**part 2**\n",
    "**Method**"
   ]
  },
  {
   "cell_type": "code",
   "execution_count": 19,
   "id": "86965ebe-5203-4a40-9074-f5f4e115996d",
   "metadata": {},
   "outputs": [
    {
     "data": {
      "text/plain": [
       "'hai how are you'"
      ]
     },
     "execution_count": 19,
     "metadata": {},
     "output_type": "execute_result"
    }
   ],
   "source": [
    "str[:]"
   ]
  },
  {
   "cell_type": "code",
   "execution_count": 20,
   "id": "6f3a9b55-fb30-45ed-a432-8c9abc748ce0",
   "metadata": {},
   "outputs": [
    {
     "data": {
      "text/plain": [
       "'hai how are you'"
      ]
     },
     "execution_count": 20,
     "metadata": {},
     "output_type": "execute_result"
    }
   ],
   "source": [
    "str[::]"
   ]
  },
  {
   "cell_type": "code",
   "execution_count": 21,
   "id": "6b50dad5-ef10-400d-b53a-55cbd960f84e",
   "metadata": {},
   "outputs": [
    {
     "data": {
      "text/plain": [
       "'uoy era woh iah'"
      ]
     },
     "execution_count": 21,
     "metadata": {},
     "output_type": "execute_result"
    }
   ],
   "source": [
    "str[::-1]"
   ]
  },
  {
   "cell_type": "code",
   "execution_count": 22,
   "id": "c01fff7e-600a-4cf1-b635-4e5c80829fba",
   "metadata": {},
   "outputs": [
    {
     "data": {
      "text/plain": [
       "'uyeaw'"
      ]
     },
     "execution_count": 22,
     "metadata": {},
     "output_type": "execute_result"
    }
   ],
   "source": [
    "str[:5:-2]"
   ]
  },
  {
   "cell_type": "markdown",
   "id": "8cb71306-9a5a-49fe-9834-5aa4752fb90d",
   "metadata": {},
   "source": [
    "**part 2**\n",
    "\n",
    "  **Method**"
   ]
  },
  {
   "cell_type": "markdown",
   "id": "5a75d2c6-4ddb-4bfd-b93b-1e1890fb6fd7",
   "metadata": {},
   "source": [
    "- Strings list tuple dictionary every data type has its own methods\n",
    "\n",
    "- We already seen that paackages has different method\n",
    "\n",
    "- for example random package : randint method\n",
    "\n",
    "- Math package : sqrt\n",
    "\n",
    "- In the same way strings also have methods\n",
    "\n",
    "- In order to see methods for the packages \n",
    "\n",
    "    - we are importing the package \n",
    "\n",
    "    -- we are applying dir\n",
    "\n",
    "- in the similar way in order to see the methods of string, we need to apply dir only\n",
    "\n"
   ]
  },
  {
   "cell_type": "code",
   "execution_count": 23,
   "id": "facb3d43-9901-4612-b631-04002d5cc342",
   "metadata": {},
   "outputs": [
    {
     "data": {
      "text/plain": [
       "['__add__',\n",
       " '__class__',\n",
       " '__contains__',\n",
       " '__delattr__',\n",
       " '__dir__',\n",
       " '__doc__',\n",
       " '__eq__',\n",
       " '__format__',\n",
       " '__ge__',\n",
       " '__getattribute__',\n",
       " '__getitem__',\n",
       " '__getnewargs__',\n",
       " '__getstate__',\n",
       " '__gt__',\n",
       " '__hash__',\n",
       " '__init__',\n",
       " '__init_subclass__',\n",
       " '__iter__',\n",
       " '__le__',\n",
       " '__len__',\n",
       " '__lt__',\n",
       " '__mod__',\n",
       " '__mul__',\n",
       " '__ne__',\n",
       " '__new__',\n",
       " '__reduce__',\n",
       " '__reduce_ex__',\n",
       " '__repr__',\n",
       " '__rmod__',\n",
       " '__rmul__',\n",
       " '__setattr__',\n",
       " '__sizeof__',\n",
       " '__str__',\n",
       " '__subclasshook__',\n",
       " 'capitalize',\n",
       " 'casefold',\n",
       " 'center',\n",
       " 'count',\n",
       " 'encode',\n",
       " 'endswith',\n",
       " 'expandtabs',\n",
       " 'find',\n",
       " 'format',\n",
       " 'format_map',\n",
       " 'index',\n",
       " 'isalnum',\n",
       " 'isalpha',\n",
       " 'isascii',\n",
       " 'isdecimal',\n",
       " 'isdigit',\n",
       " 'isidentifier',\n",
       " 'islower',\n",
       " 'isnumeric',\n",
       " 'isprintable',\n",
       " 'isspace',\n",
       " 'istitle',\n",
       " 'isupper',\n",
       " 'join',\n",
       " 'ljust',\n",
       " 'lower',\n",
       " 'lstrip',\n",
       " 'maketrans',\n",
       " 'partition',\n",
       " 'removeprefix',\n",
       " 'removesuffix',\n",
       " 'replace',\n",
       " 'rfind',\n",
       " 'rindex',\n",
       " 'rjust',\n",
       " 'rpartition',\n",
       " 'rsplit',\n",
       " 'rstrip',\n",
       " 'split',\n",
       " 'splitlines',\n",
       " 'startswith',\n",
       " 'strip',\n",
       " 'swapcase',\n",
       " 'title',\n",
       " 'translate',\n",
       " 'upper',\n",
       " 'zfill']"
      ]
     },
     "execution_count": 23,
     "metadata": {},
     "output_type": "execute_result"
    }
   ],
   "source": [
    "dir('')"
   ]
  },
  {
   "cell_type": "code",
   "execution_count": 24,
   "id": "905d3e49-4673-44bc-96e6-6433a6a6a16a",
   "metadata": {},
   "outputs": [
    {
     "data": {
      "text/plain": [
       "['__add__',\n",
       " '__class__',\n",
       " '__contains__',\n",
       " '__delattr__',\n",
       " '__dir__',\n",
       " '__doc__',\n",
       " '__eq__',\n",
       " '__format__',\n",
       " '__ge__',\n",
       " '__getattribute__',\n",
       " '__getitem__',\n",
       " '__getnewargs__',\n",
       " '__getstate__',\n",
       " '__gt__',\n",
       " '__hash__',\n",
       " '__init__',\n",
       " '__init_subclass__',\n",
       " '__iter__',\n",
       " '__le__',\n",
       " '__len__',\n",
       " '__lt__',\n",
       " '__mod__',\n",
       " '__mul__',\n",
       " '__ne__',\n",
       " '__new__',\n",
       " '__reduce__',\n",
       " '__reduce_ex__',\n",
       " '__repr__',\n",
       " '__rmod__',\n",
       " '__rmul__',\n",
       " '__setattr__',\n",
       " '__sizeof__',\n",
       " '__str__',\n",
       " '__subclasshook__',\n",
       " 'capitalize',\n",
       " 'casefold',\n",
       " 'center',\n",
       " 'count',\n",
       " 'encode',\n",
       " 'endswith',\n",
       " 'expandtabs',\n",
       " 'find',\n",
       " 'format',\n",
       " 'format_map',\n",
       " 'index',\n",
       " 'isalnum',\n",
       " 'isalpha',\n",
       " 'isascii',\n",
       " 'isdecimal',\n",
       " 'isdigit',\n",
       " 'isidentifier',\n",
       " 'islower',\n",
       " 'isnumeric',\n",
       " 'isprintable',\n",
       " 'isspace',\n",
       " 'istitle',\n",
       " 'isupper',\n",
       " 'join',\n",
       " 'ljust',\n",
       " 'lower',\n",
       " 'lstrip',\n",
       " 'maketrans',\n",
       " 'partition',\n",
       " 'removeprefix',\n",
       " 'removesuffix',\n",
       " 'replace',\n",
       " 'rfind',\n",
       " 'rindex',\n",
       " 'rjust',\n",
       " 'rpartition',\n",
       " 'rsplit',\n",
       " 'rstrip',\n",
       " 'split',\n",
       " 'splitlines',\n",
       " 'startswith',\n",
       " 'strip',\n",
       " 'swapcase',\n",
       " 'title',\n",
       " 'translate',\n",
       " 'upper',\n",
       " 'zfill']"
      ]
     },
     "execution_count": 24,
     "metadata": {},
     "output_type": "execute_result"
    }
   ],
   "source": [
    "str1='apple'\n",
    "dir(str1)"
   ]
  },
  {
   "cell_type": "markdown",
   "id": "ca462dff-5b05-4f9e-a819-fd38d08b1a06",
   "metadata": {},
   "source": [
    "- lower\n",
    "\n",
    "- upper\n",
    "\n",
    "- capitalize\n",
    "\n",
    "- Titel\n",
    "\n",
    "- casefold\n",
    "\n",
    "- center"
   ]
  },
  {
   "cell_type": "code",
   "execution_count": 25,
   "id": "2e590044-4bfb-4c6f-b4d5-6387dc45c76b",
   "metadata": {},
   "outputs": [],
   "source": [
    "#Upper method\n",
    "\n",
    "str1='hai how are you'\n",
    "\n"
   ]
  },
  {
   "cell_type": "code",
   "execution_count": 26,
   "id": "96868c3e-4cda-4bf9-a50d-21f35214be8f",
   "metadata": {},
   "outputs": [
    {
     "data": {
      "text/plain": [
       "'HAI HOW ARE YOU'"
      ]
     },
     "execution_count": 26,
     "metadata": {},
     "output_type": "execute_result"
    }
   ],
   "source": [
    "str1.upper()"
   ]
  },
  {
   "cell_type": "code",
   "execution_count": 27,
   "id": "85b312af-3c94-44b8-9609-df958ac7f4fc",
   "metadata": {},
   "outputs": [
    {
     "data": {
      "text/plain": [
       "<function str.upper()>"
      ]
     },
     "execution_count": 27,
     "metadata": {},
     "output_type": "execute_result"
    }
   ],
   "source": [
    "str1.upper"
   ]
  },
  {
   "cell_type": "code",
   "execution_count": 28,
   "id": "faf53453-988d-4fbc-b5bd-35364edf55c1",
   "metadata": {},
   "outputs": [
    {
     "data": {
      "text/plain": [
       "'hai how are you'"
      ]
     },
     "execution_count": 28,
     "metadata": {},
     "output_type": "execute_result"
    }
   ],
   "source": [
    "str1.lower()"
   ]
  },
  {
   "cell_type": "code",
   "execution_count": 30,
   "id": "85b1c0a0-c1ca-4805-8102-25d3cf5b99c4",
   "metadata": {},
   "outputs": [
    {
     "data": {
      "text/plain": [
       "'Hai how are you'"
      ]
     },
     "execution_count": 30,
     "metadata": {},
     "output_type": "execute_result"
    }
   ],
   "source": [
    "str.capitalize()"
   ]
  },
  {
   "cell_type": "code",
   "execution_count": 31,
   "id": "747995d5-d0d5-4605-8cf5-0d2436ad25b8",
   "metadata": {},
   "outputs": [
    {
     "data": {
      "text/plain": [
       "'Hai How Are You'"
      ]
     },
     "execution_count": 31,
     "metadata": {},
     "output_type": "execute_result"
    }
   ],
   "source": [
    "str.title()"
   ]
  },
  {
   "cell_type": "code",
   "execution_count": 32,
   "id": "bc352970-f737-476a-888b-c64597bc671f",
   "metadata": {},
   "outputs": [
    {
     "data": {
      "text/plain": [
       "'hai how are you'"
      ]
     },
     "execution_count": 32,
     "metadata": {},
     "output_type": "execute_result"
    }
   ],
   "source": [
    "str.casefold()"
   ]
  },
  {
   "cell_type": "markdown",
   "id": "7e8a320a-8114-4728-8154-57a5d61d94cb",
   "metadata": {},
   "source": [
    "- center has two arguments\n",
    "\n",
    "    - width\n",
    "\n",
    "    - fill char\n",
    "\n",
    "- original string alread:15 letters\n",
    "\n",
    "- we want to create a new string with 20 letters\n",
    "\n",
    "- Remaining 5 letters by default empty\n",
    "\n",
    "- we can fill with charcters also\n"
   ]
  },
  {
   "cell_type": "code",
   "execution_count": 33,
   "id": "4d6353ea-ed2f-48da-a92e-b5001793d8db",
   "metadata": {},
   "outputs": [
    {
     "ename": "TypeError",
     "evalue": "center expected at least 1 argument, got 0",
     "output_type": "error",
     "traceback": [
      "\u001b[1;31m---------------------------------------------------------------------------\u001b[0m",
      "\u001b[1;31mTypeError\u001b[0m                                 Traceback (most recent call last)",
      "Cell \u001b[1;32mIn[33], line 1\u001b[0m\n\u001b[1;32m----> 1\u001b[0m str1\u001b[38;5;241m.\u001b[39mcenter()\n",
      "\u001b[1;31mTypeError\u001b[0m: center expected at least 1 argument, got 0"
     ]
    }
   ],
   "source": [
    "str1.center()"
   ]
  },
  {
   "cell_type": "markdown",
   "id": "d54d0a90-41c5-4866-9e22-87e03dde9282",
   "metadata": {},
   "source": [
    "**Replace**"
   ]
  },
  {
   "cell_type": "code",
   "execution_count": 1,
   "id": "7fe39805-8f08-4146-b64d-dda47549daa0",
   "metadata": {},
   "outputs": [],
   "source": [
    "str1='welcome'\n",
    "# I want to replace 'l' with 'L'"
   ]
  },
  {
   "cell_type": "code",
   "execution_count": 2,
   "id": "8c71dfca-1976-47b0-b5c9-d8cb608503c8",
   "metadata": {},
   "outputs": [],
   "source": [
    "#we know that strings are immutable\n",
    "#we cannot use index operations also\n",
    "# slicing and concatination\n"
   ]
  },
  {
   "cell_type": "code",
   "execution_count": 3,
   "id": "1e0b3f4c-a40f-44db-80fd-5d1fe0fa0b7c",
   "metadata": {},
   "outputs": [
    {
     "name": "stdout",
     "output_type": "stream",
     "text": [
      "weLcome\n"
     ]
    }
   ],
   "source": [
    "s1=str1[:2]\n",
    "s2=str1[3:]\n",
    "new=s1+'L'+s2\n",
    "print(new)"
   ]
  },
  {
   "cell_type": "code",
   "execution_count": 4,
   "id": "f07972b7-62f8-4eec-a5a9-6b01b2d5bf47",
   "metadata": {},
   "outputs": [
    {
     "data": {
      "text/plain": [
       "'L'"
      ]
     },
     "execution_count": 4,
     "metadata": {},
     "output_type": "execute_result"
    }
   ],
   "source": [
    "str1='welcome'\n",
    "chr(ord('l')-32)"
   ]
  },
  {
   "cell_type": "code",
   "execution_count": 5,
   "id": "aac07e48-f487-4116-8523-05b1c97501eb",
   "metadata": {},
   "outputs": [
    {
     "data": {
      "text/plain": [
       "'weLcome'"
      ]
     },
     "execution_count": 5,
     "metadata": {},
     "output_type": "execute_result"
    }
   ],
   "source": [
    "str1='welcome'\n",
    "str1.replace('l','L')"
   ]
  },
  {
   "cell_type": "code",
   "execution_count": 6,
   "id": "91bc4032-a6e0-470c-ae06-3fa33eea0cdb",
   "metadata": {},
   "outputs": [
    {
     "data": {
      "text/plain": [
       "'wellcome'"
      ]
     },
     "execution_count": 6,
     "metadata": {},
     "output_type": "execute_result"
    }
   ],
   "source": [
    "str1='welcome'\n",
    "str1.replace('l','ll')"
   ]
  },
  {
   "cell_type": "code",
   "execution_count": 7,
   "id": "a20db119-fe1e-4a97-8b8c-d2f4bd9c175a",
   "metadata": {},
   "outputs": [
    {
     "data": {
      "text/plain": [
       "'weLLcome'"
      ]
     },
     "execution_count": 7,
     "metadata": {},
     "output_type": "execute_result"
    }
   ],
   "source": [
    "str1='wellcome'\n",
    "str1.replace('l','L')"
   ]
  },
  {
   "cell_type": "code",
   "execution_count": 11,
   "id": "173eebe1-ace8-4e66-bbbc-abd8b5365b67",
   "metadata": {},
   "outputs": [
    {
     "data": {
      "text/plain": [
       "'weLlcome'"
      ]
     },
     "execution_count": 11,
     "metadata": {},
     "output_type": "execute_result"
    }
   ],
   "source": [
    "str1='wellcome'\n",
    "str1.replace('l','L',1)"
   ]
  },
  {
   "cell_type": "code",
   "execution_count": 12,
   "id": "e4ca430d-7691-4927-8bd8-1426c68e0e29",
   "metadata": {},
   "outputs": [
    {
     "data": {
      "text/plain": [
       "'weLLllcome'"
      ]
     },
     "execution_count": 12,
     "metadata": {},
     "output_type": "execute_result"
    }
   ],
   "source": [
    "str1='wellllcome'\n",
    "str1.replace('l','L',2)"
   ]
  },
  {
   "cell_type": "code",
   "execution_count": 21,
   "id": "79138894-2e22-4f33-9b55-dc3fc06223d9",
   "metadata": {},
   "outputs": [
    {
     "data": {
      "text/plain": [
       "'$esta$t'"
      ]
     },
     "execution_count": 21,
     "metadata": {},
     "output_type": "execute_result"
    }
   ],
   "source": [
    "str1='restart'\n",
    "str1.replace(str1[5],'$')"
   ]
  },
  {
   "cell_type": "code",
   "execution_count": 22,
   "id": "89c75c50-4497-4ac1-b7a9-517a8542ab53",
   "metadata": {},
   "outputs": [
    {
     "data": {
      "text/plain": [
       "'r'"
      ]
     },
     "execution_count": 22,
     "metadata": {},
     "output_type": "execute_result"
    }
   ],
   "source": [
    "str1='restart'\n",
    "str1[5]"
   ]
  },
  {
   "cell_type": "code",
   "execution_count": 27,
   "id": "12a0b56f-4df0-40ca-8b63-41184d21e27b",
   "metadata": {},
   "outputs": [
    {
     "data": {
      "text/plain": [
       "'resta$t'"
      ]
     },
     "execution_count": 27,
     "metadata": {},
     "output_type": "execute_result"
    }
   ],
   "source": [
    "str1='restart'\n",
    "s1=str1[:5]\n",
    "s2=str1[5:]\n",
    "s3=s2.replace('r','$')\n",
    "s1+s3"
   ]
  },
  {
   "cell_type": "code",
   "execution_count": 28,
   "id": "445ed1ae-24e7-4e94-94bf-10ec63211a79",
   "metadata": {},
   "outputs": [
    {
     "data": {
      "text/plain": [
       "['__add__',\n",
       " '__class__',\n",
       " '__contains__',\n",
       " '__delattr__',\n",
       " '__dir__',\n",
       " '__doc__',\n",
       " '__eq__',\n",
       " '__format__',\n",
       " '__ge__',\n",
       " '__getattribute__',\n",
       " '__getitem__',\n",
       " '__getnewargs__',\n",
       " '__getstate__',\n",
       " '__gt__',\n",
       " '__hash__',\n",
       " '__init__',\n",
       " '__init_subclass__',\n",
       " '__iter__',\n",
       " '__le__',\n",
       " '__len__',\n",
       " '__lt__',\n",
       " '__mod__',\n",
       " '__mul__',\n",
       " '__ne__',\n",
       " '__new__',\n",
       " '__reduce__',\n",
       " '__reduce_ex__',\n",
       " '__repr__',\n",
       " '__rmod__',\n",
       " '__rmul__',\n",
       " '__setattr__',\n",
       " '__sizeof__',\n",
       " '__str__',\n",
       " '__subclasshook__',\n",
       " 'capitalize',\n",
       " 'casefold',\n",
       " 'center',\n",
       " 'count',\n",
       " 'encode',\n",
       " 'endswith',\n",
       " 'expandtabs',\n",
       " 'find',\n",
       " 'format',\n",
       " 'format_map',\n",
       " 'index',\n",
       " 'isalnum',\n",
       " 'isalpha',\n",
       " 'isascii',\n",
       " 'isdecimal',\n",
       " 'isdigit',\n",
       " 'isidentifier',\n",
       " 'islower',\n",
       " 'isnumeric',\n",
       " 'isprintable',\n",
       " 'isspace',\n",
       " 'istitle',\n",
       " 'isupper',\n",
       " 'join',\n",
       " 'ljust',\n",
       " 'lower',\n",
       " 'lstrip',\n",
       " 'maketrans',\n",
       " 'partition',\n",
       " 'removeprefix',\n",
       " 'removesuffix',\n",
       " 'replace',\n",
       " 'rfind',\n",
       " 'rindex',\n",
       " 'rjust',\n",
       " 'rpartition',\n",
       " 'rsplit',\n",
       " 'rstrip',\n",
       " 'split',\n",
       " 'splitlines',\n",
       " 'startswith',\n",
       " 'strip',\n",
       " 'swapcase',\n",
       " 'title',\n",
       " 'translate',\n",
       " 'upper',\n",
       " 'zfill']"
      ]
     },
     "execution_count": 28,
     "metadata": {},
     "output_type": "execute_result"
    }
   ],
   "source": [
    "dir('')"
   ]
  },
  {
   "cell_type": "code",
   "execution_count": null,
   "id": "64360f23-318e-420c-b046-801c2b4d3a46",
   "metadata": {},
   "outputs": [],
   "source": []
  },
  {
   "cell_type": "code",
   "execution_count": null,
   "id": "59d132b1-ecc7-4068-a7e4-41ca5c0defa3",
   "metadata": {},
   "outputs": [],
   "source": [
    "isalnum',\n",
    " 'isalpha',\n",
    " 'isascii',\n",
    " 'isdecimal',\n",
    " 'isdigit',\n",
    " 'isidentifier',\n",
    " 'islower',\n",
    " 'isnumeric',\n",
    " 'isprintable',\n",
    " 'isspace',\n",
    " 'istitle',\n",
    " 'isupper',\n",
    " 'join',\n",
    " 'ljust',\n",
    " 'lower',\n",
    " 'lstrip',\n",
    " 'maketrans',\n",
    " 'partition',\n",
    " 'removeprefix',\n",
    " 'removesuffix',\n",
    " 'replace',\n",
    " 'rfind',\n",
    " 'rindex',\n",
    " 'rjust',\n",
    " 'rpartition',\n",
    " 'rsplit',\n",
    " 'rstrip',\n",
    " 'split',\n",
    " 'splitlines',\n",
    " 'startswith',\n",
    " 'strip',\n",
    " 'swapcase',\n",
    " 'title',\n",
    " 'translate',\n",
    " 'upper',"
   ]
  },
  {
   "cell_type": "code",
   "execution_count": null,
   "id": "2340e4e1-98fd-4127-8543-999b27f1a300",
   "metadata": {},
   "outputs": [],
   "source": [
    "'isalnum',\n",
    " 'isalpha',\n",
    " 'isascii',\n",
    " 'isdecimal',\n",
    " 'isdigit',\n",
    " 'isidentifier',\n",
    " 'islower',\n",
    " 'isnumeric',\n",
    " 'isprintable',\n",
    " 'isspace',\n",
    " 'istitle',\n",
    " 'isupper',"
   ]
  },
  {
   "cell_type": "code",
   "execution_count": 1,
   "id": "4ce30f3b-ee20-4d8d-99d8-e42199dda3ad",
   "metadata": {},
   "outputs": [
    {
     "data": {
      "text/plain": [
       "True"
      ]
     },
     "execution_count": 1,
     "metadata": {},
     "output_type": "execute_result"
    }
   ],
   "source": [
    "str='welcome'\n",
    "str.isalnum()"
   ]
  },
  {
   "cell_type": "code",
   "execution_count": 3,
   "id": "f29b2c9b-c0a0-4390-9a8f-2b2ed7138b16",
   "metadata": {},
   "outputs": [
    {
     "data": {
      "text/plain": [
       "False"
      ]
     },
     "execution_count": 3,
     "metadata": {},
     "output_type": "execute_result"
    }
   ],
   "source": [
    "str.isdigit()"
   ]
  },
  {
   "cell_type": "code",
   "execution_count": 5,
   "id": "ccc7aba1-7b99-4b31-9dc3-f13184f8b303",
   "metadata": {},
   "outputs": [
    {
     "data": {
      "text/plain": [
       "True"
      ]
     },
     "execution_count": 5,
     "metadata": {},
     "output_type": "execute_result"
    }
   ],
   "source": [
    "str='Hello'\n",
    "str.istitle()"
   ]
  },
  {
   "cell_type": "markdown",
   "id": "6c2f3c99-5b84-4136-929c-9445632e1ba6",
   "metadata": {},
   "source": [
    "**Index-find**\n",
    "\n",
    "- index says that it will give the index of any letter in a given string\n",
    "\n",
    "- We already seen about count : Count will give how many letters are there in a string.\n",
    "\n",
    "    - at what index you want to count\n",
    "\n",
    "    - between indexes also we can count the letters\n",
    "\n",
    "- index meaning it will provide the index\n",
    "\n",
    "- imagine that there ssame letters repeated\n",
    "\n",
    "- how can we find the next index"
   ]
  },
  {
   "cell_type": "code",
   "execution_count": 6,
   "id": "9aa3ea5a-6e13-4ba9-952c-f98d88316ceb",
   "metadata": {},
   "outputs": [
    {
     "data": {
      "text/plain": [
       "1"
      ]
     },
     "execution_count": 6,
     "metadata": {},
     "output_type": "execute_result"
    }
   ],
   "source": [
    "#  -11 -10 -9 -8 -7 -6 -5 -4 -3 -2 -1\n",
    "#   h   a   i     h  a  i     h  a  i \n",
    "#  0    1   2  3  4  5  6  7  8  9 10\n",
    "str1='hai hai hai'\n",
    "str1.index('a')\n",
    "# Return the lowest index in s where substring"
   ]
  },
  {
   "cell_type": "code",
   "execution_count": 7,
   "id": "adcf49d5-7e24-419c-ad16-18b40b075863",
   "metadata": {},
   "outputs": [
    {
     "data": {
      "text/plain": [
       "5"
      ]
     },
     "execution_count": 7,
     "metadata": {},
     "output_type": "execute_result"
    }
   ],
   "source": [
    "# I want to know next 'a' next index afte 3rd index\n",
    "str1='hai hai hai'\n",
    "str1.index('a',3)"
   ]
  },
  {
   "cell_type": "code",
   "execution_count": 9,
   "id": "5ade10c4-b420-42fc-8fb4-d791c272ac01",
   "metadata": {},
   "outputs": [
    {
     "data": {
      "text/plain": [
       "9"
      ]
     },
     "execution_count": 9,
     "metadata": {},
     "output_type": "execute_result"
    }
   ],
   "source": [
    "# i want to know index of 'a' between 7th and 10th index\n",
    "str1='hai hai hai'\n",
    "str1.index('a',7,10)"
   ]
  },
  {
   "cell_type": "code",
   "execution_count": 11,
   "id": "a9f1b10f-9471-4d18-bba6-29d6cd92f018",
   "metadata": {},
   "outputs": [
    {
     "data": {
      "text/plain": [
       "9"
      ]
     },
     "execution_count": 11,
     "metadata": {},
     "output_type": "execute_result"
    }
   ],
   "source": [
    "str1='hai hai hai'\n",
    "str1.index('a',-3,-1)"
   ]
  },
  {
   "cell_type": "code",
   "execution_count": 12,
   "id": "b6b0e5b1-3855-4653-9b2b-589793a4da70",
   "metadata": {},
   "outputs": [
    {
     "data": {
      "text/plain": [
       "5"
      ]
     },
     "execution_count": 12,
     "metadata": {},
     "output_type": "execute_result"
    }
   ],
   "source": [
    "str1='hai hai hai'\n",
    "str1.index('a',-9)"
   ]
  },
  {
   "cell_type": "code",
   "execution_count": 13,
   "id": "bea125f1-e865-4c09-a5c2-0a7acc12d247",
   "metadata": {},
   "outputs": [
    {
     "ename": "ValueError",
     "evalue": "substring not found",
     "output_type": "error",
     "traceback": [
      "\u001b[1;31m---------------------------------------------------------------------------\u001b[0m",
      "\u001b[1;31mValueError\u001b[0m                                Traceback (most recent call last)",
      "Cell \u001b[1;32mIn[13], line 2\u001b[0m\n\u001b[0;32m      1\u001b[0m str1\u001b[38;5;241m=\u001b[39m\u001b[38;5;124m'\u001b[39m\u001b[38;5;124mhai hai hai\u001b[39m\u001b[38;5;124m'\u001b[39m\n\u001b[1;32m----> 2\u001b[0m \u001b[38;5;28mprint\u001b[39m(str1\u001b[38;5;241m.\u001b[39mindex(\u001b[38;5;124m'\u001b[39m\u001b[38;5;124ma\u001b[39m\u001b[38;5;124m'\u001b[39m,\u001b[38;5;241m-\u001b[39m\u001b[38;5;241m9\u001b[39m,\u001b[38;5;241m-\u001b[39m\u001b[38;5;241m6\u001b[39m))\n",
      "\u001b[1;31mValueError\u001b[0m: substring not found"
     ]
    }
   ],
   "source": [
    "str1='hai hai hai'\n",
    "print(str1.index('a',-9,-6))"
   ]
  },
  {
   "cell_type": "code",
   "execution_count": 14,
   "id": "511f4477-0d73-4c65-ad21-8c06daf239c8",
   "metadata": {},
   "outputs": [
    {
     "name": "stdout",
     "output_type": "stream",
     "text": [
      "5\n"
     ]
    }
   ],
   "source": [
    "str1='hai hai hai'\n",
    "print(str1.index('a',-9,-5))"
   ]
  },
  {
   "cell_type": "code",
   "execution_count": 19,
   "id": "b0f12aee-b715-4edc-a228-22eacb8ca4b5",
   "metadata": {},
   "outputs": [
    {
     "name": "stdout",
     "output_type": "stream",
     "text": [
      "3\n",
      "2\n",
      "2\n",
      "0\n"
     ]
    }
   ],
   "source": [
    "str1='hai hai hai'\n",
    "print(str1.count('a'))\n",
    "print(str1.count('a',3))\n",
    "print(str1.count('a',3,10))\n",
    "print(str1.count('a',-9,-7))"
   ]
  },
  {
   "cell_type": "code",
   "execution_count": 20,
   "id": "95e8f5c5-d978-458e-8ea7-108a6f1628f7",
   "metadata": {},
   "outputs": [
    {
     "name": "stdout",
     "output_type": "stream",
     "text": [
      "1\n",
      "5\n",
      "5\n"
     ]
    },
    {
     "ename": "ValueError",
     "evalue": "substring not found",
     "output_type": "error",
     "traceback": [
      "\u001b[1;31m---------------------------------------------------------------------------\u001b[0m",
      "\u001b[1;31mValueError\u001b[0m                                Traceback (most recent call last)",
      "Cell \u001b[1;32mIn[20], line 5\u001b[0m\n\u001b[0;32m      3\u001b[0m \u001b[38;5;28mprint\u001b[39m(str1\u001b[38;5;241m.\u001b[39mindex(\u001b[38;5;124m'\u001b[39m\u001b[38;5;124ma\u001b[39m\u001b[38;5;124m'\u001b[39m,\u001b[38;5;241m3\u001b[39m))\n\u001b[0;32m      4\u001b[0m \u001b[38;5;28mprint\u001b[39m(str1\u001b[38;5;241m.\u001b[39mindex(\u001b[38;5;124m'\u001b[39m\u001b[38;5;124ma\u001b[39m\u001b[38;5;124m'\u001b[39m,\u001b[38;5;241m3\u001b[39m,\u001b[38;5;241m10\u001b[39m))\n\u001b[1;32m----> 5\u001b[0m \u001b[38;5;28mprint\u001b[39m(str1\u001b[38;5;241m.\u001b[39mindex(\u001b[38;5;124m'\u001b[39m\u001b[38;5;124ma\u001b[39m\u001b[38;5;124m'\u001b[39m,\u001b[38;5;241m-\u001b[39m\u001b[38;5;241m9\u001b[39m,\u001b[38;5;241m-\u001b[39m\u001b[38;5;241m7\u001b[39m))\n",
      "\u001b[1;31mValueError\u001b[0m: substring not found"
     ]
    }
   ],
   "source": [
    "str1='hai hai hai'\n",
    "print(str1.index('a'))\n",
    "print(str1.index('a',3))\n",
    "print(str1.index('a',3,10))\n",
    "print(str1.index('a',-9,-7))"
   ]
  },
  {
   "cell_type": "code",
   "execution_count": 21,
   "id": "907234a4-b657-453a-9ea4-d2a96d352083",
   "metadata": {},
   "outputs": [
    {
     "name": "stdout",
     "output_type": "stream",
     "text": [
      "1\n",
      "5\n",
      "9\n"
     ]
    },
    {
     "ename": "ValueError",
     "evalue": "substring not found",
     "output_type": "error",
     "traceback": [
      "\u001b[1;31m---------------------------------------------------------------------------\u001b[0m",
      "\u001b[1;31mValueError\u001b[0m                                Traceback (most recent call last)",
      "Cell \u001b[1;32mIn[21], line 9\u001b[0m\n\u001b[0;32m      7\u001b[0m i3\u001b[38;5;241m=\u001b[39mstr1\u001b[38;5;241m.\u001b[39mindex(\u001b[38;5;124m'\u001b[39m\u001b[38;5;124ma\u001b[39m\u001b[38;5;124m'\u001b[39m,i2\u001b[38;5;241m+\u001b[39m\u001b[38;5;241m1\u001b[39m)\n\u001b[0;32m      8\u001b[0m \u001b[38;5;28mprint\u001b[39m(i3)\n\u001b[1;32m----> 9\u001b[0m i4\u001b[38;5;241m=\u001b[39mstr1\u001b[38;5;241m.\u001b[39mindex(\u001b[38;5;124m'\u001b[39m\u001b[38;5;124ma\u001b[39m\u001b[38;5;124m'\u001b[39m,i3\u001b[38;5;241m+\u001b[39m\u001b[38;5;241m1\u001b[39m)\n\u001b[0;32m     10\u001b[0m \u001b[38;5;28mprint\u001b[39m(i4)\n",
      "\u001b[1;31mValueError\u001b[0m: substring not found"
     ]
    }
   ],
   "source": [
    "str1='hai hai hai'\n",
    "# I want to know all the indexes of 'a'\n",
    "i1=str1.index('a')\n",
    "print(i1)\n",
    "i2=str1.index('a',i1+1)\n",
    "print(i2)\n",
    "i3=str1.index('a',i2+1)\n",
    "print(i3)\n",
    "i4=str1.index('a',i3+1)\n",
    "print(i4)\n"
   ]
  },
  {
   "cell_type": "code",
   "execution_count": 22,
   "id": "8b4280a6-1792-44f3-9851-65fc4922b588",
   "metadata": {},
   "outputs": [
    {
     "name": "stdout",
     "output_type": "stream",
     "text": [
      "1\n",
      "5\n",
      "9\n",
      "13\n"
     ]
    }
   ],
   "source": [
    "str1='hai hai hai'\n",
    "# I want to know all the indexes of 'a'\n",
    "i1=str1.index('a')\n",
    "print(i1)\n",
    "i2=str1.index('a',i1+1)\n",
    "print(i2)\n",
    "i3=str1.index('a',i2+1)\n",
    "print(i3)\n",
    "i4=str1.index('a',i3+1)\n",
    "print(i4)"
   ]
  },
  {
   "cell_type": "code",
   "execution_count": 24,
   "id": "7bf560f2-007d-490d-8204-22cc87cf2923",
   "metadata": {},
   "outputs": [
    {
     "data": {
      "text/plain": [
       "5"
      ]
     },
     "execution_count": 24,
     "metadata": {},
     "output_type": "execute_result"
    }
   ],
   "source": [
    "#  -11 -10 -9 -8 -7 -6 -5 -4 -3 -2 -1\n",
    "#   h   a   i     h  a  i     h  a  i \n",
    "#  0    1   2  3  4  5  6  7  8  9 10\n",
    "str1='hai hai hai hai'\n",
    "str1.find('a',3,8)"
   ]
  },
  {
   "cell_type": "code",
   "execution_count": 26,
   "id": "0d9dcec7-f635-40df-9858-29bba0abee68",
   "metadata": {},
   "outputs": [
    {
     "data": {
      "text/plain": [
       "-1"
      ]
     },
     "execution_count": 26,
     "metadata": {},
     "output_type": "execute_result"
    }
   ],
   "source": [
    "str1='hai hai hai'\n",
    "str1.find('a',10)"
   ]
  },
  {
   "cell_type": "code",
   "execution_count": 27,
   "id": "d3721c8a-dfd9-439f-8fdb-bce8f9b46150",
   "metadata": {
    "scrolled": true
   },
   "outputs": [
    {
     "name": "stdout",
     "output_type": "stream",
     "text": [
      "1\n",
      "5\n",
      "9\n",
      "-1\n"
     ]
    }
   ],
   "source": [
    "str1='hai hai hai'\n",
    "# I want to know all the indexes of 'a'\n",
    "i1=str1.find('a')\n",
    "print(i1)\n",
    "i2=str1.find('a',i1+1)\n",
    "print(i2)\n",
    "i3=str1.find('a',i2+1)\n",
    "print(i3)\n",
    "i4=str1.find('a',i3+1)\n",
    "print(i4)"
   ]
  },
  {
   "cell_type": "code",
   "execution_count": 28,
   "id": "23648b5c-5653-43ad-b0dd-921f6b5aefd9",
   "metadata": {},
   "outputs": [
    {
     "data": {
      "text/plain": [
       "'hai hai hai'"
      ]
     },
     "execution_count": 28,
     "metadata": {},
     "output_type": "execute_result"
    }
   ],
   "source": [
    "str1='hai hai hai'\n",
    "str1.replace('z','Z')"
   ]
  },
  {
   "cell_type": "markdown",
   "id": "92707b77-9cb0-4721-8c9a-e4b96159a38c",
   "metadata": {},
   "source": [
    "- if substring not found \n",
    "\n",
    "- count method will give 0\n",
    "\n",
    "- replace method will give same string orginal string\n",
    "\n",
    "- index will give **substring not found error**\n",
    "\n",
    "- Find will give -1"
   ]
  },
  {
   "cell_type": "code",
   "execution_count": 31,
   "id": "97678f85-e009-4ad7-8e55-1447cabd67aa",
   "metadata": {},
   "outputs": [
    {
     "name": "stdin",
     "output_type": "stream",
     "text": [
      "Enter the email address: ajit.gujale@apple.com\n"
     ]
    },
    {
     "name": "stdout",
     "output_type": "stream",
     "text": [
      "First Name is ajit\n",
      "Surname is gujale\n",
      "Company name is apple\n"
     ]
    }
   ],
   "source": [
    "str1='omkar.nallagoni@cognizant.com'\n",
    "#First name=Omkar\n",
    "#second name= nallagoni\n",
    "#company name=cognizant\n",
    "str2='virat.kohli@rcb.com'\n",
    "str3='rohit.sharma@imi.com'\n",
    "\n",
    "#for first name .\n",
    "# second name . and @\n",
    "# company name @ and second .\n",
    "str1=input(\"Enter the email address:\")\n",
    "s1=str1.index('.')\n",
    "name=str1[0:s1]\n",
    "print(f'First Name is {name}')\n",
    "s2=str1.index('@')\n",
    "surname=str1[s1+1:s2]\n",
    "print(f'Surname is {surname}')\n",
    "s3=str1.index('.',s2)\n",
    "company=str1[s2+1:s3]\n",
    "print(f'Company name is {company}')\n",
    "\n"
   ]
  },
  {
   "cell_type": "code",
   "execution_count": 35,
   "id": "ddd1fb9b-dffe-428f-81da-cf241de168b1",
   "metadata": {},
   "outputs": [
    {
     "name": "stdin",
     "output_type": "stream",
     "text": [
      "Enter the email address: ajit.gujale@apple.com\n"
     ]
    }
   ],
   "source": [
    "str1=input(\"Enter the email address:\")\n",
    "for i in range(len(str1)):\n",
    "    if i=='.':\n",
    "        s1=str1[0:i]\n",
    "        print(f'First name is {s1}')"
   ]
  },
  {
   "cell_type": "code",
   "execution_count": 1,
   "id": "9ff7ac49-583c-4c6d-a12b-3c00625b6e72",
   "metadata": {},
   "outputs": [
    {
     "name": "stdout",
     "output_type": "stream",
     "text": [
      "True\n"
     ]
    }
   ],
   "source": [
    "str='hai i am ajit from solapur'\n",
    "print(str.endswith('pur'))"
   ]
  },
  {
   "cell_type": "code",
   "execution_count": 2,
   "id": "df6bc13d-1aa5-4060-99ca-37dc5909c5a3",
   "metadata": {},
   "outputs": [
    {
     "name": "stdout",
     "output_type": "stream",
     "text": [
      "False\n"
     ]
    }
   ],
   "source": [
    "str='hai i am ajit from solapur'\n",
    "print(str.endswith('hai'))"
   ]
  },
  {
   "cell_type": "code",
   "execution_count": 4,
   "id": "9ab7ef90-1880-4e6e-a960-021b78784140",
   "metadata": {},
   "outputs": [
    {
     "name": "stdout",
     "output_type": "stream",
     "text": [
      "True\n"
     ]
    }
   ],
   "source": [
    "str='hai i am ajit from solapur'\n",
    "print(str.startswith('hai'))"
   ]
  },
  {
   "cell_type": "code",
   "execution_count": 7,
   "id": "10e33377-dcc4-471b-8f3e-73ef28cd2e43",
   "metadata": {},
   "outputs": [
    {
     "data": {
      "text/plain": [
       "['hai. My name is Ajit', ' I from maharashtra.']"
      ]
     },
     "execution_count": 7,
     "metadata": {},
     "output_type": "execute_result"
    }
   ],
   "source": [
    "str=\"hai. My name is Ajit, I from maharashtra.\"\n",
    "str.split(',')"
   ]
  },
  {
   "cell_type": "code",
   "execution_count": 9,
   "id": "afc2ca2a-40d1-4e65-84f9-bea90d40cffb",
   "metadata": {},
   "outputs": [
    {
     "name": "stdout",
     "output_type": "stream",
     "text": [
      "['hai', ' My name is Ajit', ' I from maharashtra.']\n"
     ]
    }
   ],
   "source": [
    "str=\"hai$ My name is Ajit$ I from maharashtra.\"\n",
    "s1=str.split('$')\n",
    "print(s1)"
   ]
  },
  {
   "cell_type": "code",
   "execution_count": 10,
   "id": "dabe954d-972e-42d3-840e-eb7929a26dae",
   "metadata": {},
   "outputs": [
    {
     "name": "stdout",
     "output_type": "stream",
     "text": [
      "['hai', ' My name is Ajit$ I from maharashtra.']\n"
     ]
    }
   ],
   "source": [
    "str=\"hai$ My name is Ajit$ I from maharashtra.\"\n",
    "s1=str.split('$',1)\n",
    "print(s1)"
   ]
  },
  {
   "cell_type": "code",
   "execution_count": 14,
   "id": "7a1a9265-34da-4003-b5ba-e51f4ce33432",
   "metadata": {},
   "outputs": [
    {
     "name": "stdout",
     "output_type": "stream",
     "text": [
      "of all fruits apple is my favorite\n"
     ]
    }
   ],
   "source": [
    "#strip is used to removes spaces or character trailing and leading of string\n",
    "str = \"     apple     \"\n",
    "\n",
    "x = str.strip()\n",
    "\n",
    "print(\"of all fruits\", x, \"is my favorite\")\n"
   ]
  },
  {
   "cell_type": "code",
   "execution_count": 13,
   "id": "dea1ab97-8e24-40e7-a886-6f16a20d306f",
   "metadata": {},
   "outputs": [
    {
     "data": {
      "text/plain": [
       "'banana'"
      ]
     },
     "execution_count": 13,
     "metadata": {},
     "output_type": "execute_result"
    }
   ],
   "source": [
    "txt = \"     banana     \"\n",
    "\n",
    "txt.strip()\n"
   ]
  },
  {
   "cell_type": "code",
   "execution_count": 16,
   "id": "4d61d055-97f1-4065-a1e1-b6ade9ea93b8",
   "metadata": {},
   "outputs": [
    {
     "name": "stdout",
     "output_type": "stream",
     "text": [
      "banana\n"
     ]
    }
   ],
   "source": [
    "s=\",,,,,rrttgg.....banana....rrr\"\n",
    "\n",
    "x=s.strip(\",.grt\") #Here we want to remove r,g,t,','and '.'\n",
    "\n",
    "print(x)"
   ]
  },
  {
   "cell_type": "code",
   "execution_count": 19,
   "id": "19637635-0607-4606-bf28-030413c6a700",
   "metadata": {},
   "outputs": [
    {
     "name": "stdout",
     "output_type": "stream",
     "text": [
      "...banana\n"
     ]
    }
   ],
   "source": [
    "# r strip is used to remove a set of charaters as trailing characters\n",
    "str=\"...banana,,,,,ssqqqww.....\"\n",
    "\n",
    "s=str.rstrip(\",.qsw\")\n",
    "\n",
    "print(s)\n"
   ]
  },
  {
   "cell_type": "code",
   "execution_count": 20,
   "id": "347e3b19-e868-4fce-9620-fa16b3d2bb06",
   "metadata": {},
   "outputs": [
    {
     "name": "stdout",
     "output_type": "stream",
     "text": [
      "banana\n"
     ]
    }
   ],
   "source": [
    "#The lstrip() method removes any leading characters \n",
    "#(space is the default leading character to remove)\n",
    "\n",
    "txt = \",,,,,ssaaww.....banana\"\n",
    "\n",
    "x = txt.lstrip(\",.asw\")\n",
    "\n",
    "print(x)"
   ]
  },
  {
   "cell_type": "markdown",
   "id": "867a37ae-ce93-453c-b834-54d6a344ed00",
   "metadata": {},
   "source": [
    "**representation**"
   ]
  },
  {
   "cell_type": "markdown",
   "id": "9f35ec96-8005-4714-ac82-1ae325c33462",
   "metadata": {},
   "source": [
    "- string representation with quotes\n",
    "\n",
    "- list represent with square brackets[]\n"
   ]
  },
  {
   "cell_type": "code",
   "execution_count": 21,
   "id": "8733e8b5-c4e6-411f-be33-f41dc038a725",
   "metadata": {},
   "outputs": [
    {
     "data": {
      "text/plain": [
       "[1, 2, 3, 4]"
      ]
     },
     "execution_count": 21,
     "metadata": {},
     "output_type": "execute_result"
    }
   ],
   "source": [
    "l1=[1,2,3,4]\n",
    "l1"
   ]
  },
  {
   "cell_type": "code",
   "execution_count": 22,
   "id": "e9a36f9d-466d-4033-8501-50c0eac31039",
   "metadata": {},
   "outputs": [
    {
     "data": {
      "text/plain": [
       "list"
      ]
     },
     "execution_count": 22,
     "metadata": {},
     "output_type": "execute_result"
    }
   ],
   "source": [
    "type(l1)"
   ]
  },
  {
   "cell_type": "code",
   "execution_count": 23,
   "id": "4983dbdb-9101-4111-a5a1-386d60d15181",
   "metadata": {},
   "outputs": [
    {
     "data": {
      "text/plain": [
       "['A', 'B', 'C', 'D']"
      ]
     },
     "execution_count": 23,
     "metadata": {},
     "output_type": "execute_result"
    }
   ],
   "source": [
    "l2=['A','B','C','D']\n",
    "l2"
   ]
  },
  {
   "cell_type": "code",
   "execution_count": 25,
   "id": "9b704150-9572-42d8-873b-485d213b19f8",
   "metadata": {},
   "outputs": [
    {
     "data": {
      "text/plain": [
       "[1, 2, 3, 4, 'A', 'B', 'C', 'D']"
      ]
     },
     "execution_count": 25,
     "metadata": {},
     "output_type": "execute_result"
    }
   ],
   "source": [
    "l3=[1,2,3,4,'A','B','C','D]"
   ]
  },
  {
   "cell_type": "markdown",
   "id": "c1d3c39f-01c8-40db-a690-bc753c6d0241",
   "metadata": {},
   "source": [
    "l4=[1,2,3,4,'Apple','Ball','Cat',True,False]\n"
   ]
  },
  {
   "cell_type": "code",
   "execution_count": 26,
   "id": "ad7c0e75-ed9f-4fa7-9a51-2be99b90cf33",
   "metadata": {},
   "outputs": [
    {
     "data": {
      "text/plain": [
       "[1, 2, 3, 4, 'Apple', 'Ball', 'Cat', True, False]"
      ]
     },
     "execution_count": 26,
     "metadata": {},
     "output_type": "execute_result"
    }
   ],
   "source": [
    "l4=[1,2,3,4,'Apple','Ball','Cat',True,False]\n",
    "l4"
   ]
  },
  {
   "cell_type": "code",
   "execution_count": 27,
   "id": "822ef10c-800d-4086-ac92-2dbc0cefb2d4",
   "metadata": {},
   "outputs": [
    {
     "data": {
      "text/plain": [
       "['naresh it']"
      ]
     },
     "execution_count": 27,
     "metadata": {},
     "output_type": "execute_result"
    }
   ],
   "source": [
    "name='naresh it'\n",
    "l5=[name]\n",
    "l5"
   ]
  },
  {
   "cell_type": "code",
   "execution_count": 28,
   "id": "12b1120b-f876-4238-874a-ae6159b6f373",
   "metadata": {},
   "outputs": [
    {
     "data": {
      "text/plain": [
       "[100, 100, 100]"
      ]
     },
     "execution_count": 28,
     "metadata": {},
     "output_type": "execute_result"
    }
   ],
   "source": [
    "l6=[100,100,100]\n",
    "l6"
   ]
  },
  {
   "cell_type": "code",
   "execution_count": 29,
   "id": "7e2da6dd-b37c-4d01-b31f-4796abffc65f",
   "metadata": {},
   "outputs": [
    {
     "data": {
      "text/plain": [
       "[100, 'Apple', ['A', 2]]"
      ]
     },
     "execution_count": 29,
     "metadata": {},
     "output_type": "execute_result"
    }
   ],
   "source": [
    "l7=[100,'Apple',['A',2]]\n",
    "l7"
   ]
  },
  {
   "cell_type": "code",
   "execution_count": 30,
   "id": "8548f82a-968d-444b-a4fd-dfd3863c88d0",
   "metadata": {},
   "outputs": [
    {
     "data": {
      "text/plain": [
       "[100, 'Apple', 30, 2.0]"
      ]
     },
     "execution_count": 30,
     "metadata": {},
     "output_type": "execute_result"
    }
   ],
   "source": [
    "l8=[100,'Apple',15*2,4/2]\n",
    "l8"
   ]
  },
  {
   "cell_type": "code",
   "execution_count": 31,
   "id": "7faf94d2-d27a-40f5-a67f-0153ea125614",
   "metadata": {},
   "outputs": [
    {
     "data": {
      "text/plain": [
       "[100.00051, 'Apple', 30, 2.0]"
      ]
     },
     "execution_count": 31,
     "metadata": {},
     "output_type": "execute_result"
    }
   ],
   "source": [
    "l9=[100.00051,'Apple',15*2,4/2]\n",
    "l9"
   ]
  },
  {
   "cell_type": "code",
   "execution_count": null,
   "id": "9c239bb8-3810-4fba-824e-8ca9ac45afcb",
   "metadata": {},
   "outputs": [],
   "source": [
    "- list are array of elements\n",
    "\n",
    "- list elements are heterogeneous all the data types we can represent in a list\n",
    "\n",
    "- list elements are allowed duplicate\n",
    "\n",
    "- list in list is possible\n",
    "\n",
    "- variable assignment also possible in the list\n"
   ]
  },
  {
   "cell_type": "code",
   "execution_count": null,
   "id": "5cd5e4fe-6793-4bf7-a97f-44a67f920d66",
   "metadata": {},
   "outputs": [],
   "source": [
    "l1=[1,2,3,4]\n",
    "l2=['A','B','C','D']\n",
    "l3=[1,2,3,4,'A','B','C','D]\n",
    "l4=[1,2,3,4,'Apple','Ball','Cat',True,False]\n",
    "l6=[100,100,100]\n",
    "l7=[100,'Apple',['A',2]]\n",
    "l8=[100,'Apple',15*2,4/2]\n",
    "l9=[100.00051,'Apple',15*2,4/2]"
   ]
  },
  {
   "cell_type": "code",
   "execution_count": null,
   "id": "c7ec4860-3372-4d98-8a61-c40824780ccc",
   "metadata": {},
   "outputs": [],
   "source": [
    "- len\n",
    "\n",
    "- max\n",
    "\n",
    "- min\n",
    "\n",
    "- sorted\n",
    "\n",
    "- reversed"
   ]
  },
  {
   "cell_type": "code",
   "execution_count": 32,
   "id": "f967d84a-4910-4613-95f8-93728b3fcc4a",
   "metadata": {},
   "outputs": [
    {
     "data": {
      "text/plain": [
       "4"
      ]
     },
     "execution_count": 32,
     "metadata": {},
     "output_type": "execute_result"
    }
   ],
   "source": [
    "l8=[100,'Apple',15*2,4/2]\n",
    "len(l8)"
   ]
  },
  {
   "cell_type": "code",
   "execution_count": 33,
   "id": "fedaa15b-5716-40c1-a124-b56ab116734a",
   "metadata": {},
   "outputs": [
    {
     "data": {
      "text/plain": [
       "9"
      ]
     },
     "execution_count": 33,
     "metadata": {},
     "output_type": "execute_result"
    }
   ],
   "source": [
    "l4=[1,2,3,4,'Apple','Ball','Cat',True,False]\n",
    "len(l4)"
   ]
  },
  {
   "cell_type": "code",
   "execution_count": 34,
   "id": "1ac25ab3-7e41-453c-9c09-464bd7220d00",
   "metadata": {},
   "outputs": [
    {
     "data": {
      "text/plain": [
       "1"
      ]
     },
     "execution_count": 34,
     "metadata": {},
     "output_type": "execute_result"
    }
   ],
   "source": [
    "name='naresh it'\n",
    "l5=[name]\n",
    "len(l5)"
   ]
  },
  {
   "cell_type": "code",
   "execution_count": 35,
   "id": "f4f2dd60-0841-41e7-822d-6fbb4dd62ed1",
   "metadata": {},
   "outputs": [
    {
     "data": {
      "text/plain": [
       "4"
      ]
     },
     "execution_count": 35,
     "metadata": {},
     "output_type": "execute_result"
    }
   ],
   "source": [
    "l1=[1,2,3,4]\n",
    "max(l1)"
   ]
  },
  {
   "cell_type": "code",
   "execution_count": 36,
   "id": "fcb345c9-2425-4f03-92b0-5053b0e14a34",
   "metadata": {},
   "outputs": [
    {
     "data": {
      "text/plain": [
       "1"
      ]
     },
     "execution_count": 36,
     "metadata": {},
     "output_type": "execute_result"
    }
   ],
   "source": [
    "l1=[1,2,3,4]\n",
    "min(l1)"
   ]
  },
  {
   "cell_type": "code",
   "execution_count": 37,
   "id": "c1492e62-68bb-4622-934c-fc14a41bdf44",
   "metadata": {},
   "outputs": [
    {
     "ename": "TypeError",
     "evalue": "'>' not supported between instances of 'str' and 'int'",
     "output_type": "error",
     "traceback": [
      "\u001b[1;31m---------------------------------------------------------------------------\u001b[0m",
      "\u001b[1;31mTypeError\u001b[0m                                 Traceback (most recent call last)",
      "Cell \u001b[1;32mIn[37], line 2\u001b[0m\n\u001b[0;32m      1\u001b[0m l4\u001b[38;5;241m=\u001b[39m[\u001b[38;5;241m1\u001b[39m,\u001b[38;5;241m2\u001b[39m,\u001b[38;5;241m3\u001b[39m,\u001b[38;5;241m4\u001b[39m,\u001b[38;5;124m'\u001b[39m\u001b[38;5;124mApple\u001b[39m\u001b[38;5;124m'\u001b[39m,\u001b[38;5;124m'\u001b[39m\u001b[38;5;124mBall\u001b[39m\u001b[38;5;124m'\u001b[39m,\u001b[38;5;124m'\u001b[39m\u001b[38;5;124mCat\u001b[39m\u001b[38;5;124m'\u001b[39m,\u001b[38;5;28;01mTrue\u001b[39;00m,\u001b[38;5;28;01mFalse\u001b[39;00m]\n\u001b[1;32m----> 2\u001b[0m \u001b[38;5;28mmax\u001b[39m(l4)\n",
      "\u001b[1;31mTypeError\u001b[0m: '>' not supported between instances of 'str' and 'int'"
     ]
    }
   ],
   "source": [
    "l4=[1,2,3,4,'Apple','Ball','Cat',True,False]\n",
    "max(l4)"
   ]
  },
  {
   "cell_type": "code",
   "execution_count": 38,
   "id": "b75bcfba-2a45-499d-8b8c-a91a0dbabee1",
   "metadata": {},
   "outputs": [
    {
     "ename": "TypeError",
     "evalue": "'<' not supported between instances of 'str' and 'int'",
     "output_type": "error",
     "traceback": [
      "\u001b[1;31m---------------------------------------------------------------------------\u001b[0m",
      "\u001b[1;31mTypeError\u001b[0m                                 Traceback (most recent call last)",
      "Cell \u001b[1;32mIn[38], line 1\u001b[0m\n\u001b[1;32m----> 1\u001b[0m \u001b[38;5;28mmin\u001b[39m(l4)\n",
      "\u001b[1;31mTypeError\u001b[0m: '<' not supported between instances of 'str' and 'int'"
     ]
    }
   ],
   "source": [
    "min(l4)"
   ]
  },
  {
   "cell_type": "code",
   "execution_count": 40,
   "id": "e356aa51-81a9-4fb7-a695-986f23d89249",
   "metadata": {},
   "outputs": [
    {
     "ename": "TypeError",
     "evalue": "'>' not supported between instances of 'str' and 'int'",
     "output_type": "error",
     "traceback": [
      "\u001b[1;31m---------------------------------------------------------------------------\u001b[0m",
      "\u001b[1;31mTypeError\u001b[0m                                 Traceback (most recent call last)",
      "Cell \u001b[1;32mIn[40], line 2\u001b[0m\n\u001b[0;32m      1\u001b[0m l3\u001b[38;5;241m=\u001b[39m[\u001b[38;5;241m1\u001b[39m,\u001b[38;5;241m2\u001b[39m,\u001b[38;5;241m3\u001b[39m,\u001b[38;5;241m4\u001b[39m,\u001b[38;5;124m'\u001b[39m\u001b[38;5;124mA\u001b[39m\u001b[38;5;124m'\u001b[39m,\u001b[38;5;124m'\u001b[39m\u001b[38;5;124mB\u001b[39m\u001b[38;5;124m'\u001b[39m,\u001b[38;5;124m'\u001b[39m\u001b[38;5;124mC\u001b[39m\u001b[38;5;124m'\u001b[39m,\u001b[38;5;124m'\u001b[39m\u001b[38;5;124mD\u001b[39m\u001b[38;5;124m'\u001b[39m]\n\u001b[1;32m----> 2\u001b[0m \u001b[38;5;28mmax\u001b[39m(l3)\n",
      "\u001b[1;31mTypeError\u001b[0m: '>' not supported between instances of 'str' and 'int'"
     ]
    }
   ],
   "source": [
    "l3=[1,2,3,4,'A','B','C','D']\n",
    "max(l3)"
   ]
  },
  {
   "cell_type": "code",
   "execution_count": 41,
   "id": "6348ceb0-70f7-46ad-936e-b2749f8e8446",
   "metadata": {},
   "outputs": [
    {
     "name": "stdout",
     "output_type": "stream",
     "text": [
      "D\n",
      "A\n"
     ]
    }
   ],
   "source": [
    "l3=['A','B','C','D']\n",
    "print(max(l3))\n",
    "print(min(l3))"
   ]
  },
  {
   "cell_type": "code",
   "execution_count": 47,
   "id": "3aeb55a6-8569-4d8d-b989-1aecbdb0d4f1",
   "metadata": {},
   "outputs": [
    {
     "name": "stdout",
     "output_type": "stream",
     "text": [
      "[1, 2, 3, 4]\n"
     ]
    },
    {
     "ename": "TypeError",
     "evalue": "'list_reverseiterator' object cannot be interpreted as an integer",
     "output_type": "error",
     "traceback": [
      "\u001b[1;31m---------------------------------------------------------------------------\u001b[0m",
      "\u001b[1;31mTypeError\u001b[0m                                 Traceback (most recent call last)",
      "Cell \u001b[1;32mIn[47], line 4\u001b[0m\n\u001b[0;32m      2\u001b[0m \u001b[38;5;28mprint\u001b[39m(\u001b[38;5;28msorted\u001b[39m(l1))\n\u001b[0;32m      3\u001b[0m s\u001b[38;5;241m=\u001b[39m\u001b[38;5;28mreversed\u001b[39m(l1)\n\u001b[1;32m----> 4\u001b[0m \u001b[38;5;28;01mfor\u001b[39;00m i \u001b[38;5;129;01min\u001b[39;00m \u001b[38;5;28mrange\u001b[39m(s):\n\u001b[0;32m      5\u001b[0m     \u001b[38;5;28mprint\u001b[39m(i)\n",
      "\u001b[1;31mTypeError\u001b[0m: 'list_reverseiterator' object cannot be interpreted as an integer"
     ]
    }
   ],
   "source": [
    "\n"
   ]
  },
  {
   "cell_type": "code",
   "execution_count": 45,
   "id": "ce167e5b-7478-46ab-baa7-578c8dcb2d43",
   "metadata": {},
   "outputs": [
    {
     "name": "stdout",
     "output_type": "stream",
     "text": [
      "[4, 3, 2, 1]\n"
     ]
    }
   ],
   "source": [
    "l1=[1,2,3,4]\n",
    "print(sorted(l1,reverse=True))"
   ]
  },
  {
   "cell_type": "code",
   "execution_count": 48,
   "id": "63228e54-d0d0-4f0d-a92c-654ddc6b7ff7",
   "metadata": {},
   "outputs": [
    {
     "ename": "TypeError",
     "evalue": "'<' not supported between instances of 'str' and 'int'",
     "output_type": "error",
     "traceback": [
      "\u001b[1;31m---------------------------------------------------------------------------\u001b[0m",
      "\u001b[1;31mTypeError\u001b[0m                                 Traceback (most recent call last)",
      "Cell \u001b[1;32mIn[48], line 2\u001b[0m\n\u001b[0;32m      1\u001b[0m l3\u001b[38;5;241m=\u001b[39m[\u001b[38;5;241m1\u001b[39m,\u001b[38;5;241m2\u001b[39m,\u001b[38;5;241m3\u001b[39m,\u001b[38;5;241m4\u001b[39m,\u001b[38;5;124m'\u001b[39m\u001b[38;5;124mA\u001b[39m\u001b[38;5;124m'\u001b[39m,\u001b[38;5;124m'\u001b[39m\u001b[38;5;124mB\u001b[39m\u001b[38;5;124m'\u001b[39m,\u001b[38;5;124m'\u001b[39m\u001b[38;5;124mC\u001b[39m\u001b[38;5;124m'\u001b[39m,\u001b[38;5;124m'\u001b[39m\u001b[38;5;124mD\u001b[39m\u001b[38;5;124m'\u001b[39m]\n\u001b[1;32m----> 2\u001b[0m \u001b[38;5;28mprint\u001b[39m(\u001b[38;5;28msorted\u001b[39m(l3))\n",
      "\u001b[1;31mTypeError\u001b[0m: '<' not supported between instances of 'str' and 'int'"
     ]
    }
   ],
   "source": [
    "l3=[1,2,3,4,'A','B','C','D']\n",
    "print(sorted(l3))"
   ]
  },
  {
   "cell_type": "code",
   "execution_count": 49,
   "id": "60e92973-bc19-4d7a-9976-38692479b09f",
   "metadata": {},
   "outputs": [
    {
     "data": {
      "text/plain": [
       "<list_reverseiterator at 0x1e5b2228610>"
      ]
     },
     "execution_count": 49,
     "metadata": {},
     "output_type": "execute_result"
    }
   ],
   "source": [
    "l4=[1,2,3,4,'Apple','Ball','Cat',True,False]\n",
    "reversed(l4)"
   ]
  },
  {
   "cell_type": "code",
   "execution_count": 50,
   "id": "69b941c8-6f8f-490a-8fd9-8e8f70fbf2a9",
   "metadata": {},
   "outputs": [
    {
     "name": "stdout",
     "output_type": "stream",
     "text": [
      "<list_reverseiterator object at 0x000001E5B22290F0>\n"
     ]
    }
   ],
   "source": [
    "l1=[1,2,3,4]\n",
    "print(reversed(l1))"
   ]
  },
  {
   "cell_type": "code",
   "execution_count": 51,
   "id": "99ac8826-fe5e-4718-ae97-5c30a8f3fab5",
   "metadata": {},
   "outputs": [
    {
     "name": "stdout",
     "output_type": "stream",
     "text": [
      "['BMW', 'bolero', 'swift', 'nano']\n"
     ]
    }
   ],
   "source": [
    "# creating a list\n",
    "cars = [\"nano\", \"swift\", \"bolero\", \"BMW\"]\n",
    "# reversing the list\n",
    "reversed_cars = list(reversed(cars))\n",
    "#printing the list\n",
    "print(reversed_cars)"
   ]
  },
  {
   "cell_type": "code",
   "execution_count": 53,
   "id": "3f1ea57e-e995-4527-968a-cf0bd57eceb3",
   "metadata": {},
   "outputs": [
    {
     "data": {
      "text/plain": [
       "['BMW', 'bolero', 'swift', 'nano']"
      ]
     },
     "execution_count": 53,
     "metadata": {},
     "output_type": "execute_result"
    }
   ],
   "source": [
    "cars=[\"nano\", \"swift\", \"bolero\", \"BMW\"]\n",
    "list(reversed(cars))"
   ]
  },
  {
   "cell_type": "code",
   "execution_count": 54,
   "id": "59a4509d-281f-40ba-9c18-836021f4393b",
   "metadata": {},
   "outputs": [
    {
     "data": {
      "text/plain": [
       "'Adithya'"
      ]
     },
     "execution_count": 54,
     "metadata": {},
     "output_type": "execute_result"
    }
   ],
   "source": [
    "name=['adithya','Adithya']\n",
    "min(name)"
   ]
  },
  {
   "cell_type": "code",
   "execution_count": 55,
   "id": "078465f7-cbbd-40c5-83b9-085b4f504fc2",
   "metadata": {},
   "outputs": [
    {
     "data": {
      "text/plain": [
       "'aadithya'"
      ]
     },
     "execution_count": 55,
     "metadata": {},
     "output_type": "execute_result"
    }
   ],
   "source": [
    "name=['adithya','aadithya']\n",
    "min(name)"
   ]
  },
  {
   "cell_type": "code",
   "execution_count": 56,
   "id": "a3494e76-fdde-46f0-a532-ce2c0dd3495a",
   "metadata": {},
   "outputs": [
    {
     "data": {
      "text/plain": [
       "'banu'"
      ]
     },
     "execution_count": 56,
     "metadata": {},
     "output_type": "execute_result"
    }
   ],
   "source": [
    "name=['adithya','aadithya','banu']\n",
    "max(name)\n",
    "# first compare all first letters\n",
    "# If all first letters ascii values smae\n",
    "# then compare with second letters\n",
    "# continue the process\n"
   ]
  },
  {
   "cell_type": "code",
   "execution_count": 57,
   "id": "25eea716-6e99-45c2-9b44-3f09c6c4cdab",
   "metadata": {},
   "outputs": [
    {
     "data": {
      "text/plain": [
       "3"
      ]
     },
     "execution_count": 57,
     "metadata": {},
     "output_type": "execute_result"
    }
   ],
   "source": [
    "list1=['Apple',1,['cherry','Banana']]\n",
    "len(list1)"
   ]
  },
  {
   "cell_type": "code",
   "execution_count": 58,
   "id": "a3213db5-7992-42a9-8ca7-e8018dfe5c96",
   "metadata": {},
   "outputs": [
    {
     "ename": "TypeError",
     "evalue": "'>' not supported between instances of 'str' and 'int'",
     "output_type": "error",
     "traceback": [
      "\u001b[1;31m---------------------------------------------------------------------------\u001b[0m",
      "\u001b[1;31mTypeError\u001b[0m                                 Traceback (most recent call last)",
      "Cell \u001b[1;32mIn[58], line 2\u001b[0m\n\u001b[0;32m      1\u001b[0m list1\u001b[38;5;241m=\u001b[39m[\u001b[38;5;241m65\u001b[39m,\u001b[38;5;124m'\u001b[39m\u001b[38;5;124mA\u001b[39m\u001b[38;5;124m'\u001b[39m]\n\u001b[1;32m----> 2\u001b[0m \u001b[38;5;28mmax\u001b[39m(list1)\n",
      "\u001b[1;31mTypeError\u001b[0m: '>' not supported between instances of 'str' and 'int'"
     ]
    }
   ],
   "source": [
    "list1=[65,'A']\n",
    "max(list1)"
   ]
  },
  {
   "cell_type": "markdown",
   "id": "48918632-cd33-46a1-b009-b208e3d64cea",
   "metadata": {},
   "source": [
    "**index**"
   ]
  },
  {
   "cell_type": "code",
   "execution_count": null,
   "id": "e97260ae-f985-4d19-a9f6-d6bd5b803ed2",
   "metadata": {},
   "outputs": [],
   "source": [
    "l4=[1,2,3,4,'Apple','Ball','Cat',True,False]\n",
    "#  -8  -7  -6    -5      -4    -3     -2    -1\n",
    "#   1,  2,  3 ,'Apple','Ball','Cat', True, False\n",
    "#   0   1   2     3      4      5      6    7    "
   ]
  },
  {
   "cell_type": "code",
   "execution_count": 59,
   "id": "d4344540-a53b-4714-90d0-373b5a41472f",
   "metadata": {},
   "outputs": [
    {
     "data": {
      "text/plain": [
       "1"
      ]
     },
     "execution_count": 59,
     "metadata": {},
     "output_type": "execute_result"
    }
   ],
   "source": [
    "l1=[1,[2]]\n",
    "l1[0]"
   ]
  },
  {
   "cell_type": "code",
   "execution_count": 60,
   "id": "a182fd0a-0b25-45b2-a8aa-96e9a77b1949",
   "metadata": {},
   "outputs": [
    {
     "data": {
      "text/plain": [
       "[2]"
      ]
     },
     "execution_count": 60,
     "metadata": {},
     "output_type": "execute_result"
    }
   ],
   "source": [
    "l1[1]"
   ]
  },
  {
   "cell_type": "code",
   "execution_count": 61,
   "id": "ad369830-747b-438d-bcde-98585aa3f9cb",
   "metadata": {},
   "outputs": [
    {
     "data": {
      "text/plain": [
       "2"
      ]
     },
     "execution_count": 61,
     "metadata": {},
     "output_type": "execute_result"
    }
   ],
   "source": [
    "l1=[1,[2]]\n",
    "new=l1[1]\n",
    "new[0]"
   ]
  },
  {
   "cell_type": "code",
   "execution_count": 62,
   "id": "5cfca636-410c-455c-9b1f-eeac13f624ec",
   "metadata": {},
   "outputs": [
    {
     "data": {
      "text/plain": [
       "2"
      ]
     },
     "execution_count": 62,
     "metadata": {},
     "output_type": "execute_result"
    }
   ],
   "source": [
    "l1=[1,[2]]\n",
    "l1[1][0]"
   ]
  },
  {
   "cell_type": "code",
   "execution_count": 64,
   "id": "0b34eb82-0e17-427d-84c9-8ac37212a428",
   "metadata": {},
   "outputs": [
    {
     "data": {
      "text/plain": [
       "'Banana'"
      ]
     },
     "execution_count": 64,
     "metadata": {},
     "output_type": "execute_result"
    }
   ],
   "source": [
    "list1=['Apple',1,['cherry','Banana']] #get banana\n",
    "list1[2][1]"
   ]
  },
  {
   "cell_type": "code",
   "execution_count": null,
   "id": "46e36093-44e2-4297-b460-c38451cf4ba9",
   "metadata": {},
   "outputs": [],
   "source": [
    "#get A\n",
    "l1=[1,[2,'A']]\n",
    "l1[1][1]\n",
    "# So we given l1"
   ]
  },
  {
   "cell_type": "code",
   "execution_count": 65,
   "id": "bef7b3a1-4aac-433d-8de3-cc06e5a26e22",
   "metadata": {},
   "outputs": [
    {
     "data": {
      "text/plain": [
       "'Banana'"
      ]
     },
     "execution_count": 65,
     "metadata": {},
     "output_type": "execute_result"
    }
   ],
   "source": [
    "list1=['Apple',1,'Solapur',['cherry','papaya',70,'Banana','tomato'],'python'] #get banana\n",
    "list1[3][3]"
   ]
  },
  {
   "cell_type": "code",
   "execution_count": 66,
   "id": "ad891c2f-c549-4411-a1b3-6a294c152513",
   "metadata": {},
   "outputs": [
    {
     "data": {
      "text/plain": [
       "'B'"
      ]
     },
     "execution_count": 66,
     "metadata": {},
     "output_type": "execute_result"
    }
   ],
   "source": [
    "#get B\n",
    "l1=[1,[2,['A','B']]]\n",
    "l1[1][1][1]"
   ]
  },
  {
   "cell_type": "code",
   "execution_count": 67,
   "id": "440420e6-a372-4558-a5d5-127477aed113",
   "metadata": {},
   "outputs": [
    {
     "data": {
      "text/plain": [
       "'Banana'"
      ]
     },
     "execution_count": 67,
     "metadata": {},
     "output_type": "execute_result"
    }
   ],
   "source": [
    "list1=['Apple',1,'Solapur',['cherry','papaya',70,[123,'Banana'],'tomato'],'python'] #get banana\n",
    "list1[3][3][1]"
   ]
  },
  {
   "cell_type": "code",
   "execution_count": 68,
   "id": "490f7150-ae49-4f19-a077-40d5a7c03d26",
   "metadata": {},
   "outputs": [
    {
     "data": {
      "text/plain": [
       "'Apple'"
      ]
     },
     "execution_count": 68,
     "metadata": {},
     "output_type": "execute_result"
    }
   ],
   "source": [
    "l1=[1,2,[3,[4,[5,['Apple']]]]]\n",
    "l1[2][1][1][1][0]"
   ]
  },
  {
   "cell_type": "code",
   "execution_count": 69,
   "id": "ae18617e-1104-4be6-8f60-41614774ddfb",
   "metadata": {},
   "outputs": [
    {
     "data": {
      "text/plain": [
       "'Cherry'"
      ]
     },
     "execution_count": 69,
     "metadata": {},
     "output_type": "execute_result"
    }
   ],
   "source": [
    "list1=[[[[[[[1,'Cherry']]]]]]]\n",
    "list1[0][0][0][0][0][0][1]"
   ]
  },
  {
   "cell_type": "code",
   "execution_count": 78,
   "id": "59e305d3-46a1-4541-bd8d-17c6e11eb502",
   "metadata": {},
   "outputs": [
    {
     "data": {
      "text/plain": [
       "'shambaji'"
      ]
     },
     "execution_count": 78,
     "metadata": {},
     "output_type": "execute_result"
    }
   ],
   "source": [
    "list1=['MH',['Nagpur',['Orange',['likes',['king'],['shivaji',['Son',['shambaji']]]]]]]\n",
    "list1[1][1][1][2][1][1][0]"
   ]
  },
  {
   "cell_type": "code",
   "execution_count": null,
   "id": "2c896710-ae6d-44fa-a80e-5e92d4ce764b",
   "metadata": {},
   "outputs": [],
   "source": []
  }
 ],
 "metadata": {
  "kernelspec": {
   "display_name": "Python 3 (ipykernel)",
   "language": "python",
   "name": "python3"
  },
  "language_info": {
   "codemirror_mode": {
    "name": "ipython",
    "version": 3
   },
   "file_extension": ".py",
   "mimetype": "text/x-python",
   "name": "python",
   "nbconvert_exporter": "python",
   "pygments_lexer": "ipython3",
   "version": "3.11.7"
  }
 },
 "nbformat": 4,
 "nbformat_minor": 5
}
