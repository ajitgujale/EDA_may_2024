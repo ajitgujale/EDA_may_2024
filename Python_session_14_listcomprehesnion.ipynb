{
 "cells": [
  {
   "cell_type": "code",
   "execution_count": 1,
   "id": "b27a2a23-3688-47a0-abea-a464e38a6ef8",
   "metadata": {},
   "outputs": [
    {
     "data": {
      "text/plain": [
       "[0, 1, 4, 9, 16, 25, 36, 49, 64, 81]"
      ]
     },
     "execution_count": 1,
     "metadata": {},
     "output_type": "execute_result"
    }
   ],
   "source": [
    "square_list=[]\n",
    "for i in range(10):\n",
    "    square_list.append(i*i)\n",
    "square_list"
   ]
  },
  {
   "cell_type": "code",
   "execution_count": 4,
   "id": "34186c14-e701-46bd-84d3-515b1eba688a",
   "metadata": {},
   "outputs": [
    {
     "data": {
      "text/plain": [
       "['HYD', 'MUMBAI', 'CHENNAI', 'BLR']"
      ]
     },
     "execution_count": 4,
     "metadata": {},
     "output_type": "execute_result"
    }
   ],
   "source": [
    "l1=['hyd', 'mumbai', 'chennai', 'blr']\n",
    "upper_list=[]\n",
    "for i in l1:\n",
    "    upper_list.append(i.upper())\n",
    "upper_list\n",
    "l2=[i.upper() for i in l1]\n",
    "l2"
   ]
  },
  {
   "cell_type": "code",
   "execution_count": 3,
   "id": "5a5134ca-c691-4c65-bdca-6d7c1a81e175",
   "metadata": {},
   "outputs": [
    {
     "data": {
      "text/plain": [
       "['HYD', 'MUMBAI', 'CHENNAI', 'BLR']"
      ]
     },
     "execution_count": 3,
     "metadata": {},
     "output_type": "execute_result"
    }
   ],
   "source": [
    "#Q1 What is output = i.upper()\n",
    "#Q2 what is output list name =upper_list\n",
    "#q3 what is the for loop? for i in l1\n",
    "l1=['hyd', 'mumbai', 'chennai', 'blr']\n",
    "upper_list=[i.upper()for i in l1]\n",
    "upper_list"
   ]
  },
  {
   "cell_type": "code",
   "execution_count": 5,
   "id": "c4dc65b3-579c-49d3-bdcf-a590a20ad6d7",
   "metadata": {},
   "outputs": [
    {
     "data": {
      "text/plain": [
       "['hyd', 'mumbai', 'chennai', 'blr']"
      ]
     },
     "execution_count": 5,
     "metadata": {},
     "output_type": "execute_result"
    }
   ],
   "source": [
    "l2=['HYD', 'MUMBAI', 'CHENNAI', 'BLR']\n",
    "lower_list=[i.lower() for i in l2]\n",
    "lower_list"
   ]
  },
  {
   "cell_type": "code",
   "execution_count": 12,
   "id": "ae6666d7-1f9b-42a9-88d7-62e501b16977",
   "metadata": {},
   "outputs": [
    {
     "data": {
      "text/plain": [
       "6"
      ]
     },
     "execution_count": 12,
     "metadata": {},
     "output_type": "execute_result"
    }
   ],
   "source": [
    "l2=['HYD', 'MUMBAI', 'CHENNAI', 'BLR']\n",
    "sum_index=sum([(l2.index(i)) for i in l2 ])\n",
    "sum_index"
   ]
  },
  {
   "cell_type": "code",
   "execution_count": null,
   "id": "99f56260-20ff-4d4c-acbf-da66a01bf157",
   "metadata": {},
   "outputs": [],
   "source": [
    "- making empty list will not work in list compreshension\n",
    "\n",
    "- intializations will not works in List compreshenshion\n",
    "\n",
    "- assignment operations also not works\n",
    "\n",
    "- "
   ]
  },
  {
   "cell_type": "markdown",
   "id": "10d733ff-475b-4e52-80c3-823ebfcea0f5",
   "metadata": {},
   "source": [
    "**Pattern**\n",
    "\n",
    "**for loop-if condition**"
   ]
  },
  {
   "cell_type": "code",
   "execution_count": null,
   "id": "8d2daa62-9a70-4a13-ad31-d441e844f6b9",
   "metadata": {},
   "outputs": [],
   "source": [
    "#syntax\n",
    "<output>] <for loop> <if condition>"
   ]
  },
  {
   "cell_type": "code",
   "execution_count": null,
   "id": "62c64be3-807f-4766-904a-53a7bf15f04c",
   "metadata": {},
   "outputs": [],
   "source": [
    "# Q2)l1=['Hyd','Mumbai','Chennai','blr']\n",
    "#  ans=['Mumbai','Chennai']  \n",
    "#  we want lements which are len of element >4\n",
    "l1=['Hyd','Mumbai','Chennai','blr']\n",
    "l2=[]\n",
    "for i in l1:\n",
    "    if len(i)>4:\n",
    "        l2.append(i)\n",
    "    \n",
    "l2"
   ]
  },
  {
   "cell_type": "code",
   "execution_count": 14,
   "id": "e7a43f0c-c636-4e2f-8f04-37e1dfc8162b",
   "metadata": {},
   "outputs": [
    {
     "data": {
      "text/plain": [
       "['Mumbai', 'Chennai']"
      ]
     },
     "execution_count": 14,
     "metadata": {},
     "output_type": "execute_result"
    }
   ],
   "source": [
    "# Q2)l1=['Hyd','Mumbai','Chennai','blr']\n",
    "#  ans=['Mumbai','Chennai']  \n",
    "#  we want lements which are len of element >4\n",
    "l1=['Hyd','Mumbai','Chennai','blr']\n",
    "l2=[i for i in l1 if len(i)>4]\n",
    "l2"
   ]
  },
  {
   "cell_type": "code",
   "execution_count": 15,
   "id": "2abb499a-cb7d-4311-bf82-c6e8df315e0d",
   "metadata": {},
   "outputs": [
    {
     "data": {
      "text/plain": [
       "['Mum#bai', 'Chen#nai']"
      ]
     },
     "execution_count": 15,
     "metadata": {},
     "output_type": "execute_result"
    }
   ],
   "source": [
    "# Q3)l1=['Hyd','Mum#bai','Chen#nai','blr']\n",
    "#  ans=['Mum#bai'',Chen#nai']  \n",
    "#  we want lements which are having '#'\n",
    "l1=['Hyd','Mum#bai','Chen#nai','blr']\n",
    "l2=[i for i in l1 if '#' in i]\n",
    "l2"
   ]
  },
  {
   "cell_type": "code",
   "execution_count": 23,
   "id": "fb338f54-c9cf-43ac-b003-0493fd29dba3",
   "metadata": {},
   "outputs": [
    {
     "ename": "AttributeError",
     "evalue": "'str' object has no attribute 'supper'",
     "output_type": "error",
     "traceback": [
      "\u001b[1;31m---------------------------------------------------------------------------\u001b[0m",
      "\u001b[1;31mAttributeError\u001b[0m                            Traceback (most recent call last)",
      "Cell \u001b[1;32mIn[23], line 4\u001b[0m\n\u001b[0;32m      1\u001b[0m \u001b[38;5;66;03m#Q5)l1=['Hyd','Mumbai','chennai','blr']\u001b[39;00m\n\u001b[0;32m      2\u001b[0m \u001b[38;5;66;03m#  ans= ['Hyd','Mumbai']\u001b[39;00m\n\u001b[0;32m      3\u001b[0m l1\u001b[38;5;241m=\u001b[39m[\u001b[38;5;124m'\u001b[39m\u001b[38;5;124mHyd\u001b[39m\u001b[38;5;124m'\u001b[39m,\u001b[38;5;124m'\u001b[39m\u001b[38;5;124mMumbai\u001b[39m\u001b[38;5;124m'\u001b[39m,\u001b[38;5;124m'\u001b[39m\u001b[38;5;124mchennai\u001b[39m\u001b[38;5;124m'\u001b[39m,\u001b[38;5;124m'\u001b[39m\u001b[38;5;124mblr\u001b[39m\u001b[38;5;124m'\u001b[39m]\n\u001b[1;32m----> 4\u001b[0m l2\u001b[38;5;241m=\u001b[39m[i \u001b[38;5;28;01mfor\u001b[39;00m i \u001b[38;5;129;01min\u001b[39;00m l1 \u001b[38;5;28;01mif\u001b[39;00m i[\u001b[38;5;241m0\u001b[39m]\u001b[38;5;241m.\u001b[39msupper() ]\n\u001b[0;32m      5\u001b[0m l2\n",
      "Cell \u001b[1;32mIn[23], line 4\u001b[0m, in \u001b[0;36m<listcomp>\u001b[1;34m(.0)\u001b[0m\n\u001b[0;32m      1\u001b[0m \u001b[38;5;66;03m#Q5)l1=['Hyd','Mumbai','chennai','blr']\u001b[39;00m\n\u001b[0;32m      2\u001b[0m \u001b[38;5;66;03m#  ans= ['Hyd','Mumbai']\u001b[39;00m\n\u001b[0;32m      3\u001b[0m l1\u001b[38;5;241m=\u001b[39m[\u001b[38;5;124m'\u001b[39m\u001b[38;5;124mHyd\u001b[39m\u001b[38;5;124m'\u001b[39m,\u001b[38;5;124m'\u001b[39m\u001b[38;5;124mMumbai\u001b[39m\u001b[38;5;124m'\u001b[39m,\u001b[38;5;124m'\u001b[39m\u001b[38;5;124mchennai\u001b[39m\u001b[38;5;124m'\u001b[39m,\u001b[38;5;124m'\u001b[39m\u001b[38;5;124mblr\u001b[39m\u001b[38;5;124m'\u001b[39m]\n\u001b[1;32m----> 4\u001b[0m l2\u001b[38;5;241m=\u001b[39m[i \u001b[38;5;28;01mfor\u001b[39;00m i \u001b[38;5;129;01min\u001b[39;00m l1 \u001b[38;5;28;01mif\u001b[39;00m i[\u001b[38;5;241m0\u001b[39m]\u001b[38;5;241m.\u001b[39msupper() ]\n\u001b[0;32m      5\u001b[0m l2\n",
      "\u001b[1;31mAttributeError\u001b[0m: 'str' object has no attribute 'supper'"
     ]
    }
   ],
   "source": [
    " #Q5)l1=['Hyd','Mumbai','chennai','blr']\n",
    "#  ans= ['Hyd','Mumbai']\n",
    "l1=['Hyd','Mumbai','chennai','blr']\n",
    "l2=[i for i in l1 if i[0].supper() ]\n",
    "l2"
   ]
  },
  {
   "cell_type": "code",
   "execution_count": 16,
   "id": "1b5d416d-0d65-4039-a4e3-31a30011d7a3",
   "metadata": {},
   "outputs": [
    {
     "data": {
      "text/plain": [
       "['Hyd', 'Mumbai', 'Chennai', 'Blr']"
      ]
     },
     "execution_count": 16,
     "metadata": {},
     "output_type": "execute_result"
    }
   ],
   "source": [
    " #Q5)l1=['Hyd','Mumbai','chennai','blr']\n",
    "l1=['hyd','mumbai','chennai','blr']\n",
    "l2=[i.title() for i in l1]\n",
    "l2"
   ]
  },
  {
   "cell_type": "code",
   "execution_count": 21,
   "id": "1d908045-46c2-431e-9f6a-d7d4db1e073e",
   "metadata": {},
   "outputs": [
    {
     "name": "stdout",
     "output_type": "stream",
     "text": [
      "['Mum#bai', 'Chen#nai']\n",
      "['Hyd', 'Mum#bai', 'Chen#nai', 'blr']\n"
     ]
    }
   ],
   "source": [
    "# Q6)l1=['Hyd','Mum#bai','Chen#nai','blr']\n",
    "#  ans_#=['Mum#bai'',Chen#nai']  \n",
    "#  ans_without_#=['Hyd'','blr']\n",
    "l1=['Hyd','Mum#bai','Chen#nai','blr']\n",
    "ans_with=[i for i in l1 if '#' in i]\n",
    "ans_without=[i for i in l1 if '#' not in l1]\n",
    "print(ans_with)\n",
    "print(ans_without)\n"
   ]
  },
  {
   "cell_type": "code",
   "execution_count": null,
   "id": "3ceca897-e2cf-4221-bb72-e7cb90a85645",
   "metadata": {},
   "outputs": [],
   "source": [
    "str1='virat.kohli@rcb.com'\n",
    "s1=str1.index('.')\n",
    "first_name=[i[]]\n"
   ]
  },
  {
   "cell_type": "code",
   "execution_count": 8,
   "id": "8c01dc4e-6b59-4784-a730-1fb6185b4b3d",
   "metadata": {},
   "outputs": [],
   "source": [
    "#**even-odd**\n",
    "even_list,odd_list=[],[]\n",
    "for i in range(1,20):\n",
    "    if i%2==0:\n",
    "        even_list.append(f'even {i}')\n",
    "    else:\n",
    "        odd_list.append(f'odd {i}')\n",
    "    \n",
    "    "
   ]
  },
  {
   "cell_type": "code",
   "execution_count": 9,
   "id": "ce692982-c73d-4232-bf68-f8b0c86d7fa3",
   "metadata": {},
   "outputs": [],
   "source": [
    "op_list=[]\n",
    "for i in range(1,20):\n",
    "    if i%2==0:\n",
    "        even_list.append(f'even {i}')\n",
    "    else:\n",
    "        odd_list.append(f'odd {i}')"
   ]
  },
  {
   "cell_type": "code",
   "execution_count": null,
   "id": "ec301286-0d70-4c7f-9286-d60f42c406f8",
   "metadata": {},
   "outputs": [],
   "source": [
    "<if_op> <if_con> <else> <else_op> <for_loop>"
   ]
  },
  {
   "cell_type": "code",
   "execution_count": 10,
   "id": "96fb4cee-b588-45df-b9cc-b1cbbf701828",
   "metadata": {},
   "outputs": [],
   "source": [
    "op_list=[f\"even:{i}\" if i%2==0  else f\"odd:{i}\" for i in range(1,20)]"
   ]
  },
  {
   "cell_type": "code",
   "execution_count": 11,
   "id": "791302bd-a19a-4642-aa08-f5c8ce6c91cf",
   "metadata": {},
   "outputs": [
    {
     "data": {
      "text/plain": [
       "['odd:1',\n",
       " 'even:2',\n",
       " 'odd:3',\n",
       " 'even:4',\n",
       " 'odd:5',\n",
       " 'even:6',\n",
       " 'odd:7',\n",
       " 'even:8',\n",
       " 'odd:9',\n",
       " 'even:10',\n",
       " 'odd:11',\n",
       " 'even:12',\n",
       " 'odd:13',\n",
       " 'even:14',\n",
       " 'odd:15',\n",
       " 'even:16',\n",
       " 'odd:17',\n",
       " 'even:18',\n",
       " 'odd:19']"
      ]
     },
     "execution_count": 11,
     "metadata": {},
     "output_type": "execute_result"
    }
   ],
   "source": [
    "op_list"
   ]
  },
  {
   "cell_type": "code",
   "execution_count": null,
   "id": "00d33eb8-55a9-4597-a36f-9c2cda10d9d1",
   "metadata": {},
   "outputs": [],
   "source": []
  }
 ],
 "metadata": {
  "kernelspec": {
   "display_name": "Python 3 (ipykernel)",
   "language": "python",
   "name": "python3"
  },
  "language_info": {
   "codemirror_mode": {
    "name": "ipython",
    "version": 3
   },
   "file_extension": ".py",
   "mimetype": "text/x-python",
   "name": "python",
   "nbconvert_exporter": "python",
   "pygments_lexer": "ipython3",
   "version": "3.11.7"
  }
 },
 "nbformat": 4,
 "nbformat_minor": 5
}
