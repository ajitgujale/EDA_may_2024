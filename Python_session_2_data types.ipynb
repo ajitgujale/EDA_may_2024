{
 "cells": [
  {
   "cell_type": "markdown",
   "id": "551d81fa-8cb3-49c6-bce4-1aeb91d1bd73",
   "metadata": {},
   "source": [
    "**Data types**\n",
    "\n",
    "- in python type declare not required\n",
    "\n",
    "- python will automatically takes the type based on provided value\n",
    "\n",
    "- we have many data types available\n",
    "\n",
    "- the main data types are\n",
    "\n",
    "    - integer\n",
    "\n",
    "    - float\n",
    "\n",
    "    - Boolean\n",
    "\n",
    "    - String\n",
    "\n",
    "- List\n",
    "\n",
    "- Dictionary\n",
    "\n",
    "- tuple\n",
    "\n",
    "- Complex"
   ]
  },
  {
   "cell_type": "markdown",
   "id": "5934e668-0d60-407b-8625-aa7e1467f02c",
   "metadata": {},
   "source": [
    "**integer**"
   ]
  },
  {
   "cell_type": "code",
   "execution_count": 1,
   "id": "b544083f-714f-4712-bf16-840bc5e81d97",
   "metadata": {},
   "outputs": [
    {
     "data": {
      "text/plain": [
       "int"
      ]
     },
     "execution_count": 1,
     "metadata": {},
     "output_type": "execute_result"
    }
   ],
   "source": [
    "n=100\n",
    "type(n)"
   ]
  },
  {
   "cell_type": "markdown",
   "id": "d2f9d925-e34f-457d-b8fb-c42b0e8cfb57",
   "metadata": {},
   "source": [
    "- binary representation\n",
    "\n",
    "- octa representation\n",
    "\n",
    "- hexa representation\n"
   ]
  },
  {
   "cell_type": "markdown",
   "id": "25a920ea-f290-43be-b7e4-a74428d69aeb",
   "metadata": {},
   "source": [
    "**Binary**\n",
    "\n",
    "- bi mean two\n",
    "\n",
    "- so it requires 2 digits\n",
    "\n",
    "- Generally we have 0 1 2 3 4 5 6 7 8 9\n",
    "\n",
    "- so it will represent with only 0 and 1\n",
    "\n",
    "- representation is 0b10, 0b0111, 0B110  start with 0 and b ( b mean binary)\n",
    "\n",
    "- wrong representation is 0b002 , 0b007 "
   ]
  },
  {
   "cell_type": "code",
   "execution_count": 2,
   "id": "b6592ec8-d2bd-43de-9faf-d7a0cd7c931e",
   "metadata": {},
   "outputs": [
    {
     "data": {
      "text/plain": [
       "5"
      ]
     },
     "execution_count": 2,
     "metadata": {},
     "output_type": "execute_result"
    }
   ],
   "source": [
    "0b101"
   ]
  },
  {
   "cell_type": "code",
   "execution_count": 1,
   "id": "dcc620d0-57c4-4713-bad6-ae82d73d3325",
   "metadata": {},
   "outputs": [],
   "source": [
    "import os"
   ]
  },
  {
   "cell_type": "code",
   "execution_count": 2,
   "id": "b426d7e5-40df-4d83-b622-82c03b98df70",
   "metadata": {},
   "outputs": [
    {
     "data": {
      "text/plain": [
       "'C:\\\\Users\\\\Admin\\\\Documents\\\\Naresh IT\\\\Python'"
      ]
     },
     "execution_count": 2,
     "metadata": {},
     "output_type": "execute_result"
    }
   ],
   "source": [
    "os.getcwd()\n",
    "\n",
    "# get current working directory\n",
    "# It will give the path where out python file located"
   ]
  },
  {
   "cell_type": "code",
   "execution_count": 3,
   "id": "0f161686-4cad-4cbb-9909-a45a7ad5b332",
   "metadata": {},
   "outputs": [
    {
     "data": {
      "text/plain": [
       "15"
      ]
     },
     "execution_count": 3,
     "metadata": {},
     "output_type": "execute_result"
    }
   ],
   "source": [
    "0b1111"
   ]
  },
  {
   "cell_type": "markdown",
   "id": "253dae9e-cd52-4b6e-90d7-f56f189ae7da",
   "metadata": {},
   "source": [
    "8  4  2  1     num\n",
    "0  0  0  0      0\n",
    "0  0  0  1      1\n",
    "0  0  1  0      2\n",
    "0  0  1  1      3\n",
    "0  1  0  0      4   \n",
    "0  1  0  1      5\n",
    "0  1  1  0      6\n",
    "0  1  1  1      7\n",
    "1  0  0  0      8\n",
    "1  0  0  1      9\n",
    "1  0  1  0      10\n",
    "1  0  1  1      11\n",
    "1  1  0  0      12   \n",
    "1  1  0  1      13\n",
    "1  1  1  0      14\n",
    "1  1  1  1      15"
   ]
  },
  {
   "cell_type": "code",
   "execution_count": 4,
   "id": "0c57d045-cd39-4c9f-b2c3-d3c530d0f2e7",
   "metadata": {},
   "outputs": [
    {
     "data": {
      "text/plain": [
       "29"
      ]
     },
     "execution_count": 4,
     "metadata": {},
     "output_type": "execute_result"
    }
   ],
   "source": [
    "0b11101"
   ]
  },
  {
   "cell_type": "code",
   "execution_count": 6,
   "id": "342b73f1-08b3-4bb5-aedd-9bd8c161bc2b",
   "metadata": {},
   "outputs": [
    {
     "data": {
      "text/plain": [
       "59"
      ]
     },
     "execution_count": 6,
     "metadata": {},
     "output_type": "execute_result"
    }
   ],
   "source": [
    "0b111011"
   ]
  },
  {
   "cell_type": "markdown",
   "id": "0d26a4a6-74f2-4ff2-9074-ce42214d3412",
   "metadata": {},
   "source": [
    "**octal**\n",
    "\n",
    "- octa mean 8\n",
    "\n",
    "- so it requires 8 digits\n",
    "\n",
    "- generally we have 0 1 2 3 4 5 6 7 8 9\n",
    "\n",
    "- So it wil represent with only 0 1 2 3 4 5 6 7\n",
    "\n",
    "- representation is 0o123, 0O0123456, 0o764231\n",
    "\n",
    "- wrong representation is 0o108, 0b1029"
   ]
  },
  {
   "cell_type": "code",
   "execution_count": 7,
   "id": "dcb95b1c-5881-4d32-b1ec-d35bf8c09594",
   "metadata": {},
   "outputs": [
    {
     "data": {
      "text/plain": [
       "83"
      ]
     },
     "execution_count": 7,
     "metadata": {},
     "output_type": "execute_result"
    }
   ],
   "source": [
    "0o123"
   ]
  },
  {
   "cell_type": "code",
   "execution_count": 8,
   "id": "08ba2769-06a3-4101-9f84-8ec4d8d61230",
   "metadata": {},
   "outputs": [
    {
     "data": {
      "text/plain": [
       "668"
      ]
     },
     "execution_count": 8,
     "metadata": {},
     "output_type": "execute_result"
    }
   ],
   "source": [
    "0o1234"
   ]
  },
  {
   "cell_type": "code",
   "execution_count": null,
   "id": "3282825e-d864-4bd9-8fdb-31cc498deedb",
   "metadata": {},
   "outputs": [],
   "source": [
    "**Hexa**\n",
    "\n",
    "- hexa mean 16\n",
    "\n",
    "- so it required 16 digits\n",
    "\n",
    "- Generally we have 0 1 2 3 4 5 6 7 8 9 A(10) B(11) C(12) D(13) E(14) F(15)\n",
    "\n",
    "- So it will represent with only 0-9 A-F\n",
    "\n",
    "- representation is 0xF9, 0x0123abc, 0xabc\n",
    "\n",
    "- wron representation is "
   ]
  },
  {
   "cell_type": "code",
   "execution_count": 9,
   "id": "5e745ca2-4e1a-42d8-8f3a-b1a023549a8f",
   "metadata": {},
   "outputs": [
    {
     "data": {
      "text/plain": [
       "2748"
      ]
     },
     "execution_count": 9,
     "metadata": {},
     "output_type": "execute_result"
    }
   ],
   "source": [
    "0xabc"
   ]
  },
  {
   "cell_type": "code",
   "execution_count": 10,
   "id": "d2f70914-12f9-4726-a2f9-d3d11514f945",
   "metadata": {},
   "outputs": [
    {
     "data": {
      "text/plain": [
       "4671"
      ]
     },
     "execution_count": 10,
     "metadata": {},
     "output_type": "execute_result"
    }
   ],
   "source": [
    "0x123f"
   ]
  },
  {
   "cell_type": "markdown",
   "id": "d9e34fb3-b00d-4acb-b03f-8b38d5aac0f1",
   "metadata": {},
   "source": [
    "**Float**"
   ]
  },
  {
   "cell_type": "code",
   "execution_count": 11,
   "id": "9dd7d4ea-d5f5-4681-861d-233f4cb38ed0",
   "metadata": {},
   "outputs": [
    {
     "data": {
      "text/plain": [
       "float"
      ]
     },
     "execution_count": 11,
     "metadata": {},
     "output_type": "execute_result"
    }
   ],
   "source": [
    "n1=1005.001\n",
    "type(n1)"
   ]
  },
  {
   "cell_type": "code",
   "execution_count": 12,
   "id": "709eacd9-65ec-4aee-9d99-087c30b91219",
   "metadata": {},
   "outputs": [
    {
     "data": {
      "text/plain": [
       "(10.0, 100.0, 1000.0, 10000.0)"
      ]
     },
     "execution_count": 12,
     "metadata": {},
     "output_type": "execute_result"
    }
   ],
   "source": [
    "1e1,1e2,1e3,1e4\n",
    "#kep=k*10^p"
   ]
  },
  {
   "cell_type": "code",
   "execution_count": 13,
   "id": "f9e49ecf-6074-4f29-bcd2-9e9114b57546",
   "metadata": {},
   "outputs": [
    {
     "data": {
      "text/plain": [
       "24000.0"
      ]
     },
     "execution_count": 13,
     "metadata": {},
     "output_type": "execute_result"
    }
   ],
   "source": [
    "24e3\n",
    "# 24*10^3"
   ]
  },
  {
   "cell_type": "code",
   "execution_count": 14,
   "id": "9218bd11-8097-41bd-a213-3afab5548174",
   "metadata": {},
   "outputs": [
    {
     "data": {
      "text/plain": [
       "(10.0, 100.0, 1000.0, 10000.0)"
      ]
     },
     "execution_count": 14,
     "metadata": {},
     "output_type": "execute_result"
    }
   ],
   "source": [
    "1e+1, 1e+2, 1e+3, 1e+4   # 1e1 , 1e2, 1e3 "
   ]
  },
  {
   "cell_type": "code",
   "execution_count": 15,
   "id": "77c37339-5f15-4170-8fc0-fc1e74ca748f",
   "metadata": {},
   "outputs": [
    {
     "data": {
      "text/plain": [
       "0.024"
      ]
     },
     "execution_count": 15,
     "metadata": {},
     "output_type": "execute_result"
    }
   ],
   "source": [
    "24e-3  # 24/1000 = 0.024"
   ]
  },
  {
   "cell_type": "markdown",
   "id": "c28ec2a7-6972-492b-a851-bf1deba42311",
   "metadata": {},
   "source": [
    "- + Positive sign means multiply\n",
    "\n",
    "- - Negative sign means devide\n"
   ]
  },
  {
   "cell_type": "markdown",
   "id": "4f8af908-0e90-4f05-abf1-925231029801",
   "metadata": {},
   "source": [
    "**Strings**"
   ]
  },
  {
   "cell_type": "markdown",
   "id": "e3c8f348-35ae-42a3-aa18-cb6de4f1e850",
   "metadata": {},
   "source": [
    "- Strings are used to represent english charachters generally\n",
    "\n",
    "- Strings will represent in \n",
    "\n",
    "    - single quotes\n",
    "\n",
    "    - double quotes\n",
    "\n",
    "    - triple quotes"
   ]
  },
  {
   "cell_type": "code",
   "execution_count": 16,
   "id": "8e10eb96-4c07-4772-a302-efb5bebf02a5",
   "metadata": {},
   "outputs": [
    {
     "data": {
      "text/plain": [
       "str"
      ]
     },
     "execution_count": 16,
     "metadata": {},
     "output_type": "execute_result"
    }
   ],
   "source": [
    "name='Ajit'\n",
    "type(name)"
   ]
  },
  {
   "cell_type": "code",
   "execution_count": 18,
   "id": "7a642eca-bcf5-41a5-b4b6-50d91230f4ae",
   "metadata": {},
   "outputs": [
    {
     "data": {
      "text/plain": [
       "str"
      ]
     },
     "execution_count": 18,
     "metadata": {},
     "output_type": "execute_result"
    }
   ],
   "source": [
    "name1=\"Ajit\"\n",
    "type(name1)"
   ]
  },
  {
   "cell_type": "code",
   "execution_count": 19,
   "id": "64e6634d-a690-4939-a735-fb5784c57a7f",
   "metadata": {},
   "outputs": [
    {
     "data": {
      "text/plain": [
       "str"
      ]
     },
     "execution_count": 19,
     "metadata": {},
     "output_type": "execute_result"
    }
   ],
   "source": [
    "name2='10'\n",
    "type(name2)"
   ]
  },
  {
   "cell_type": "markdown",
   "id": "e6d6b873-7647-4eb7-97ce-b43da6a718ea",
   "metadata": {},
   "source": [
    "Strings also can be characters and numbers"
   ]
  },
  {
   "cell_type": "code",
   "execution_count": 20,
   "id": "87d027fa-46b9-4de3-beb0-6129c66b8101",
   "metadata": {},
   "outputs": [
    {
     "data": {
      "text/plain": [
       "str"
      ]
     },
     "execution_count": 20,
     "metadata": {},
     "output_type": "execute_result"
    }
   ],
   "source": [
    "email_id='naresh123@gmail.com'\n",
    "type(email_id)"
   ]
  },
  {
   "cell_type": "markdown",
   "id": "8a933400-3228-43f1-aefe-b0f69e81bf62",
   "metadata": {},
   "source": [
    "**RED colour Means Strings**\n",
    "\n",
    "**Green Colour Means KEYWORDS**\n",
    "\n",
    "**Black Colour Means Variable**"
   ]
  },
  {
   "cell_type": "code",
   "execution_count": 21,
   "id": "05a34b14-9598-4904-b816-1621615073c9",
   "metadata": {},
   "outputs": [],
   "source": [
    "name='python'\n",
    "name1=\"python\""
   ]
  },
  {
   "cell_type": "code",
   "execution_count": 22,
   "id": "4e568f2d-1c19-428e-a2ca-124fcd6392d2",
   "metadata": {},
   "outputs": [
    {
     "data": {
      "text/plain": [
       "'python'"
      ]
     },
     "execution_count": 22,
     "metadata": {},
     "output_type": "execute_result"
    }
   ],
   "source": [
    "name"
   ]
  },
  {
   "cell_type": "code",
   "execution_count": 23,
   "id": "eefd066a-b2e2-4a3f-8061-d532fcf042c7",
   "metadata": {},
   "outputs": [
    {
     "data": {
      "text/plain": [
       "'python'"
      ]
     },
     "execution_count": 23,
     "metadata": {},
     "output_type": "execute_result"
    }
   ],
   "source": [
    "name1"
   ]
  },
  {
   "cell_type": "markdown",
   "id": "26d609b0-52e6-4fec-bef2-40167cae7bae",
   "metadata": {},
   "source": [
    "- Output always in single quotes"
   ]
  },
  {
   "cell_type": "code",
   "execution_count": 25,
   "id": "5f4f6d7f-dd2c-472d-aa2b-869f2f72fd4a",
   "metadata": {},
   "outputs": [
    {
     "name": "stdout",
     "output_type": "stream",
     "text": [
      "python\n"
     ]
    }
   ],
   "source": [
    "print(name)"
   ]
  },
  {
   "cell_type": "code",
   "execution_count": 26,
   "id": "c3ba7a01-bfc9-4cfe-8b0d-1bed99070a3e",
   "metadata": {},
   "outputs": [
    {
     "name": "stdout",
     "output_type": "stream",
     "text": [
      "python\n"
     ]
    }
   ],
   "source": [
    "print(name1)"
   ]
  },
  {
   "cell_type": "markdown",
   "id": "6b489ddb-a826-4db3-a172-0e6ef836dc07",
   "metadata": {},
   "source": [
    "- Whenever you print quotes will not visible"
   ]
  },
  {
   "cell_type": "code",
   "execution_count": 27,
   "id": "b2db8fda-dc27-4ebd-a2b6-50cd70bf3cfb",
   "metadata": {},
   "outputs": [
    {
     "name": "stdout",
     "output_type": "stream",
     "text": [
      "i like 'Pyton'\n"
     ]
    }
   ],
   "source": [
    "name= \"i like 'Pyton'\"\n",
    "print(name)"
   ]
  },
  {
   "cell_type": "code",
   "execution_count": 28,
   "id": "0cc49935-091d-4f05-9bf5-e99ee9ca2660",
   "metadata": {},
   "outputs": [
    {
     "name": "stdout",
     "output_type": "stream",
     "text": [
      "I like \"Omkar sir\"\n"
     ]
    }
   ],
   "source": [
    "name= 'I like \"Omkar sir\"'\n",
    "print(name)\n"
   ]
  },
  {
   "cell_type": "markdown",
   "id": "7abceacf-1d8c-48f5-82ee-e4898bfe7662",
   "metadata": {},
   "source": [
    "- Entire string in double quotes the highlighted word in single quotes vice versa"
   ]
  },
  {
   "cell_type": "markdown",
   "id": "9fe050ae-6ddd-4039-8d6c-ecead97999ea",
   "metadata": {},
   "source": [
    "***Triple quotes***\n",
    "\n",
    "- Triple quotes is not used for coding\n",
    "\n",
    "- Triple quotes is used to provide information to the user\n",
    "\n",
    "- in order to provide the information in jupyter notebook we will use mark down option\n",
    "\n",
    "- In vscode or in pycharm there is no markdown option\n",
    "\n",
    "- Thatwhy the world start used to write the information in triple quotes\n",
    "\n",
    "- This entire process is called **Doc String**"
   ]
  },
  {
   "cell_type": "code",
   "execution_count": 30,
   "id": "37d5aa9b-93a0-439f-935a-fb36b26b5bf3",
   "metadata": {},
   "outputs": [
    {
     "data": {
      "text/plain": [
       "'\\nHello \\nIm writing python code\\nthis python\\n'"
      ]
     },
     "execution_count": 30,
     "metadata": {},
     "output_type": "execute_result"
    }
   ],
   "source": [
    "\"\"\"\n",
    "Hello \n",
    "Im writing python code\n",
    "this python\n",
    "\"\"\""
   ]
  },
  {
   "cell_type": "markdown",
   "id": "63376ab1-4321-402c-b5fd-4d7e7433750c",
   "metadata": {},
   "source": [
    "**Boolean**"
   ]
  },
  {
   "cell_type": "code",
   "execution_count": 31,
   "id": "e502a277-9f07-4c8c-a256-77451b735f13",
   "metadata": {},
   "outputs": [
    {
     "data": {
      "text/plain": [
       "bool"
      ]
     },
     "execution_count": 31,
     "metadata": {},
     "output_type": "execute_result"
    }
   ],
   "source": [
    "value=True\n",
    "type(value)"
   ]
  },
  {
   "cell_type": "code",
   "execution_count": 32,
   "id": "0bc9fa0e-3d90-4266-b2b3-a822cfd15cfc",
   "metadata": {},
   "outputs": [
    {
     "data": {
      "text/plain": [
       "bool"
      ]
     },
     "execution_count": 32,
     "metadata": {},
     "output_type": "execute_result"
    }
   ],
   "source": [
    "value1=False\n",
    "type(value1)"
   ]
  },
  {
   "cell_type": "code",
   "execution_count": null,
   "id": "59b73670-e08a-45e8-9e2b-f4d1cfe16c57",
   "metadata": {},
   "outputs": [],
   "source": [
    "true=\"True\"\n",
    "false=False\n",
    "\n",
    "# true and false are variables\n",
    "# type true is String\n",
    "# type false is boolean"
   ]
  },
  {
   "cell_type": "code",
   "execution_count": null,
   "id": "40491ebe-c83f-4614-8a8f-40d712dae944",
   "metadata": {},
   "outputs": [],
   "source": []
  }
 ],
 "metadata": {
  "kernelspec": {
   "display_name": "Python 3 (ipykernel)",
   "language": "python",
   "name": "python3"
  },
  "language_info": {
   "codemirror_mode": {
    "name": "ipython",
    "version": 3
   },
   "file_extension": ".py",
   "mimetype": "text/x-python",
   "name": "python",
   "nbconvert_exporter": "python",
   "pygments_lexer": "ipython3",
   "version": "3.11.7"
  }
 },
 "nbformat": 4,
 "nbformat_minor": 5
}
