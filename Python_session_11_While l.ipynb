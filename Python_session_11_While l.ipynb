{
 "cells": [
  {
   "cell_type": "markdown",
   "id": "3e5f8f60-a666-40b6-b1b5-d40d3aeb5940",
   "metadata": {},
   "source": [
    "**While loop**"
   ]
  },
  {
   "cell_type": "code",
   "execution_count": null,
   "id": "4a664488-b4ca-4bb4-8906-58ae7f239fbb",
   "metadata": {},
   "outputs": [],
   "source": []
  },
  {
   "cell_type": "code",
   "execution_count": null,
   "id": "b26ca24c-3c76-4a76-be28-5cc449a0d313",
   "metadata": {},
   "outputs": [],
   "source": [
    "In while loop we will use these three things, in as a three linees\n"
   ]
  },
  {
   "cell_type": "code",
   "execution_count": null,
   "id": "e29af1dd-232e-47d7-b783-df4d7b980644",
   "metadata": {},
   "outputs": [],
   "source": [
    "<start point>\n",
    "while <how to stop>:\n",
    "    code line1\n",
    "    codeline2\n",
    "    <increament or decrement>"
   ]
  },
  {
   "cell_type": "code",
   "execution_count": null,
   "id": "3cdb3385-b609-44f8-958f-ecfa2aa9f725",
   "metadata": {},
   "outputs": [],
   "source": [
    "# start poin i=1\n",
    "# while <condition to stop>:\n",
    "\n",
    "#          i=i+1\n"
   ]
  },
  {
   "cell_type": "code",
   "execution_count": null,
   "id": "119c41aa-cb41-4fc0-b4b4-bf3943fadc4d",
   "metadata": {},
   "outputs": [],
   "source": [
    "#wrapper\n",
    "i=1\n",
    "while <condition to stop>:\n",
    "\n",
    "\n",
    "            i=i+1"
   ]
  },
  {
   "cell_type": "code",
   "execution_count": 4,
   "id": "b024dcd3-5e6f-468b-8496-e56f02511de7",
   "metadata": {},
   "outputs": [
    {
     "name": "stdout",
     "output_type": "stream",
     "text": [
      "1\n"
     ]
    }
   ],
   "source": [
    "i=1\n",
    "while i<2:\n",
    "    print(i)\n",
    "    i=i+2\n",
    "# step 1- i=1 while 1<2 true print(1) i=1+1 i=2\n",
    "#step2 - i=2 while 2<2 flase"
   ]
  },
  {
   "cell_type": "code",
   "execution_count": 5,
   "id": "ebdcd28d-5e47-465f-ab20-a54ebe69cfce",
   "metadata": {},
   "outputs": [],
   "source": [
    "i=1\n",
    "while i==10:\n",
    "    print(i)\n",
    "    i=i+2"
   ]
  },
  {
   "cell_type": "code",
   "execution_count": 7,
   "id": "726fbb2a-18c7-41c9-86c5-2874fbc1e97b",
   "metadata": {},
   "outputs": [
    {
     "name": "stdout",
     "output_type": "stream",
     "text": [
      "1 0 -1 -2 -3 -4 -5 -6 -7 -8 -9 "
     ]
    }
   ],
   "source": [
    "i=1\n",
    "while i<10:\n",
    "    print(i,end=' ')\n",
    "    i=i-1\n",
    "    if i==-10:\n",
    "        break\n",
    "#step 1 - i=1 while 1<11 true print((1) i=1-1 i=0\n",
    "#step 2 i=0 while 0<11 true print(0) i=0-1 i=-1\n",
    "#step 3 i=-1 while -1<11 true print(-1) i=-1-1 i=-2\n",
    "#step 4 i=-2 while -2<11 true print(-2) i=-2-1 i=-3\n",
    "#Infinite loop"
   ]
  },
  {
   "cell_type": "code",
   "execution_count": 8,
   "id": "e9135c58-bf96-423d-b103-d5dea4578864",
   "metadata": {},
   "outputs": [
    {
     "name": "stdout",
     "output_type": "stream",
     "text": [
      "20 19 18 17 16 15 14 13 12 11 10 9 8 7 6 5 4 3 2 1 "
     ]
    }
   ],
   "source": [
    "# 20 to 1\n",
    "#-20 to 0\n",
    "i=20\n",
    "while i>0:\n",
    "    print(i,end=' ')\n",
    "    i=i-1\n",
    "\n",
    "\n"
   ]
  },
  {
   "cell_type": "code",
   "execution_count": 9,
   "id": "b312091a-2bcb-45b1-8ec9-228bb0da624d",
   "metadata": {},
   "outputs": [
    {
     "name": "stdout",
     "output_type": "stream",
     "text": [
      "-20 -19 -18 -17 -16 -15 -14 -13 -12 -11 -10 -9 -8 -7 -6 -5 -4 -3 -2 -1 0 "
     ]
    }
   ],
   "source": [
    "i=-20\n",
    "while i<1:\n",
    "    print(i,end=' ')\n",
    "    i=i+1"
   ]
  },
  {
   "cell_type": "markdown",
   "id": "b0aa71c0-6af6-4e87-ab65-deeeae80d644",
   "metadata": {},
   "source": [
    "**True**\n",
    "  \n",
    "- If you dont know about valid condition to enter inside while loop\n",
    "\n",
    "- Then use **True**\n",
    "\n",
    "- True will give entry pass irrespective of the condition\n",
    "\n",
    "- But if you want to come out we need apply if condition and break inside the while loop\n",
    "\n",
    "- I you dont apply the break inside, then it become infinite loop"
   ]
  },
  {
   "cell_type": "code",
   "execution_count": 11,
   "id": "f5cc4143-292b-48f4-a0ae-0e929fe96ace",
   "metadata": {},
   "outputs": [
    {
     "name": "stdout",
     "output_type": "stream",
     "text": [
      "20 19 18 17 16 15 14 13 12 11 10 9 8 7 6 5 4 3 2 1 0 -1 -2 -3 -4 -5 -6 -7 -8 -9 "
     ]
    }
   ],
   "source": [
    "i=20\n",
    "while True:\n",
    "    print(i,end=' ')\n",
    "    i=i-1\n",
    "    if i==-10:\n",
    "        break"
   ]
  },
  {
   "cell_type": "code",
   "execution_count": 14,
   "id": "3a3db577-e84d-4c57-b1f0-1bd8e65ad5b4",
   "metadata": {},
   "outputs": [
    {
     "name": "stdout",
     "output_type": "stream",
     "text": [
      "1\n",
      "0\n",
      "-1\n",
      "-2\n",
      "-3\n"
     ]
    }
   ],
   "source": [
    "i=1\n",
    "while True:\n",
    "    print(i,end=' ')\n",
    "    i=i-1\n",
    "    if i==-4:\n",
    "        break"
   ]
  },
  {
   "cell_type": "code",
   "execution_count": 16,
   "id": "a202f591-8c0b-4147-b925-8f6216069ae6",
   "metadata": {},
   "outputs": [
    {
     "name": "stdout",
     "output_type": "stream",
     "text": [
      "-19 -18 -17 -16 -15 -14 -13 -12 -11 -10 -9 -8 -7 -6 -5 -4 -3 -2 -1 0 1 "
     ]
    }
   ],
   "source": [
    "i=-20\n",
    "while i<1:\n",
    "    i=i+1\n",
    "    print(i,end=' ')\n",
    "    "
   ]
  },
  {
   "cell_type": "code",
   "execution_count": null,
   "id": "bd1f78c1-3c98-4b07-9f89-9f1e47475a6a",
   "metadata": {},
   "outputs": [],
   "source": []
  },
  {
   "cell_type": "code",
   "execution_count": null,
   "id": "9d07a642-dcfa-49a8-b2b0-b0264d427a59",
   "metadata": {},
   "outputs": [],
   "source": [
    "#########All for loop need to convert into while loop##"
   ]
  },
  {
   "cell_type": "code",
   "execution_count": null,
   "id": "93469dad-5bd0-4513-86f0-9ed08a3a7a9f",
   "metadata": {},
   "outputs": [],
   "source": [
    "for i in range(3):\n",
    "    import random\n",
    "    num=random.randint(1,100)\n",
    "    if num%2==0:\n",
    "        print(f\"{num} is even number\")\n",
    "    else:\n",
    "        print(f\"{num} is odd number\")"
   ]
  },
  {
   "cell_type": "code",
   "execution_count": null,
   "id": "f28d81a7-0fbe-454b-a5f3-2517e8701b16",
   "metadata": {},
   "outputs": [],
   "source": [
    "#wrapper\n",
    "i=0\n",
    "while i>3\n",
    " \n",
    "    code line copy for loop condiontion\n",
    "\n",
    "i=i+1"
   ]
  },
  {
   "cell_type": "code",
   "execution_count": 17,
   "id": "5e60a72b-d0c7-48a6-9d5e-f26f0af6c489",
   "metadata": {},
   "outputs": [
    {
     "name": "stdout",
     "output_type": "stream",
     "text": [
      "24 is even number\n",
      "75 is odd number\n",
      "16 is even number\n"
     ]
    }
   ],
   "source": [
    "i=0\n",
    "while i<3:\n",
    "    import random\n",
    "    num=random.randint(1,100)\n",
    "    if num%2==0:\n",
    "        print(f\"{num} is even number\")\n",
    "    else:\n",
    "        print(f\"{num} is odd number\")\n",
    "    i=i+1"
   ]
  },
  {
   "cell_type": "code",
   "execution_count": 18,
   "id": "f900c215-6ed6-4156-920c-e4b92d261b40",
   "metadata": {},
   "outputs": [
    {
     "name": "stdout",
     "output_type": "stream",
     "text": [
      "The number 10 is positive\n",
      "The number 11 is negative\n",
      "The number 12 is positive\n",
      "The number 13 is negative\n",
      "The number 14 is positive\n",
      "The number 15 is negative\n",
      "The number 16 is positive\n",
      "The number 17 is negative\n",
      "The number 18 is positive\n",
      "The number 19 is negative\n",
      "The number 20 is positive\n"
     ]
    }
   ],
   "source": [
    "#wap ask the user print the number is even or odd between 10 to 20\n",
    "i=10\n",
    "while i<21:\n",
    "    if i%2==0:\n",
    "        print(f\"The number {i} is positive\")\n",
    "    else:\n",
    "        print(f\"The number {i} is negative\")\n",
    "    i=i+1"
   ]
  },
  {
   "cell_type": "code",
   "execution_count": 20,
   "id": "99245994-b595-4687-8bc6-3521cbde6c98",
   "metadata": {},
   "outputs": [
    {
     "name": "stdout",
     "output_type": "stream",
     "text": [
      "Square of number 20 is 400\n",
      "Square of number 21 is 441\n",
      "Square of number 22 is 484\n",
      "Square of number 23 is 529\n",
      "Square of number 24 is 576\n",
      "Square of number 25 is 625\n"
     ]
    }
   ],
   "source": [
    "#3Q)wap ask the user print the square of the number between\n",
    "# 20 to 25\n",
    "i=20\n",
    "while i<26:\n",
    "    print(f\"Square of number {i} is {i*i}\")\n",
    "    i=i+1"
   ]
  },
  {
   "cell_type": "code",
   "execution_count": 21,
   "id": "5175537d-1ad3-4cc8-96a6-ae8a365180df",
   "metadata": {},
   "outputs": [
    {
     "name": "stdin",
     "output_type": "stream",
     "text": [
      "Enter the table which you want to see: 14\n"
     ]
    },
    {
     "name": "stdout",
     "output_type": "stream",
     "text": [
      "14 x 1 = 14\n",
      "14 x 2 = 28\n",
      "14 x 3 = 42\n",
      "14 x 4 = 56\n",
      "14 x 5 = 70\n",
      "14 x 6 = 84\n",
      "14 x 7 = 98\n",
      "14 x 8 = 112\n",
      "14 x 9 = 126\n",
      "14 x 10 = 140\n"
     ]
    }
   ],
   "source": [
    "#5Q) Print the 14th table\n",
    "# ans:   14 x 1 = 14\n",
    "#        14 x 2 = 28\n",
    "#        14 x 3 = 42\n",
    "#\n",
    "#\n",
    "#        14 x10 = 140\n",
    "# How many times 10\n",
    "i=1\n",
    "num=eval(input(\"Enter the table which you want to see:\"))\n",
    "while i<11:\n",
    "    value=i*num\n",
    "    print(f\"{num} x {i} = {value}\")\n",
    "    i=i+1"
   ]
  },
  {
   "cell_type": "code",
   "execution_count": 23,
   "id": "652a6d24-ed53-496d-87bb-00aef56d0e5b",
   "metadata": {},
   "outputs": [
    {
     "name": "stdin",
     "output_type": "stream",
     "text": [
      "Enter the number of which you want factors: 75\n"
     ]
    },
    {
     "name": "stdout",
     "output_type": "stream",
     "text": [
      "Factor of number is 1 \n",
      "Factor of number is 3 \n",
      "Factor of number is 5 \n",
      "Factor of number is 15 \n",
      "Factor of number is 25 \n",
      "Factor of number is 75 \n"
     ]
    }
   ],
   "source": [
    "#Find the factors of 75\n",
    "# step-1: Iterate the loop = which numbers factor you want\n",
    "# step-2: Apply the if condition\n",
    "#         cond= divide the number with each i\n",
    "#6Q\n",
    "i=1\n",
    "num=eval(input(\"Enter the number of which you want factors:\"))\n",
    "while i<num+1:\n",
    "    if num%i==0:\n",
    "        print(f\"Factor of number is {i} \")\n",
    "    i=i+1\n"
   ]
  },
  {
   "cell_type": "code",
   "execution_count": 31,
   "id": "a0695481-9c8c-430d-ae23-e4a1cbd50b83",
   "metadata": {},
   "outputs": [
    {
     "name": "stdout",
     "output_type": "stream",
     "text": [
      "0+1=1\n",
      "1+2=3\n",
      "3+3=6\n",
      "6+4=10\n",
      "10+5=15\n",
      "15+6=21\n",
      "21+7=28\n",
      "28+8=36\n",
      "36+9=45\n",
      "45+10=55\n"
     ]
    }
   ],
   "source": [
    "#7Q) Write the sum of first 10 Natural numbers\n",
    "# 1 to 10\n",
    "# 1+2+3+4+5+6+7+8+9+10=55\n",
    "i=1\n",
    "summ=0\n",
    "while i<11:\n",
    "    summ=summ+i\n",
    "    print(f\"{summ-i}+{i}={summ}\")\n",
    "    i=i+1"
   ]
  },
  {
   "cell_type": "code",
   "execution_count": 32,
   "id": "238ab4f7-4941-4fa7-b97b-17b3bc4c8705",
   "metadata": {},
   "outputs": [
    {
     "name": "stdin",
     "output_type": "stream",
     "text": [
      "Enter the number: 10\n"
     ]
    },
    {
     "name": "stdout",
     "output_type": "stream",
     "text": [
      "5.5\n"
     ]
    }
   ],
   "source": [
    "# 8Q) Average first 1 to 10 numbers\n",
    "# avg= summation of all the numbers/total number\n",
    "#Wap to find the average of ' N ' numbers in Python.\n",
    "i=1\n",
    "summ=0\n",
    "N=eval(input(\"Enter the number:\"))\n",
    "while i<N+1:\n",
    "    val=summ\n",
    "    summ=summ+i\n",
    "    i=i+1\n",
    "print(summ/N)    "
   ]
  },
  {
   "cell_type": "code",
   "execution_count": 2,
   "id": "d4234a29-ced0-4711-87f0-e916df4e1dd4",
   "metadata": {},
   "outputs": [
    {
     "name": "stdin",
     "output_type": "stream",
     "text": [
      "Enter the number of which you want factors: 75\n"
     ]
    },
    {
     "name": "stdout",
     "output_type": "stream",
     "text": [
      "1\n",
      "3\n",
      "5\n",
      "15\n",
      "25\n",
      "75\n",
      "Total number of divisor are 6\n"
     ]
    }
   ],
   "source": [
    "#9Q) Find the number of divisors of 75\n",
    "# ans: 1,3,5,15,25,75\n",
    "i=1\n",
    "count=0\n",
    "num=eval(input(\"Enter the number of which you want factors:\"))\n",
    "while i<num+1:\n",
    "    if num%i==0:\n",
    "        print(i)\n",
    "        count=count+1\n",
    "    i=i+1\n",
    "print(f\"Total number of divisor are {count}\")"
   ]
  },
  {
   "cell_type": "code",
   "execution_count": null,
   "id": "5e8e48fb-433e-44ad-b96b-54373d4536e4",
   "metadata": {},
   "outputs": [],
   "source": [
    "# 10Q)\n",
    "# Get a random number between  1 to 10 :  num1\n",
    "# Ask the user enter a number : num2\n",
    "# if num1 == num2  then print won\n",
    "# else print fail\n",
    "i=1\n",
    "import random\n",
    "while i<4:\n",
    "    num1=random.randint(1,10)\n",
    "    num2=eval(input(\"Enter the number2:\"))\n",
    "    if num1==num2:\n",
    "        print(\"You won\")\n",
    "    else:\n",
    "        print(\"You fail\")\n",
    "    i+1"
   ]
  }
 ],
 "metadata": {
  "kernelspec": {
   "display_name": "Python 3 (ipykernel)",
   "language": "python",
   "name": "python3"
  },
  "language_info": {
   "codemirror_mode": {
    "name": "ipython",
    "version": 3
   },
   "file_extension": ".py",
   "mimetype": "text/x-python",
   "name": "python",
   "nbconvert_exporter": "python",
   "pygments_lexer": "ipython3",
   "version": "3.11.7"
  }
 },
 "nbformat": 4,
 "nbformat_minor": 5
}
